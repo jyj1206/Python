{
  "nbformat": 4,
  "nbformat_minor": 0,
  "metadata": {
    "colab": {
      "provenance": [],
      "authorship_tag": "ABX9TyOeVc0fI0TA7eH3+lLkqvv0",
      "include_colab_link": true
    },
    "kernelspec": {
      "name": "python3",
      "display_name": "Python 3"
    },
    "language_info": {
      "name": "python"
    }
  },
  "cells": [
    {
      "cell_type": "markdown",
      "metadata": {
        "id": "view-in-github",
        "colab_type": "text"
      },
      "source": [
        "<a href=\"https://colab.research.google.com/github/jyj1206/Python/blob/main/Chatper_6_%EB%A6%AC%EC%8A%A4%ED%8A%B8.ipynb\" target=\"_parent\"><img src=\"https://colab.research.google.com/assets/colab-badge.svg\" alt=\"Open In Colab\"/></a>"
      ]
    },
    {
      "cell_type": "markdown",
      "source": [
        "# 연습문제 1"
      ],
      "metadata": {
        "id": "InfwkuoB0teu"
      }
    },
    {
      "cell_type": "code",
      "execution_count": 1,
      "metadata": {
        "id": "drn02Scs0tev"
      },
      "outputs": [],
      "source": [
        "list_ex = [10, 20, 30, 40, 50, 60, 70]\n",
        "high = 5\n",
        "low = 3"
      ]
    },
    {
      "cell_type": "code",
      "source": [
        "list_ex[low]"
      ],
      "metadata": {
        "colab": {
          "base_uri": "https://localhost:8080/"
        },
        "id": "UnuvT7RM0-Q-",
        "outputId": "748e016d-766f-4f3f-e834-5a17302e675e"
      },
      "execution_count": 2,
      "outputs": [
        {
          "output_type": "execute_result",
          "data": {
            "text/plain": [
              "40"
            ]
          },
          "metadata": {},
          "execution_count": 2
        }
      ]
    },
    {
      "cell_type": "code",
      "source": [
        "list_ex[low + 2]"
      ],
      "metadata": {
        "colab": {
          "base_uri": "https://localhost:8080/"
        },
        "id": "YSjUXc3M1Ctj",
        "outputId": "8d77c6c3-971c-4ce4-c434-32c6aeaa2ed5"
      },
      "execution_count": 3,
      "outputs": [
        {
          "output_type": "execute_result",
          "data": {
            "text/plain": [
              "60"
            ]
          },
          "metadata": {},
          "execution_count": 3
        }
      ]
    },
    {
      "cell_type": "code",
      "source": [
        "list_ex[high - low]"
      ],
      "metadata": {
        "colab": {
          "base_uri": "https://localhost:8080/"
        },
        "id": "AhTSqDeq1C0o",
        "outputId": "5f7a1c08-5eac-4844-b2e5-1e42998fabf3"
      },
      "execution_count": 4,
      "outputs": [
        {
          "output_type": "execute_result",
          "data": {
            "text/plain": [
              "30"
            ]
          },
          "metadata": {},
          "execution_count": 4
        }
      ]
    },
    {
      "cell_type": "code",
      "source": [
        "list_ex[low - high]"
      ],
      "metadata": {
        "colab": {
          "base_uri": "https://localhost:8080/"
        },
        "id": "oMlwtPwo1ISp",
        "outputId": "ae05c0c1-b7b3-4bc3-ed64-169c999e7f5f"
      },
      "execution_count": 5,
      "outputs": [
        {
          "output_type": "execute_result",
          "data": {
            "text/plain": [
              "60"
            ]
          },
          "metadata": {},
          "execution_count": 5
        }
      ]
    },
    {
      "cell_type": "code",
      "source": [
        "list_ex[-1]"
      ],
      "metadata": {
        "colab": {
          "base_uri": "https://localhost:8080/"
        },
        "id": "04FGlVWV1O_F",
        "outputId": "fb1b34f6-3b87-4054-bbda-ae3fe03107c5"
      },
      "execution_count": 6,
      "outputs": [
        {
          "output_type": "execute_result",
          "data": {
            "text/plain": [
              "70"
            ]
          },
          "metadata": {},
          "execution_count": 6
        }
      ]
    },
    {
      "cell_type": "code",
      "source": [
        "list_ex[-low]"
      ],
      "metadata": {
        "colab": {
          "base_uri": "https://localhost:8080/"
        },
        "id": "xDhGZSYk1RTG",
        "outputId": "4df5c0c6-716b-45fc-d84b-f281833c822b"
      },
      "execution_count": 7,
      "outputs": [
        {
          "output_type": "execute_result",
          "data": {
            "text/plain": [
              "50"
            ]
          },
          "metadata": {},
          "execution_count": 7
        }
      ]
    },
    {
      "cell_type": "code",
      "source": [
        "list_ex[2 * 3]"
      ],
      "metadata": {
        "colab": {
          "base_uri": "https://localhost:8080/"
        },
        "id": "8wfyMuJ51UwE",
        "outputId": "4b9c2548-6a24-4b2a-df0b-7e9fa0fdc99c"
      },
      "execution_count": 8,
      "outputs": [
        {
          "output_type": "execute_result",
          "data": {
            "text/plain": [
              "70"
            ]
          },
          "metadata": {},
          "execution_count": 8
        }
      ]
    },
    {
      "cell_type": "code",
      "source": [
        "list_ex[2] * 3"
      ],
      "metadata": {
        "colab": {
          "base_uri": "https://localhost:8080/"
        },
        "id": "TbqOKTdJ1XZq",
        "outputId": "540f5be3-97ba-4b17-9238-075c3d40db3f"
      },
      "execution_count": 9,
      "outputs": [
        {
          "output_type": "execute_result",
          "data": {
            "text/plain": [
              "90"
            ]
          },
          "metadata": {},
          "execution_count": 9
        }
      ]
    },
    {
      "cell_type": "code",
      "source": [
        "list_ex[5 % 4]"
      ],
      "metadata": {
        "colab": {
          "base_uri": "https://localhost:8080/"
        },
        "id": "UwMHg6ca1aHk",
        "outputId": "8eac8298-5b5e-4748-a0e9-519e1d7cb619"
      },
      "execution_count": 10,
      "outputs": [
        {
          "output_type": "execute_result",
          "data": {
            "text/plain": [
              "20"
            ]
          },
          "metadata": {},
          "execution_count": 10
        }
      ]
    },
    {
      "cell_type": "code",
      "source": [
        "len(list_ex)"
      ],
      "metadata": {
        "colab": {
          "base_uri": "https://localhost:8080/"
        },
        "id": "SjilX9CV1d7o",
        "outputId": "1f04e924-3bf6-4895-c50f-c9c1b1244534"
      },
      "execution_count": 11,
      "outputs": [
        {
          "output_type": "execute_result",
          "data": {
            "text/plain": [
              "7"
            ]
          },
          "metadata": {},
          "execution_count": 11
        }
      ]
    },
    {
      "cell_type": "markdown",
      "source": [
        "# 연습문제 2"
      ],
      "metadata": {
        "id": "vSp_qBDF005w"
      }
    },
    {
      "cell_type": "code",
      "execution_count": 17,
      "metadata": {
        "colab": {
          "base_uri": "https://localhost:8080/"
        },
        "id": "XGS2a3eY005w",
        "outputId": "1ae1956e-c7e9-48d8-a853-6200b482eec7"
      },
      "outputs": [
        {
          "output_type": "execute_result",
          "data": {
            "text/plain": [
              "['s', 'w', 'e', 'e', 't']"
            ]
          },
          "metadata": {},
          "execution_count": 17
        }
      ],
      "source": [
        "spell = ['s', 'w', 'e', 'e', 't']\n",
        "spell"
      ]
    },
    {
      "cell_type": "code",
      "source": [
        "spell[3] = 'a'\n",
        "spell"
      ],
      "metadata": {
        "colab": {
          "base_uri": "https://localhost:8080/"
        },
        "id": "ysSObw5u1ndh",
        "outputId": "21aa0b69-ca80-497e-be66-d856106c9c62"
      },
      "execution_count": 18,
      "outputs": [
        {
          "output_type": "execute_result",
          "data": {
            "text/plain": [
              "['s', 'w', 'e', 'a', 't']"
            ]
          },
          "metadata": {},
          "execution_count": 18
        }
      ]
    },
    {
      "cell_type": "code",
      "source": [
        "spell[4] = 'r'\n",
        "spell"
      ],
      "metadata": {
        "colab": {
          "base_uri": "https://localhost:8080/"
        },
        "id": "iooTveX61rkp",
        "outputId": "a624e431-1bc3-41fd-c86f-b6c4d186e46f"
      },
      "execution_count": 19,
      "outputs": [
        {
          "output_type": "execute_result",
          "data": {
            "text/plain": [
              "['s', 'w', 'e', 'a', 'r']"
            ]
          },
          "metadata": {},
          "execution_count": 19
        }
      ]
    },
    {
      "cell_type": "code",
      "source": [
        "spell * 2"
      ],
      "metadata": {
        "colab": {
          "base_uri": "https://localhost:8080/"
        },
        "id": "RkmnRpg61xoU",
        "outputId": "2860c3c4-f0df-4a7f-8b14-62eaef9bbd3c"
      },
      "execution_count": 20,
      "outputs": [
        {
          "output_type": "execute_result",
          "data": {
            "text/plain": [
              "['s', 'w', 'e', 'a', 'r', 's', 'w', 'e', 'a', 'r']"
            ]
          },
          "metadata": {},
          "execution_count": 20
        }
      ]
    },
    {
      "cell_type": "markdown",
      "source": [
        "# 연습문제 3"
      ],
      "metadata": {
        "id": "86cIN5-P0079"
      }
    },
    {
      "cell_type": "code",
      "execution_count": 21,
      "metadata": {
        "id": "CnMsB4WE0079"
      },
      "outputs": [],
      "source": [
        "list1 = [3, 5, 7]\n",
        "list2 = [2, 3, 4, 5, 6]"
      ]
    },
    {
      "cell_type": "code",
      "source": [
        "for i in list1:\n",
        "  for j in list2:\n",
        "    print(f'{i} * {j} = {i * j}')"
      ],
      "metadata": {
        "colab": {
          "base_uri": "https://localhost:8080/"
        },
        "id": "0x_NjGVs14oI",
        "outputId": "553b2cfb-a60a-452d-e7c5-64269596b2ed"
      },
      "execution_count": 23,
      "outputs": [
        {
          "output_type": "stream",
          "name": "stdout",
          "text": [
            "3 * 2 = 6\n",
            "3 * 3 = 9\n",
            "3 * 4 = 12\n",
            "3 * 5 = 15\n",
            "3 * 6 = 18\n",
            "5 * 2 = 10\n",
            "5 * 3 = 15\n",
            "5 * 4 = 20\n",
            "5 * 5 = 25\n",
            "5 * 6 = 30\n",
            "7 * 2 = 14\n",
            "7 * 3 = 21\n",
            "7 * 4 = 28\n",
            "7 * 5 = 35\n",
            "7 * 6 = 42\n"
          ]
        }
      ]
    },
    {
      "cell_type": "markdown",
      "source": [
        "# 연습문제 4"
      ],
      "metadata": {
        "id": "FkqQ5NkA01D7"
      }
    },
    {
      "cell_type": "code",
      "execution_count": 26,
      "metadata": {
        "colab": {
          "base_uri": "https://localhost:8080/"
        },
        "id": "tXIBHWy701D7",
        "outputId": "a2a0ad46-a6ad-40bc-dc95-538ab4e9a07b"
      },
      "outputs": [
        {
          "output_type": "stream",
          "name": "stdout",
          "text": [
            "a = [2, 3, 4, 5, 6]\n",
            "rev_a = [6, 5, 4, 3, 2]\n"
          ]
        }
      ],
      "source": [
        "a = [2, 3, 4, 5, 6]\n",
        "\n",
        "print(f'a = {a}')\n",
        "\n",
        "rev_a = []\n",
        "for i in range(len(a)):\n",
        "  rev_a.append(a.pop())\n",
        "\n",
        "print(f'rev_a = {rev_a}')"
      ]
    },
    {
      "cell_type": "markdown",
      "source": [
        "# 연습문제 5"
      ],
      "metadata": {
        "id": "iUOogEgG01Ed"
      }
    },
    {
      "cell_type": "code",
      "execution_count": 29,
      "metadata": {
        "colab": {
          "base_uri": "https://localhost:8080/"
        },
        "id": "_7_6mVUI01Ed",
        "outputId": "c2e0c302-5c72-43dc-c445-f1cc88132db4"
      },
      "outputs": [
        {
          "output_type": "stream",
          "name": "stdout",
          "text": [
            "I like pancakes.\n",
            "I like kiwi juice.\n",
            "I like espresso.\n",
            "I love pancakes.\n",
            "I love kiwi juice.\n",
            "I love espresso.\n"
          ]
        }
      ],
      "source": [
        "list1 = ['I like', 'I love']\n",
        "list2 = ['pancakes.', 'kiwi juice.', 'espresso.']\n",
        "\n",
        "for i in range(len(list1)):\n",
        "  for j in range(len(list2)):\n",
        "    print(list1[i] +' ' +  list2[j])"
      ]
    },
    {
      "cell_type": "markdown",
      "source": [
        "# 연습문제 6"
      ],
      "metadata": {
        "id": "DaeYBi7h01E9"
      }
    },
    {
      "cell_type": "code",
      "execution_count": 40,
      "metadata": {
        "id": "rpQbEJl901E-"
      },
      "outputs": [],
      "source": [
        "list1 = [2, 3, 4, 1, 32]"
      ]
    },
    {
      "cell_type": "code",
      "source": [
        "max(list1)"
      ],
      "metadata": {
        "colab": {
          "base_uri": "https://localhost:8080/"
        },
        "id": "YCmwt7b23duF",
        "outputId": "2ebe8784-c682-40e7-e517-36dbdb0c0fd7"
      },
      "execution_count": 41,
      "outputs": [
        {
          "output_type": "execute_result",
          "data": {
            "text/plain": [
              "32"
            ]
          },
          "metadata": {},
          "execution_count": 41
        }
      ]
    },
    {
      "cell_type": "code",
      "source": [
        "sum(list1)"
      ],
      "metadata": {
        "colab": {
          "base_uri": "https://localhost:8080/"
        },
        "id": "R3tQ-Wve3e-J",
        "outputId": "0623a5ce-76f1-49a8-a422-f962c9eb22f8"
      },
      "execution_count": 42,
      "outputs": [
        {
          "output_type": "execute_result",
          "data": {
            "text/plain": [
              "42"
            ]
          },
          "metadata": {},
          "execution_count": 42
        }
      ]
    },
    {
      "cell_type": "code",
      "source": [
        "list1.remove(32)\n",
        "list1"
      ],
      "metadata": {
        "colab": {
          "base_uri": "https://localhost:8080/"
        },
        "id": "xrPcJUhC3gjh",
        "outputId": "769961a2-58b7-41c4-e6dd-681e3f252e5a"
      },
      "execution_count": 43,
      "outputs": [
        {
          "output_type": "execute_result",
          "data": {
            "text/plain": [
              "[2, 3, 4, 1]"
            ]
          },
          "metadata": {},
          "execution_count": 43
        }
      ]
    },
    {
      "cell_type": "code",
      "source": [
        "list1.reverse()\n",
        "list1"
      ],
      "metadata": {
        "colab": {
          "base_uri": "https://localhost:8080/"
        },
        "id": "BRMV31MH3ljP",
        "outputId": "4735d98e-ef49-41ad-9873-1fdad7e44d9e"
      },
      "execution_count": 44,
      "outputs": [
        {
          "output_type": "execute_result",
          "data": {
            "text/plain": [
              "[1, 4, 3, 2]"
            ]
          },
          "metadata": {},
          "execution_count": 44
        }
      ]
    },
    {
      "cell_type": "code",
      "source": [
        "list1.sort()\n",
        "list1"
      ],
      "metadata": {
        "colab": {
          "base_uri": "https://localhost:8080/"
        },
        "id": "BVpZ7FmX3rW7",
        "outputId": "a7d3cbf4-748b-47d9-b426-e0ef34a21ac2"
      },
      "execution_count": 45,
      "outputs": [
        {
          "output_type": "execute_result",
          "data": {
            "text/plain": [
              "[1, 2, 3, 4]"
            ]
          },
          "metadata": {},
          "execution_count": 45
        }
      ]
    },
    {
      "cell_type": "markdown",
      "source": [
        "# 연습문제 7"
      ],
      "metadata": {
        "id": "3IMqhpQv01Fr"
      }
    },
    {
      "cell_type": "code",
      "execution_count": 47,
      "metadata": {
        "colab": {
          "base_uri": "https://localhost:8080/"
        },
        "id": "XJ-4tIxH01Fs",
        "outputId": "1c72d996-b229-4656-f41f-9edde9e491fc"
      },
      "outputs": [
        {
          "output_type": "stream",
          "name": "stdout",
          "text": [
            "리스트 원소들 : [10, 20, 30, 50, 60]\n",
            "리스트 원소들의 합 : 170\n"
          ]
        }
      ],
      "source": [
        "n_list = [10, 20, 30, 50, 60]\n",
        "sum_ = 0\n",
        "for e in n_list:\n",
        "  sum_ += e\n",
        "\n",
        "print(f'리스트 원소들 : {n_list}')\n",
        "print(f'리스트 원소들의 합 : {sum_}')"
      ]
    },
    {
      "cell_type": "markdown",
      "source": [
        "# 연습문제 8"
      ],
      "metadata": {
        "id": "uy-gIdlp01GK"
      }
    },
    {
      "cell_type": "code",
      "execution_count": 49,
      "metadata": {
        "colab": {
          "base_uri": "https://localhost:8080/"
        },
        "id": "tqB63Fse01GK",
        "outputId": "5a4e9fa7-4b9b-429f-eaab-8884f07baac0"
      },
      "outputs": [
        {
          "output_type": "stream",
          "name": "stdout",
          "text": [
            "리스트 원소들 : [10, 20, 30, 50, 60]\n",
            "리스트 원소들의 곱 : 18000000\n"
          ]
        }
      ],
      "source": [
        "n_list = [10, 20, 30, 50, 60]\n",
        "fact_ = 1\n",
        "for e in n_list:\n",
        "  fact_ *= e\n",
        "\n",
        "print(f'리스트 원소들 : {n_list}')\n",
        "print(f'리스트 원소들의 곱 : {fact_}')"
      ]
    },
    {
      "cell_type": "markdown",
      "source": [
        "# 연습문제 9"
      ],
      "metadata": {
        "id": "MFIqQpWU01G1"
      }
    },
    {
      "cell_type": "code",
      "execution_count": 51,
      "metadata": {
        "colab": {
          "base_uri": "https://localhost:8080/"
        },
        "id": "5sUrGnYp01G2",
        "outputId": "a8067b0b-6eca-4784-847d-6ce54423e3f4"
      },
      "outputs": [
        {
          "output_type": "stream",
          "name": "stdout",
          "text": [
            "리스트 원소들 : [10, 20, 30, 50, 60]\n",
            "리스트 원소들 중 최댓값 : 60\n"
          ]
        }
      ],
      "source": [
        "n_list = [10, 20, 30, 50, 60]\n",
        "max_ = n_list[0]\n",
        "for i in range(1, len(n_list)):\n",
        "  if n_list[i] > max_:\n",
        "    max_ = n_list[i]\n",
        "\n",
        "print(f'리스트 원소들 : {n_list}')\n",
        "print(f'리스트 원소들 중 최댓값 : {max_}')"
      ]
    },
    {
      "cell_type": "markdown",
      "source": [
        "# 연습문제 10"
      ],
      "metadata": {
        "id": "Bw3gnVTT01Hi"
      }
    },
    {
      "cell_type": "code",
      "execution_count": 53,
      "metadata": {
        "colab": {
          "base_uri": "https://localhost:8080/"
        },
        "id": "VO1EMVif01Hi",
        "outputId": "837da50b-59ad-4476-f760-c3f3442efe51"
      },
      "outputs": [
        {
          "output_type": "stream",
          "name": "stdout",
          "text": [
            "리스트 원소들 : [10, 20, 30, 50, 60]\n",
            "리스트 원소들 중 최솟값 : 10\n"
          ]
        }
      ],
      "source": [
        "n_list = [10, 20, 30, 50, 60]\n",
        "min_ = n_list[0]\n",
        "for i in range(1, len(n_list)):\n",
        "  if n_list[i] < min_:\n",
        "    min_ = n_list[i]\n",
        "\n",
        "print(f'리스트 원소들 : {n_list}')\n",
        "print(f'리스트 원소들 중 최솟값 : {min_}')"
      ]
    },
    {
      "cell_type": "markdown",
      "source": [
        "# 연습문제 11"
      ],
      "metadata": {
        "id": "iapRn5Vc01IH"
      }
    },
    {
      "cell_type": "code",
      "execution_count": 54,
      "metadata": {
        "colab": {
          "base_uri": "https://localhost:8080/"
        },
        "id": "5B8e9bH401IH",
        "outputId": "ec60f26d-c31a-437e-ebd3-c996c5387cef"
      },
      "outputs": [
        {
          "output_type": "stream",
          "name": "stdout",
          "text": [
            "5개의 수를 입력하세요: 45 67 20 34 2\n",
            "합 : 168\n",
            "평균 : 33.6\n",
            "최댓값 : 67\n",
            "최솟값 : 2\n"
          ]
        }
      ],
      "source": [
        "n_list = list(map(int, input(\"5개의 수를 입력하세요: \").split()))\n",
        "print(f'합 : {sum(n_list)}')\n",
        "print(f'평균 : {sum(n_list)/len(n_list)}')\n",
        "print(f'최댓값 : {max(n_list)}')\n",
        "print(f'최솟값 : {min(n_list)}')"
      ]
    },
    {
      "cell_type": "markdown",
      "source": [
        "# 연습문제"
      ],
      "metadata": {
        "id": "4RxXKrQ901JG"
      }
    },
    {
      "cell_type": "code",
      "execution_count": 57,
      "metadata": {
        "colab": {
          "base_uri": "https://localhost:8080/"
        },
        "id": "JLxBHvI201JG",
        "outputId": "a06c3d76-ec41-4ff3-9f7f-c524fee41130"
      },
      "outputs": [
        {
          "output_type": "stream",
          "name": "stdout",
          "text": [
            "n을 입력하세요 : 6\n",
            "6개의 수 입력하세요: 45 67 20 34 2 100\n",
            "합 : 268\n",
            "평균 : 44.666666666666664\n",
            "최댓값 : 100\n",
            "최솟값 : 2\n"
          ]
        }
      ],
      "source": [
        "n = int(input(\"n을 입력하세요 : \"))\n",
        "n_list = list(map(int, input(f'{n}개의 수 입력하세요: ').split()))\n",
        "print(f'합 : {sum(n_list)}')\n",
        "print(f'평균 : {sum(n_list)/len(n_list)}')\n",
        "print(f'최댓값 : {max(n_list)}')\n",
        "print(f'최솟값 : {min(n_list)}')"
      ]
    },
    {
      "cell_type": "code",
      "source": [
        "n = int(input(\"n을 입력하세요 : \"))\n",
        "n_list = list(map(int, input(f'{n}개의 수 입력하세요: ').split()))\n",
        "print(f'합 : {sum(n_list)}')\n",
        "print(f'평균 : {sum(n_list)/len(n_list)}')\n",
        "print(f'최댓값 : {max(n_list)}')\n",
        "print(f'최솟값 : {min(n_list)}')"
      ],
      "metadata": {
        "colab": {
          "base_uri": "https://localhost:8080/"
        },
        "id": "kwe8ocox53bD",
        "outputId": "ee85114a-42e7-4436-ef2f-4b9e0af6f7bb"
      },
      "execution_count": 59,
      "outputs": [
        {
          "output_type": "stream",
          "name": "stdout",
          "text": [
            "n을 입력하세요 : 3\n",
            "3개의 수 입력하세요: 1 2  3\n",
            "합 : 6\n",
            "평균 : 2.0\n",
            "최댓값 : 3\n",
            "최솟값 : 1\n"
          ]
        }
      ]
    },
    {
      "cell_type": "code",
      "source": [
        "n = int(input(\"n을 입력하세요 : \"))\n",
        "n_list = list(map(int, input(f'{n}개의 수 입력하세요: ').split()))\n",
        "print(f'합 : {sum(n_list)}')\n",
        "print(f'평균 : {sum(n_list)/len(n_list)}')\n",
        "print(f'최댓값 : {max(n_list)}')\n",
        "print(f'최솟값 : {min(n_list)}')"
      ],
      "metadata": {
        "colab": {
          "base_uri": "https://localhost:8080/"
        },
        "id": "SwNGbDtv57Ly",
        "outputId": "2acc9d9e-3f17-4852-89ba-dc9437ed655e"
      },
      "execution_count": 60,
      "outputs": [
        {
          "output_type": "stream",
          "name": "stdout",
          "text": [
            "n을 입력하세요 : 5\n",
            "5개의 수 입력하세요: 10 2 10 3 28\n",
            "합 : 53\n",
            "평균 : 10.6\n",
            "최댓값 : 28\n",
            "최솟값 : 2\n"
          ]
        }
      ]
    },
    {
      "cell_type": "code",
      "source": [
        "n = int(input(\"n을 입력하세요 : \"))\n",
        "n_list = list(map(int, input(f'{n}개의 수 입력하세요: ').split()))\n",
        "print(f'합 : {sum(n_list)}')\n",
        "print(f'평균 : {sum(n_list)/len(n_list)}')\n",
        "print(f'최댓값 : {max(n_list)}')\n",
        "print(f'최솟값 : {min(n_list)}')"
      ],
      "metadata": {
        "colab": {
          "base_uri": "https://localhost:8080/"
        },
        "id": "McYatA5P57lj",
        "outputId": "07cf77e9-67a7-4455-dfcb-fab1a91d4961"
      },
      "execution_count": 61,
      "outputs": [
        {
          "output_type": "stream",
          "name": "stdout",
          "text": [
            "n을 입력하세요 : 10\n",
            "10개의 수 입력하세요: 34 56 7 9 23 10 2 30 3 28\n",
            "합 : 202\n",
            "평균 : 20.2\n",
            "최댓값 : 56\n",
            "최솟값 : 2\n"
          ]
        }
      ]
    },
    {
      "cell_type": "markdown",
      "source": [
        "# 연습문제 13"
      ],
      "metadata": {
        "id": "X5WoemzO01Jy"
      }
    },
    {
      "cell_type": "code",
      "execution_count": 66,
      "metadata": {
        "colab": {
          "base_uri": "https://localhost:8080/"
        },
        "id": "7WgK8Kde01Jy",
        "outputId": "6410d7de-96e2-46ad-ab01-a2656cb19df0"
      },
      "outputs": [
        {
          "output_type": "stream",
          "name": "stdout",
          "text": [
            "n을 입력하세요 : 10\n",
            "10개의 수 입력하세요: 45 67 20 34 2 100 23 45 67 89\n",
            "합 : 492\n",
            "평균 : 49.2\n",
            "표준편차 : 29.72\n"
          ]
        }
      ],
      "source": [
        "n = int(input(\"n을 입력하세요 : \"))\n",
        "n_list = list(map(int, input(f'{n}개의 수 입력하세요: ').split()))\n",
        "print(f'합 : {sum(n_list)}')\n",
        "\n",
        "mean = sum(n_list)/n\n",
        "print(f'평균 : {mean}')\n",
        "\n",
        "squared_error = 0\n",
        "for e in n_list:\n",
        "  squared_error += (e - mean) ** 2\n",
        "\n",
        "mean_squared_error = (squared_error/n) ** 0.5\n",
        "print(f'표준편차 : {round(mean_squared_error, 2)}')"
      ]
    },
    {
      "cell_type": "markdown",
      "source": [
        "# 연습문제 14"
      ],
      "metadata": {
        "id": "bfy4Gva601KU"
      }
    },
    {
      "cell_type": "code",
      "execution_count": 67,
      "metadata": {
        "colab": {
          "base_uri": "https://localhost:8080/"
        },
        "id": "qfg5A5cq01KU",
        "outputId": "821d9d5b-1bb8-4bb6-c99f-1676748fafa8"
      },
      "outputs": [
        {
          "output_type": "execute_result",
          "data": {
            "text/plain": [
              "['a', 'p', 'p', 'y']"
            ]
          },
          "metadata": {},
          "execution_count": 67
        }
      ],
      "source": [
        "spell = ['h', 'a', 'p', 'p', 'y', ' ', 'b', 'i', 'r', 't', 'h', 'd', 'a', 'y']\n",
        "spell[1:5]"
      ]
    },
    {
      "cell_type": "code",
      "source": [
        "spell[:]"
      ],
      "metadata": {
        "colab": {
          "base_uri": "https://localhost:8080/"
        },
        "id": "VY0bzXfB7vEv",
        "outputId": "26de1648-2424-463f-841d-3b3ea73f12dd"
      },
      "execution_count": 68,
      "outputs": [
        {
          "output_type": "execute_result",
          "data": {
            "text/plain": [
              "['h', 'a', 'p', 'p', 'y', ' ', 'b', 'i', 'r', 't', 'h', 'd', 'a', 'y']"
            ]
          },
          "metadata": {},
          "execution_count": 68
        }
      ]
    },
    {
      "cell_type": "code",
      "source": [
        "spell[:5]"
      ],
      "metadata": {
        "colab": {
          "base_uri": "https://localhost:8080/"
        },
        "id": "r64DBCPb7wfg",
        "outputId": "875ad804-2646-4a72-8a9b-7318e066304c"
      },
      "execution_count": 69,
      "outputs": [
        {
          "output_type": "execute_result",
          "data": {
            "text/plain": [
              "['h', 'a', 'p', 'p', 'y']"
            ]
          },
          "metadata": {},
          "execution_count": 69
        }
      ]
    },
    {
      "cell_type": "code",
      "source": [
        "spell[6:]"
      ],
      "metadata": {
        "colab": {
          "base_uri": "https://localhost:8080/"
        },
        "id": "mnnjws-T7yvL",
        "outputId": "ddd458b2-076d-49da-fc55-559bb759d3f9"
      },
      "execution_count": 70,
      "outputs": [
        {
          "output_type": "execute_result",
          "data": {
            "text/plain": [
              "['b', 'i', 'r', 't', 'h', 'd', 'a', 'y']"
            ]
          },
          "metadata": {},
          "execution_count": 70
        }
      ]
    },
    {
      "cell_type": "code",
      "source": [
        "spell[:2] + spell[9:]"
      ],
      "metadata": {
        "colab": {
          "base_uri": "https://localhost:8080/"
        },
        "id": "g_rvTF3L70lq",
        "outputId": "695c449a-9585-4516-f6f6-a4c4e04369bf"
      },
      "execution_count": 71,
      "outputs": [
        {
          "output_type": "execute_result",
          "data": {
            "text/plain": [
              "['h', 'a', 't', 'h', 'd', 'a', 'y']"
            ]
          },
          "metadata": {},
          "execution_count": 71
        }
      ]
    },
    {
      "cell_type": "markdown",
      "source": [
        "# 연습문제 15"
      ],
      "metadata": {
        "id": "COWtRafZ01K5"
      }
    },
    {
      "cell_type": "code",
      "execution_count": 73,
      "metadata": {
        "colab": {
          "base_uri": "https://localhost:8080/",
          "height": 36
        },
        "id": "lKXowkl401K6",
        "outputId": "4a7c6a38-1580-45a4-83c9-3cd3cd333d22"
      },
      "outputs": [
        {
          "output_type": "execute_result",
          "data": {
            "text/plain": [
              "'Have'"
            ],
            "application/vnd.google.colaboratory.intrinsic+json": {
              "type": "string"
            }
          },
          "metadata": {},
          "execution_count": 73
        }
      ],
      "source": [
        "greet = 'Have a beautiful day.'\n",
        "greet[0:4]"
      ]
    },
    {
      "cell_type": "code",
      "source": [
        "greet[7:16]"
      ],
      "metadata": {
        "colab": {
          "base_uri": "https://localhost:8080/",
          "height": 36
        },
        "id": "Co2Lifk58B1Y",
        "outputId": "fc459f66-b47e-4b0b-a54f-29bba026fb71"
      },
      "execution_count": 75,
      "outputs": [
        {
          "output_type": "execute_result",
          "data": {
            "text/plain": [
              "'beautiful'"
            ],
            "application/vnd.google.colaboratory.intrinsic+json": {
              "type": "string"
            }
          },
          "metadata": {},
          "execution_count": 75
        }
      ]
    },
    {
      "cell_type": "code",
      "source": [
        "greet[17:20]"
      ],
      "metadata": {
        "colab": {
          "base_uri": "https://localhost:8080/",
          "height": 36
        },
        "id": "PPmhjM-38MRb",
        "outputId": "9dd80764-062d-499a-ac08-d92964ab2fab"
      },
      "execution_count": 77,
      "outputs": [
        {
          "output_type": "execute_result",
          "data": {
            "text/plain": [
              "'day'"
            ],
            "application/vnd.google.colaboratory.intrinsic+json": {
              "type": "string"
            }
          },
          "metadata": {},
          "execution_count": 77
        }
      ]
    },
    {
      "cell_type": "markdown",
      "source": [
        "# 연습문제 16"
      ],
      "metadata": {
        "id": "9bqROa6701Lf"
      }
    },
    {
      "cell_type": "code",
      "execution_count": 80,
      "metadata": {
        "colab": {
          "base_uri": "https://localhost:8080/",
          "height": 36
        },
        "id": "rJMX88r501Lf",
        "outputId": "aec94949-a3b0-429b-cbac-652ecb403386"
      },
      "outputs": [
        {
          "output_type": "execute_result",
          "data": {
            "text/plain": [
              "'Birth'"
            ],
            "application/vnd.google.colaboratory.intrinsic+json": {
              "type": "string"
            }
          },
          "metadata": {},
          "execution_count": 80
        }
      ],
      "source": [
        "s = 'Birthday'\n",
        "s[:5]"
      ]
    },
    {
      "cell_type": "code",
      "source": [
        "s[5:]"
      ],
      "metadata": {
        "colab": {
          "base_uri": "https://localhost:8080/",
          "height": 36
        },
        "id": "M-v3zLAwPU9p",
        "outputId": "6ed130bc-fce7-42be-96ee-c9849f83c0a3"
      },
      "execution_count": 81,
      "outputs": [
        {
          "output_type": "execute_result",
          "data": {
            "text/plain": [
              "'day'"
            ],
            "application/vnd.google.colaboratory.intrinsic+json": {
              "type": "string"
            }
          },
          "metadata": {},
          "execution_count": 81
        }
      ]
    },
    {
      "cell_type": "code",
      "source": [
        "s[1:-1]"
      ],
      "metadata": {
        "colab": {
          "base_uri": "https://localhost:8080/",
          "height": 36
        },
        "id": "BTjzTk7rPaaT",
        "outputId": "29d9fea9-0bb8-47d9-9728-04acb6e7fb43"
      },
      "execution_count": 82,
      "outputs": [
        {
          "output_type": "execute_result",
          "data": {
            "text/plain": [
              "'irthda'"
            ],
            "application/vnd.google.colaboratory.intrinsic+json": {
              "type": "string"
            }
          },
          "metadata": {},
          "execution_count": 82
        }
      ]
    },
    {
      "cell_type": "code",
      "source": [
        "s[::-1]"
      ],
      "metadata": {
        "colab": {
          "base_uri": "https://localhost:8080/",
          "height": 36
        },
        "id": "sXGQPIomPaJl",
        "outputId": "59f1dda4-c224-4614-ced5-e7b6bca34a1c"
      },
      "execution_count": 83,
      "outputs": [
        {
          "output_type": "execute_result",
          "data": {
            "text/plain": [
              "'yadhtriB'"
            ],
            "application/vnd.google.colaboratory.intrinsic+json": {
              "type": "string"
            }
          },
          "metadata": {},
          "execution_count": 83
        }
      ]
    },
    {
      "cell_type": "code",
      "source": [
        "'day' in s"
      ],
      "metadata": {
        "colab": {
          "base_uri": "https://localhost:8080/"
        },
        "id": "0AvQtNLbPhXY",
        "outputId": "6b9dd6ad-dd92-4988-e6da-a7b1d2c44c22"
      },
      "execution_count": 85,
      "outputs": [
        {
          "output_type": "execute_result",
          "data": {
            "text/plain": [
              "True"
            ]
          },
          "metadata": {},
          "execution_count": 85
        }
      ]
    },
    {
      "cell_type": "code",
      "source": [
        "'birth' in s"
      ],
      "metadata": {
        "colab": {
          "base_uri": "https://localhost:8080/"
        },
        "id": "zaxVh1HfPkUx",
        "outputId": "273671b4-68ce-4327-fdb3-4cc6244cd625"
      },
      "execution_count": 86,
      "outputs": [
        {
          "output_type": "execute_result",
          "data": {
            "text/plain": [
              "False"
            ]
          },
          "metadata": {},
          "execution_count": 86
        }
      ]
    },
    {
      "cell_type": "code",
      "source": [
        "'Birth' in s"
      ],
      "metadata": {
        "colab": {
          "base_uri": "https://localhost:8080/"
        },
        "id": "mjNYPzA1Pitv",
        "outputId": "ce1d7214-9651-41f0-fe06-f6d49633e26f"
      },
      "execution_count": 87,
      "outputs": [
        {
          "output_type": "execute_result",
          "data": {
            "text/plain": [
              "True"
            ]
          },
          "metadata": {},
          "execution_count": 87
        }
      ]
    },
    {
      "cell_type": "code",
      "source": [
        "'Birth' not in s"
      ],
      "metadata": {
        "colab": {
          "base_uri": "https://localhost:8080/"
        },
        "id": "12lhyujJPn0D",
        "outputId": "41bdd1d4-e245-40c9-d8fc-d930122a6040"
      },
      "execution_count": 88,
      "outputs": [
        {
          "output_type": "execute_result",
          "data": {
            "text/plain": [
              "False"
            ]
          },
          "metadata": {},
          "execution_count": 88
        }
      ]
    },
    {
      "cell_type": "markdown",
      "source": [
        "# 연습문제 17"
      ],
      "metadata": {
        "id": "CZMklbs201MH"
      }
    },
    {
      "cell_type": "code",
      "execution_count": 92,
      "metadata": {
        "colab": {
          "base_uri": "https://localhost:8080/"
        },
        "id": "agUWO7Qa01MH",
        "outputId": "0f2a0c10-7fae-4416-ac3c-6e66ad59dd9e"
      },
      "outputs": [
        {
          "output_type": "stream",
          "name": "stdout",
          "text": [
            "animals = ['dog', 'cat', 'tiger', 'lion']\n"
          ]
        }
      ],
      "source": [
        "animals = ['dog', 'cat', 'tiger', 'lion']\n",
        "print(f'animals = {animals}')"
      ]
    },
    {
      "cell_type": "code",
      "source": [
        "animals = ['dog', 'cat', 'tiger', 'lion']\n",
        "animals.append(animals.pop(0))\n",
        "print(f'animals = {animals}')"
      ],
      "metadata": {
        "colab": {
          "base_uri": "https://localhost:8080/"
        },
        "id": "PbU9IqJuP5dQ",
        "outputId": "08f34fa3-5f62-4ef7-9686-0f71ee5e29be"
      },
      "execution_count": 95,
      "outputs": [
        {
          "output_type": "stream",
          "name": "stdout",
          "text": [
            "animals = ['cat', 'tiger', 'lion', 'dog']\n"
          ]
        }
      ]
    },
    {
      "cell_type": "code",
      "source": [
        "animals = ['dog', 'cat', 'tiger', 'lion']\n",
        "print(f'animals = {animals}')\n",
        "for animal in animals:\n",
        "  print(f'I love {animal}.')"
      ],
      "metadata": {
        "colab": {
          "base_uri": "https://localhost:8080/"
        },
        "id": "aLgCtdsYP6Lu",
        "outputId": "33f743e5-1749-4703-ce5c-dbc919187123"
      },
      "execution_count": 98,
      "outputs": [
        {
          "output_type": "stream",
          "name": "stdout",
          "text": [
            "animals = ['dog', 'cat', 'tiger', 'lion']\n",
            "I love dog.\n",
            "I love cat.\n",
            "I love tiger.\n",
            "I love lion.\n"
          ]
        }
      ]
    },
    {
      "cell_type": "markdown",
      "source": [
        "# 연습문제 18"
      ],
      "metadata": {
        "id": "K6vO-N-701Mr"
      }
    },
    {
      "cell_type": "code",
      "execution_count": 100,
      "metadata": {
        "colab": {
          "base_uri": "https://localhost:8080/"
        },
        "id": "xfaaXOnL01Mr",
        "outputId": "7d009a50-8fff-44f4-b27e-54225207be64"
      },
      "outputs": [
        {
          "output_type": "stream",
          "name": "stdout",
          "text": [
            "가장 길이가 짧은 문자열 :  abc\n"
          ]
        }
      ],
      "source": [
        "s_list = ['abc', 'bcd', 'bcdefg', 'abba', 'cddc', 'opq']\n",
        "\n",
        "shortest_s = s_list[0]\n",
        "for s in s_list:\n",
        "  if len(shortest_s) > len(s):\n",
        "    shortest_s = s\n",
        "\n",
        "print(f\"가장 길이가 짧은 문자열 : \", shortest_s)"
      ]
    },
    {
      "cell_type": "code",
      "source": [
        "s_list = ['abc', 'bcd', 'bcdefg', 'abba', 'cddc', 'opq']\n",
        "\n",
        "longest_s = s_list[0]\n",
        "for s in s_list:\n",
        "  if len(longest_s) < len(s):\n",
        "    longest_s = s\n",
        "\n",
        "print(f\"가장 길이가 긴 문자열 : \", longest_s)"
      ],
      "metadata": {
        "colab": {
          "base_uri": "https://localhost:8080/"
        },
        "id": "DnumVmnuQxx4",
        "outputId": "8d334a6e-953a-402b-8fb7-9b2bf0612e82"
      },
      "execution_count": 101,
      "outputs": [
        {
          "output_type": "stream",
          "name": "stdout",
          "text": [
            "가장 길이가 긴 문자열 :  bcdefg\n"
          ]
        }
      ]
    },
    {
      "cell_type": "code",
      "source": [
        "s_list = ['abc', 'bcd', 'bcdefg', 'abba', 'cddc','opq']\n",
        "\n",
        "shortest_s = s_list[0]\n",
        "shortest_s_list = []\n",
        "for s in s_list:\n",
        "  if len(s) == len(shortest_s):\n",
        "    shortest_s_list.append(s)\n",
        "\n",
        "print(f\"가장 길이가 짧은 문자열 : {str(shortest_s_list)[1:-1]}\")"
      ],
      "metadata": {
        "colab": {
          "base_uri": "https://localhost:8080/"
        },
        "id": "vn5-KuMmQyD-",
        "outputId": "c04e544d-f344-4a36-8b03-96ee9d6b1262"
      },
      "execution_count": 116,
      "outputs": [
        {
          "output_type": "stream",
          "name": "stdout",
          "text": [
            "가장 길이가 짧은 문자열 : 'abc', 'bcd', 'opq'\n"
          ]
        }
      ]
    },
    {
      "cell_type": "markdown",
      "source": [
        "# 연습문제 19"
      ],
      "metadata": {
        "id": "bAUfzMsY01NL"
      }
    },
    {
      "cell_type": "code",
      "execution_count": 117,
      "metadata": {
        "colab": {
          "base_uri": "https://localhost:8080/"
        },
        "id": "7CMM4Mah01NM",
        "outputId": "c597a35b-dccb-4961-922c-0f74de5a4ed7"
      },
      "outputs": [
        {
          "output_type": "stream",
          "name": "stdout",
          "text": [
            "s_list = ['abc', 'bcd', ' abba', 'cddc', 'opq', 'opq'] new_s_list = ['abc', 'bcd', ' abba', 'cddc', 'opq']\n"
          ]
        }
      ],
      "source": [
        "s_list = ['abc', 'bcd', ' abba', 'cddc', 'opq', 'opq']\n",
        "\n",
        "new_s_list = []\n",
        "for s in s_list:\n",
        "  if s not in new_s_list:\n",
        "    new_s_list.append(s)\n",
        "\n",
        "print(f's_list = {s_list} new_s_list = {new_s_list}')"
      ]
    },
    {
      "cell_type": "markdown",
      "source": [
        "# 연습문제 20"
      ],
      "metadata": {
        "id": "HpgmnSY-01Nw"
      }
    },
    {
      "cell_type": "code",
      "execution_count": 136,
      "metadata": {
        "colab": {
          "base_uri": "https://localhost:8080/"
        },
        "id": "DZ0Etper01Nw",
        "outputId": "8be5db36-838c-4ed6-b84c-c36bf6fa9d2b"
      },
      "outputs": [
        {
          "output_type": "stream",
          "name": "stdout",
          "text": [
            "src = 'aaaabbb'\n",
            "output = 'a4b3'\n",
            "src = 'aaaabccccaaaaacccfg'\n",
            "output = 'a4b1c4a5c3f1g1'\n"
          ]
        }
      ],
      "source": [
        "def string_comprehension(src):\n",
        "  if not src:\n",
        "   return ''\n",
        "  else:\n",
        "    n = 1\n",
        "    before_s = src[0]\n",
        "    output = ''\n",
        "    for i in range(1, len(src)):\n",
        "      if src[i] == before_s:\n",
        "        n += 1\n",
        "      else:\n",
        "        output += before_s + str(n)\n",
        "        before_s = src[i]\n",
        "        n = 1\n",
        "\n",
        "    output += before_s + str(n)\n",
        "    return output\n",
        "\n",
        "src = 'aaaabbb'\n",
        "print(f\"src = '{src}'\")\n",
        "print(f\"output = '{string_comprehension(src)}'\")\n",
        "\n",
        "src = 'aaaabccccaaaaacccfg'\n",
        "print(f\"src = '{src}'\")\n",
        "print(f\"output = '{string_comprehension(src)}'\")"
      ]
    },
    {
      "cell_type": "code",
      "source": [
        "src = ''\n",
        "print(f\"src = '{src}'\")\n",
        "print(f\"output = '{string_comprehension(src)}'\")\n",
        "\n",
        "src = 'a'\n",
        "print(f\"src = '{src}'\")\n",
        "print(f\"output = '{string_comprehension(src)}'\")"
      ],
      "metadata": {
        "colab": {
          "base_uri": "https://localhost:8080/"
        },
        "id": "-l_9gls5VlSY",
        "outputId": "9f7f33ec-3274-4550-8f41-ca3e19f501cf"
      },
      "execution_count": 137,
      "outputs": [
        {
          "output_type": "stream",
          "name": "stdout",
          "text": [
            "src = ''\n",
            "output = ''\n",
            "src = 'a'\n",
            "output = 'a1'\n"
          ]
        }
      ]
    },
    {
      "cell_type": "markdown",
      "source": [
        "# 연습문제 21"
      ],
      "metadata": {
        "id": "cXjN-jaq01OU"
      }
    },
    {
      "cell_type": "code",
      "execution_count": 143,
      "metadata": {
        "colab": {
          "base_uri": "https://localhost:8080/"
        },
        "id": "Z6dmCXAg01OV",
        "outputId": "0efafde1-3ce7-4a22-defe-cb1595b91345"
      },
      "outputs": [
        {
          "output_type": "stream",
          "name": "stdout",
          "text": [
            "src = 'a2b3c6a2c3f1g1'\n",
            "output = 'aabbbccccccaacccfg'\n"
          ]
        }
      ],
      "source": [
        "def restore_string_comprehension(src):\n",
        "  if not src:\n",
        "    return ''\n",
        "  else:\n",
        "    output = ''\n",
        "    for i in range(0, len(src), 2):\n",
        "      output += src[i] * int(src[i+1])\n",
        "    return output\n",
        "\n",
        "src = 'a2b3c6a2c3f1g1'\n",
        "print(f\"src = '{src}'\")\n",
        "print(f\"output = '{restore_string_comprehension(src)}'\")"
      ]
    },
    {
      "cell_type": "markdown",
      "source": [
        "# 연습문제 22\n"
      ],
      "metadata": {
        "id": "uqCZq87c01PQ"
      }
    },
    {
      "cell_type": "code",
      "execution_count": 150,
      "metadata": {
        "colab": {
          "base_uri": "https://localhost:8080/"
        },
        "id": "uY6Lr69o01PR",
        "outputId": "4a137376-5160-4697-c4f1-f5564761cb7e"
      },
      "outputs": [
        {
          "output_type": "stream",
          "name": "stdout",
          "text": [
            "n을 입력하시오: 5\n",
            "  1   2   3   4   5\n",
            " 10   9   8   7   6\n",
            " 11  12  13  14  15\n",
            " 20  19  18  17  16\n",
            " 21  22  23  24  25\n"
          ]
        }
      ],
      "source": [
        "def print_snake_matrix(n):\n",
        "    matrix_values = list(range(1, n * n + 1))\n",
        "    snake_matrix = []\n",
        "\n",
        "    for row in range(n):\n",
        "        if row % 2 == 0:\n",
        "            snake_matrix.append(matrix_values[row * n: (row + 1) * n])\n",
        "        else:\n",
        "            snake_matrix.append(matrix_values[row * n: (row + 1) * n][::-1])\n",
        "\n",
        "    for row_values in snake_matrix:\n",
        "        print(\" \".join([f\"{value:3d}\" for value in row_values]))\n",
        "\n",
        "n = int(input(\"n을 입력하시오: \"))\n",
        "print_snake_matrix(n)"
      ]
    },
    {
      "cell_type": "code",
      "source": [
        "n = int(input(\"n을 입력하시오: \"))\n",
        "print_snake_matrix(n)"
      ],
      "metadata": {
        "colab": {
          "base_uri": "https://localhost:8080/"
        },
        "id": "dptCP0VSZeRW",
        "outputId": "d7bf6167-99b1-4665-8914-569f3235f963"
      },
      "execution_count": 151,
      "outputs": [
        {
          "output_type": "stream",
          "name": "stdout",
          "text": [
            "n을 입력하시오: 6\n",
            "  1   2   3   4   5   6\n",
            " 12  11  10   9   8   7\n",
            " 13  14  15  16  17  18\n",
            " 24  23  22  21  20  19\n",
            " 25  26  27  28  29  30\n",
            " 36  35  34  33  32  31\n"
          ]
        }
      ]
    },
    {
      "cell_type": "markdown",
      "source": [
        "# 연습문제 23"
      ],
      "metadata": {
        "id": "LVVRVYtc01Pz"
      }
    },
    {
      "cell_type": "code",
      "execution_count": 163,
      "metadata": {
        "colab": {
          "base_uri": "https://localhost:8080/"
        },
        "id": "TBHiyvL601Pz",
        "outputId": "3e973b64-d0a2-4e3c-c714-26e7fd604461"
      },
      "outputs": [
        {
          "output_type": "stream",
          "name": "stdout",
          "text": [
            "3명의 정보가 담겨 있습니다.\n"
          ]
        }
      ],
      "source": [
        "def how_many_persons(person_list):\n",
        "  return len(person_list) // 5\n",
        "\n",
        "person1 = ['온달', 20, 1, 180.0, 100.0]\n",
        "person2 = ['이사부', 25, 1, 170.0, 70.0]\n",
        "person3 = ['평강', 22, 0, 169.0, 60.0]\n",
        "person4 = ['혁거세', 40, 1, 150.0, 50.0]\n",
        "\n",
        "person_list = person1 + person2 + person4\n",
        "n_persons = how_many_persons(person_list)\n",
        "print(str(n_persons) + '명의 정보가 담겨 있습니다.')"
      ]
    },
    {
      "cell_type": "code",
      "source": [
        "def compute_average_age(person_list):\n",
        "  total_age = 0\n",
        "  for age in person_list[1::5]:\n",
        "    total_age += age\n",
        "  return total_age / how_many_persons(person_list)\n",
        "\n",
        "person_list = person1 + person2 + person3 + person4\n",
        "average_age = compute_average_age(person_list)\n",
        "print('평균 나이는 ' + str(average_age) + '세입니다.')"
      ],
      "metadata": {
        "colab": {
          "base_uri": "https://localhost:8080/"
        },
        "id": "p_A9PglFb7XD",
        "outputId": "05224f08-0fa5-48fe-c261-c3243f001c1e"
      },
      "execution_count": 164,
      "outputs": [
        {
          "output_type": "stream",
          "name": "stdout",
          "text": [
            "평균 나이는 26.75세입니다.\n"
          ]
        }
      ]
    },
    {
      "cell_type": "code",
      "source": [
        "def count_males_females(person_list):\n",
        "  n_male = 0\n",
        "  n_female = 0\n",
        "  for gender in person_list[2::5]:\n",
        "    if gender == 1:\n",
        "      n_male += 1\n",
        "    else:\n",
        "      n_female += 1\n",
        "  return n_male, n_female\n",
        "\n",
        "person_list = person1 + person2 + person3 + person4\n",
        "n_male, n_female = count_males_females(person_list)\n",
        "print('리스트에는 남자가', n_male, '명, 여자가', n_female, '명입니다.')"
      ],
      "metadata": {
        "colab": {
          "base_uri": "https://localhost:8080/"
        },
        "id": "_eFDc3MrcvzO",
        "outputId": "b1f16195-e840-4535-8045-39fa213c25f2"
      },
      "execution_count": 167,
      "outputs": [
        {
          "output_type": "stream",
          "name": "stdout",
          "text": [
            "리스트에는 남자가 3 명, 여자가 1 명입니다.\n"
          ]
        }
      ]
    },
    {
      "cell_type": "code",
      "source": [
        "def display_persons(person_list):\n",
        "  for i in range(0, len(person_list), 5):\n",
        "    print(person_list[i:i+5])\n",
        "\n",
        "person_list = person1 + person2 + person3 + person4\n",
        "display_persons(person_list)"
      ],
      "metadata": {
        "colab": {
          "base_uri": "https://localhost:8080/"
        },
        "id": "lltXoHLAdPgO",
        "outputId": "e55e0899-e766-43a3-ba7d-8f6dd7ce7bd6"
      },
      "execution_count": 168,
      "outputs": [
        {
          "output_type": "stream",
          "name": "stdout",
          "text": [
            "['온달', 20, 1, 180.0, 100.0]\n",
            "['이사부', 25, 1, 170.0, 70.0]\n",
            "['평강', 22, 0, 169.0, 60.0]\n",
            "['혁거세', 40, 1, 150.0, 50.0]\n"
          ]
        }
      ]
    },
    {
      "cell_type": "markdown",
      "source": [
        "# 연습문제 24"
      ],
      "metadata": {
        "id": "1bguUIpp01QX"
      }
    },
    {
      "cell_type": "code",
      "execution_count": 173,
      "metadata": {
        "colab": {
          "base_uri": "https://localhost:8080/"
        },
        "id": "kSfMfoh101QX",
        "outputId": "27f0fa10-2ab5-46ea-c22f-55e77429484f"
      },
      "outputs": [
        {
          "output_type": "stream",
          "name": "stdout",
          "text": [
            "6은 완전수입니다\n",
            "6의 진약수 : [1, 2, 3], 약수의 합 = 6\n",
            "28은 완전수입니다\n",
            "28의 진약수 : [1, 2, 4, 7, 14], 약수의 합 = 28\n",
            "496은 완전수입니다\n",
            "496의 진약수 : [1, 2, 4, 8, 16, 31, 62, 124, 248], 약수의 합 = 496\n",
            "8128은 완전수입니다\n",
            "8128의 진약수 : [1, 2, 4, 8, 16, 32, 64, 127, 254, 508, 1016, 2032, 4064], 약수의 합 = 8128\n"
          ]
        }
      ],
      "source": [
        "for num in range(2, 10001):\n",
        "  divisors = []\n",
        "\n",
        "  for i in range(1, int(num ** 0.5) + 1):\n",
        "    if num % i == 0:\n",
        "      divisors.append(i)\n",
        "      if i != num // i and num // i != num:\n",
        "        divisors.append(num // i)\n",
        "\n",
        "  if num == sum(divisors):\n",
        "    divisors.sort()\n",
        "    print(f'{num}은 완전수입니다')\n",
        "    print(f'{num}의 진약수 : {divisors}, 약수의 합 = {sum(divisors)}')"
      ]
    }
  ]
}