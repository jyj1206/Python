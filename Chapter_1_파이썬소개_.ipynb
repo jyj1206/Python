{
  "nbformat": 4,
  "nbformat_minor": 0,
  "metadata": {
    "colab": {
      "provenance": [],
      "authorship_tag": "ABX9TyPHJmD8hgfZ9NEddCMrFz5T",
      "include_colab_link": true
    },
    "kernelspec": {
      "name": "python3",
      "display_name": "Python 3"
    },
    "language_info": {
      "name": "python"
    }
  },
  "cells": [
    {
      "cell_type": "markdown",
      "metadata": {
        "id": "view-in-github",
        "colab_type": "text"
      },
      "source": [
        "<a href=\"https://colab.research.google.com/github/jyj1206/Python/blob/main/Chapter_1_%ED%8C%8C%EC%9D%B4%EC%8D%AC%EC%86%8C%EA%B0%9C_.ipynb\" target=\"_parent\"><img src=\"https://colab.research.google.com/assets/colab-badge.svg\" alt=\"Open In Colab\"/></a>"
      ]
    },
    {
      "cell_type": "markdown",
      "source": [
        "# 연습문제 1"
      ],
      "metadata": {
        "id": "Ti0UH0ImTnIQ"
      }
    },
    {
      "cell_type": "markdown",
      "source": [
        "파이썬 인터프리터 버전 확인 명령어(윈도우 운영체제) :\n",
        "- C:\\> python --version\n",
        "\n",
        "파이썬 인터프리터 버전 확인 명령어(macOS와유닉스 계열 운영체제) :\n",
        "- $ python3 --version\n",
        "\n",
        "파이썬 인터프리터 버전 : Python 3.10.12"
      ],
      "metadata": {
        "id": "S8x1lLRITw5f"
      }
    },
    {
      "cell_type": "code",
      "source": [
        "!python --version"
      ],
      "metadata": {
        "colab": {
          "base_uri": "https://localhost:8080/"
        },
        "id": "4UhMlVypTrte",
        "outputId": "ba8d7fc9-f40f-47dc-8ba1-7e9fc2d702b5"
      },
      "execution_count": null,
      "outputs": [
        {
          "output_type": "stream",
          "name": "stdout",
          "text": [
            "Python 3.10.12\n"
          ]
        }
      ]
    },
    {
      "cell_type": "markdown",
      "source": [
        "# 연습문제 2"
      ],
      "metadata": {
        "id": "nUr43LAhUjyv"
      }
    },
    {
      "cell_type": "markdown",
      "source": [
        "(1) Java\n",
        "- 객체 지향 프로그래밍 언어임\n",
        "- 가비지 컬렉션 기능을 제공하여 메모리 누수를 줄임.\n",
        "- 한 번 코드를 작성하면, 여러 운영체제에서 똑같이 실행됨.\n",
        "\n",
        "(2) C\n",
        "- 매우 오래된 언어로, 다양한 프로그램과 시스템 소프트웨어를 만드는데 많이 사용됨.\n",
        "- 다른 언어보다 속도가 빠르고, 하드웨어와 가깝게 작동할 수 있음.\n",
        "- 배우기 쉬운 기본 문법을 가지고 있지만, 메모리 관리에 주의가 필요함.\n",
        "\n",
        "(3) C++\n",
        "- C의 확장 언어로, 객체 지향 프로그래밍기능을 추가하여 코드 재사용성과 유지보수성을 높임.\n",
        "- 높은 성능과 효율성을 제공하며, 복잡한 소프트웨어와 게임 개발에 널리 사용됨.\n",
        "- 빠른 속도 덕분에 게임이나 그래픽 소프트웨어에서 많이 쓰임.\n",
        "\n",
        "(4) Swift\n",
        "- Apple에서 개발한 언어로, iOS와 macOS 애플리케이션 개발에 주로 사용됨.\n",
        "- 현대적인 문법과 안전한 코드 작성을 지원하여 코드의 가독성과 안전성을 높임.\n",
        "- 성능 최적화와 간결한 문법을 통해 개발 생산성을 높일 수 있음.\n",
        "\n",
        "(5) C#\n",
        "- Microsoft에서 개발한 객체 지향 프로그래밍 언어로, .NET 프레임워크와 함께 사용됨.\n",
        "- 자동 메모리 관리와 풍부한 라이브러리를 제공하여 빠른 개발과 유지보수가 가능함.\n",
        "- Windows 애플리케이션 및 게임 개발에 널리 사용됨.\n",
        "\n",
        "(6) JavaScript\n",
        "- 웹 개발을 위한 스크립트 언어로, 클라이언트 측에서 동적 웹 페이지를 작성할 수 있음.\n",
        "- 인터프리터 언어로 즉시 실행되며, 이벤트 기반 프로그래밍을 지원함.\n",
        "- Node.js와 함께 서버 측에서도 사용 가능하여 풀스택 개발이 가능함."
      ],
      "metadata": {
        "id": "a9orUGKVUnLN"
      }
    },
    {
      "cell_type": "markdown",
      "source": [
        "# 연습문제 3"
      ],
      "metadata": {
        "id": "pIWm04PMVHmQ"
      }
    },
    {
      "cell_type": "code",
      "source": [
        "print(100)"
      ],
      "metadata": {
        "colab": {
          "base_uri": "https://localhost:8080/"
        },
        "id": "eD3ndnYUUZLL",
        "outputId": "28e8640c-59da-491c-ed3c-c975773454ce"
      },
      "execution_count": null,
      "outputs": [
        {
          "output_type": "stream",
          "name": "stdout",
          "text": [
            "100\n"
          ]
        }
      ]
    },
    {
      "cell_type": "code",
      "source": [
        "print(100 + 200)"
      ],
      "metadata": {
        "colab": {
          "base_uri": "https://localhost:8080/"
        },
        "id": "7CiRq5g1VMTT",
        "outputId": "bf2f9c6d-8ffc-4db5-8486-f434ef9e3ac0"
      },
      "execution_count": null,
      "outputs": [
        {
          "output_type": "stream",
          "name": "stdout",
          "text": [
            "300\n"
          ]
        }
      ]
    },
    {
      "cell_type": "code",
      "source": [
        "print('100 + 200')"
      ],
      "metadata": {
        "colab": {
          "base_uri": "https://localhost:8080/"
        },
        "id": "ESm4czCuVNtI",
        "outputId": "899d6c2c-ec4b-4156-f65e-70d15a4fdce5"
      },
      "execution_count": null,
      "outputs": [
        {
          "output_type": "stream",
          "name": "stdout",
          "text": [
            "100 + 200\n"
          ]
        }
      ]
    },
    {
      "cell_type": "code",
      "source": [
        "print(100, 200)"
      ],
      "metadata": {
        "colab": {
          "base_uri": "https://localhost:8080/"
        },
        "id": "_sHpuq6hVQRT",
        "outputId": "5594b929-37f3-4bef-aec6-676788a329a7"
      },
      "execution_count": null,
      "outputs": [
        {
          "output_type": "stream",
          "name": "stdout",
          "text": [
            "100 200\n"
          ]
        }
      ]
    },
    {
      "cell_type": "code",
      "source": [
        "print('100', '200')"
      ],
      "metadata": {
        "colab": {
          "base_uri": "https://localhost:8080/"
        },
        "id": "rVPLxHhpVQ7R",
        "outputId": "82110b35-4cfe-4ec7-c6d3-ec0ef31c0dc5"
      },
      "execution_count": null,
      "outputs": [
        {
          "output_type": "stream",
          "name": "stdout",
          "text": [
            "100 200\n"
          ]
        }
      ]
    },
    {
      "cell_type": "code",
      "source": [
        "print('100''200')"
      ],
      "metadata": {
        "colab": {
          "base_uri": "https://localhost:8080/"
        },
        "id": "9YFq7WWsVSM9",
        "outputId": "3ec5aac7-fb67-47db-8af5-cfa69f7b0bf0"
      },
      "execution_count": null,
      "outputs": [
        {
          "output_type": "stream",
          "name": "stdout",
          "text": [
            "100200\n"
          ]
        }
      ]
    },
    {
      "cell_type": "code",
      "source": [
        "print('Hello Python!')"
      ],
      "metadata": {
        "colab": {
          "base_uri": "https://localhost:8080/"
        },
        "id": "cwfWH6kSVUGx",
        "outputId": "04c65f36-8768-4875-b729-0e9c975da490"
      },
      "execution_count": null,
      "outputs": [
        {
          "output_type": "stream",
          "name": "stdout",
          "text": [
            "Hello Python!\n"
          ]
        }
      ]
    },
    {
      "cell_type": "code",
      "source": [
        "print('Hello', 'Python', '!')"
      ],
      "metadata": {
        "colab": {
          "base_uri": "https://localhost:8080/"
        },
        "id": "TMETxaZbVXMg",
        "outputId": "b1d16b4d-709a-4bf7-c8c9-03856ca631ef"
      },
      "execution_count": null,
      "outputs": [
        {
          "output_type": "stream",
          "name": "stdout",
          "text": [
            "Hello Python !\n"
          ]
        }
      ]
    },
    {
      "cell_type": "code",
      "source": [
        "print('Hello'+'Python'+'!')"
      ],
      "metadata": {
        "colab": {
          "base_uri": "https://localhost:8080/"
        },
        "id": "EZm37RiMVbIV",
        "outputId": "bb3eadf1-31ec-4976-d09e-5e23a7fade52"
      },
      "execution_count": null,
      "outputs": [
        {
          "output_type": "stream",
          "name": "stdout",
          "text": [
            "HelloPython!\n"
          ]
        }
      ]
    },
    {
      "cell_type": "code",
      "source": [
        "print('Hello''Python''!')"
      ],
      "metadata": {
        "colab": {
          "base_uri": "https://localhost:8080/"
        },
        "id": "nrs_-4PrVihG",
        "outputId": "bfe0758c-de25-472b-8e22-ba5a702b7475"
      },
      "execution_count": null,
      "outputs": [
        {
          "output_type": "stream",
          "name": "stdout",
          "text": [
            "HelloPython!\n"
          ]
        }
      ]
    },
    {
      "cell_type": "code",
      "source": [
        "print('**********')"
      ],
      "metadata": {
        "colab": {
          "base_uri": "https://localhost:8080/"
        },
        "id": "7_YDpoh7VlUq",
        "outputId": "22e30aa8-579e-49c0-a9c0-936b7ce0d284"
      },
      "execution_count": null,
      "outputs": [
        {
          "output_type": "stream",
          "name": "stdout",
          "text": [
            "**********\n"
          ]
        }
      ]
    },
    {
      "cell_type": "code",
      "source": [
        "print('*' * 10)"
      ],
      "metadata": {
        "colab": {
          "base_uri": "https://localhost:8080/"
        },
        "id": "dhu55ZSBVoK7",
        "outputId": "f6f63f32-ebde-4fa3-b507-aafa5fd1ff38"
      },
      "execution_count": null,
      "outputs": [
        {
          "output_type": "stream",
          "name": "stdout",
          "text": [
            "**********\n"
          ]
        }
      ]
    },
    {
      "cell_type": "markdown",
      "source": [
        "# 연습문제 4"
      ],
      "metadata": {
        "id": "fPv9a9UdVrW7"
      }
    },
    {
      "cell_type": "code",
      "source": [
        "print('Hello Python!)"
      ],
      "metadata": {
        "colab": {
          "base_uri": "https://localhost:8080/",
          "height": 112
        },
        "id": "uIwOeL1fVpix",
        "outputId": "c5b8e833-4066-4361-e361-b35111fc987b"
      },
      "execution_count": null,
      "outputs": [
        {
          "output_type": "error",
          "ename": "SyntaxError",
          "evalue": "unterminated string literal (detected at line 1) (<ipython-input-14-a333e4fe3506>, line 1)",
          "traceback": [
            "\u001b[0;36m  File \u001b[0;32m\"<ipython-input-14-a333e4fe3506>\"\u001b[0;36m, line \u001b[0;32m1\u001b[0m\n\u001b[0;31m    print('Hello Python!)\u001b[0m\n\u001b[0m          ^\u001b[0m\n\u001b[0;31mSyntaxError\u001b[0m\u001b[0;31m:\u001b[0m unterminated string literal (detected at line 1)\n"
          ]
        }
      ]
    },
    {
      "cell_type": "markdown",
      "source": [
        "오류가 나는 이유는 ' 이후에 문자열을 닫는 기호를 추가하지 않았기 때문이다. (SyntaxError)\n",
        "\n",
        "아래와 같이 수정"
      ],
      "metadata": {
        "id": "1yTYDGMdvtb3"
      }
    },
    {
      "cell_type": "code",
      "source": [
        "print('Hello Python!')"
      ],
      "metadata": {
        "colab": {
          "base_uri": "https://localhost:8080/"
        },
        "id": "nimUchfwv1qY",
        "outputId": "e4eb33b1-50b5-4458-9354-61fb9e46286d"
      },
      "execution_count": null,
      "outputs": [
        {
          "output_type": "stream",
          "name": "stdout",
          "text": [
            "Hello Python!\n"
          ]
        }
      ]
    },
    {
      "cell_type": "code",
      "source": [
        "print(\"Hello Python!')"
      ],
      "metadata": {
        "colab": {
          "base_uri": "https://localhost:8080/",
          "height": 112
        },
        "id": "8Qwlq4tIV6H5",
        "outputId": "2429d590-efd9-461f-ebf3-c6891407c464"
      },
      "execution_count": null,
      "outputs": [
        {
          "output_type": "error",
          "ename": "SyntaxError",
          "evalue": "unterminated string literal (detected at line 1) (<ipython-input-16-000552d4ba70>, line 1)",
          "traceback": [
            "\u001b[0;36m  File \u001b[0;32m\"<ipython-input-16-000552d4ba70>\"\u001b[0;36m, line \u001b[0;32m1\u001b[0m\n\u001b[0;31m    print(\"Hello Python!')\u001b[0m\n\u001b[0m          ^\u001b[0m\n\u001b[0;31mSyntaxError\u001b[0m\u001b[0;31m:\u001b[0m unterminated string literal (detected at line 1)\n"
          ]
        }
      ]
    },
    {
      "cell_type": "markdown",
      "source": [
        "오류가 나는 이유는 문자열을 쓸때 \"로 열었을 떄는 \"로 닫고, '로 열었을 떄는 '로 닫아야하는데 그렇지 않았기 때문이다. (SyntaxError)\n",
        "\n",
        "아래와 같이 수정"
      ],
      "metadata": {
        "id": "cxt_MEfuv9jc"
      }
    },
    {
      "cell_type": "code",
      "source": [
        "print(\"Hello Python!\") # 큰따옴표\n",
        "print('Hello Python!') # 작은따옴표"
      ],
      "metadata": {
        "colab": {
          "base_uri": "https://localhost:8080/"
        },
        "id": "XyCEfH8OwIb0",
        "outputId": "42aba312-2271-400c-edfc-134facb2f300"
      },
      "execution_count": null,
      "outputs": [
        {
          "output_type": "stream",
          "name": "stdout",
          "text": [
            "Hello Python!\n",
            "Hello Python!\n"
          ]
        }
      ]
    },
    {
      "cell_type": "code",
      "source": [
        "print(Hello Python!)"
      ],
      "metadata": {
        "colab": {
          "base_uri": "https://localhost:8080/",
          "height": 112
        },
        "id": "szVgtL1_V7we",
        "outputId": "d9a1cdb9-8e74-4843-a41b-161819055e64"
      },
      "execution_count": null,
      "outputs": [
        {
          "output_type": "error",
          "ename": "SyntaxError",
          "evalue": "invalid syntax. Perhaps you forgot a comma? (<ipython-input-18-bcd1e4a04da8>, line 1)",
          "traceback": [
            "\u001b[0;36m  File \u001b[0;32m\"<ipython-input-18-bcd1e4a04da8>\"\u001b[0;36m, line \u001b[0;32m1\u001b[0m\n\u001b[0;31m    print(Hello Python!)\u001b[0m\n\u001b[0m          ^\u001b[0m\n\u001b[0;31mSyntaxError\u001b[0m\u001b[0;31m:\u001b[0m invalid syntax. Perhaps you forgot a comma?\n"
          ]
        }
      ]
    },
    {
      "cell_type": "markdown",
      "source": [
        "오류가 나는 이유는 문자열 형식을 출력하기 위해서는 큰따옴표 혹은 작은따옴표로 열고 닫아야하는데 그렇지 않았기 때문이다. (SyntaxError)\n",
        "\n",
        "아래와 같이 수정"
      ],
      "metadata": {
        "id": "HplTlk1kwTsA"
      }
    },
    {
      "cell_type": "code",
      "source": [
        "print(\"Hello Python!\") # 큰따옴표\n",
        "print('Hello Python!') # 작은따옴표"
      ],
      "metadata": {
        "colab": {
          "base_uri": "https://localhost:8080/"
        },
        "id": "VfJR0J2WwYAy",
        "outputId": "b9fcddd9-30ee-4e26-b9a2-ab077c955191"
      },
      "execution_count": null,
      "outputs": [
        {
          "output_type": "stream",
          "name": "stdout",
          "text": [
            "Hello Python!\n",
            "Hello Python!\n"
          ]
        }
      ]
    },
    {
      "cell_type": "code",
      "source": [
        "print(100 + '200')"
      ],
      "metadata": {
        "colab": {
          "base_uri": "https://localhost:8080/",
          "height": 149
        },
        "id": "sMRgqm_GV92r",
        "outputId": "af0a6691-4757-4be9-f10a-41ca9e66f4fb"
      },
      "execution_count": null,
      "outputs": [
        {
          "output_type": "error",
          "ename": "TypeError",
          "evalue": "unsupported operand type(s) for +: 'int' and 'str'",
          "traceback": [
            "\u001b[0;31m---------------------------------------------------------------------------\u001b[0m",
            "\u001b[0;31mTypeError\u001b[0m                                 Traceback (most recent call last)",
            "\u001b[0;32m<ipython-input-20-84339996c357>\u001b[0m in \u001b[0;36m<cell line: 1>\u001b[0;34m()\u001b[0m\n\u001b[0;32m----> 1\u001b[0;31m \u001b[0mprint\u001b[0m\u001b[0;34m(\u001b[0m\u001b[0;36m100\u001b[0m \u001b[0;34m+\u001b[0m \u001b[0;34m'200'\u001b[0m\u001b[0;34m)\u001b[0m\u001b[0;34m\u001b[0m\u001b[0;34m\u001b[0m\u001b[0m\n\u001b[0m",
            "\u001b[0;31mTypeError\u001b[0m: unsupported operand type(s) for +: 'int' and 'str'"
          ]
        }
      ]
    },
    {
      "cell_type": "markdown",
      "source": [
        "오류가 나는 이유는 int 자료형인 100과 str 자료형인 '200'을 더하려고 했기 때문이다. (TypeError)\n",
        "\n",
        "아래와 같이 수정"
      ],
      "metadata": {
        "id": "giOZj2QyWEQ4"
      }
    },
    {
      "cell_type": "code",
      "source": [
        "print(100 + 200) # int형으로 통일\n",
        "print('100' + '200') # str형으로 통일"
      ],
      "metadata": {
        "colab": {
          "base_uri": "https://localhost:8080/"
        },
        "id": "4C_sl2vLWDKA",
        "outputId": "72020905-d726-4006-e57f-ff0c3ca7adfb"
      },
      "execution_count": null,
      "outputs": [
        {
          "output_type": "stream",
          "name": "stdout",
          "text": [
            "300\n",
            "100200\n"
          ]
        }
      ]
    },
    {
      "cell_type": "markdown",
      "source": [
        "# 연습문제 5"
      ],
      "metadata": {
        "id": "MOmHeWy4WT-h"
      }
    },
    {
      "cell_type": "code",
      "source": [
        "print('Welcome to Python!!')\n",
        "print('Welcome to Python!!')\n",
        "print('Welcome to Python!!')\n",
        "print('Welcome to Python!!')\n",
        "print('Welcome to Python!!')"
      ],
      "metadata": {
        "colab": {
          "base_uri": "https://localhost:8080/"
        },
        "id": "UovtJb_-WWpt",
        "outputId": "eda3965b-5ccc-4664-d0e9-df82ca30abca"
      },
      "execution_count": null,
      "outputs": [
        {
          "output_type": "stream",
          "name": "stdout",
          "text": [
            "Welcome to Python!!\n",
            "Welcome to Python!!\n",
            "Welcome to Python!!\n",
            "Welcome to Python!!\n",
            "Welcome to Python!!\n"
          ]
        }
      ]
    },
    {
      "cell_type": "markdown",
      "source": [
        "# 연습문제 6"
      ],
      "metadata": {
        "id": "IBWbqgNzWb2I"
      }
    },
    {
      "cell_type": "code",
      "source": [
        "print(\"*\" *  40)\n",
        "print(\"안녕하세요~\")\n",
        "print(\"저는 정영진입니다.\")\n",
        "print(\"경북대학교 컴퓨터학부 4학년입니다\")\n",
        "print(\"*\" *  40)"
      ],
      "metadata": {
        "colab": {
          "base_uri": "https://localhost:8080/"
        },
        "id": "9NOav-HeWgbc",
        "outputId": "c1c22e21-0b6d-41dc-8ba7-5f36db43fcd3"
      },
      "execution_count": null,
      "outputs": [
        {
          "output_type": "stream",
          "name": "stdout",
          "text": [
            "****************************************\n",
            "안녕하세요~\n",
            "저는 정영진입니다.\n",
            "경북대학교 컴퓨터학부 4학년입니다\n",
            "****************************************\n"
          ]
        }
      ]
    },
    {
      "cell_type": "markdown",
      "source": [
        "# 연습문제 7"
      ],
      "metadata": {
        "id": "zqhQMhnOW7Hy"
      }
    },
    {
      "cell_type": "code",
      "source": [
        "print(\"   *\")\n",
        "print(\"  ***\")\n",
        "print(\" *****\")\n",
        "print(\"*******\")"
      ],
      "metadata": {
        "colab": {
          "base_uri": "https://localhost:8080/"
        },
        "id": "bRb4RFrRW5eU",
        "outputId": "716f39a4-ab63-4e6c-d6bc-b3e2101d7171"
      },
      "execution_count": null,
      "outputs": [
        {
          "output_type": "stream",
          "name": "stdout",
          "text": [
            "   *\n",
            "  ***\n",
            " *****\n",
            "*******\n"
          ]
        }
      ]
    },
    {
      "cell_type": "markdown",
      "source": [
        "# 연습문제 8"
      ],
      "metadata": {
        "id": "FLcGGUArXCKx"
      }
    },
    {
      "cell_type": "code",
      "source": [
        "print(\"*******\")\n",
        "print(\" *****\")\n",
        "print(\"  ***\")\n",
        "print(\"   *\")"
      ],
      "metadata": {
        "colab": {
          "base_uri": "https://localhost:8080/"
        },
        "id": "AIsYBDZcXAHO",
        "outputId": "815e378e-c4c2-4ba1-b012-fef75754d18a"
      },
      "execution_count": null,
      "outputs": [
        {
          "output_type": "stream",
          "name": "stdout",
          "text": [
            "*******\n",
            " *****\n",
            "  ***\n",
            "   *\n"
          ]
        }
      ]
    },
    {
      "cell_type": "markdown",
      "source": [
        "# 연습문제 9"
      ],
      "metadata": {
        "id": "hHnkRuHiXQN5"
      }
    },
    {
      "cell_type": "code",
      "source": [
        "print(400 - 200)"
      ],
      "metadata": {
        "colab": {
          "base_uri": "https://localhost:8080/"
        },
        "id": "RLdMMU1HXL3j",
        "outputId": "5b231db1-e046-4baf-fb70-c1f8d3a6a02b"
      },
      "execution_count": null,
      "outputs": [
        {
          "output_type": "stream",
          "name": "stdout",
          "text": [
            "200\n"
          ]
        }
      ]
    },
    {
      "cell_type": "code",
      "source": [
        "print(45 * 89)"
      ],
      "metadata": {
        "colab": {
          "base_uri": "https://localhost:8080/"
        },
        "id": "xzT9WNKDXXbq",
        "outputId": "239e165d-089d-42f1-bc67-8b255d162b58"
      },
      "execution_count": null,
      "outputs": [
        {
          "output_type": "stream",
          "name": "stdout",
          "text": [
            "4005\n"
          ]
        }
      ]
    },
    {
      "cell_type": "code",
      "source": [
        "print(32 / 8)"
      ],
      "metadata": {
        "colab": {
          "base_uri": "https://localhost:8080/"
        },
        "id": "OTVyS9zoXYZE",
        "outputId": "d9e83a04-1da7-4dc5-b30a-3f326b72029a"
      },
      "execution_count": null,
      "outputs": [
        {
          "output_type": "stream",
          "name": "stdout",
          "text": [
            "4.0\n"
          ]
        }
      ]
    },
    {
      "cell_type": "code",
      "source": [
        "print(9 * 3)"
      ],
      "metadata": {
        "colab": {
          "base_uri": "https://localhost:8080/"
        },
        "id": "wPVMz-nWXYqO",
        "outputId": "9754bae0-544b-42e7-be5a-7f73d3f6203e"
      },
      "execution_count": null,
      "outputs": [
        {
          "output_type": "stream",
          "name": "stdout",
          "text": [
            "27\n"
          ]
        }
      ]
    },
    {
      "cell_type": "code",
      "source": [
        "print(9 ** 3)"
      ],
      "metadata": {
        "colab": {
          "base_uri": "https://localhost:8080/"
        },
        "id": "TwNrHjvzXaJb",
        "outputId": "99093b39-984a-4a90-b33d-7413686939d2"
      },
      "execution_count": null,
      "outputs": [
        {
          "output_type": "stream",
          "name": "stdout",
          "text": [
            "729\n"
          ]
        }
      ]
    },
    {
      "cell_type": "code",
      "source": [
        "print(9 / 3)"
      ],
      "metadata": {
        "colab": {
          "base_uri": "https://localhost:8080/"
        },
        "id": "SgRAPV35Xcsp",
        "outputId": "20ad8849-0e75-4068-e85b-a9bbbd7a4069"
      },
      "execution_count": null,
      "outputs": [
        {
          "output_type": "stream",
          "name": "stdout",
          "text": [
            "3.0\n"
          ]
        }
      ]
    },
    {
      "cell_type": "code",
      "source": [
        "print(9 // 3)"
      ],
      "metadata": {
        "colab": {
          "base_uri": "https://localhost:8080/"
        },
        "id": "Nn4O2PiCXdiO",
        "outputId": "424d7bb4-f0fa-45e8-f9ab-899194ce5588"
      },
      "execution_count": null,
      "outputs": [
        {
          "output_type": "stream",
          "name": "stdout",
          "text": [
            "3\n"
          ]
        }
      ]
    },
    {
      "cell_type": "code",
      "source": [
        "print(9 % 3)"
      ],
      "metadata": {
        "colab": {
          "base_uri": "https://localhost:8080/"
        },
        "id": "MjHTyrfdXezE",
        "outputId": "5115e04c-5ccb-4bdd-8a5d-c90dd9941e3e"
      },
      "execution_count": null,
      "outputs": [
        {
          "output_type": "stream",
          "name": "stdout",
          "text": [
            "0\n"
          ]
        }
      ]
    },
    {
      "cell_type": "markdown",
      "source": [
        "# 연습문제 10"
      ],
      "metadata": {
        "id": "PmxlYxtaXwRu"
      }
    },
    {
      "cell_type": "code",
      "source": [
        "# 1에서 10까지 자연수의 합\n",
        "print(1 + 2 + 3 + 4 + 5 + 6 + 7 + 8 + 9 + 10)"
      ],
      "metadata": {
        "colab": {
          "base_uri": "https://localhost:8080/"
        },
        "id": "gKYzcrJDXxF5",
        "outputId": "8bc05ce1-b8c7-4901-bb55-e7346f52be0e"
      },
      "execution_count": null,
      "outputs": [
        {
          "output_type": "stream",
          "name": "stdout",
          "text": [
            "55\n"
          ]
        }
      ]
    },
    {
      "cell_type": "code",
      "source": [
        "# 반지름의 길이가 5인 원의 둘레(원주율은 3.14로 두고 계산할 것)\n",
        "print(2 * 5 * 3.14)"
      ],
      "metadata": {
        "colab": {
          "base_uri": "https://localhost:8080/"
        },
        "id": "BpYgRQbyYt17",
        "outputId": "7ebbe8c1-6228-45da-f46d-eef5c80e53c3"
      },
      "execution_count": null,
      "outputs": [
        {
          "output_type": "stream",
          "name": "stdout",
          "text": [
            "31.400000000000002\n"
          ]
        }
      ]
    },
    {
      "cell_type": "code",
      "source": [
        "# 한변의 길이가 25인 정사각형의 둘레\n",
        "print(25 * 4)"
      ],
      "metadata": {
        "colab": {
          "base_uri": "https://localhost:8080/"
        },
        "id": "eo6f5cjhY4vW",
        "outputId": "f773521b-3707-4fdc-f67a-7fe914a46850"
      },
      "execution_count": null,
      "outputs": [
        {
          "output_type": "stream",
          "name": "stdout",
          "text": [
            "100\n"
          ]
        }
      ]
    },
    {
      "cell_type": "code",
      "source": [
        "# 한변의 길이가 25인 정사각형의 면적\n",
        "print(25 ** 2)"
      ],
      "metadata": {
        "colab": {
          "base_uri": "https://localhost:8080/"
        },
        "id": "nSD9TlsFY44S",
        "outputId": "5a661874-d196-4937-a982-dbc2fd530d91"
      },
      "execution_count": null,
      "outputs": [
        {
          "output_type": "stream",
          "name": "stdout",
          "text": [
            "625\n"
          ]
        }
      ]
    },
    {
      "cell_type": "code",
      "source": [
        "# 높이가 10이고 밑변이 30인 직사각형의 둘레\n",
        "print(10 * 2 + 30 * 2)"
      ],
      "metadata": {
        "colab": {
          "base_uri": "https://localhost:8080/"
        },
        "id": "-nw5OgBEY5Ad",
        "outputId": "1f2ad391-6d3c-4c0f-a53a-284e848e4333"
      },
      "execution_count": null,
      "outputs": [
        {
          "output_type": "stream",
          "name": "stdout",
          "text": [
            "80\n"
          ]
        }
      ]
    },
    {
      "cell_type": "code",
      "source": [
        "# 높이가 10이고 밑변이 30인 직사각형의 면적\n",
        "print(10 * 30)"
      ],
      "metadata": {
        "colab": {
          "base_uri": "https://localhost:8080/"
        },
        "id": "LMgehXolY5UT",
        "outputId": "0548ca78-6033-43b8-ae28-27fccc78bf54"
      },
      "execution_count": null,
      "outputs": [
        {
          "output_type": "stream",
          "name": "stdout",
          "text": [
            "300\n"
          ]
        }
      ]
    },
    {
      "cell_type": "markdown",
      "source": [
        "# 연습문제 11"
      ],
      "metadata": {
        "id": "XOdVSaS0YG-V"
      }
    },
    {
      "cell_type": "code",
      "source": [
        "print(80 * 1.5, \"km\") # (속력) * (시간)"
      ],
      "metadata": {
        "colab": {
          "base_uri": "https://localhost:8080/"
        },
        "id": "s69NL1JeYta-",
        "outputId": "86726403-5c0d-4a26-92d2-50383c41109f"
      },
      "execution_count": null,
      "outputs": [
        {
          "output_type": "stream",
          "name": "stdout",
          "text": [
            "120.0 km\n"
          ]
        }
      ]
    },
    {
      "cell_type": "markdown",
      "source": [
        "# 연습문제 12"
      ],
      "metadata": {
        "id": "dLJvZ717YKhp"
      }
    },
    {
      "cell_type": "code",
      "source": [
        "print(190 / 2, \"km/h\") # (거리) / (시간)"
      ],
      "metadata": {
        "id": "nPysjag9YOKq",
        "colab": {
          "base_uri": "https://localhost:8080/"
        },
        "outputId": "0512d70a-3a4d-4aa5-ec92-f90ecaf76e3e"
      },
      "execution_count": null,
      "outputs": [
        {
          "output_type": "stream",
          "name": "stdout",
          "text": [
            "95.0 km/h\n"
          ]
        }
      ]
    },
    {
      "cell_type": "markdown",
      "source": [
        "# 연습문제 13"
      ],
      "metadata": {
        "id": "cP-qfV5UYPak"
      }
    },
    {
      "cell_type": "code",
      "source": [
        "print(149597870 / 299792, \"초\") # (거리) / (속력)"
      ],
      "metadata": {
        "id": "6vlhqtsTYQp-",
        "colab": {
          "base_uri": "https://localhost:8080/"
        },
        "outputId": "83d37409-2fac-4321-bd8f-b0352df9f6af"
      },
      "execution_count": null,
      "outputs": [
        {
          "output_type": "stream",
          "name": "stdout",
          "text": [
            "499.00554384373163 초\n"
          ]
        }
      ]
    },
    {
      "cell_type": "markdown",
      "source": [
        "# 연습문제 14"
      ],
      "metadata": {
        "id": "FCBMi07sYcxr"
      }
    },
    {
      "cell_type": "code",
      "source": [
        "# n 팩토리얼 함수 정의\n",
        "def factorial(n):\n",
        "  if n == 0 or n == 1:\n",
        "    return 1\n",
        "  return n * factorial(n-1)"
      ],
      "metadata": {
        "id": "6FF19wW5YeB_"
      },
      "execution_count": null,
      "outputs": []
    },
    {
      "cell_type": "code",
      "source": [
        "print(factorial(3)) # 3!"
      ],
      "metadata": {
        "colab": {
          "base_uri": "https://localhost:8080/"
        },
        "id": "vphtXpkntYR-",
        "outputId": "112b643b-9edf-4616-dda1-40cfdb123b85"
      },
      "execution_count": null,
      "outputs": [
        {
          "output_type": "stream",
          "name": "stdout",
          "text": [
            "6\n"
          ]
        }
      ]
    },
    {
      "cell_type": "code",
      "source": [
        "print(factorial(5)) # 5!"
      ],
      "metadata": {
        "colab": {
          "base_uri": "https://localhost:8080/"
        },
        "id": "U3z91KdctpIN",
        "outputId": "eee48f6a-c405-48b7-a9f0-ff607b233eaa"
      },
      "execution_count": null,
      "outputs": [
        {
          "output_type": "stream",
          "name": "stdout",
          "text": [
            "120\n"
          ]
        }
      ]
    },
    {
      "cell_type": "code",
      "source": [
        "print(factorial(12)) # 12!"
      ],
      "metadata": {
        "colab": {
          "base_uri": "https://localhost:8080/"
        },
        "id": "h6e6X0rRtpVg",
        "outputId": "a3c58ff2-2e6b-466b-be23-18d10f9a6688"
      },
      "execution_count": null,
      "outputs": [
        {
          "output_type": "stream",
          "name": "stdout",
          "text": [
            "479001600\n"
          ]
        }
      ]
    },
    {
      "cell_type": "code",
      "source": [
        "print(factorial(20)) # 20!"
      ],
      "metadata": {
        "colab": {
          "base_uri": "https://localhost:8080/"
        },
        "id": "GgDQibM1tpau",
        "outputId": "5307d4ef-e762-4098-ed3a-8e401e6113da"
      },
      "execution_count": null,
      "outputs": [
        {
          "output_type": "stream",
          "name": "stdout",
          "text": [
            "2432902008176640000\n"
          ]
        }
      ]
    },
    {
      "cell_type": "markdown",
      "source": [
        "# 연습문제 15"
      ],
      "metadata": {
        "id": "2KfxjhfOYecE"
      }
    },
    {
      "cell_type": "code",
      "source": [
        "print(\"100과 200의 평균값 :\", (100 + 200) / 2)"
      ],
      "metadata": {
        "colab": {
          "base_uri": "https://localhost:8080/"
        },
        "id": "iS7uNfXJt2Kh",
        "outputId": "11c37674-c02b-437f-e18f-b31c919316c5"
      },
      "execution_count": null,
      "outputs": [
        {
          "output_type": "stream",
          "name": "stdout",
          "text": [
            "100과 200의 평균값 : 150.0\n"
          ]
        }
      ]
    },
    {
      "cell_type": "markdown",
      "source": [
        "# 연습문제 16"
      ],
      "metadata": {
        "id": "EE6sQbAVYfpm"
      }
    },
    {
      "cell_type": "code",
      "source": [
        "print('50 + 30 =', 50 + 30)\n",
        "print('50 - 30 =', 50 - 30)\n",
        "print('50 * 30 =', 50 * 30)\n",
        "print('50 / 30 =', 50 / 30)"
      ],
      "metadata": {
        "colab": {
          "base_uri": "https://localhost:8080/"
        },
        "id": "qoRe60qduLbU",
        "outputId": "72f01625-687e-409f-994b-31278d2bcfef"
      },
      "execution_count": null,
      "outputs": [
        {
          "output_type": "stream",
          "name": "stdout",
          "text": [
            "50 + 30 = 80\n",
            "50 - 30 = 20\n",
            "50 * 30 = 1500\n",
            "50 / 30 = 1.6666666666666667\n"
          ]
        }
      ]
    },
    {
      "cell_type": "markdown",
      "source": [
        "# 연습문제 17"
      ],
      "metadata": {
        "id": "zgRMUrNZYiXo"
      }
    },
    {
      "cell_type": "code",
      "source": [
        "# 사칙연산 함수 정의\n",
        "def operations(a, b):\n",
        "  print(f'{a} + {b} = {a + b}')\n",
        "  print(f'{a} - {b} = {a - b}')\n",
        "  print(f'{a} * {b} = {a * b}')\n",
        "  print(f'{a} / {b} = {a / b}')"
      ],
      "metadata": {
        "id": "Kz2mGcDTulmV"
      },
      "execution_count": null,
      "outputs": []
    },
    {
      "cell_type": "code",
      "source": [
        "operations(3, 6) # 3과 6"
      ],
      "metadata": {
        "id": "hJ-Uj5-EYjIY",
        "colab": {
          "base_uri": "https://localhost:8080/"
        },
        "outputId": "58681677-27b8-4310-bbc0-c642ae693b6d"
      },
      "execution_count": null,
      "outputs": [
        {
          "output_type": "stream",
          "name": "stdout",
          "text": [
            "3 + 6 = 9\n",
            "3 - 6 = -3\n",
            "3 * 6 = 18\n",
            "3 / 6 = 0.5\n"
          ]
        }
      ]
    },
    {
      "cell_type": "code",
      "source": [
        "operations(10, 30) # 10과 30"
      ],
      "metadata": {
        "colab": {
          "base_uri": "https://localhost:8080/"
        },
        "id": "IZ2JjXZVu4-g",
        "outputId": "76a22dcf-bad1-449f-a4ee-6248b70a34b6"
      },
      "execution_count": null,
      "outputs": [
        {
          "output_type": "stream",
          "name": "stdout",
          "text": [
            "10 + 30 = 40\n",
            "10 - 30 = -20\n",
            "10 * 30 = 300\n",
            "10 / 30 = 0.3333333333333333\n"
          ]
        }
      ]
    },
    {
      "cell_type": "code",
      "source": [
        "operations(8000, 2000) # 8000과 2000"
      ],
      "metadata": {
        "colab": {
          "base_uri": "https://localhost:8080/"
        },
        "id": "G9J5UEMdu5_u",
        "outputId": "177fea93-bb17-4b5e-9087-5c9e63e723bf"
      },
      "execution_count": null,
      "outputs": [
        {
          "output_type": "stream",
          "name": "stdout",
          "text": [
            "8000 + 2000 = 10000\n",
            "8000 - 2000 = 6000\n",
            "8000 * 2000 = 16000000\n",
            "8000 / 2000 = 4.0\n"
          ]
        }
      ]
    },
    {
      "cell_type": "code",
      "source": [
        "operations(12000, 2000) # 12000과 2000"
      ],
      "metadata": {
        "colab": {
          "base_uri": "https://localhost:8080/"
        },
        "id": "K3kRPE-fu6ex",
        "outputId": "7f8dbc89-77c5-4496-c752-85bd8e088df7"
      },
      "execution_count": null,
      "outputs": [
        {
          "output_type": "stream",
          "name": "stdout",
          "text": [
            "12000 + 2000 = 14000\n",
            "12000 - 2000 = 10000\n",
            "12000 * 2000 = 24000000\n",
            "12000 / 2000 = 6.0\n"
          ]
        }
      ]
    },
    {
      "cell_type": "code",
      "source": [
        "operations(80000000, 20000000) # 80000000과 20000000"
      ],
      "metadata": {
        "colab": {
          "base_uri": "https://localhost:8080/"
        },
        "id": "2U8ers7vvC3X",
        "outputId": "1a55d178-ed2a-4b8c-aee2-53f2bc5c0166"
      },
      "execution_count": null,
      "outputs": [
        {
          "output_type": "stream",
          "name": "stdout",
          "text": [
            "80000000 + 20000000 = 100000000\n",
            "80000000 - 20000000 = 60000000\n",
            "80000000 * 20000000 = 1600000000000000\n",
            "80000000 / 20000000 = 4.0\n"
          ]
        }
      ]
    }
  ]
}