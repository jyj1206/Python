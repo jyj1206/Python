{
  "nbformat": 4,
  "nbformat_minor": 0,
  "metadata": {
    "colab": {
      "provenance": [],
      "authorship_tag": "ABX9TyNnScIYEpFI3yQeEfpVrAKr",
      "include_colab_link": true
    },
    "kernelspec": {
      "name": "python3",
      "display_name": "Python 3"
    },
    "language_info": {
      "name": "python"
    }
  },
  "cells": [
    {
      "cell_type": "markdown",
      "metadata": {
        "id": "view-in-github",
        "colab_type": "text"
      },
      "source": [
        "<a href=\"https://colab.research.google.com/github/jyj1206/Python/blob/main/Python_everyday_problems.ipynb\" target=\"_parent\"><img src=\"https://colab.research.google.com/assets/colab-badge.svg\" alt=\"Open In Colab\"/></a>"
      ]
    },
    {
      "cell_type": "markdown",
      "source": [
        "# 중간고사"
      ],
      "metadata": {
        "id": "0UUGGuQPMNeB"
      }
    },
    {
      "cell_type": "markdown",
      "source": [
        "Day 0\n",
        "> 숫자를 입력 받아서 짝수인지 홀수인지 출력하는 프로그램을 작성하세요"
      ],
      "metadata": {
        "id": "0bV2s_fD5ot2"
      }
    },
    {
      "cell_type": "code",
      "source": [
        "n = int(input(\"정수를 입력하세요 : \"))\n",
        "if n % 2 == 0:\n",
        "    print(n, \"은(는) 짝수입니다\")\n",
        "else:\n",
        "    print(n, \"은(는) 홀수입니다\")"
      ],
      "metadata": {
        "colab": {
          "base_uri": "https://localhost:8080/"
        },
        "id": "fSC9SQNn5qF3",
        "outputId": "90888201-b958-4759-f7a6-41545e89d819"
      },
      "execution_count": null,
      "outputs": [
        {
          "output_type": "stream",
          "name": "stdout",
          "text": [
            "정수를 입력하세요 : 4\n",
            "4 은(는) 짝수입니다\n"
          ]
        }
      ]
    },
    {
      "cell_type": "markdown",
      "source": [
        "Day 1\n",
        "\n",
        "> 사용자로부터 두 개의 정수를 입력으로 받습니다.\n",
        "두 개 정수의 합, 정수의 차, 정수의 곱, 정수의 평균, 큰 수, 그리고 작은 수를 계산하여 화면에 출력하는 파이썬 프로그램을 작성하세요."
      ],
      "metadata": {
        "id": "jRAkreG4505_"
      }
    },
    {
      "cell_type": "code",
      "execution_count": null,
      "metadata": {
        "id": "W13BiwgN4fw1"
      },
      "outputs": [],
      "source": [
        "num1, num2 = map(int, input(\"두 정수를 입력하세요\").split())\n",
        "\n",
        "print(\"두 정수의 합\", num1 + num2)\n",
        "print(\"두 정수의 차\", num1 - num2 if num1 > num2 else num2 - num1)\n",
        "print(\"두 정수의 곱\", num1 * num2)\n",
        "print(\"두 정수의 평균\", (num1 + num2)/2)\n",
        "print(\"두 정수 중 큰 수\", num1 if num1 > num2 else num2)\n",
        "print(\"두 정수 중 작은수\", num2 if num1 < num2 else num1)"
      ]
    },
    {
      "cell_type": "markdown",
      "source": [
        "Day 2\n",
        "> 사용자로부터 4자리의 정수를 입력으로 받아서 자리수의 합을 계산하는 프로그램을 작성하세요.\n",
        "예를 들면 사용자가 1357을 입력한다면 1+3+5+7를 계산하고 그 결과를 출력하세요."
      ],
      "metadata": {
        "id": "nQZaEVoF5tQo"
      }
    },
    {
      "cell_type": "code",
      "source": [
        "n = int(input(\"4자리 수를 입력하세요.\"))\n",
        "\n",
        "total = n % 10\n",
        "n //= 10\n",
        "total += n % 10\n",
        "n //= 10\n",
        "total += n % 10\n",
        "n //= 10\n",
        "total += n % 10\n",
        "\n",
        "print(total)"
      ],
      "metadata": {
        "id": "l97wN8oX5Mv-"
      },
      "execution_count": null,
      "outputs": []
    },
    {
      "cell_type": "markdown",
      "source": [
        "Day 3\n",
        "> BMI(Body Mass Index)는 체중(Kg)을 신장(m)의 제곱으로 나눈 값이다.\n",
        "BMI는 체지방 축적을 잘 반영하기 때문에 비만도 판정에 많이 사용한다.\n",
        "BMI 값이 18.50보다 작을 때는 저체중,\n",
        "BMI 값이 18.50에서 24.99일 때는 표준,\n",
        "BMI 값이 25 이상이고 29.99이하 일 때는 과체중,\n",
        "BMI 값이 30 이상일때는 비만으로 판정한다.\n",
        "사용자로부터 신장과 체중을 입력으로 받아서 BMI 값을 출력하는 프로그램을 작성하세요."
      ],
      "metadata": {
        "id": "VWK3SR9hgWAd"
      }
    },
    {
      "cell_type": "code",
      "source": [
        "height = float(input(\"신장을 입력하세요(cm 단위) : \"))\n",
        "weight = float(input(\"체중을 입력하세요(kg 단위) : \"))\n",
        "BMI = weight / ((height/100) ** 2)\n",
        "if BMI >= 30:\n",
        "  print(\"비만\")\n",
        "elif BMI >= 25:\n",
        "  print(\"과체중\")\n",
        "elif BMI >= 18.5:\n",
        "  print(\"표준\")\n",
        "else:\n",
        "  print(\"저체중\")"
      ],
      "metadata": {
        "id": "JTqosEPO6Ri_"
      },
      "execution_count": null,
      "outputs": []
    },
    {
      "cell_type": "markdown",
      "source": [
        "Day 4\n",
        "> 사용자로부터 2개의 정수를 입력으로 받습니다.\n",
        "두 수가 같으면 1을, 다르면 -1을 출력하는 프로그램을 작성하세요."
      ],
      "metadata": {
        "id": "kT34547hNbzX"
      }
    },
    {
      "cell_type": "code",
      "source": [
        "a, b = map(int, input(\"두 정수를 입력하세요 : \").split())\n",
        "\n",
        "if a==b:\n",
        "  print(\"1\")\n",
        "else:\n",
        "  print(\"-1\")"
      ],
      "metadata": {
        "id": "20fAcvtENfDZ"
      },
      "execution_count": null,
      "outputs": []
    },
    {
      "cell_type": "markdown",
      "source": [
        "Day 5\n",
        "> 각(angle)에서 0도 초과 90도 미만은 예각, 90도는 직각, 90도 초과 180도 미만은 둔각 180도는 평각으로 분류합니다.\n",
        "사용자가 각을 입력했을 때, 예각이면 1, 직각이면 2, 둔각이면 3, 평각이면 4를 출력하는 프로그램을 작성하세요.\n",
        "사용자의 입력은 0부터 180이라고 가정하자."
      ],
      "metadata": {
        "id": "IFVPa9b9SXSZ"
      }
    },
    {
      "cell_type": "code",
      "source": [
        "angle = int(input(\"각을 입력하세요 : \"))\n",
        "if angle == 180:\n",
        "  print(\"평각\")\n",
        "elif angle > 90:\n",
        "  print(\"둔각\")\n",
        "elif angle == 90:\n",
        "  print(\"직각\")\n",
        "else:\n",
        "  print(\"예각\")"
      ],
      "metadata": {
        "id": "43i6Et7wSWna"
      },
      "execution_count": null,
      "outputs": []
    },
    {
      "cell_type": "markdown",
      "source": [
        "Day 6\n",
        "> 사용자로부터 2개의 정수를 입력으로 받습니다.\n",
        "각각의 정수를 num1과 num2라고 한다.\n",
        "num1이 num2의 배수일 경우에는 \"num1은 num2의 배수입니다.\"라고 출력한다.\n",
        "num1이 num2의 배수가 아닐 경우에는 \"num1은 num2의 배수가 아닙니다.\"라고 출력한다."
      ],
      "metadata": {
        "id": "IJah6lDMf34s"
      }
    },
    {
      "cell_type": "code",
      "source": [
        "num1, num2 = map(int, input(\"2개의 정수를 입력하세요(단, 2번째 입력하는 수는 0이 아님) : \").split())\n",
        "if (num1 % num2 == 0) :\n",
        "    print(f\"{num1}은(는) {num2}의 배수입니다.\")\n",
        "else :\n",
        "    print(f\"{num1}은(는) {num2}의 배수가 아닙니다.\")"
      ],
      "metadata": {
        "id": "ns07owgnf3ej"
      },
      "execution_count": null,
      "outputs": []
    },
    {
      "cell_type": "markdown",
      "source": [
        "Day 7\n",
        "> 새로 생 피자 가게는 피자를 일곱 조각으로 잘라 줍니다.\n",
        "사용자로부터 피자를 나눠 먹을 사람의 수 n을 입력으로 받는다.\n",
        "모든 사람이 피자를 한 조각 이상 먹기 위해 필요한 피자의 수를 계산하여 출력하는 프로그램을 작성하세요."
      ],
      "metadata": {
        "id": "WmFvmPIzpXyh"
      }
    },
    {
      "cell_type": "code",
      "source": [
        "from math import ceil\n",
        "n = int(input(\"피자를 나눠 먹을 사람의 수 : \"))\n",
        "print(ceil(n/7))"
      ],
      "metadata": {
        "id": "3Vo6gYM-gTvY"
      },
      "execution_count": null,
      "outputs": []
    },
    {
      "cell_type": "markdown",
      "source": [
        "Day 8\n",
        "> 춘식이는 추운 겨울에도 아이스 아메리카노만 마시는 소위 말하는 얼죽아입니다.\n",
        "아이스 아메리카노는 한 잔에 4,500원입니다.\n",
        "춘식이가 가지고 있는 돈 money를 사용자로부터 입력으로 받습니다.\n",
        "춘식이가 최대로 마실 수 있는 아이스 아메리카노의 잔 수와 남는 돈을 순서대로 담은 리스트를 출력하는 프로그램을 작성하세요."
      ],
      "metadata": {
        "id": "KA_GnQVfCOGJ"
      }
    },
    {
      "cell_type": "code",
      "source": [
        "money = int(input(\"춘식이가 가지고 있는 돈을 입력하세요 : \"))\n",
        "print([money // 4500, money % 4500])"
      ],
      "metadata": {
        "id": "xVp9-JAkCPIU"
      },
      "execution_count": null,
      "outputs": []
    },
    {
      "cell_type": "markdown",
      "source": [
        "Day 9\n",
        "> 정수를 담은 임의의 리스트 num_list가 있습니다.\n",
        "가장 첫 번째 원소를 1번 원소라고 할 때,\n",
        "홀수 번째 원소들의 합과 짝수 번째 원소들의 합을 계산합니다.\n",
        "두 합 중에서 큰 값을 출력하는 프로그램을 작성하세요."
      ],
      "metadata": {
        "id": "lgc8R00wo9WX"
      }
    },
    {
      "cell_type": "code",
      "source": [
        "num_list = list(range(1, 11)) # 임의의 리스트\n",
        "\n",
        "# 홀수번째 원소 합\n",
        "odd_sum = sum([num_list[i] for i in range(1, len(num_list), 2)])\n",
        "\n",
        "# 짝수번째 원소 합\n",
        "even_sum = sum([num_list[i] for i in range(0, len(num_list), 2)])\n",
        "\n",
        "# 두 합 중 큰 값 출력\n",
        "print(max(odd_sum, even_sum))"
      ],
      "metadata": {
        "id": "Vlb8tbMPo8a4"
      },
      "execution_count": null,
      "outputs": []
    },
    {
      "cell_type": "markdown",
      "source": [
        "Day 10\n",
        "> 10이하의 자연수에서 3 또는 5의 배수는, 3, 5, 6, 9이고 이 숫자들의 합은 23이다.\n",
        "1000이하의 자연수에서 3 또는 5의 배수인 숫자들의 합을 구하는 프로그램을 작성하세요."
      ],
      "metadata": {
        "id": "2f_PapHdlUrF"
      }
    },
    {
      "cell_type": "code",
      "source": [
        "total = 0\n",
        "for n in range(1, 1001):\n",
        "  if n % 3 == 0 or n % 5 == 0:\n",
        "    total += n\n",
        "print(total)"
      ],
      "metadata": {
        "id": "XfBBS68Plgwr"
      },
      "execution_count": null,
      "outputs": []
    },
    {
      "cell_type": "markdown",
      "source": [
        "Day 11\n",
        "> 피보나치 수열(Fibonacci sequence)은 각 항이 앞의 두 항의 합으로 이루어진 수열입니다.\n",
        "사용자로부터 양의 정수 n을 입력으로 받아서 피보나치 수열의 n번째 항의 값을 출력하는 프로그램을 작성하세요.\n",
        "단, 반복문을 이용하여 프로그램을 작성하세요.\n",
        "피보나치 수열에 대한 자세한 사항은 아래의 내용을 참고하세요.\n",
        "\n",
        ">피보나치 수열의 정의:\n",
        "   - 첫 번째 항: 0\n",
        "   - 두 번째 항: 1\n",
        "   - 세 번째 항부터는 앞의 두 항의 합으로 계산됩니다.\n",
        "\n",
        "> 즉, 피보나치 수열은 다음과 같습니다.\n",
        "0, 1, 1, 2, 3, 5, 8, 13, 21, 34, 55, 89, 144, ...\n",
        ">\n",
        "> - 첫 번째 항 F(0)=0\n",
        "> - 두 번째 항 F(1)=1\n",
        "> - 세 번째 항 F(2)=F(1)+F(0)=1+0=1\n",
        "> - 네 번째 항 F(3)=F(2)+F(1)=1+1=2\n",
        "> - 다섯 번째 항 F(4)=F(3)+F(2)=2+1=3\n",
        "\n",
        ">피보나치 수열을 수식으로 나타내면 다음과 같습니다.\n",
        ">- F(n)=F(n−1)+F(n−2) (단, n≥2)"
      ],
      "metadata": {
        "id": "h_ic3LnrW4VG"
      }
    },
    {
      "cell_type": "code",
      "source": [
        "n = int(input(\"피보나치 수의 몇 번째 항인지 입력하세요.(단 n은 1부터 시작) : \"))\n",
        "fibo = [0] * (n + 1)\n",
        "fibo[2] = 1\n",
        "if n == 1 or  n == 2:\n",
        "  print(fibo[n])\n",
        "else:\n",
        "  for i in range(3, n + 1):\n",
        "    fibo[i] = fibo[i - 1] + fibo[i - 2]\n",
        "  print(fibo[n])"
      ],
      "metadata": {
        "id": "cplSC6sylmSo"
      },
      "execution_count": null,
      "outputs": []
    },
    {
      "cell_type": "markdown",
      "source": [
        "Day 12\n",
        "> 공백(white space)을 다수 포함한 문자열이 주어졌다.\n",
        "공백을 모두 제거한 새로운 문자열을 만들어 보고자 한다.\n",
        "원래 문자열과 새로운 문자열을 출력하는 프로그램을 작성하세요."
      ],
      "metadata": {
        "id": "BwObDDipSrIt"
      }
    },
    {
      "cell_type": "code",
      "source": [
        "s = input(\"공백을 다수 포함한 문자열 입력 : \")\n",
        "print(\"원래 문자열 :\", s)\n",
        "print(\"새로운 문자열 :\", s.replace(' ', ''))"
      ],
      "metadata": {
        "id": "SWXGx1yUZSj0",
        "colab": {
          "base_uri": "https://localhost:8080/"
        },
        "outputId": "0a824397-7f1b-4d20-95bf-2c4ce6e71e78"
      },
      "execution_count": null,
      "outputs": [
        {
          "output_type": "stream",
          "name": "stdout",
          "text": [
            "공백을 다수 포함한 문자열 입력 : 아 아 아아\n",
            "원래 문자열 : 아 아 아아\n",
            "새로운 문자열 : 아아아아\n"
          ]
        }
      ]
    },
    {
      "cell_type": "markdown",
      "source": [
        "Day 13\n",
        "> <이상한 변호사 우영우?를 보셨나요?\n",
        "주인공 우영우는 자기 소개를 할 때,\n",
        "\"똑바로 읽어도 거꾸로 읽어도 우영우입니다.\n",
        "기러기, 인도인, 토마토, 스위스, 별똥별, 우영우\"라고 말합니다.\n",
        "똑바로 읽어도 거꾸로 읽어도 같은 문자열을 회문(回文)이라고 합니다.\n",
        "영어로는 palindrome 이라고 합니다.\n",
        "사용자로부터 입력을 받은 문자열이 회문(回文) / palindrome 인지 아닌지 판별하는 프로그램을 작성하세요."
      ],
      "metadata": {
        "id": "Oq_71aPLdbuR"
      }
    },
    {
      "cell_type": "code",
      "source": [
        "sentence = input(\"문자열을 입력하세요 : \")\n",
        "if sentence == sentence[::-1]:\n",
        "  print(\"회문입니다.\")\n",
        "else:\n",
        "  print(\"회문이 아닙니다.\")"
      ],
      "metadata": {
        "colab": {
          "base_uri": "https://localhost:8080/"
        },
        "id": "Sg2XY34Qdeam",
        "outputId": "e57eb0a8-8616-4579-adf7-9e17f535f476"
      },
      "execution_count": null,
      "outputs": [
        {
          "output_type": "stream",
          "name": "stdout",
          "text": [
            "문자열을 입력하세요 : 토마토\n",
            "회문입니다.\n"
          ]
        }
      ]
    },
    {
      "cell_type": "markdown",
      "source": [
        "Day 14\n",
        "> 사용자로부터 두 개의 문자열을 입력으로 받습니다.\n",
        "첫 번째 문자열 속에 두 번째 문자열이 존재하는지 여부를 판별하는 프로그램을 작성하세요."
      ],
      "metadata": {
        "id": "QC4eh0vbdWJS"
      }
    },
    {
      "cell_type": "code",
      "source": [
        "first_sentence = input(\"첫 번째 문자열을 입력하세요 : \")\n",
        "second_sentence = input(\"두 번째 문자열을 입력하세요 : \")\n",
        "if second_sentence in first_sentence:\n",
        "  print(\"첫 번째 문자열 속에 두 번째 문자열이 존재합니다.\")\n",
        "else:\n",
        "  print(\"첫 번째 문자열 속에 두 번째 문자열이 존재하지 않습니다.\")"
      ],
      "metadata": {
        "colab": {
          "base_uri": "https://localhost:8080/"
        },
        "id": "EwqvEsfzdXZ1",
        "outputId": "7720b81f-b57b-46b4-c3f4-53042b419c8b"
      },
      "execution_count": null,
      "outputs": [
        {
          "output_type": "stream",
          "name": "stdout",
          "text": [
            "첫 번째 문자열을 입력하세요 : 사과 많이 많이\n",
            "두 번째 문자열을 입력하세요 :  많이\n",
            "첫 번째 문자열 속에 두 번째 문자열이 존재합니다.\n"
          ]
        }
      ]
    },
    {
      "cell_type": "markdown",
      "source": [
        "Day 15\n",
        "> \"에라토스테네스(Eratosthenes)의 체\"가 무엇일까요?\n",
        "소수(Prime Number)를 구하는 방법 중에 하나입니다.\n",
        "자세한 내용은 아래의 링크를 참조하시기 바랍니다.\n",
        "\"에라토스테네스의 체\"를 활용하여, 1부터 10,000까지의 소수를 구해볼까요?\n",
        "총 소수의 갯수와, 소수들을 나열하는 프로그램을 작성하세요."
      ],
      "metadata": {
        "id": "CbHy20Du5i_q"
      }
    },
    {
      "cell_type": "code",
      "source": [
        "is_prime_list = [False, False] + [True] * 9999\n",
        "\n",
        "for i in range(2, int(len(is_prime_list) ** 0.5) + 1):\n",
        "  if is_prime_list[i]:\n",
        "    for j in range(i + i, len(is_prime_list),i):\n",
        "      is_prime_list[j] = False\n",
        "\n",
        "print(sum(is_prime_list))\n",
        "print([i for i, is_prime in enumerate(is_prime_list) if is_prime == True])"
      ],
      "metadata": {
        "colab": {
          "base_uri": "https://localhost:8080/"
        },
        "id": "vjInJewB5jwZ",
        "outputId": "d062ab3f-3707-414a-8317-1da79fd25e93"
      },
      "execution_count": null,
      "outputs": [
        {
          "output_type": "stream",
          "name": "stdout",
          "text": [
            "1229\n",
            "[2, 3, 5, 7, 11, 13, 17, 19, 23, 29, 31, 37, 41, 43, 47, 53, 59, 61, 67, 71, 73, 79, 83, 89, 97, 101, 103, 107, 109, 113, 127, 131, 137, 139, 149, 151, 157, 163, 167, 173, 179, 181, 191, 193, 197, 199, 211, 223, 227, 229, 233, 239, 241, 251, 257, 263, 269, 271, 277, 281, 283, 293, 307, 311, 313, 317, 331, 337, 347, 349, 353, 359, 367, 373, 379, 383, 389, 397, 401, 409, 419, 421, 431, 433, 439, 443, 449, 457, 461, 463, 467, 479, 487, 491, 499, 503, 509, 521, 523, 541, 547, 557, 563, 569, 571, 577, 587, 593, 599, 601, 607, 613, 617, 619, 631, 641, 643, 647, 653, 659, 661, 673, 677, 683, 691, 701, 709, 719, 727, 733, 739, 743, 751, 757, 761, 769, 773, 787, 797, 809, 811, 821, 823, 827, 829, 839, 853, 857, 859, 863, 877, 881, 883, 887, 907, 911, 919, 929, 937, 941, 947, 953, 967, 971, 977, 983, 991, 997, 1009, 1013, 1019, 1021, 1031, 1033, 1039, 1049, 1051, 1061, 1063, 1069, 1087, 1091, 1093, 1097, 1103, 1109, 1117, 1123, 1129, 1151, 1153, 1163, 1171, 1181, 1187, 1193, 1201, 1213, 1217, 1223, 1229, 1231, 1237, 1249, 1259, 1277, 1279, 1283, 1289, 1291, 1297, 1301, 1303, 1307, 1319, 1321, 1327, 1361, 1367, 1373, 1381, 1399, 1409, 1423, 1427, 1429, 1433, 1439, 1447, 1451, 1453, 1459, 1471, 1481, 1483, 1487, 1489, 1493, 1499, 1511, 1523, 1531, 1543, 1549, 1553, 1559, 1567, 1571, 1579, 1583, 1597, 1601, 1607, 1609, 1613, 1619, 1621, 1627, 1637, 1657, 1663, 1667, 1669, 1693, 1697, 1699, 1709, 1721, 1723, 1733, 1741, 1747, 1753, 1759, 1777, 1783, 1787, 1789, 1801, 1811, 1823, 1831, 1847, 1861, 1867, 1871, 1873, 1877, 1879, 1889, 1901, 1907, 1913, 1931, 1933, 1949, 1951, 1973, 1979, 1987, 1993, 1997, 1999, 2003, 2011, 2017, 2027, 2029, 2039, 2053, 2063, 2069, 2081, 2083, 2087, 2089, 2099, 2111, 2113, 2129, 2131, 2137, 2141, 2143, 2153, 2161, 2179, 2203, 2207, 2213, 2221, 2237, 2239, 2243, 2251, 2267, 2269, 2273, 2281, 2287, 2293, 2297, 2309, 2311, 2333, 2339, 2341, 2347, 2351, 2357, 2371, 2377, 2381, 2383, 2389, 2393, 2399, 2411, 2417, 2423, 2437, 2441, 2447, 2459, 2467, 2473, 2477, 2503, 2521, 2531, 2539, 2543, 2549, 2551, 2557, 2579, 2591, 2593, 2609, 2617, 2621, 2633, 2647, 2657, 2659, 2663, 2671, 2677, 2683, 2687, 2689, 2693, 2699, 2707, 2711, 2713, 2719, 2729, 2731, 2741, 2749, 2753, 2767, 2777, 2789, 2791, 2797, 2801, 2803, 2819, 2833, 2837, 2843, 2851, 2857, 2861, 2879, 2887, 2897, 2903, 2909, 2917, 2927, 2939, 2953, 2957, 2963, 2969, 2971, 2999, 3001, 3011, 3019, 3023, 3037, 3041, 3049, 3061, 3067, 3079, 3083, 3089, 3109, 3119, 3121, 3137, 3163, 3167, 3169, 3181, 3187, 3191, 3203, 3209, 3217, 3221, 3229, 3251, 3253, 3257, 3259, 3271, 3299, 3301, 3307, 3313, 3319, 3323, 3329, 3331, 3343, 3347, 3359, 3361, 3371, 3373, 3389, 3391, 3407, 3413, 3433, 3449, 3457, 3461, 3463, 3467, 3469, 3491, 3499, 3511, 3517, 3527, 3529, 3533, 3539, 3541, 3547, 3557, 3559, 3571, 3581, 3583, 3593, 3607, 3613, 3617, 3623, 3631, 3637, 3643, 3659, 3671, 3673, 3677, 3691, 3697, 3701, 3709, 3719, 3727, 3733, 3739, 3761, 3767, 3769, 3779, 3793, 3797, 3803, 3821, 3823, 3833, 3847, 3851, 3853, 3863, 3877, 3881, 3889, 3907, 3911, 3917, 3919, 3923, 3929, 3931, 3943, 3947, 3967, 3989, 4001, 4003, 4007, 4013, 4019, 4021, 4027, 4049, 4051, 4057, 4073, 4079, 4091, 4093, 4099, 4111, 4127, 4129, 4133, 4139, 4153, 4157, 4159, 4177, 4201, 4211, 4217, 4219, 4229, 4231, 4241, 4243, 4253, 4259, 4261, 4271, 4273, 4283, 4289, 4297, 4327, 4337, 4339, 4349, 4357, 4363, 4373, 4391, 4397, 4409, 4421, 4423, 4441, 4447, 4451, 4457, 4463, 4481, 4483, 4493, 4507, 4513, 4517, 4519, 4523, 4547, 4549, 4561, 4567, 4583, 4591, 4597, 4603, 4621, 4637, 4639, 4643, 4649, 4651, 4657, 4663, 4673, 4679, 4691, 4703, 4721, 4723, 4729, 4733, 4751, 4759, 4783, 4787, 4789, 4793, 4799, 4801, 4813, 4817, 4831, 4861, 4871, 4877, 4889, 4903, 4909, 4919, 4931, 4933, 4937, 4943, 4951, 4957, 4967, 4969, 4973, 4987, 4993, 4999, 5003, 5009, 5011, 5021, 5023, 5039, 5051, 5059, 5077, 5081, 5087, 5099, 5101, 5107, 5113, 5119, 5147, 5153, 5167, 5171, 5179, 5189, 5197, 5209, 5227, 5231, 5233, 5237, 5261, 5273, 5279, 5281, 5297, 5303, 5309, 5323, 5333, 5347, 5351, 5381, 5387, 5393, 5399, 5407, 5413, 5417, 5419, 5431, 5437, 5441, 5443, 5449, 5471, 5477, 5479, 5483, 5501, 5503, 5507, 5519, 5521, 5527, 5531, 5557, 5563, 5569, 5573, 5581, 5591, 5623, 5639, 5641, 5647, 5651, 5653, 5657, 5659, 5669, 5683, 5689, 5693, 5701, 5711, 5717, 5737, 5741, 5743, 5749, 5779, 5783, 5791, 5801, 5807, 5813, 5821, 5827, 5839, 5843, 5849, 5851, 5857, 5861, 5867, 5869, 5879, 5881, 5897, 5903, 5923, 5927, 5939, 5953, 5981, 5987, 6007, 6011, 6029, 6037, 6043, 6047, 6053, 6067, 6073, 6079, 6089, 6091, 6101, 6113, 6121, 6131, 6133, 6143, 6151, 6163, 6173, 6197, 6199, 6203, 6211, 6217, 6221, 6229, 6247, 6257, 6263, 6269, 6271, 6277, 6287, 6299, 6301, 6311, 6317, 6323, 6329, 6337, 6343, 6353, 6359, 6361, 6367, 6373, 6379, 6389, 6397, 6421, 6427, 6449, 6451, 6469, 6473, 6481, 6491, 6521, 6529, 6547, 6551, 6553, 6563, 6569, 6571, 6577, 6581, 6599, 6607, 6619, 6637, 6653, 6659, 6661, 6673, 6679, 6689, 6691, 6701, 6703, 6709, 6719, 6733, 6737, 6761, 6763, 6779, 6781, 6791, 6793, 6803, 6823, 6827, 6829, 6833, 6841, 6857, 6863, 6869, 6871, 6883, 6899, 6907, 6911, 6917, 6947, 6949, 6959, 6961, 6967, 6971, 6977, 6983, 6991, 6997, 7001, 7013, 7019, 7027, 7039, 7043, 7057, 7069, 7079, 7103, 7109, 7121, 7127, 7129, 7151, 7159, 7177, 7187, 7193, 7207, 7211, 7213, 7219, 7229, 7237, 7243, 7247, 7253, 7283, 7297, 7307, 7309, 7321, 7331, 7333, 7349, 7351, 7369, 7393, 7411, 7417, 7433, 7451, 7457, 7459, 7477, 7481, 7487, 7489, 7499, 7507, 7517, 7523, 7529, 7537, 7541, 7547, 7549, 7559, 7561, 7573, 7577, 7583, 7589, 7591, 7603, 7607, 7621, 7639, 7643, 7649, 7669, 7673, 7681, 7687, 7691, 7699, 7703, 7717, 7723, 7727, 7741, 7753, 7757, 7759, 7789, 7793, 7817, 7823, 7829, 7841, 7853, 7867, 7873, 7877, 7879, 7883, 7901, 7907, 7919, 7927, 7933, 7937, 7949, 7951, 7963, 7993, 8009, 8011, 8017, 8039, 8053, 8059, 8069, 8081, 8087, 8089, 8093, 8101, 8111, 8117, 8123, 8147, 8161, 8167, 8171, 8179, 8191, 8209, 8219, 8221, 8231, 8233, 8237, 8243, 8263, 8269, 8273, 8287, 8291, 8293, 8297, 8311, 8317, 8329, 8353, 8363, 8369, 8377, 8387, 8389, 8419, 8423, 8429, 8431, 8443, 8447, 8461, 8467, 8501, 8513, 8521, 8527, 8537, 8539, 8543, 8563, 8573, 8581, 8597, 8599, 8609, 8623, 8627, 8629, 8641, 8647, 8663, 8669, 8677, 8681, 8689, 8693, 8699, 8707, 8713, 8719, 8731, 8737, 8741, 8747, 8753, 8761, 8779, 8783, 8803, 8807, 8819, 8821, 8831, 8837, 8839, 8849, 8861, 8863, 8867, 8887, 8893, 8923, 8929, 8933, 8941, 8951, 8963, 8969, 8971, 8999, 9001, 9007, 9011, 9013, 9029, 9041, 9043, 9049, 9059, 9067, 9091, 9103, 9109, 9127, 9133, 9137, 9151, 9157, 9161, 9173, 9181, 9187, 9199, 9203, 9209, 9221, 9227, 9239, 9241, 9257, 9277, 9281, 9283, 9293, 9311, 9319, 9323, 9337, 9341, 9343, 9349, 9371, 9377, 9391, 9397, 9403, 9413, 9419, 9421, 9431, 9433, 9437, 9439, 9461, 9463, 9467, 9473, 9479, 9491, 9497, 9511, 9521, 9533, 9539, 9547, 9551, 9587, 9601, 9613, 9619, 9623, 9629, 9631, 9643, 9649, 9661, 9677, 9679, 9689, 9697, 9719, 9721, 9733, 9739, 9743, 9749, 9767, 9769, 9781, 9787, 9791, 9803, 9811, 9817, 9829, 9833, 9839, 9851, 9857, 9859, 9871, 9883, 9887, 9901, 9907, 9923, 9929, 9931, 9941, 9949, 9967, 9973]\n"
          ]
        }
      ]
    },
    {
      "cell_type": "markdown",
      "source": [
        "Day 16\n",
        "> 함수의 파라미터로 두 개의 문자열을 받습니다.\n",
        "두 개의 문자열이 anagram이면 True를 반환하고, 아니면 False를 반환합니다.\n",
        "\n",
        "> 사용자로부터 두 개의 문자열을 받아서, anagram 여부를 판별하는 프로그램을 작성하세요.\n",
        "\n",
        "> Anagram의 예를 들면 다음과 같습니다.\n",
        "1. listen - silent\n",
        "2. race - care\n",
        "3. eat - tea"
      ],
      "metadata": {
        "id": "w09i6fV7XLQ5"
      }
    },
    {
      "cell_type": "code",
      "source": [
        "def is_anagram(str1, str2):\n",
        "  # 대 소문자 구분 없음\n",
        "  str1 = str1.lower()\n",
        "  str2 = str2.lower()\n",
        "\n",
        "  # 공백 제거\n",
        "  str1 = str1.replace(\" \", \"\")\n",
        "  str2 = str2.replace(\" \", \"\")\n",
        "\n",
        "  # 두 문자열의 길이가 같지 않으면\n",
        "  if len(str1) != len(str2):\n",
        "    return False\n",
        "  else :\n",
        "    alpa = [0] * 26\n",
        "\n",
        "    # 첫번째 문자열에 각 알파벳 갯수 저장\n",
        "    for ch in str1:\n",
        "      alpa[ord(ch) - ord('a')] += 1\n",
        "\n",
        "    # 두번째 문자열과 비교\n",
        "    for ch in str2:\n",
        "      index = ord(ch) - ord('a')\n",
        "      if alpa[index] <= 0:\n",
        "        return False\n",
        "      alpa[index] -= 1\n",
        "\n",
        "    return True\n",
        "\n",
        "string1 = input(\"첫 번째 문자열 : \")\n",
        "string2 = input(\"첫 번째 문자열 : \")\n",
        "\n",
        "if is_anagram(string1, string2):\n",
        "  print(\"두 문자열은 Anagram입니다.\")\n",
        "else:\n",
        "  print(\"두 문자열은 Anagram이 아닙니다.\")"
      ],
      "metadata": {
        "colab": {
          "base_uri": "https://localhost:8080/"
        },
        "id": "AK3H6eGWXN6L",
        "outputId": "4680587d-c98b-45ab-ab94-cd5200efd4cf"
      },
      "execution_count": null,
      "outputs": [
        {
          "output_type": "stream",
          "name": "stdout",
          "text": [
            "첫 번째 문자열 : Moon starer\n",
            "첫 번째 문자열 : Astronomer\n",
            "두 문자열은 Anagram입니다.\n"
          ]
        }
      ]
    },
    {
      "cell_type": "markdown",
      "source": [
        "Day 17\n",
        "> 함수를 만들어볼까요?\n",
        "매개변수로 문자열을 받습니다.\n",
        "문자열에 포함된 모음을 제거한 새로운 문자열을 반환합니다.\n",
        "문자열은 영어 기준입니다.\n",
        "\n",
        "> 사용자로부터 입력으로 받은 문자열을 인자로 사용하여 위의 함수를 호출합니다.\n",
        "직접 만든 함수가 제대로 동작하는지 테스트 결과를 살펴보세요."
      ],
      "metadata": {
        "id": "V1xa3o-GFt0v"
      }
    },
    {
      "cell_type": "code",
      "source": [
        "def remove_vowels(s):\n",
        "  vowels = ['a', 'e', 'i', 'o', 'u', 'A', 'E', 'I', 'O', 'U']\n",
        "\n",
        "  new_s = ''\n",
        "  for ch in s:\n",
        "    if ch in vowels:\n",
        "      continue\n",
        "    new_s += ch\n",
        "  return new_s\n",
        "\n",
        "str_ = input(\"문자열을 입력하세요 : \")\n",
        "print(f\"모음을 제거한 새로운 문자열은 {remove_vowels(str_)} 입니다.\")"
      ],
      "metadata": {
        "colab": {
          "base_uri": "https://localhost:8080/"
        },
        "id": "wwtBlEB9FwJC",
        "outputId": "2f20232f-981d-481f-f0ae-5a02b3073a5c"
      },
      "execution_count": null,
      "outputs": [
        {
          "output_type": "stream",
          "name": "stdout",
          "text": [
            "문자열을 입력하세요 : string\n",
            "모음을 제거한 새로운 문자열은 strng 입니다.\n"
          ]
        }
      ]
    },
    {
      "cell_type": "markdown",
      "source": [
        "Day 18\n",
        "> 함수를 만들어볼까요?\n",
        "매개변수로 받은 문자열에서 가장 긴 단어를 찾아내서 반환해주는 함수입니다.\n",
        "\n",
        "> 사용자로부터 한 문장(영어)을 문자열로 입력으로 받습니다.\n",
        "그 문자열을 인자로 사용하여 만든 함수를 호출합니다.\n",
        "본인이 만든 함수가 제대로 동작하는지 테스트해볼까요?"
      ],
      "metadata": {
        "id": "nqw57UJOO6hk"
      }
    },
    {
      "cell_type": "code",
      "source": [
        "def longest_word(s):\n",
        "  words = s.split()\n",
        "  longest = ''\n",
        "  for word in words:\n",
        "    if len(word) > len(longest):\n",
        "      longest = word\n",
        "  return longest\n",
        "\n",
        "sentence = input(\"영어 문장을 입력하세요 : \")\n",
        "print(f\"문자열에서 가장 긴 단어는 {longest_word(sentence)}입니다.\")"
      ],
      "metadata": {
        "colab": {
          "base_uri": "https://localhost:8080/"
        },
        "id": "AAxCDfNHO84s",
        "outputId": "413bb3ee-68a2-48ef-a4c8-c74b4a8abb5a"
      },
      "execution_count": null,
      "outputs": [
        {
          "output_type": "stream",
          "name": "stdout",
          "text": [
            "영어 문장을 입력하세요 : I love you\n",
            "문자열에서 가장 긴 단어는 love입니다.\n"
          ]
        }
      ]
    },
    {
      "cell_type": "markdown",
      "source": [
        "Day 19\n",
        "> 회문문자(palindrome)을 판단하는 파이썬의 간결한 표현은 다음과 같습니다.\n",
        "```python\n",
        "is_palindrome = lambda s: s == s[::-1]\n",
        "```\n",
        ">  회문문자가 있다면 회문숫자가 있겠죠?\n",
        "> 회문숫자는 앞뒤가 대칭인 숫자, 예를 들면, 9009입니다.\n",
        "> 9009는 두 자리 숫자 두 개의 곱(91*99)을 통해서 만들 수 있는 가장 큰 회문숫자입니다.\n",
        "> 세 자리의 숫자 두 개의 곱을 통해서 만들 수 있는 가장 큰 회문숫자를 찾는 프로그램을 만들어볼까요?\n",
        "> 그 회문숫자를 구성하는 세 자리의 숫자 두 개는 무엇일까요?"
      ],
      "metadata": {
        "id": "L9zNm0df_rFm"
      }
    },
    {
      "cell_type": "code",
      "source": [
        "def is_palindrome(s):\n",
        "  return s == s[::-1]\n",
        "\n",
        "max_palindrome = 0\n",
        "for i in range(999, 99, -1):\n",
        "  for j in range(i, 99, -1):\n",
        "    if is_palindrome(str(i * j)):\n",
        "      if i * j > max_palindrome:\n",
        "        max_palindrome = i * j\n",
        "        max_pair = (i, j)\n",
        "\n",
        "print(f\"세자리 숫자의 두 개의 곱을 통해서 만들 수 있는 가장 큰 회문숫자는 {max_palindrome}입니다.\")\n",
        "print(f\"그 회문 숫자를 구성하는 두 개는 {max_pair[0]}(와)과 {max_pair[1]}입니다.\")"
      ],
      "metadata": {
        "id": "Cra4b9uKPuKc",
        "colab": {
          "base_uri": "https://localhost:8080/"
        },
        "outputId": "f45535ed-0704-45b3-b85d-e19c8789ae6d"
      },
      "execution_count": null,
      "outputs": [
        {
          "output_type": "stream",
          "name": "stdout",
          "text": [
            "세자리 숫자의 두 개의 곱을 통해서 만들 수 있는 가장 큰 회문숫자는 906609입니다.\n",
            "그 회문 숫자를 구성하는 두 개는 993(와)과 913입니다.\n"
          ]
        }
      ]
    },
    {
      "cell_type": "markdown",
      "source": [
        "Day 20\n",
        "> 반복문과 break 명령어를 활용하여 아래와 같은 결과를 출력하는 프로그램을 작성하세요.\n",
        "\n",
        "```\n",
        "#\n",
        "# 1\n",
        "# 1 2\n",
        "# 1 2 3\n",
        "# 1 2 3 4\n",
        "# 1 2 3 4 5\n",
        "```"
      ],
      "metadata": {
        "id": "tw3lzQHSto6g"
      }
    },
    {
      "cell_type": "code",
      "source": [
        "for i in range(6):\n",
        "  print(\"#\", end = ' ')\n",
        "  for j in range(1, 6):\n",
        "    if j > i:\n",
        "      break\n",
        "    print(j, end= ' ')\n",
        "  print()"
      ],
      "metadata": {
        "colab": {
          "base_uri": "https://localhost:8080/"
        },
        "id": "S6PhWKu2t16F",
        "outputId": "ef5fc8b7-0870-40eb-e011-9977906daa65"
      },
      "execution_count": null,
      "outputs": [
        {
          "output_type": "stream",
          "name": "stdout",
          "text": [
            "# \n",
            "# 1 \n",
            "# 1 2 \n",
            "# 1 2 3 \n",
            "# 1 2 3 4 \n",
            "# 1 2 3 4 5 \n"
          ]
        }
      ]
    },
    {
      "cell_type": "markdown",
      "source": [
        "Day 21\n",
        "> 정수 10개를 담고 있는 리스트가 있습니다.\n",
        "값이 작은 정수부터 크기 순서로 차례대로 정렬한 리스트를 만드는 프로그램을 작성하세요.\n",
        "Python 내부함수를 이용하여 리스트를 정렬하는 방법은 권하지 않습니다."
      ],
      "metadata": {
        "id": "OO_EmVXKNX6R"
      }
    },
    {
      "cell_type": "code",
      "source": [
        "def selection_sort(numbers):\n",
        "  for i in range(9):\n",
        "    min_index = i\n",
        "    for j in range(i+1, 10):\n",
        "      if numbers[min_index] > numbers[j]:\n",
        "        min_index = j\n",
        "    numbers[i], numbers[min_index] = numbers[min_index], numbers[i]\n",
        "\n",
        "numbers = [9, 5, 4, 2, 3, 7, 8, 1, 10, 6]\n",
        "selection_sort(numbers)\n",
        "print(numbers)"
      ],
      "metadata": {
        "colab": {
          "base_uri": "https://localhost:8080/"
        },
        "id": "e_1tZnLSNXUL",
        "outputId": "cd2d36b4-1c99-4699-dcb1-7964d0f9718e"
      },
      "execution_count": null,
      "outputs": [
        {
          "output_type": "stream",
          "name": "stdout",
          "text": [
            "[1, 2, 3, 4, 5, 6, 7, 8, 9, 10]\n"
          ]
        }
      ]
    },
    {
      "cell_type": "markdown",
      "source": [
        "Day 22\n",
        "> 영어 문장이 주어졌을 때, 특정 단어가 그 문장의 몇 번째 단어인지 확인하는 프로그램을 작성하세요.\n",
        "예를 들면, \"If music be the food of love, play on.\" 문장에서 \"play\"는 8번째 단어입니다."
      ],
      "metadata": {
        "id": "CCgKqG-zdr-H"
      }
    },
    {
      "cell_type": "code",
      "source": [
        "def find_word(sentence, word):\n",
        "  replaced_sentence = sentence.replace(\".\",\" \").replace(\",\", \" \").replace(\"!\", \" \").replace(\"?\", \" \") # 구두점 제거\n",
        "\n",
        "  location = [w for w in replaced_sentence.lower().split()].index(word.lower()) + 1\n",
        "  print(f'\"{sentence}\"문장에서 \"{word}\"는 {location}번쨰 단어입니다.')\n",
        "\n",
        "sentence = input(\"영어 문장을 입력하세요 : \")\n",
        "word = input(\"찾고자하는 단어를 입력하세요 : \")\n",
        "find_word(sentence, word)"
      ],
      "metadata": {
        "colab": {
          "base_uri": "https://localhost:8080/"
        },
        "id": "DEyp2infdtMe",
        "outputId": "c9d11669-100d-4997-a35b-7f9ec8c92dd2"
      },
      "execution_count": null,
      "outputs": [
        {
          "output_type": "stream",
          "name": "stdout",
          "text": [
            "영어 문장을 입력하세요 : If music be the food of love, play on.\n",
            "찾고자하는 단어를 입력하세요 : play\n",
            "\"If music be the food of love, play on.\"문장에서 \"play\"는 8번쨰 단어입니다.\n"
          ]
        }
      ]
    },
    {
      "cell_type": "markdown",
      "source": [
        "Day 23\n",
        "> \"To be, or not to be, that is the question\" 라는 문장을 들어보셨나요?\n",
        "이 문장에는 단어 \"be\"가 두 차례 나타납니다.\n",
        "사용자 입력으로 받은 문장에서 특정 단어가 몇 차례 나타나는 지를 알려주는 프로그램을 작성해보세요."
      ],
      "metadata": {
        "id": "HNvH7nfFoTax"
      }
    },
    {
      "cell_type": "code",
      "source": [
        "def return_count_word(sentence, word):\n",
        "  replaced_sentence = sentence.replace(\".\",\" \").replace(\",\", \" \").replace(\"!\", \" \").replace(\"?\", \" \") # 구두점 제거\n",
        "\n",
        "  words = replaced_sentence.lower().split()\n",
        "  count_word = words.count(word.lower())\n",
        "  return count_word\n",
        "\n",
        "sentence = input(\"영어 문장을 입력하세요 : \")\n",
        "word = input(\"찾고자하는 단어를 입력하세요 : \")\n",
        "print(f'\"{sentence}\"문장에서 \"{word}\"는 {return_count_word(sentence, word)}번 나타납니다.')"
      ],
      "metadata": {
        "colab": {
          "base_uri": "https://localhost:8080/"
        },
        "id": "WKgaMAyfoVTf",
        "outputId": "782e5c4f-568e-434b-deef-88211b58722e"
      },
      "execution_count": null,
      "outputs": [
        {
          "output_type": "stream",
          "name": "stdout",
          "text": [
            "영어 문장을 입력하세요 : To be, or not to be, that is the question\n",
            "찾고자하는 단어를 입력하세요 : be\n",
            "\"To be, or not to be, that is the question\"문장에서 \"be\"는 2번 나타납니다.\n"
          ]
        }
      ]
    },
    {
      "cell_type": "markdown",
      "source": [
        "Day 24\n",
        "> 영문자 a를 1, b를 2, c를 3이라고 하고, 이후에 모든 영문자에 숫자를 차례대로 부여하자.\n",
        "사용자로부터 영어 단어를 하나 입력 받습니다.\n",
        "그 단어에 포함된 모든 영어 단어에 해당하는 숫자의 값을 모두 더한다.\n",
        "영어 단어와 함께 그 숫자들의 합을 출력하는 프로그램을 작성하세요.\n",
        "이 프로그램을 작성할 때, 내장함수(built-in) 함수 ord( )를 참고하세요."
      ],
      "metadata": {
        "id": "3XsB7u0xIIad"
      }
    },
    {
      "cell_type": "code",
      "source": [
        "word = input(\"영어 단어 하나를 입력하세요 (소문자) : \")\n",
        "print(sum(map(lambda x : ord(x) - ord('a') + 1 , word)))"
      ],
      "metadata": {
        "colab": {
          "base_uri": "https://localhost:8080/"
        },
        "id": "DZedqSciIOOI",
        "outputId": "d1ba77cd-e2cc-4992-f09a-57b3c1037715"
      },
      "execution_count": null,
      "outputs": [
        {
          "output_type": "stream",
          "name": "stdout",
          "text": [
            "영어 단어 하나를 입력하세요 (소문자) : apple\n",
            "50\n"
          ]
        }
      ]
    },
    {
      "cell_type": "markdown",
      "source": [
        "Day 25\n",
        "> 모든 자연수 x에 대해서 현재 값이 x이면 x가 짝수일 때는 2로 나누고, x가 홀수일 때는 3 * x + 1로 바꾸는 계산을 계속해서 반복하면 언젠가는 반드시 x가 1이 되는지 묻는 문제를 콜라츠 문제라고 부릅니다.\n",
        "그리고 위 과정에서 거쳐간 모든 수를 기록한 수열을 콜라츠 수열이라고 부릅니다.\n",
        "계산 결과 1,000 보다 작거나 같은 수에 대해서는 전부 언젠가 1에 도달한다는 것이 알려져 있습니다.\n",
        "\n",
        ">임의의 1,000 보다 작거나 같은 양의 정수 n이 주어질 때 초기값이 n인 콜라츠 수열을 반환하는 함수 collatz를 완성해 주세요.\n",
        "collatz 함수가 제대로 작동하는지 테스트하는 코드를 작성하세요.\n",
        "\n",
        ">입력 n : 10\n",
        "출력 result : [10, 5, 16, 8, 4, 2, 1]"
      ],
      "metadata": {
        "id": "8Vdfmta3CAYR"
      }
    },
    {
      "cell_type": "code",
      "source": [
        "def return_collatz(n):\n",
        "  result = [n]\n",
        "  while n != 1:\n",
        "    if n % 2 == 0:\n",
        "      n //= 2\n",
        "    else:\n",
        "      n = 3 * n + 1\n",
        "    result.append(n)\n",
        "\n",
        "  return result\n",
        "\n",
        "n = int(input(\"입력 n : \"))\n",
        "print(\"출력 result :\", return_collatz(n))"
      ],
      "metadata": {
        "colab": {
          "base_uri": "https://localhost:8080/"
        },
        "id": "OFt8bE-2B_EL",
        "outputId": "25f9180c-f503-48a3-9980-dbeaaf143611"
      },
      "execution_count": null,
      "outputs": [
        {
          "output_type": "stream",
          "name": "stdout",
          "text": [
            "입력 n : 3\n",
            "출력 result : [3, 10, 5, 16, 8, 4, 2, 1]\n"
          ]
        }
      ]
    },
    {
      "cell_type": "markdown",
      "source": [
        "Day 26\n",
        "> 약수의 개수가 세 개 이상인 수를 합성수라고 합니다.\n",
        "\n",
        "> 자연수 n이 매개변수로 주어질 때 n이하의 합성수의 개수를 반환하도록 함수를 구현하세요.\n",
        "\n",
        "> 그 함수가 제대로 동작하는지 테스트하는 코드를 작성하세요.\n",
        "사용자로부터 n을 입력으로 받고, 합성수의 개수를 출력합니다.\n",
        "예를 들면, 15 이하 합성수는 4, 6, 8, 9, 10, 12, 14, 15 로 8개입니다.\n",
        "따라서 8을 출력합니다"
      ],
      "metadata": {
        "id": "hETbzvFtgggv"
      }
    },
    {
      "cell_type": "code",
      "source": [
        "def count_composite_number(n):\n",
        "  count = 0\n",
        "  # 소수가 아니면 합성수이므로, 단 1은 약수의 개수가 1개이므로 제외\n",
        "  for i in range(2, n + 1):\n",
        "    if is_prime(i):\n",
        "      continue\n",
        "    count += 1\n",
        "  return count\n",
        "\n",
        "\n",
        "def is_prime(n):\n",
        "  if n == 1:\n",
        "    return False\n",
        "  for i in range(2, int(n ** 0.5) + 1):\n",
        "    if n % i == 0:\n",
        "      return False\n",
        "  return True\n",
        "\n",
        "n = int(input(\"자연수 n을 입력하세요 : \"))\n",
        "print(f\"{n} 이하 합성수의 개수는 {count_composite_number(n)}개 입니다.\")"
      ],
      "metadata": {
        "colab": {
          "base_uri": "https://localhost:8080/"
        },
        "id": "-eGAgMRpgvQk",
        "outputId": "b0f906ab-6206-4c6b-f099-84bd043669ca"
      },
      "execution_count": null,
      "outputs": [
        {
          "output_type": "stream",
          "name": "stdout",
          "text": [
            "자연수 n을 입력하세요 : 15\n",
            "15 이하 합성수의 개수는 8개 입니다.\n"
          ]
        }
      ]
    },
    {
      "cell_type": "markdown",
      "source": [
        "Day 27\n",
        "> 재귀함수(recursive function)를 이용해서 문제를 해결할 수 있는 방법을 설명해드렸습니다.\n",
        "정수 n과 m 사이의 모든 정수의 합을 구하는 문제도 재귀를 사용하여 풀 수도 있습니다.\n",
        "조건은 n은 m보다 작은 정수라는 것입니다."
      ],
      "metadata": {
        "id": "f5w3ErQTMTBc"
      }
    },
    {
      "cell_type": "code",
      "source": [
        "def sum_numbers(n, m):\n",
        "  if n == m:\n",
        "    return n\n",
        "  else:\n",
        "    return n + sum_numbers(n + 1, m)\n",
        "\n",
        "n = int(input(\"정수 n을 입력하세요 : \"))\n",
        "m = int(input(\"정수 m을 입력하세요 : \"))\n",
        "print(f\"{n}과 {m}사이의 모든 정수의 합은 {sum_numbers(n, m)}입니다.\")"
      ],
      "metadata": {
        "colab": {
          "base_uri": "https://localhost:8080/"
        },
        "id": "wQIiYmNhMU5Y",
        "outputId": "657ca118-b1e6-45f9-85ad-33df39ba3a01"
      },
      "execution_count": null,
      "outputs": [
        {
          "output_type": "stream",
          "name": "stdout",
          "text": [
            "정수 n을 입력하세요 : 4\n",
            "정수 m을 입력하세요 : 5\n",
            "4과 5사이의 모든 정수의 합은 9입니다.\n"
          ]
        }
      ]
    },
    {
      "cell_type": "markdown",
      "source": [
        "Day 28 시험 주 생략"
      ],
      "metadata": {
        "id": "S2_-LvAMMWRZ"
      }
    },
    {
      "cell_type": "markdown",
      "source": [
        "# 기말고사"
      ],
      "metadata": {
        "id": "8piGPflOMbA0"
      }
    },
    {
      "cell_type": "markdown",
      "source": [
        "Day 29\n",
        "> 양의 정수 n이 매개변수로 주어질 때, n이 홀수라면 n 이하의 홀수인 모든 양의 정수의 합을 반환하고 n이 짝수라면 n 이하의 짝수인 모든 양의 정수의 제곱의 합을 반환하는 함수를 작성해 주세요. 그 함수가 제대로 작동하는지 테스트하는 프로그램을 작성하세요."
      ],
      "metadata": {
        "id": "F786iy8XJm7-"
      }
    },
    {
      "cell_type": "code",
      "source": [
        "def sum_odd_or_even(n):\n",
        "  if n % 2 == 0:\n",
        "    return sum([i ** 2 for i in range(2, n + 1, 2)])\n",
        "  else:\n",
        "    return sum([i for i in range(1, n + 1, 2)])\n",
        "\n",
        "n = int(input(\"양의 정수 n을 입력하세요 : \"))\n",
        "print(f\"결과는 {sum_odd_or_even(n)}입니다.\")"
      ],
      "metadata": {
        "colab": {
          "base_uri": "https://localhost:8080/"
        },
        "id": "bYonHB7pJgK2",
        "outputId": "b25acb2e-42fe-4182-8f04-78b6bb90d211"
      },
      "execution_count": null,
      "outputs": [
        {
          "output_type": "stream",
          "name": "stdout",
          "text": [
            "양의 정수 n을 입력하세요 : 10\n",
            "결과는 220입니다.\n"
          ]
        }
      ]
    },
    {
      "cell_type": "markdown",
      "source": [
        "Day 30\n",
        "> 2자리 이상의 정수 number가 사용자의 입력으로 주어집니다.  이 수를 2자리씩 자른 뒤, 자른 수를 모두 더해서 그 합을 출력하는 프로그램을 작성하세요.\n",
        "\n",
        ">입출력 예제\n",
        ">\n",
        ">입력 : 4859\n",
        ">\n",
        ">출력 : 107\n",
        ">\n",
        ">입력된 수를 2자리씩 나눠 합치면 다음과 같습니다.\n",
        ">\n",
        ">48 + 59 = 107"
      ],
      "metadata": {
        "id": "bPNSwqiB2OS4"
      }
    },
    {
      "cell_type": "code",
      "source": [
        "n = input(\"2자리 이상의 정수를 입력하세요 : \")\n",
        "total = 0\n",
        "for i in range(0, len(n), 2):\n",
        "  total += int(n[i:i+2])\n",
        "print(total)"
      ],
      "metadata": {
        "colab": {
          "base_uri": "https://localhost:8080/"
        },
        "id": "UZFVmw172Nx5",
        "outputId": "82c7e266-7fa5-45e8-c6ab-00b9643a9b27"
      },
      "execution_count": null,
      "outputs": [
        {
          "output_type": "stream",
          "name": "stdout",
          "text": [
            "2자리 이상의 정수를 입력하세요 : 4859\n",
            "107\n"
          ]
        }
      ]
    },
    {
      "cell_type": "markdown",
      "source": [
        "Day 31\n",
        "> 자연수 n을 뒤집어 각 자리 숫자를 원소로 가지는 배열 형태로 반환하는 함수를 작성해주세요. 예를 들어 매개변수 n이 12345이면 [5,4,3,2,1]을 반환합니다. 이 함수가 제대로 동작하는지 테스트하는 프로그램을 작성하세요."
      ],
      "metadata": {
        "id": "rdTIydVBUCZk"
      }
    },
    {
      "cell_type": "code",
      "source": [
        "n = int(input(\"자연수 n을 입력하세요 : \"))\n",
        "print(list(map(int, list(str(n)[::-1]))))"
      ],
      "metadata": {
        "colab": {
          "base_uri": "https://localhost:8080/"
        },
        "id": "T6GBYTc1UB4s",
        "outputId": "5869a3b9-0ec8-46c8-ffd1-ed7bddae369b"
      },
      "execution_count": null,
      "outputs": [
        {
          "output_type": "stream",
          "name": "stdout",
          "text": [
            "자연수 n을 입력하세요 : 12345\n",
            "[5, 4, 3, 2, 1]\n"
          ]
        }
      ]
    },
    {
      "cell_type": "markdown",
      "source": [
        "Day 32\n",
        "> 매개변수로 주어진 정수를 저장한 리스트 numbers에서 가장 작은 수를 제거한 리스트를 반환하는 함수를 작성해주세요. 단, 반환하려는 리스트가 빈 리스트인 경우엔 리스트에 -1을 채워 반환하세요. 예를 들어 numbers이 [4,3,2,1]인 경우는 [4,3,2]를 리턴 하고, [10]면 [-1]을 반환합니다. 이 함수가 제대로 동작하는지 테스트하는 프로그램을 작성하세요."
      ],
      "metadata": {
        "id": "uLRYbriggHq4"
      }
    },
    {
      "cell_type": "code",
      "source": [
        "numbers = list(map(int, input(\"여러 개 수를 공백을 포함하여 입력하세요 : \").split()))\n",
        "\n",
        "min_n = min(numbers)\n",
        "numbers.remove(min_n)\n",
        "\n",
        "if not numbers:\n",
        "  numbers.append(-1)\n",
        "\n",
        "print(numbers)"
      ],
      "metadata": {
        "colab": {
          "base_uri": "https://localhost:8080/"
        },
        "id": "kALiQw6NgIcN",
        "outputId": "73b5166f-a5a8-4a18-9dd0-5e7d3d9e8409"
      },
      "execution_count": null,
      "outputs": [
        {
          "output_type": "stream",
          "name": "stdout",
          "text": [
            "여러 개 수를 공백을 포함하여 입력하세요 : 10\n",
            "[-1]\n"
          ]
        }
      ]
    },
    {
      "cell_type": "markdown",
      "source": [
        "Day 33\n",
        "> 정수 리스트 numbers가 매개변수로 주어집니다. numbers에서 서로 다른 인덱스에 있는 두 개의 수를 뽑아 더해서 만들 수 있는 모든 수를 리스트에 오름차순으로 담아 반환하도록 함수를 완성해주세요. 이 함수가 제대로 동작하는지 테스트하는 프로그램을 작성하세요.\n",
        "다음과 같은 제한사항이 있습니다.\n",
        "> 1. numbers의 길이는 2 이상 100 이하입니다.\n",
        "> 2. numbers의 모든 수는 0 이상 100 이하입니다."
      ],
      "metadata": {
        "id": "6iwiTv9axLma"
      }
    },
    {
      "cell_type": "code",
      "source": [
        "numbers = list(map(int, input(\"정수 리스트를 입력하세요 : \").split()))\n",
        "\n",
        "result = []\n",
        "for i in range(len(numbers)):\n",
        "  for j in range(i + 1, len(numbers)):\n",
        "    result.append(numbers[i] + numbers[j])\n",
        "\n",
        "print(sorted(list(set(result))))"
      ],
      "metadata": {
        "colab": {
          "base_uri": "https://localhost:8080/"
        },
        "id": "3ffjgQ5ixgtt",
        "outputId": "00a04fbd-d67d-4d18-d01f-cfbfc1fa2062"
      },
      "execution_count": null,
      "outputs": [
        {
          "output_type": "stream",
          "name": "stdout",
          "text": [
            "정수 리스트를 입력하세요 : 1 2 3 4 5 6 7 8 9 10\n",
            "[3, 4, 5, 6, 7, 8, 9, 10, 11, 12, 13, 14, 15, 16, 17, 18, 19]\n"
          ]
        }
      ]
    },
    {
      "cell_type": "markdown",
      "source": [
        "Day 33\n",
        "> 특정 날짜를 입력하면 그 날짜까지 남은 날이 얼마인지 알려주는 파이썬 코드를 작성해보세요."
      ],
      "metadata": {
        "id": "nYpCixLKCh70"
      }
    },
    {
      "cell_type": "code",
      "source": [
        "from datetime import datetime, timedelta, timezone\n",
        "\n",
        "input_date = input(\"특정 날짜를 입력하세요 (YYYY/MM/DD) : \")\n",
        "date = datetime.strptime(input_date, \"%Y/%m/%d\")\n",
        "\n",
        "# 한국 표준시로 변경\n",
        "korea_timezone = timezone(timedelta(hours=9))\n",
        "korea_now = datetime.now(korea_timezone)\n",
        "\n",
        "date = date.replace(tzinfo=korea_timezone)\n",
        "\n",
        "# 입력한 날짜와 현재 날짜의 시간 부분을 모두 자정으로 맞추기\n",
        "date = date.replace(tzinfo=korea_timezone, hour=0, minute=0, second=0, microsecond=0)\n",
        "korea_now = korea_now.replace(hour=0, minute=0, second=0, microsecond=0)\n",
        "\n",
        "diff = date - korea_now\n",
        "\n",
        "print(f\"{input_date}까지 남은 날은 {diff.days}일 입니다.\")"
      ],
      "metadata": {
        "colab": {
          "base_uri": "https://localhost:8080/"
        },
        "id": "QTiNGlsnChVJ",
        "outputId": "f9200bcb-db0b-4002-9aa3-2ddce4503c9b"
      },
      "execution_count": null,
      "outputs": [
        {
          "output_type": "stream",
          "name": "stdout",
          "text": [
            "특정 날짜를 입력하세요 (YYYY/MM/DD) : 2024/12/06\n",
            "2024-12-06 00:00:00+09:00 2024-10-31 00:00:00+09:00\n",
            "2024/12/06까지 남은 날은 36일 입니다.\n"
          ]
        }
      ]
    },
    {
      "cell_type": "markdown",
      "source": [
        "Day 34\n",
        "> 어떤 문장의 각 알파벳을 일정한 거리만큼 밀어서 다른 알파벳으로 바꾸는 암호화 방식을 \"시저 암호(Caesar cipher)\"라고 합니다. 예를 들어 \"AB\"는 1만큼 밀면 \"BC\"가 되고, 3만큼 밀면 \"DE\"가 됩니다. \"z\"는 1만큼 밀면 \"a\"가 됩니다. 매개변수로 문자열 s와 거리 n을 입력으로 받아 s를 n만큼 민 암호문을 만드는 함수를 완성해주세요. 이 함수가 제대로 동작하는지 테스트하는 프로그램을 작성하세요.\n",
        "\n",
        "> 다음과 같은 제한 조건을 가집니다.\n",
        "- 공백은 아무리 밀어도 공백입니다.\n",
        "- s는 알파벳 소문자, 대문자, 공백으로만 이루어져 있습니다.\n",
        "- s의 길이는 8000 이하입니다.\n",
        "- n은 1 이상, 25 이하인 자연수입니다."
      ],
      "metadata": {
        "id": "gHVh35VhF8eJ"
      }
    },
    {
      "cell_type": "code",
      "source": [
        "def caesar_cipher(s, n):\n",
        "  result = ''\n",
        "  for ch in s:\n",
        "    if ch.isalpha():\n",
        "      if ch.isupper(): # 대문자인 경우\n",
        "        result += chr((ord(ch) - ord('A') + n) % 26 + ord('A'))\n",
        "      else: # 소문자인 경우\n",
        "        result += chr((ord(ch) - ord('a') + n) % 26 + ord('a'))\n",
        "    else: # 공백인 경우\n",
        "      result += ' '\n",
        "  return result\n",
        "\n",
        "\n",
        "s = input(\"문자열을 입력하세요 : \")\n",
        "n = int(input(\"거리 n을 입력하세요 : \"))\n",
        "print(caesar_cipher(s, n))"
      ],
      "metadata": {
        "colab": {
          "base_uri": "https://localhost:8080/"
        },
        "id": "wx5i2lQyF-SB",
        "outputId": "c028dfab-8da1-4348-8688-2a023541bb1a"
      },
      "execution_count": null,
      "outputs": [
        {
          "output_type": "stream",
          "name": "stdout",
          "text": [
            "문자열을 입력하세요 : ABC DEF\n",
            "거리 n을 입력하세요 : 3\n",
            "DEF GHI\n"
          ]
        }
      ]
    },
    {
      "cell_type": "markdown",
      "source": [
        "Day 35\n",
        ">  자연수 n이 매개변수로 주어집니다. n을 x로 나눈 나머지가 1이 되도록 하는 가장 작은 자연수 x를 반환하는 함수를 완성해주세요. 이 함수가 제대로 동작하는지 테스트하는 프로그램을 작성하세요."
      ],
      "metadata": {
        "id": "4WHE7S1fre-O"
      }
    },
    {
      "cell_type": "code",
      "source": [
        "def find_x(n):\n",
        "  if n == 1:\n",
        "      return 2  # 1을 2로 나누면 나머지가 1\n",
        "  if n == 2:\n",
        "      return -1  # 조건을 만족하는 x가 존재하지 않음\n",
        "\n",
        "  # n%x == 1을 푸는 문제는 n-1의 약수를 찾는 문제와 동일\n",
        "  for x in range(2, int((n - 1) ** 0.5) + 1):\n",
        "    if (n - 1) % x == 0:\n",
        "        return x\n",
        "  # 약수가 없는 경우 n-1이 답\n",
        "  return n - 1\n",
        "\n",
        "n = int(input(\"자연수 n을 입력하세요 : \"))\n",
        "result = find_x(n)\n",
        "if result != -1:\n",
        "    print(result)\n",
        "else:\n",
        "    print(\"조건을 만족하는 x가 존재하지 않습니다.\")"
      ],
      "metadata": {
        "id": "vrEowlGCHLaA",
        "colab": {
          "base_uri": "https://localhost:8080/"
        },
        "outputId": "1c315329-936c-48e3-87d5-1e8a1f6f4975"
      },
      "execution_count": null,
      "outputs": [
        {
          "output_type": "stream",
          "name": "stdout",
          "text": [
            "자연수 n을 입력하세요 : 12\n",
            "11\n"
          ]
        }
      ]
    },
    {
      "cell_type": "markdown",
      "source": [
        "Day 36\n",
        "> 문자열 s는 한 개 이상의 단어로 구성되어 있습니다. 각 단어는 하나 이상의 공백문자로 구분되어 있습니다. 각 단어의 짝수번째 알파벳은 대문자로, 홀수번째 알파벳은 소문자로 바꾼 문자열을 리턴하는 함수를 완성하세요. 이 함수가 제대로 동작하는지 테스트하는 프로그램을 작성하세요.\n",
        ">\n",
        "> 제한 사항\n",
        "- 문자열 전체의 짝/홀수 인덱스가 아니라, 단어(공백을 기준)별로 짝/홀수 인덱스를 판단해야합니다.\n",
        "- 첫 번째 글자는 0번째 인덱스로 보아 짝수번째 알파벳으로 처리해야 합니다.\n"
      ],
      "metadata": {
        "id": "DBpdM5pks4bD"
      }
    },
    {
      "cell_type": "code",
      "source": [
        "def transform_string(s):\n",
        "    result = ''\n",
        "    for word in s.split():\n",
        "        for i in range(len(word)):\n",
        "            if i % 2 == 0:\n",
        "                result += word[i].upper()\n",
        "            else:\n",
        "                result += word[i].lower()\n",
        "        result += ' '  # 각 단어 뒤에 공백 추가\n",
        "\n",
        "    return result.strip()  # 마지막 공백 제거 후 반환\n",
        "\n",
        "s = input(\"문자열을 입력하세요: \")\n",
        "result = transform_string(s)\n",
        "print(result)"
      ],
      "metadata": {
        "id": "_qTTjJQpsp8P",
        "colab": {
          "base_uri": "https://localhost:8080/"
        },
        "outputId": "d43b081d-5f18-4b49-ac3c-51f247847e32"
      },
      "execution_count": null,
      "outputs": [
        {
          "output_type": "stream",
          "name": "stdout",
          "text": [
            "문자열을 입력하세요: I love you\n",
            "I LoVe YoU\n"
          ]
        }
      ]
    },
    {
      "cell_type": "markdown",
      "source": [
        "Day 37\n",
        "> 매개변수로 정수 n을 입력으로 받아 n의 약수를 모두 더한 값을 반환하는 함수를 완성해주세요.  이 함수가 제대로 동작하는지 테스트하는 프로그램을 작성하세요."
      ],
      "metadata": {
        "id": "tCIr6PtgqeOp"
      }
    },
    {
      "cell_type": "code",
      "source": [
        "def sum_primes(n):\n",
        "  total = 0\n",
        "  for i in range(1, int(n ** 0.5) + 1):\n",
        "    if n % i == 0:\n",
        "      total += i\n",
        "      if i != n // i:\n",
        "        total += n // i\n",
        "  return total\n",
        "\n",
        "n = int(input(\"자연수 n을 입력하세요 : \"))\n",
        "print(sum_primes(n))"
      ],
      "metadata": {
        "colab": {
          "base_uri": "https://localhost:8080/"
        },
        "id": "549_HbyQqdMa",
        "outputId": "0c94a8fb-d4a8-4962-b2d4-2fcf7c400e8b"
      },
      "execution_count": null,
      "outputs": [
        {
          "output_type": "stream",
          "name": "stdout",
          "text": [
            "자연수 n을 입력하세요 : 10\n",
            "18\n"
          ]
        }
      ]
    },
    {
      "cell_type": "markdown",
      "source": [
        "Day 38\n",
        "> 정수로 이루어진 배열 numbers가 있습니다. 배열 의 각 원소들에 대해 자신보다 뒤에 있는 숫자 중에서 자신보다 크면서 가장 가까이 있는 수를 뒷 큰수라고 합니다.\n",
        ">\n",
        "> 정수 배열 numbers가 매개변수로 주어질 때, 모든 원소에 대한 뒷 큰수들을 차례로 담은 배열을 반환하도록 함수를 완성해주세요. 단, 뒷 큰수가 존재하지 않는 원소는 -1을 담습니다.\n",
        "이 함수가 제대로 동작하는지 테스트하는 프로그램을 작성하세요.\n",
        "제한사항은 다음과 같습니다.\n",
        ">\n",
        "> 4 ≤ numbers의 길이 ≤ 1,000,000\n",
        ">\n",
        "> 1 ≤ numbers[i] ≤ 1,000,000\n",
        ">\n",
        "> 입출력의 예는 다음과 같습니다.\n",
        ">\n",
        "> numbers             result\n",
        ">\n",
        "> [2, 3, 3, 5]           [3, 5, 5, -1]\n",
        ">\n",
        "> [9, 1, 5, 3, 6, 2]   [-1, 5, 6, 6, -1, -1]\n",
        ">\n",
        "> 입출력 예 #1\n",
        "2의 뒷 큰수는 3입니다. 첫 번째 3의 뒷 큰수는 5입니다. 두 번째 3 또한 마찬가지입니다. 5는 뒷 큰수가 없으므로 -1입니다. 위 수들을 차례대로 배열에 담으면 [3, 5, 5, -1]이 됩니다.\n",
        ">\n",
        "> 입출력 예 #2\n",
        "9는 뒷 큰수가 없으므로 -1입니다. 1의 뒷 큰수는 5이며, 5와 3의 뒷 큰수는 6입니다. 6과 2는 뒷 큰수가 없으므로 -1입니다. 위 수들을 차례대로 배열에 담으면 [-1, 5, 6, 6, -1, -1]이 됩니다"
      ],
      "metadata": {
        "id": "yaLmsiv_q29Y"
      }
    },
    {
      "cell_type": "code",
      "source": [
        "def find_next_greater_element(numbers):\n",
        "  result = []\n",
        "  for i in range(len(numbers)):\n",
        "    for j in range(i + 1, len(numbers)):\n",
        "      if numbers[i] < numbers[j]:\n",
        "        result.append(numbers[j])\n",
        "        break\n",
        "    else:\n",
        "      result.append(-1)\n",
        "  return result\n",
        "\n",
        "numbers = list(map(int, input(\"정수 리스트를 입력하세요 : \").split()))\n",
        "print(find_next_greater_element(numbers))"
      ],
      "metadata": {
        "colab": {
          "base_uri": "https://localhost:8080/"
        },
        "id": "NJ0fqaU2q12i",
        "outputId": "f952af57-20fa-45e8-d0b1-23b66ea3d3f1"
      },
      "execution_count": null,
      "outputs": [
        {
          "output_type": "stream",
          "name": "stdout",
          "text": [
            "정수 리스트를 입력하세요 : 9 1 5 3 6 2\n",
            "[-1, 5, 6, 6, -1, -1]\n"
          ]
        }
      ]
    },
    {
      "cell_type": "markdown",
      "source": [
        "Day 39\n",
        "> 0 또는 양의 정수가 여러 개 주어졌을 때, 정수를 이어 붙여 만들 수 있는 가장 큰 수를 찾아주세요. 예를 들어, 주어진 정수가 [6, 10, 2]라면 [6102, 6210, 1062, 1026, 2610, 2106]를 만들 수 있고, 이중 가장 큰 수는 6210입니다. 0 또는 양의 정수가 담긴 배열 numbers가 매개변수로 주어질 때, 순서를 재배치하여 만들 수 있는 가장 큰 수를 문자열로 바꾸어 반환하도록 함수를 작성해주세요. 이 함수가 제대로 동작하는지 테스트하는 프로그램을 작성하세요.\n",
        "> 제한사항은 다음과 같습니다.\n",
        ">\n",
        "> - numbers의 길이는 1 이상 100,000 이하입니다.\n",
        "> - numbers의 원소는 0 이상 1,000 이하입니다."
      ],
      "metadata": {
        "id": "6118Sx6UhMve"
      }
    },
    {
      "cell_type": "code",
      "source": [
        "def largest_number(numbers):\n",
        "    # 각 숫자를 3번씩 이어 붙이고 sort해서 내림차순 정렬(numbers가 최대 3자리이므로)\n",
        "    # 예) (입력) ['997', 9'] -> ['997997997', '999'] 비교 '999' > '997997997' -> (출력) ['9', '997']\n",
        "    # numbers가 10^5 이기 때문에 다른 알고리즘의 경우 오래걸릴 수 있음\n",
        "    # 단, 1000의 경우는 4자리이지만 영향을 미치지 않음\n",
        "    sorted_numbers = sorted(numbers, key=lambda x: x * 3, reverse=True)\n",
        "\n",
        "    largest_num = ''.join(sorted_numbers) # 정렬된 숫자를 합침\n",
        "\n",
        "    # [0, 0, 0]과 같이 가장 앞자리가 0인 경우 0 출력\n",
        "    if largest_num[0] == '0':\n",
        "      return 0\n",
        "    else:\n",
        "      return largest_num\n",
        "\n",
        "numbers = input(\"정수 리스트를 입력하세요 : \").split()\n",
        "print(largest_number(numbers))"
      ],
      "metadata": {
        "colab": {
          "base_uri": "https://localhost:8080/"
        },
        "id": "cDdy1r3ehOI-",
        "outputId": "a22955cf-bac4-40fc-e588-03e051cfc34f"
      },
      "execution_count": null,
      "outputs": [
        {
          "output_type": "stream",
          "name": "stdout",
          "text": [
            "정수 리스트를 입력하세요 : 6 10 2\n",
            "6210\n"
          ]
        }
      ]
    },
    {
      "cell_type": "markdown",
      "source": [
        "Day 40\n",
        "> 초 단위로 기록된 주식가격이 담긴 배열(리스트) prices가 매개변수로 주어질 때, 가격이 떨어지지 않은 기간은 몇 초인지를 배열(리스트)로 반환하도록 함수를 완성하세요. 이 함수가 제대로 동작하는지 테스트하는 프로그램을 작성하세요.\n",
        "> 제한사항은 다음과 같습니다.\n",
        "- prices의 각 가격은 1 이상 10,000 이하인 자연수입니다.\n",
        "- prices의 길이는 2 이상 100,000 이하입니다.\n",
        ">\n",
        ">\n",
        ">  입출력 예\n",
        "- prices : [1, 2, 3, 2, 3]\n",
        "- return : [4, 3, 1, 1, 0]\n",
        ">\n",
        ">입출력 예 설명\n",
        "- 1초 시점의 ₩1은 끝까지 가격이 떨어지지 않았습니다.\n",
        "- 2초 시점의 ₩2은 끝까지 가격이 떨어지지 않았습니다.\n",
        "- 3초 시점의 ₩3은 1초뒤에 가격이 떨어집니다. 따라서 1초간 가격이 떨어지지 않은 것으로 봅니다.\n",
        "- 4초 시점의 ₩2은 1초간 가격이 떨어지지 않았습니다.\n",
        "- 5초 시점의 ₩3은 0초간 가격이 떨어지지 않았습니다"
      ],
      "metadata": {
        "id": "-h1xzXWaSylz"
      }
    },
    {
      "cell_type": "code",
      "source": [
        "def calc_price_time(prices):\n",
        "  result = []\n",
        "\n",
        "  for i, price in enumerate(prices):\n",
        "    time = 0\n",
        "    for j in range(i + 1, len(prices)):\n",
        "      time += 1\n",
        "      if price > prices[j]:\n",
        "        break\n",
        "    result.append(time)\n",
        "\n",
        "  return result\n",
        "\n",
        "prices = list(map(int, input(\"주식가격 리스트를 입력하세요 : \").split()))\n",
        "print(calc_price_time(prices))"
      ],
      "metadata": {
        "id": "lo-MmQ3xkGgc",
        "colab": {
          "base_uri": "https://localhost:8080/"
        },
        "outputId": "582c5b9e-e907-4a24-e7dd-0e7f12d5cc35"
      },
      "execution_count": null,
      "outputs": [
        {
          "output_type": "stream",
          "name": "stdout",
          "text": [
            "주식가격 리스트를 입력하세요 : 1 2 3 2 3\n",
            "[4, 3, 1, 1, 0]\n"
          ]
        }
      ]
    },
    {
      "cell_type": "markdown",
      "source": [
        "Day 41\n",
        "> 리스트 안에 리스트가 중첩되어있는 아래와 같은 중첩 리스트(nested list)를\n",
        "- [[1, 2, [3]], [4, [5, 6]], 7, [8, 9]]\n",
        "- 다음과 같은 1차원 리스트로 평탄화하는 방법을 찾아보세요.\n",
        "- [1, 2, 3, 4, 5, 6, 7, 8, 9]"
      ],
      "metadata": {
        "id": "lSVVR26bJ73o"
      }
    },
    {
      "cell_type": "code",
      "source": [
        "def flatten_nested_list(nested_list):\n",
        "  if isinstance(nested_list, list):\n",
        "    result = []\n",
        "    for item in nested_list:\n",
        "      result.extend(flatten_nested_list(item))\n",
        "    return result\n",
        "  return [nested_list]\n",
        "\n",
        "nested_list = [[1, 2, [3]], [4, [5, 6]], 7, [8, 9]]\n",
        "print(flatten_nested_list(nested_list))"
      ],
      "metadata": {
        "colab": {
          "base_uri": "https://localhost:8080/"
        },
        "id": "CAZpytEKJ7Cy",
        "outputId": "85901299-64c3-49d1-fb66-f0866fc69f97"
      },
      "execution_count": 9,
      "outputs": [
        {
          "output_type": "stream",
          "name": "stdout",
          "text": [
            "1\n",
            "2\n",
            "3\n",
            "4\n",
            "5\n",
            "6\n",
            "7\n",
            "8\n",
            "9\n",
            "[1, 2, 3, 4, 5, 6, 7, 8, 9]\n"
          ]
        }
      ]
    }
  ]
}