{
  "nbformat": 4,
  "nbformat_minor": 0,
  "metadata": {
    "colab": {
      "provenance": [],
      "authorship_tag": "ABX9TyMuQkA2NO1gUvvcmSL/BlQR",
      "include_colab_link": true
    },
    "kernelspec": {
      "name": "python3",
      "display_name": "Python 3"
    },
    "language_info": {
      "name": "python"
    }
  },
  "cells": [
    {
      "cell_type": "markdown",
      "metadata": {
        "id": "view-in-github",
        "colab_type": "text"
      },
      "source": [
        "<a href=\"https://colab.research.google.com/github/jyj1206/Python/blob/main/Python_everyday_problems.ipynb\" target=\"_parent\"><img src=\"https://colab.research.google.com/assets/colab-badge.svg\" alt=\"Open In Colab\"/></a>"
      ]
    },
    {
      "cell_type": "markdown",
      "source": [
        "Day 0\n",
        "> 숫자를 입력 받아서 짝수인지 홀수인지 출력하는 프로그램을 작성하세요"
      ],
      "metadata": {
        "id": "0bV2s_fD5ot2"
      }
    },
    {
      "cell_type": "code",
      "source": [
        "n = int(input(\"정수를 입력하세요 : \"))\n",
        "if n % 2 == 0:\n",
        "    print(n, \"은(는) 짝수입니다\")\n",
        "else:\n",
        "    print(n, \"은(는) 홀수입니다\")"
      ],
      "metadata": {
        "colab": {
          "base_uri": "https://localhost:8080/"
        },
        "id": "fSC9SQNn5qF3",
        "outputId": "405fd81f-a7eb-4dad-9d4b-d70aa59eade7"
      },
      "execution_count": null,
      "outputs": [
        {
          "output_type": "stream",
          "name": "stdout",
          "text": [
            "정수를 입력하세요 : 5\n",
            "5 은(는) 홀수입니다\n"
          ]
        }
      ]
    },
    {
      "cell_type": "markdown",
      "source": [
        "Day 1\n",
        "\n",
        "> 사용자로부터 두 개의 정수를 입력으로 받습니다.\n",
        "두 개 정수의 합, 정수의 차, 정수의 곱, 정수의 평균, 큰 수, 그리고 작은 수를 계산하여 화면에 출력하는 파이썬 프로그램을 작성하세요."
      ],
      "metadata": {
        "id": "jRAkreG4505_"
      }
    },
    {
      "cell_type": "code",
      "execution_count": null,
      "metadata": {
        "colab": {
          "base_uri": "https://localhost:8080/"
        },
        "id": "W13BiwgN4fw1",
        "outputId": "10f2e83d-366c-4eb9-eea4-0dec08358845"
      },
      "outputs": [
        {
          "output_type": "stream",
          "name": "stdout",
          "text": [
            "12 5\n",
            "두 정수의 합 17\n",
            "두 정수의 차 7\n",
            "두 정수의 곱 60\n",
            "두 정수의 평균 8.5\n",
            "두 정수 중 큰 수 12\n",
            "두 정수 중 작은수 12\n"
          ]
        }
      ],
      "source": [
        "num1, num2 = map(int, input(\"두 정수를 입력하세요\").split())\n",
        "\n",
        "print(\"두 정수의 합\", num1 + num2)\n",
        "print(\"두 정수의 차\", num1 - num2 if num1 > num2 else num2 - num1)\n",
        "print(\"두 정수의 곱\", num1 * num2)\n",
        "print(\"두 정수의 평균\", (num1 + num2)/2)\n",
        "print(\"두 정수 중 큰 수\", num1 if num1 > num2 else num2)\n",
        "print(\"두 정수 중 작은수\", num2 if num1 < num2 else num1)"
      ]
    },
    {
      "cell_type": "markdown",
      "source": [
        "Day 2\n",
        "> 사용자로부터 4자리의 정수를 입력으로 받아서 자리수의 합을 계산하는 프로그램을 작성하세요.\n",
        "예를 들면 사용자가 1357을 입력한다면 1+3+5+7를 계산하고 그 결과를 출력하세요."
      ],
      "metadata": {
        "id": "nQZaEVoF5tQo"
      }
    },
    {
      "cell_type": "code",
      "source": [
        "n = int(input(\"4자리 수를 입력하세요.\"))\n",
        "\n",
        "total = n % 10\n",
        "n //= 10\n",
        "total += n % 10\n",
        "n //= 10\n",
        "total += n % 10\n",
        "n //= 10\n",
        "total += n % 10\n",
        "\n",
        "print(total)"
      ],
      "metadata": {
        "colab": {
          "base_uri": "https://localhost:8080/"
        },
        "id": "l97wN8oX5Mv-",
        "outputId": "78970454-78fa-492c-8144-b2a26af8d115"
      },
      "execution_count": null,
      "outputs": [
        {
          "output_type": "stream",
          "name": "stdout",
          "text": [
            "4자리 수를 입력하세요.9777\n",
            "30\n"
          ]
        }
      ]
    },
    {
      "cell_type": "markdown",
      "source": [
        "Day 3\n",
        "> BMI(Body Mass Index)는 체중(Kg)을 신장(m)의 제곱으로 나눈 값이다.\n",
        "BMI는 체지방 축적을 잘 반영하기 때문에 비만도 판정에 많이 사용한다.\n",
        "BMI 값이 18.50보다 작을 때는 저체중,\n",
        "BMI 값이 18.50에서 24.99일 때는 표준,\n",
        "BMI 값이 25 이상이고 29.99이하 일 때는 과체중,\n",
        "BMI 값이 30 이상일때는 비만으로 판정한다.\n",
        "사용자로부터 신장과 체중을 입력으로 받아서 BMI 값을 출력하는 프로그램을 작성하세요."
      ],
      "metadata": {
        "id": "VWK3SR9hgWAd"
      }
    },
    {
      "cell_type": "code",
      "source": [
        "height = float(input(\"신장을 입력하세요(cm 단위) : \"))\n",
        "weight = float(input(\"체중을 입력하세요(kg 단위) : \"))\n",
        "BMI = weight / ((height/100) ** 2)\n",
        "if BMI >= 30:\n",
        "  print(\"비만\")\n",
        "elif BMI >= 25:\n",
        "  print(\"과체중\")\n",
        "elif BMI >= 18.5:\n",
        "  print(\"표준\")\n",
        "else:\n",
        "  print(\"저체중\")"
      ],
      "metadata": {
        "id": "JTqosEPO6Ri_",
        "colab": {
          "base_uri": "https://localhost:8080/"
        },
        "outputId": "449707c0-acb0-4bd3-c956-0f21e76fbd67"
      },
      "execution_count": null,
      "outputs": [
        {
          "output_type": "stream",
          "name": "stdout",
          "text": [
            "신장을 입력하세요(cm 단위) : 170\n",
            "체중을 입력하세요(kg 단위) : 80\n",
            "과체중\n"
          ]
        }
      ]
    },
    {
      "cell_type": "markdown",
      "source": [
        "Day 4\n",
        "> 사용자로부터 2개의 정수를 입력으로 받습니다.\n",
        "두 수가 같으면 1을, 다르면 -1을 출력하는 프로그램을 작성하세요."
      ],
      "metadata": {
        "id": "kT34547hNbzX"
      }
    },
    {
      "cell_type": "code",
      "source": [
        "a, b = map(int, input(\"두 정수를 입력하세요 : \").split())\n",
        "\n",
        "if a==b:\n",
        "  print(\"1\")\n",
        "else:\n",
        "  print(\"-1\")"
      ],
      "metadata": {
        "colab": {
          "base_uri": "https://localhost:8080/"
        },
        "id": "20fAcvtENfDZ",
        "outputId": "697dffe4-db77-4354-ed3e-9913250b3ca2"
      },
      "execution_count": null,
      "outputs": [
        {
          "output_type": "stream",
          "name": "stdout",
          "text": [
            "두 정수를 입력하세요 : 2 2\n",
            "1\n"
          ]
        }
      ]
    },
    {
      "cell_type": "markdown",
      "source": [
        "Day 5\n",
        "> 각(angle)에서 0도 초과 90도 미만은 예각, 90도는 직각, 90도 초과 180도 미만은 둔각 180도는 평각으로 분류합니다.\n",
        "사용자가 각을 입력했을 때, 예각이면 1, 직각이면 2, 둔각이면 3, 평각이면 4를 출력하는 프로그램을 작성하세요.\n",
        "사용자의 입력은 0부터 180이라고 가정하자."
      ],
      "metadata": {
        "id": "IFVPa9b9SXSZ"
      }
    },
    {
      "cell_type": "code",
      "source": [
        "angle = int(input(\"각을 입력하세요 : \"))\n",
        "if angle == 180:\n",
        "  print(\"평각\")\n",
        "elif angle > 90:\n",
        "  print(\"둔각\")\n",
        "elif angle == 90:\n",
        "  print(\"직각\")\n",
        "else:\n",
        "  print(\"예각\")"
      ],
      "metadata": {
        "colab": {
          "base_uri": "https://localhost:8080/"
        },
        "id": "43i6Et7wSWna",
        "outputId": "c2cb5820-fab3-4d76-b323-adfea240cf69"
      },
      "execution_count": null,
      "outputs": [
        {
          "output_type": "stream",
          "name": "stdout",
          "text": [
            "각을 입력하세요 : 97\n",
            "둔각\n"
          ]
        }
      ]
    },
    {
      "cell_type": "markdown",
      "source": [
        "# Day 6\n",
        "> 사용자로부터 2개의 정수를 입력으로 받습니다.\n",
        "각각의 정수를 num1과 num2라고 한다.\n",
        "num1이 num2의 배수일 경우에는 \"num1은 num2의 배수입니다.\"라고 출력한다.\n",
        "num1이 num2의 배수가 아닐 경우에는 \"num1은 num2의 배수가 아닙니다.\"라고 출력한다."
      ],
      "metadata": {
        "id": "IJah6lDMf34s"
      }
    },
    {
      "cell_type": "code",
      "source": [
        "num1, num2 = map(int, input(\"2개의 정수를 입력하세요(단, 2번째 입력하는 수는 0이 아님) : \").split())\n",
        "if (num1 % num2 == 0) :\n",
        "    print(f\"{num1}은(는) {num2}의 배수입니다.\")\n",
        "else :\n",
        "    print(f\"{num1}은(는) {num2}의 배수가 아닙니다.\")"
      ],
      "metadata": {
        "colab": {
          "base_uri": "https://localhost:8080/"
        },
        "id": "ns07owgnf3ej",
        "outputId": "cf9e0c40-fffe-471c-c493-95a6e0ee2c98"
      },
      "execution_count": null,
      "outputs": [
        {
          "output_type": "stream",
          "name": "stdout",
          "text": [
            "2개의 정수를 입력하세요(단, 2번째 입력하는 수는 0이 아님) : 0 29\n",
            "0은(는) 29의 배수입니다.\n"
          ]
        }
      ]
    },
    {
      "cell_type": "markdown",
      "source": [
        "Day 7\n",
        "> 새로 생 피자 가게는 피자를 일곱 조각으로 잘라 줍니다.\n",
        "사용자로부터 피자를 나눠 먹을 사람의 수 n을 입력으로 받는다.\n",
        "모든 사람이 피자를 한 조각 이상 먹기 위해 필요한 피자의 수를 계산하여 출력하는 프로그램을 작성하세요."
      ],
      "metadata": {
        "id": "WmFvmPIzpXyh"
      }
    },
    {
      "cell_type": "code",
      "source": [
        "from math import ceil\n",
        "n = int(input(\"피자를 나눠 먹을 사람의 수 : \"))\n",
        "print(ceil(n/7))"
      ],
      "metadata": {
        "id": "3Vo6gYM-gTvY",
        "colab": {
          "base_uri": "https://localhost:8080/"
        },
        "outputId": "8df2ebaa-cdad-419e-b2f4-2c4a2a9f29a8"
      },
      "execution_count": null,
      "outputs": [
        {
          "output_type": "stream",
          "name": "stdout",
          "text": [
            "피자를 나눠 먹을 사람의 수 : 8\n",
            "2\n"
          ]
        }
      ]
    },
    {
      "cell_type": "markdown",
      "source": [
        "Day 8\n",
        "> 춘식이는 추운 겨울에도 아이스 아메리카노만 마시는 소위 말하는 얼죽아입니다.\n",
        "아이스 아메리카노는 한 잔에 4,500원입니다.\n",
        "춘식이가 가지고 있는 돈 money를 사용자로부터 입력으로 받습니다.\n",
        "춘식이가 최대로 마실 수 있는 아이스 아메리카노의 잔 수와 남는 돈을 순서대로 담은 리스트를 출력하는 프로그램을 작성하세요."
      ],
      "metadata": {
        "id": "KA_GnQVfCOGJ"
      }
    },
    {
      "cell_type": "code",
      "source": [
        "money = int(input(\"춘식이가 가지고 있는 돈을 입력하세요 : \"))\n",
        "print([money // 4500, money % 4500])"
      ],
      "metadata": {
        "colab": {
          "base_uri": "https://localhost:8080/"
        },
        "id": "xVp9-JAkCPIU",
        "outputId": "d52d8a73-e4aa-41d4-d41a-de7b7565da6d"
      },
      "execution_count": null,
      "outputs": [
        {
          "output_type": "stream",
          "name": "stdout",
          "text": [
            "춘식이가 가지고 있는 돈을 입력하세요 : 5000\n",
            "[1, 500]\n"
          ]
        }
      ]
    },
    {
      "cell_type": "markdown",
      "source": [
        "Day 9\n",
        "> 정수를 담은 임의의 리스트 num_list가 있습니다.\n",
        "가장 첫 번째 원소를 1번 원소라고 할 때,\n",
        "홀수 번째 원소들의 합과 짝수 번째 원소들의 합을 계산합니다.\n",
        "두 합 중에서 큰 값을 출력하는 프로그램을 작성하세요."
      ],
      "metadata": {
        "id": "lgc8R00wo9WX"
      }
    },
    {
      "cell_type": "code",
      "source": [
        "num_list = list(range(1, 11)) # 임의의 리스트\n",
        "\n",
        "# 홀수번째 원소 합\n",
        "odd_sum = sum([num_list[i] for i in range(1, len(num_list), 2)])\n",
        "\n",
        "# 짝수번째 원소 합\n",
        "even_sum = sum([num_list[i] for i in range(0, len(num_list), 2)])\n",
        "\n",
        "# 두 합 중 큰 값 출력\n",
        "print(max(odd_sum, even_sum))"
      ],
      "metadata": {
        "colab": {
          "base_uri": "https://localhost:8080/"
        },
        "id": "Vlb8tbMPo8a4",
        "outputId": "8490e28a-4b8a-46d1-a06a-3a6678663ed9"
      },
      "execution_count": null,
      "outputs": [
        {
          "output_type": "stream",
          "name": "stdout",
          "text": [
            "30\n"
          ]
        }
      ]
    }
  ]
}