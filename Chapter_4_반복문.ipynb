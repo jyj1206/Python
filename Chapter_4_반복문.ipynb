{
  "nbformat": 4,
  "nbformat_minor": 0,
  "metadata": {
    "colab": {
      "provenance": [],
      "authorship_tag": "ABX9TyMQqWyWnU+gdWGYsDtZeXdu",
      "include_colab_link": true
    },
    "kernelspec": {
      "name": "python3",
      "display_name": "Python 3"
    },
    "language_info": {
      "name": "python"
    }
  },
  "cells": [
    {
      "cell_type": "markdown",
      "metadata": {
        "id": "view-in-github",
        "colab_type": "text"
      },
      "source": [
        "<a href=\"https://colab.research.google.com/github/jyj1206/Python/blob/main/Chapter_4_%EB%B0%98%EB%B3%B5%EB%AC%B8.ipynb\" target=\"_parent\"><img src=\"https://colab.research.google.com/assets/colab-badge.svg\" alt=\"Open In Colab\"/></a>"
      ]
    },
    {
      "cell_type": "markdown",
      "source": [
        "# 연습문제 1"
      ],
      "metadata": {
        "id": "fpnyuzJTYSvl"
      }
    },
    {
      "cell_type": "code",
      "execution_count": 1,
      "metadata": {
        "colab": {
          "base_uri": "https://localhost:8080/"
        },
        "id": "S1JF6LyYYBka",
        "outputId": "61129946-715b-4c74-b037-21e53a852a7e"
      },
      "outputs": [
        {
          "output_type": "stream",
          "name": "stdout",
          "text": [
            "2 * 1 = 2\n",
            "2 * 2 = 4\n",
            "2 * 3 = 6\n",
            "2 * 4 = 8\n",
            "2 * 5 = 10\n",
            "2 * 6 = 12\n",
            "2 * 7 = 14\n",
            "2 * 8 = 16\n",
            "2 * 9 = 18\n"
          ]
        }
      ],
      "source": [
        "# for문 구구단\n",
        "for i in range(1, 10):\n",
        "  print(f\"2 * {i} = {2 * i}\")"
      ]
    },
    {
      "cell_type": "code",
      "source": [
        "# while문 구구단\n",
        "i = 1\n",
        "while i < 10:\n",
        "  print(f\"2 * {i} = {2 * i}\")\n",
        "  i += 1"
      ],
      "metadata": {
        "colab": {
          "base_uri": "https://localhost:8080/"
        },
        "id": "w0dmmdTVYny5",
        "outputId": "4fc55bae-6efe-4db7-c355-a04374664dcf"
      },
      "execution_count": 4,
      "outputs": [
        {
          "output_type": "stream",
          "name": "stdout",
          "text": [
            "2 * 1 = 2\n",
            "2 * 2 = 4\n",
            "2 * 3 = 6\n",
            "2 * 4 = 8\n",
            "2 * 5 = 10\n",
            "2 * 6 = 12\n",
            "2 * 7 = 14\n",
            "2 * 8 = 16\n",
            "2 * 9 = 18\n"
          ]
        }
      ]
    },
    {
      "cell_type": "markdown",
      "source": [
        "# 연습문제 2"
      ],
      "metadata": {
        "id": "jO2e1zw8YNHP"
      }
    },
    {
      "cell_type": "code",
      "source": [
        "n = int(input(\"1에서 9까지의 수를 입력하세요: \"))\n",
        "while n < 0 or n > 9:\n",
        "  n = int(input(\"1에서 9까지의 수를 다시 입력하세요: \"))\n",
        "\n",
        "for i in range(1, 10):\n",
        "  print(f\"{n} * {i} = {n * i}\")"
      ],
      "metadata": {
        "colab": {
          "base_uri": "https://localhost:8080/"
        },
        "id": "ZWZGyAPAYnLc",
        "outputId": "7c338ae1-be53-4ec3-9d64-c458606207ee"
      },
      "execution_count": 6,
      "outputs": [
        {
          "output_type": "stream",
          "name": "stdout",
          "text": [
            "1에서 9까지의 수를 입력하세요: 11\n",
            "1에서 9까지의 수를 다시 입력하세요: 2\n",
            "2 * 1 = 2\n",
            "2 * 2 = 4\n",
            "2 * 3 = 6\n",
            "2 * 4 = 8\n",
            "2 * 5 = 10\n",
            "2 * 6 = 12\n",
            "2 * 7 = 14\n",
            "2 * 8 = 16\n",
            "2 * 9 = 18\n"
          ]
        }
      ]
    },
    {
      "cell_type": "markdown",
      "source": [
        "# 연습문제 3"
      ],
      "metadata": {
        "id": "BNAxi0o-ZG3-"
      }
    },
    {
      "cell_type": "markdown",
      "source": [
        "> 1) 예상 출력\n",
        "```\n",
        "Python\n",
        "is\n",
        "FUN!\n",
        "Python\n",
        "is\n",
        "FUN!\n",
        "Python\n",
        "is\n",
        "FUN!\n",
        "```"
      ],
      "metadata": {
        "id": "ya_Hrpc4ZIxW"
      }
    },
    {
      "cell_type": "code",
      "source": [
        "for i in range(3):\n",
        "  print('Python ')\n",
        "  print('is ')\n",
        "  print('FUN! ')"
      ],
      "metadata": {
        "colab": {
          "base_uri": "https://localhost:8080/"
        },
        "id": "dBZI6MNwY-6d",
        "outputId": "3667a934-72f8-49bb-ec8b-fbb2c06c506e"
      },
      "execution_count": 7,
      "outputs": [
        {
          "output_type": "stream",
          "name": "stdout",
          "text": [
            "Python \n",
            "is \n",
            "FUN! \n",
            "Python \n",
            "is \n",
            "FUN! \n",
            "Python \n",
            "is \n",
            "FUN! \n"
          ]
        }
      ]
    },
    {
      "cell_type": "markdown",
      "source": [
        "> 2) 예상 출력\n",
        "```\n",
        "Python\n",
        "is\n",
        "Python\n",
        "is\n",
        "Python\n",
        "is\n",
        "FUN!\n",
        "```"
      ],
      "metadata": {
        "id": "qai0FxFbZXl3"
      }
    },
    {
      "cell_type": "code",
      "source": [
        "for i in range(3):\n",
        "  print('Python ')\n",
        "  print('is ')\n",
        "print('FUN! ')"
      ],
      "metadata": {
        "colab": {
          "base_uri": "https://localhost:8080/"
        },
        "id": "ArmQJU43ZWQx",
        "outputId": "f4bfada8-cd18-459c-c811-39a305a9370c"
      },
      "execution_count": 8,
      "outputs": [
        {
          "output_type": "stream",
          "name": "stdout",
          "text": [
            "Python \n",
            "is \n",
            "Python \n",
            "is \n",
            "Python \n",
            "is \n",
            "FUN! \n"
          ]
        }
      ]
    },
    {
      "cell_type": "markdown",
      "source": [
        "> 3) 예상 출력\n",
        "```\n",
        "Python\n",
        "Python\n",
        "Python\n",
        "is\n",
        "FUN!\n",
        "```"
      ],
      "metadata": {
        "id": "_cGczxOwZjg6"
      }
    },
    {
      "cell_type": "code",
      "source": [
        "for i in range(3):\n",
        "  print('Python ')\n",
        "print('is ')\n",
        "print('FUN! ')"
      ],
      "metadata": {
        "colab": {
          "base_uri": "https://localhost:8080/"
        },
        "id": "paN28zNZZi7R",
        "outputId": "a5cf8be5-cb72-4b04-803f-a58f1b459999"
      },
      "execution_count": 9,
      "outputs": [
        {
          "output_type": "stream",
          "name": "stdout",
          "text": [
            "Python \n",
            "Python \n",
            "Python \n",
            "is \n",
            "FUN! \n"
          ]
        }
      ]
    },
    {
      "cell_type": "markdown",
      "source": [
        "# 연습문제 4"
      ],
      "metadata": {
        "id": "T6L4Vd94ZsPE"
      }
    },
    {
      "cell_type": "code",
      "source": [
        "print(\"맛나 식당에 오신 것을 환영합니다. 메뉴는 다음과 같습니다.\")\n",
        "print(\"1) 햄버거\")\n",
        "print(\"2) 치킨\")\n",
        "print(\"3) 피자\")\n",
        "menu = int(input(\"1, 2, 3 중 메뉴를 선택하세요: \"))\n",
        "\n",
        "while menu not in [1, 2, 3]:\n",
        "  menu = int(input(\"메뉴를 다시 입력하세요: \"))\n",
        "\n",
        "if menu == 1:\n",
        "  print(\"햄버거를 선택하였습니다.\")\n",
        "elif menu == 2:\n",
        "  print(\"치킨을 선택하였습니다.\")\n",
        "elif menu == 3:\n",
        "  print(\"피자를 선택하였습니다.\")"
      ],
      "metadata": {
        "colab": {
          "base_uri": "https://localhost:8080/"
        },
        "id": "tQX6PO_rZiNm",
        "outputId": "32a4736d-e8b6-4557-fe4d-705764480a0c"
      },
      "execution_count": 11,
      "outputs": [
        {
          "output_type": "stream",
          "name": "stdout",
          "text": [
            "맛나 식당에 오신 것을 환영합니다. 메뉴는 다음과 같습니다.\n",
            "1) 햄버거\n",
            "2) 치킨\n",
            "3) 피자\n",
            "1, 2, 3 중 메뉴를 선택하세요: 5\n",
            "메뉴를 다시 입력하세요: 6\n",
            "메뉴를 다시 입력하세요: 0\n",
            "메뉴를 다시 입력하세요: 2\n",
            "치킨을 선택하였습니다.\n"
          ]
        }
      ]
    },
    {
      "cell_type": "markdown",
      "source": [
        "# 연습문제 5"
      ],
      "metadata": {
        "id": "du7UvxDSaIS3"
      }
    },
    {
      "cell_type": "code",
      "source": [
        "print(\"맛나 식당에 오신 것을 환영합니다. 메뉴는 다음과 같습니다.\")\n",
        "print(\"- 햄버거(입력 b)\")\n",
        "print(\"- 치킨(입력 c)\")\n",
        "print(\"- 피자(입력 p)\")\n",
        "menu = input(\"메뉴를 선택하세요(알파벳 b, c, p 입력): \")\n",
        "while menu not in ['b', 'c', 'p']:\n",
        "  menu = input(\"메뉴를 다시 입력하세요(알파벳 b, c, p 입력): \")\n",
        "\n",
        "if menu == 'b':\n",
        "  print(\"햄버거를 선택하였습니다.\")\n",
        "elif menu == 'c':\n",
        "  print(\"치킨을 선택하였습니다.\")\n",
        "elif menu == 'p':\n",
        "  print(\"피자를 선택하였습니다.\")"
      ],
      "metadata": {
        "colab": {
          "base_uri": "https://localhost:8080/"
        },
        "id": "C-KifGejZ-oJ",
        "outputId": "7dfa560c-8d26-48aa-da52-f8d305022326"
      },
      "execution_count": 12,
      "outputs": [
        {
          "output_type": "stream",
          "name": "stdout",
          "text": [
            "맛나 식당에 오신 것을 환영합니다. 메뉴는 다음과 같습니다.\n",
            "- 햄버거(입력 b)\n",
            "- 치킨(입력 c)\n",
            "- 피자(입력 p)\n",
            "메뉴를 선택하세요(알파벳 b, c, p 입력): x\n",
            "메뉴를 다시 입력하세요(알파벳 b, c, p 입력): c\n",
            "치킨을 선택하였습니다.\n"
          ]
        }
      ]
    },
    {
      "cell_type": "markdown",
      "source": [
        "# 연습문제 6"
      ],
      "metadata": {
        "id": "mXkvHFFZaY8c"
      }
    },
    {
      "cell_type": "code",
      "source": [
        "n = int(input(\"숫자를 입력하세요 : \"))\n",
        "for i in range(n):\n",
        "  for j in range(n - (i + 1)):\n",
        "    print(\" \", end=\"\")\n",
        "  for k in range(i + 1):\n",
        "    print(\"*\", end=\"\")\n",
        "  print()"
      ],
      "metadata": {
        "colab": {
          "base_uri": "https://localhost:8080/"
        },
        "id": "7pR3oVuzaW45",
        "outputId": "6689eb86-9fb0-4276-9b36-9f1b10451030"
      },
      "execution_count": 105,
      "outputs": [
        {
          "output_type": "stream",
          "name": "stdout",
          "text": [
            "숫자를 입력하세요 : 5\n",
            "    *\n",
            "   **\n",
            "  ***\n",
            " ****\n",
            "*****\n"
          ]
        }
      ]
    },
    {
      "cell_type": "code",
      "source": [
        "n = int(input(\"숫자를 입력하세요 : \"))\n",
        "for i in range(n):\n",
        "  for j in range(n - (i + 1)):\n",
        "    print(\" \", end=\"\")\n",
        "  for k in range(i + 1):\n",
        "    print(\"*\", end=\"\")\n",
        "  print()"
      ],
      "metadata": {
        "colab": {
          "base_uri": "https://localhost:8080/"
        },
        "id": "KH0ULrNcay56",
        "outputId": "17cec5a3-394f-4080-cb87-7add14fa5817"
      },
      "execution_count": 106,
      "outputs": [
        {
          "output_type": "stream",
          "name": "stdout",
          "text": [
            "숫자를 입력하세요 : 6\n",
            "     *\n",
            "    **\n",
            "   ***\n",
            "  ****\n",
            " *****\n",
            "******\n"
          ]
        }
      ]
    },
    {
      "cell_type": "markdown",
      "source": [
        "# 연습 문제 7"
      ],
      "metadata": {
        "id": "1gisTlDebqWW"
      }
    },
    {
      "cell_type": "code",
      "source": [
        "n = int(input(\"숫자를 입력하세요 : \"))\n",
        "\n",
        "is_prime = True\n",
        "\n",
        "if n == 1:\n",
        "  is_prime = False\n",
        "elif n % 2 == 0 and n != 2:\n",
        "  is_prime = False\n",
        "else:\n",
        "  for i in range(3, int(n ** 0.5) + 1, 2):\n",
        "    if n % i == 0:\n",
        "      is_prime = False\n",
        "      break\n",
        "\n",
        "if is_prime:\n",
        "  print(f\"{n}는 소수입니다.\")\n",
        "else:\n",
        "  print(f\"{n}는 소수가 아닙니다.\")"
      ],
      "metadata": {
        "colab": {
          "base_uri": "https://localhost:8080/"
        },
        "id": "KnFJw-5xbkiU",
        "outputId": "5b7eb24f-31ca-44b6-b66d-6bdf09505fb9"
      },
      "execution_count": 102,
      "outputs": [
        {
          "output_type": "stream",
          "name": "stdout",
          "text": [
            "숫자를 입력하세요 : 5\n",
            "5는 소수입니다.\n"
          ]
        }
      ]
    },
    {
      "cell_type": "code",
      "source": [
        "n = int(input(\"숫자를 입력하세요 : \"))\n",
        "\n",
        "is_prime = True\n",
        "\n",
        "if n == 1:\n",
        "  is_prime = False\n",
        "elif n % 2 == 0 and n != 2:\n",
        "  is_prime = False\n",
        "else:\n",
        "  for i in range(3, int(n ** 0.5) + 1, 2):\n",
        "    if n % i == 0:\n",
        "      is_prime = False\n",
        "      break\n",
        "\n",
        "if is_prime:\n",
        "  print(f\"{n}는 소수입니다.\")\n",
        "else:\n",
        "  print(f\"{n}는 소수가 아닙니다.\")"
      ],
      "metadata": {
        "colab": {
          "base_uri": "https://localhost:8080/"
        },
        "id": "Lmbq6M6bcKUm",
        "outputId": "a7307590-09cb-4707-9d02-21c3c3586da0"
      },
      "execution_count": 103,
      "outputs": [
        {
          "output_type": "stream",
          "name": "stdout",
          "text": [
            "숫자를 입력하세요 : 9\n",
            "9는 소수가 아닙니다.\n"
          ]
        }
      ]
    },
    {
      "cell_type": "markdown",
      "source": [
        "# 연습문제 8"
      ],
      "metadata": {
        "id": "fZ97NjICdJGR"
      }
    },
    {
      "cell_type": "code",
      "source": [
        "for n in range(2, 13):\n",
        "  is_prime = True\n",
        "\n",
        "  if n % 2 == 0 and n != 2:\n",
        "    is_prime = False\n",
        "  else:\n",
        "    for i in range(3, int(n ** 0.5) + 1, 2):\n",
        "      if n % i == 0:\n",
        "        is_prime = False\n",
        "        break\n",
        "\n",
        "  if is_prime:\n",
        "    print(f\"{n} : 소수\")\n",
        "  else:\n",
        "    print(f\"{n} : 합성수\")"
      ],
      "metadata": {
        "colab": {
          "base_uri": "https://localhost:8080/"
        },
        "id": "lMfQVAtucOfH",
        "outputId": "f3510f19-3e68-49ee-afe4-1d0c48a2b1b9"
      },
      "execution_count": 104,
      "outputs": [
        {
          "output_type": "stream",
          "name": "stdout",
          "text": [
            "2 : 소수\n",
            "3 : 소수\n",
            "4 : 합성수\n",
            "5 : 소수\n",
            "6 : 합성수\n",
            "7 : 소수\n",
            "8 : 합성수\n",
            "9 : 합성수\n",
            "10 : 합성수\n",
            "11 : 소수\n",
            "12 : 합성수\n"
          ]
        }
      ]
    },
    {
      "cell_type": "markdown",
      "source": [
        "# 연습 문제 9"
      ],
      "metadata": {
        "id": "FU4Ak7z6ebPI"
      }
    },
    {
      "cell_type": "code",
      "source": [
        "n = int(input(\"숫자를 입력하세요 : \"))\n",
        "total = 0\n",
        "for i in range(1, n + 1):\n",
        "  total += i ** 2\n",
        "\n",
        "print(f\"결과는 {total}입니다.\")"
      ],
      "metadata": {
        "colab": {
          "base_uri": "https://localhost:8080/"
        },
        "id": "3Fi8Ms7kdK6K",
        "outputId": "ec032ff3-98c8-4f60-c294-985ec1d7cad9"
      },
      "execution_count": 47,
      "outputs": [
        {
          "output_type": "stream",
          "name": "stdout",
          "text": [
            "숫자를 입력하세요 : 5\n",
            "결과는 55입니다.\n"
          ]
        }
      ]
    },
    {
      "cell_type": "markdown",
      "source": [
        "# 연습문제 10"
      ],
      "metadata": {
        "id": "86SzVDGMeuoF"
      }
    },
    {
      "cell_type": "code",
      "source": [
        "n = int(input(\"숫자를 입력하세요 : \"))\n",
        "total = 0\n",
        "for i in range(1, n + 1):\n",
        "  total += (1/i) ** 2\n",
        "\n",
        "print(f\"결과는 {total}입니다.\")"
      ],
      "metadata": {
        "colab": {
          "base_uri": "https://localhost:8080/"
        },
        "id": "rrkrXRwgesOW",
        "outputId": "d4e882a7-7dd0-411f-a999-8ecf8f4de871"
      },
      "execution_count": 48,
      "outputs": [
        {
          "output_type": "stream",
          "name": "stdout",
          "text": [
            "숫자를 입력하세요 : 10\n",
            "결과는 1.5497677311665408입니다.\n"
          ]
        }
      ]
    },
    {
      "cell_type": "code",
      "source": [
        "n = int(input(\"숫자를 입력하세요 : \"))\n",
        "total = 0\n",
        "for i in range(1, n + 1):\n",
        "  total += (1/i) ** 2\n",
        "\n",
        "print(f\"결과는 {total}입니다.\")"
      ],
      "metadata": {
        "colab": {
          "base_uri": "https://localhost:8080/"
        },
        "id": "_hptFkcUe6h3",
        "outputId": "d112cb5e-6385-4789-b790-652867682e53"
      },
      "execution_count": 49,
      "outputs": [
        {
          "output_type": "stream",
          "name": "stdout",
          "text": [
            "숫자를 입력하세요 : 100\n",
            "결과는 1.6349839001848923입니다.\n"
          ]
        }
      ]
    },
    {
      "cell_type": "markdown",
      "source": [
        "# 연습문제 11"
      ],
      "metadata": {
        "id": "xY_x0-K4e8yK"
      }
    },
    {
      "cell_type": "code",
      "source": [
        "day = 0\n",
        "position = 0\n",
        "while True:\n",
        "  day += 1\n",
        "  position += 7\n",
        "  print(f\"day: {day}\\t\\t달팽이의 위치 : {position} 미터\")\n",
        "  if position >= 30:\n",
        "    break\n",
        "  position -= 5\n",
        "\n",
        "print(f\"\\n우물을 탈출하는 데 걸린 날은 {day}일입니다.\")"
      ],
      "metadata": {
        "colab": {
          "base_uri": "https://localhost:8080/"
        },
        "id": "9qYCCkKfe7z1",
        "outputId": "6660c436-1cb7-4890-c476-b7aa49a98a44"
      },
      "execution_count": 58,
      "outputs": [
        {
          "output_type": "stream",
          "name": "stdout",
          "text": [
            "day: 1\t\t달팽이의 위치 : 7 미터\n",
            "day: 2\t\t달팽이의 위치 : 9 미터\n",
            "day: 3\t\t달팽이의 위치 : 11 미터\n",
            "day: 4\t\t달팽이의 위치 : 13 미터\n",
            "day: 5\t\t달팽이의 위치 : 15 미터\n",
            "day: 6\t\t달팽이의 위치 : 17 미터\n",
            "day: 7\t\t달팽이의 위치 : 19 미터\n",
            "day: 8\t\t달팽이의 위치 : 21 미터\n",
            "day: 9\t\t달팽이의 위치 : 23 미터\n",
            "day: 10\t\t달팽이의 위치 : 25 미터\n",
            "day: 11\t\t달팽이의 위치 : 27 미터\n",
            "day: 12\t\t달팽이의 위치 : 29 미터\n",
            "day: 13\t\t달팽이의 위치 : 31 미터\n",
            "\n",
            "우물을 탈출하는 데 걸린 날은 13일입니다.\n"
          ]
        }
      ]
    },
    {
      "cell_type": "markdown",
      "source": [
        "# 연습문제 12"
      ],
      "metadata": {
        "id": "2fnqAnN8gR97"
      }
    },
    {
      "cell_type": "code",
      "source": [
        "n = int(input(\"n을 입력하시오 : \"))\n",
        "for i in range(n):\n",
        "  if i % 2 == 0:\n",
        "    for j in range(1, n + 1):\n",
        "      print(f\"{j + i*n:2d}\", end= \" \")\n",
        "  else:\n",
        "    for j in range(n, 0, -1):\n",
        "      print(f\"{j + i*n:2d}\", end= \" \")\n",
        "  print()"
      ],
      "metadata": {
        "colab": {
          "base_uri": "https://localhost:8080/"
        },
        "id": "Mwq0u3Paff0W",
        "outputId": "c3daf2e3-6cef-46c4-9a13-d22c38bab0c7"
      },
      "execution_count": 61,
      "outputs": [
        {
          "output_type": "stream",
          "name": "stdout",
          "text": [
            "n을 입력하시오 : 5\n",
            " 1  2  3  4  5 \n",
            "10  9  8  7  6 \n",
            "11 12 13 14 15 \n",
            "20 19 18 17 16 \n",
            "21 22 23 24 25 \n"
          ]
        }
      ]
    },
    {
      "cell_type": "code",
      "source": [
        "n = int(input(\"n을 입력하시오 : \"))\n",
        "for i in range(n):\n",
        "  if i % 2 == 0:\n",
        "    for j in range(1, n + 1):\n",
        "      print(f\"{j + i*n:2d}\", end= \" \")\n",
        "  else:\n",
        "    for j in range(n, 0, -1):\n",
        "      print(f\"{j + i*n:2d}\", end= \" \")\n",
        "  print()"
      ],
      "metadata": {
        "colab": {
          "base_uri": "https://localhost:8080/"
        },
        "id": "Vi0airxCgqQu",
        "outputId": "6e580550-25f2-4372-9e38-94c3172f328a"
      },
      "execution_count": 62,
      "outputs": [
        {
          "output_type": "stream",
          "name": "stdout",
          "text": [
            "n을 입력하시오 : 6\n",
            " 1  2  3  4  5  6 \n",
            "12 11 10  9  8  7 \n",
            "13 14 15 16 17 18 \n",
            "24 23 22 21 20 19 \n",
            "25 26 27 28 29 30 \n",
            "36 35 34 33 32 31 \n"
          ]
        }
      ]
    },
    {
      "cell_type": "markdown",
      "source": [
        "# 연습문제 13"
      ],
      "metadata": {
        "id": "TcRzL7ZXiElq"
      }
    },
    {
      "cell_type": "code",
      "source": [
        "print(\"세 자리의 암스트롱 수 : \", end = \"\")\n",
        "for n in range(100, 1000):\n",
        "  n1 = n // 100\n",
        "  n2 = (n % 100) // 10\n",
        "  n3 = n % 10\n",
        "  if n1 ** 3 + n2 ** 3 + n3 ** 3 == n:\n",
        "    print(n, end = \" \")"
      ],
      "metadata": {
        "colab": {
          "base_uri": "https://localhost:8080/"
        },
        "id": "Ofyjkoi8h8Ry",
        "outputId": "74b318f6-cd07-4f8c-f60e-708ba62ef740"
      },
      "execution_count": 67,
      "outputs": [
        {
          "output_type": "stream",
          "name": "stdout",
          "text": [
            "세 자리의 암스트롱 수 : 153 370 371 407 "
          ]
        }
      ]
    },
    {
      "cell_type": "markdown",
      "source": [
        "# 연습문제 14"
      ],
      "metadata": {
        "id": "v1QIhlwhi-ji"
      }
    },
    {
      "cell_type": "code",
      "source": [
        "n = int(input(\"정수를 입력하시오 : \"))\n",
        "\n",
        "original_n = n\n",
        "reversed_n = 0\n",
        "while original_n > 0:\n",
        "  digit = original_n % 10\n",
        "  reversed_n = reversed_n * 10 + digit\n",
        "  original_n //= 10\n",
        "\n",
        "if reversed_n == n:\n",
        "  print(f\"{n}은(는) 거꾸로 정수입니다.\")\n",
        "else:\n",
        "  print(f\"{n}은(는) 거꾸로 정수가 아닙니다.\")"
      ],
      "metadata": {
        "colab": {
          "base_uri": "https://localhost:8080/"
        },
        "id": "hiPZz3JjilR3",
        "outputId": "f751a7c3-2dd4-4d5d-8311-0db8f0e3ce45"
      },
      "execution_count": 94,
      "outputs": [
        {
          "output_type": "stream",
          "name": "stdout",
          "text": [
            "정수를 입력하시오 : 3443\n",
            "3443은(는) 거꾸로 정수입니다.\n"
          ]
        }
      ]
    },
    {
      "cell_type": "code",
      "source": [
        "n = int(input(\"정수를 입력하시오 : \"))\n",
        "\n",
        "original_n = n\n",
        "reversed_n = 0\n",
        "while original_n > 0:\n",
        "  digit = original_n % 10\n",
        "  reversed_n = reversed_n * 10 + digit\n",
        "  original_n //= 10\n",
        "\n",
        "if reversed_n == n:\n",
        "  print(f\"{n}은(는) 거꾸로 정수입니다.\")\n",
        "else:\n",
        "  print(f\"{n}은(는) 거꾸로 정수가 아닙니다.\")"
      ],
      "metadata": {
        "colab": {
          "base_uri": "https://localhost:8080/"
        },
        "id": "0uqnfTtMkYbe",
        "outputId": "e51a6898-c767-4721-cbc2-bdced0d9a05c"
      },
      "execution_count": 71,
      "outputs": [
        {
          "output_type": "stream",
          "name": "stdout",
          "text": [
            "정수를 입력하시오 : 324\n",
            "324은(는) 거꾸로 정수가 아닙니다.\n"
          ]
        }
      ]
    },
    {
      "cell_type": "markdown",
      "source": [
        "# 연습문제 15"
      ],
      "metadata": {
        "id": "U-ghKmiElAwB"
      }
    },
    {
      "cell_type": "code",
      "source": [
        "fuel = 500\n",
        "while fuel >= 50:\n",
        "  value = int(input(\"충전 또는 사용한 연료를 +/- 기호와 함께 입력하시오: \"))\n",
        "  fuel += value\n",
        "  print(f\"현재 탱크양은 {fuel} 입니다.\")\n",
        "\n",
        "print(\"경고 : 연료가 10% 미만이니 충전하세요!\")"
      ],
      "metadata": {
        "colab": {
          "base_uri": "https://localhost:8080/"
        },
        "id": "K1LKzgdIk7cj",
        "outputId": "6f66eff7-e46b-44f0-d031-a2895844c453"
      },
      "execution_count": 73,
      "outputs": [
        {
          "output_type": "stream",
          "name": "stdout",
          "text": [
            "충전 또는 사용한 연료를 +/- 기호와 함께 입력하시오: +60\n",
            "현재 탱크양은 560 입니다.\n",
            "충전 또는 사용한 연료를 +/- 기호와 함께 입력하시오: -300\n",
            "현재 탱크양은 260 입니다.\n",
            "충전 또는 사용한 연료를 +/- 기호와 함께 입력하시오: -220\n",
            "현재 탱크양은 40 입니다.\n",
            "경고 : 연료가 10% 미만이니 충전하세요!\n"
          ]
        }
      ]
    },
    {
      "cell_type": "markdown",
      "source": [
        "# 연습문제 16"
      ],
      "metadata": {
        "id": "4i4oOl1Jl0lP"
      }
    },
    {
      "cell_type": "code",
      "source": [
        "print(\"1)덧셈 2)뺄셈 3)곱셈 4)나눗셈\")\n",
        "menu = int(input(\"어떤 연산을 원하는지 번호를 입력하세요 : \"))\n",
        "if menu not in [1, 2, 3, 4]:\n",
        "  print(\"잘못 입력하였습니다.\")\n",
        "else:\n",
        "  print(\"연산을 원하는 숫자 두개를 입력하세요\")\n",
        "  n1 = int(input())\n",
        "  n2 = int(input())\n",
        "  if menu == 1:\n",
        "    print(f\"{n1} + {n2} = {n1 + n2}\")\n",
        "  elif menu == 2:\n",
        "    print(f\"{n1} - {n2} = {n1 - n2}\")\n",
        "  elif menu == 3:\n",
        "    print(f\"{n1} * {n2} = {n1 * n2}\")\n",
        "  elif menu == 4:\n",
        "    print(f\"{n1} / {n2} = {n1 / n2}\")"
      ],
      "metadata": {
        "colab": {
          "base_uri": "https://localhost:8080/"
        },
        "id": "UFoXHjMYluFg",
        "outputId": "39c831ff-325c-4f72-eb2a-ed24b6ab3552"
      },
      "execution_count": 74,
      "outputs": [
        {
          "output_type": "stream",
          "name": "stdout",
          "text": [
            "1)덧셈 2)뺄셈 3)곱셈 4)나눗셈\n",
            "어떤 연산을 원하는지 번호를 입력하세요 : 4\n",
            "연산을 원하는 숫자 두개를 입력하세요\n",
            "3\n",
            "4\n",
            "3 / 4 = 0.75\n"
          ]
        }
      ]
    },
    {
      "cell_type": "code",
      "source": [
        "print(\"1)덧셈 2)뺄셈 3)곱셈 4)나눗셈\")\n",
        "menu = int(input(\"어떤 연산을 원하는지 번호를 입력하세요 : \"))\n",
        "if menu not in [1, 2, 3, 4]:\n",
        "  print(\"잘못 입력하였습니다.\")\n",
        "else:\n",
        "  print(\"연산을 원하는 숫자 두개를 입력하세요\")\n",
        "  n1 = int(input())\n",
        "  n2 = int(input())\n",
        "  if menu == 1:\n",
        "    print(f\"{n1} + {n2} = {n1 + n2}\")\n",
        "  elif menu == 2:\n",
        "    print(f\"{n1} - {n2} = {n1 - n2}\")\n",
        "  elif menu == 3:\n",
        "    print(f\"{n1} * {n2} = {n1 * n2}\")\n",
        "  elif menu == 4:\n",
        "    print(f\"{n1} / {n2} = {n1 / n2}\")"
      ],
      "metadata": {
        "colab": {
          "base_uri": "https://localhost:8080/"
        },
        "id": "pfEwoO6WmdSu",
        "outputId": "bb8eec9c-d50d-4990-817e-3f911bbc80bd"
      },
      "execution_count": 75,
      "outputs": [
        {
          "output_type": "stream",
          "name": "stdout",
          "text": [
            "1)덧셈 2)뺄셈 3)곱셈 4)나눗셈\n",
            "어떤 연산을 원하는지 번호를 입력하세요 : 6\n",
            "잘못 입력하였습니다.\n"
          ]
        }
      ]
    },
    {
      "cell_type": "markdown",
      "source": [
        "# 연습문제 17"
      ],
      "metadata": {
        "id": "DRX1eBwPmiev"
      }
    },
    {
      "cell_type": "code",
      "source": [
        "for num in range(1, 20001):\n",
        "  sum_divisors_num = 0\n",
        "  for i in range(1, int(num ** 0.5) + 1):\n",
        "    if num % i == 0:\n",
        "      sum_divisors_num += i\n",
        "      if i != 1 and i ** 2 != num:\n",
        "        sum_divisors_num += num // i\n",
        "\n",
        "  if num == sum_divisors_num:\n",
        "      continue\n",
        "\n",
        "  total = 0\n",
        "  for j in range(1, int(sum_divisors_num ** 0.5) + 1):\n",
        "    if sum_divisors_num % j == 0:\n",
        "      total += j\n",
        "      if j != 1 and j ** 2 != sum_divisors_num:\n",
        "        total += sum_divisors_num // j\n",
        "\n",
        "  if num == total:\n",
        "    print(f\"{num}의 친화수 {sum_divisors_num}\")"
      ],
      "metadata": {
        "colab": {
          "base_uri": "https://localhost:8080/"
        },
        "id": "AspxrEypmhDj",
        "outputId": "bbbeb866-31cc-4465-a16d-c75efc4a2c85"
      },
      "execution_count": 92,
      "outputs": [
        {
          "output_type": "stream",
          "name": "stdout",
          "text": [
            "220의 친화수 284\n",
            "284의 친화수 220\n",
            "1184의 친화수 1210\n",
            "1210의 친화수 1184\n",
            "2620의 친화수 2924\n",
            "2924의 친화수 2620\n",
            "5020의 친화수 5564\n",
            "5564의 친화수 5020\n",
            "6232의 친화수 6368\n",
            "6368의 친화수 6232\n",
            "10744의 친화수 10856\n",
            "10856의 친화수 10744\n",
            "12285의 친화수 14595\n",
            "14595의 친화수 12285\n",
            "17296의 친화수 18416\n",
            "18416의 친화수 17296\n"
          ]
        }
      ]
    }
  ]
}