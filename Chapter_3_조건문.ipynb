{
  "nbformat": 4,
  "nbformat_minor": 0,
  "metadata": {
    "colab": {
      "provenance": [],
      "authorship_tag": "ABX9TyPrTtDTIic261XImXb3CxKP",
      "include_colab_link": true
    },
    "kernelspec": {
      "name": "python3",
      "display_name": "Python 3"
    },
    "language_info": {
      "name": "python"
    }
  },
  "cells": [
    {
      "cell_type": "markdown",
      "metadata": {
        "id": "view-in-github",
        "colab_type": "text"
      },
      "source": [
        "<a href=\"https://colab.research.google.com/github/jyj1206/Python/blob/main/Chapter_3_%EC%A1%B0%EA%B1%B4%EB%AC%B8.ipynb\" target=\"_parent\"><img src=\"https://colab.research.google.com/assets/colab-badge.svg\" alt=\"Open In Colab\"/></a>"
      ]
    },
    {
      "cell_type": "markdown",
      "source": [
        "# 연습문제 1"
      ],
      "metadata": {
        "id": "oFeCihYzUWkI"
      }
    },
    {
      "cell_type": "code",
      "execution_count": 1,
      "metadata": {
        "colab": {
          "base_uri": "https://localhost:8080/"
        },
        "id": "_wjYgChIT4ce",
        "outputId": "0e3913b4-ff2a-4b64-c124-15c49a5f71a1"
      },
      "outputs": [
        {
          "output_type": "execute_result",
          "data": {
            "text/plain": [
              "False"
            ]
          },
          "metadata": {},
          "execution_count": 1
        }
      ],
      "source": [
        "100 > 200"
      ]
    },
    {
      "cell_type": "code",
      "source": [
        "100 >= 200"
      ],
      "metadata": {
        "colab": {
          "base_uri": "https://localhost:8080/"
        },
        "id": "O4rRx2tRUjUP",
        "outputId": "c65f1fd3-1932-4cc5-973b-a6cceee17160"
      },
      "execution_count": 2,
      "outputs": [
        {
          "output_type": "execute_result",
          "data": {
            "text/plain": [
              "False"
            ]
          },
          "metadata": {},
          "execution_count": 2
        }
      ]
    },
    {
      "cell_type": "code",
      "source": [
        "100 < 200"
      ],
      "metadata": {
        "colab": {
          "base_uri": "https://localhost:8080/"
        },
        "id": "9PRu9jdAUjZ2",
        "outputId": "4e04c8dd-0e46-482b-b588-da510f031916"
      },
      "execution_count": 71,
      "outputs": [
        {
          "output_type": "execute_result",
          "data": {
            "text/plain": [
              "True"
            ]
          },
          "metadata": {},
          "execution_count": 71
        }
      ]
    },
    {
      "cell_type": "code",
      "source": [
        "100 <= 200"
      ],
      "metadata": {
        "colab": {
          "base_uri": "https://localhost:8080/"
        },
        "id": "oKZXNeMtUjdk",
        "outputId": "78751865-ec1c-4fe7-e31d-69f73f3c83bd"
      },
      "execution_count": 4,
      "outputs": [
        {
          "output_type": "execute_result",
          "data": {
            "text/plain": [
              "True"
            ]
          },
          "metadata": {},
          "execution_count": 4
        }
      ]
    },
    {
      "cell_type": "code",
      "source": [
        "100 == 200"
      ],
      "metadata": {
        "colab": {
          "base_uri": "https://localhost:8080/"
        },
        "id": "eROfQMqUUnhO",
        "outputId": "b431a18c-bfc5-4a87-cd5e-0726dba5da2c"
      },
      "execution_count": 5,
      "outputs": [
        {
          "output_type": "execute_result",
          "data": {
            "text/plain": [
              "False"
            ]
          },
          "metadata": {},
          "execution_count": 5
        }
      ]
    },
    {
      "cell_type": "code",
      "source": [
        "100 != 200"
      ],
      "metadata": {
        "colab": {
          "base_uri": "https://localhost:8080/"
        },
        "id": "zMr-GaI8Unk1",
        "outputId": "06ccdde1-4e58-4367-f6f1-52ecbe8bef9f"
      },
      "execution_count": 6,
      "outputs": [
        {
          "output_type": "execute_result",
          "data": {
            "text/plain": [
              "True"
            ]
          },
          "metadata": {},
          "execution_count": 6
        }
      ]
    },
    {
      "cell_type": "code",
      "source": [
        "200 == 200"
      ],
      "metadata": {
        "colab": {
          "base_uri": "https://localhost:8080/"
        },
        "id": "KqLzHG14Unm-",
        "outputId": "43201889-3e0a-4d2d-a225-d8cce500aa4d"
      },
      "execution_count": 7,
      "outputs": [
        {
          "output_type": "execute_result",
          "data": {
            "text/plain": [
              "True"
            ]
          },
          "metadata": {},
          "execution_count": 7
        }
      ]
    },
    {
      "cell_type": "code",
      "source": [
        "200 != 200"
      ],
      "metadata": {
        "colab": {
          "base_uri": "https://localhost:8080/"
        },
        "id": "AohCEF9hUnpD",
        "outputId": "cc85f3f1-55d4-4199-b887-21013ca7a190"
      },
      "execution_count": 8,
      "outputs": [
        {
          "output_type": "execute_result",
          "data": {
            "text/plain": [
              "False"
            ]
          },
          "metadata": {},
          "execution_count": 8
        }
      ]
    },
    {
      "cell_type": "code",
      "source": [
        "True or True"
      ],
      "metadata": {
        "colab": {
          "base_uri": "https://localhost:8080/"
        },
        "id": "X6G_sJ2zUnrP",
        "outputId": "3506d6a8-b8b6-4739-c728-7b2f2f34685d"
      },
      "execution_count": 9,
      "outputs": [
        {
          "output_type": "execute_result",
          "data": {
            "text/plain": [
              "True"
            ]
          },
          "metadata": {},
          "execution_count": 9
        }
      ]
    },
    {
      "cell_type": "code",
      "source": [
        "True or False"
      ],
      "metadata": {
        "colab": {
          "base_uri": "https://localhost:8080/"
        },
        "id": "mRiivOGXUuxI",
        "outputId": "3516bef1-3669-4921-efa7-8636c70a5033"
      },
      "execution_count": 10,
      "outputs": [
        {
          "output_type": "execute_result",
          "data": {
            "text/plain": [
              "True"
            ]
          },
          "metadata": {},
          "execution_count": 10
        }
      ]
    },
    {
      "cell_type": "code",
      "source": [
        "True and False"
      ],
      "metadata": {
        "colab": {
          "base_uri": "https://localhost:8080/"
        },
        "id": "dgq7zEyQUu8P",
        "outputId": "f9998b5e-462c-4610-9df6-0528de978eee"
      },
      "execution_count": 11,
      "outputs": [
        {
          "output_type": "execute_result",
          "data": {
            "text/plain": [
              "False"
            ]
          },
          "metadata": {},
          "execution_count": 11
        }
      ]
    },
    {
      "cell_type": "code",
      "source": [
        "True and True"
      ],
      "metadata": {
        "colab": {
          "base_uri": "https://localhost:8080/"
        },
        "id": "u8YEUe2EUvCg",
        "outputId": "ee3a01f4-ac49-43f0-ef1c-484ace26c981"
      },
      "execution_count": 12,
      "outputs": [
        {
          "output_type": "execute_result",
          "data": {
            "text/plain": [
              "True"
            ]
          },
          "metadata": {},
          "execution_count": 12
        }
      ]
    },
    {
      "cell_type": "code",
      "source": [
        "True or True and False"
      ],
      "metadata": {
        "colab": {
          "base_uri": "https://localhost:8080/"
        },
        "id": "MsBGsU-JUvHG",
        "outputId": "56476ee9-ba2c-4944-900d-0812a3ea332b"
      },
      "execution_count": 13,
      "outputs": [
        {
          "output_type": "execute_result",
          "data": {
            "text/plain": [
              "True"
            ]
          },
          "metadata": {},
          "execution_count": 13
        }
      ]
    },
    {
      "cell_type": "code",
      "source": [
        "True and True or False"
      ],
      "metadata": {
        "colab": {
          "base_uri": "https://localhost:8080/"
        },
        "id": "Q9K_2YevUvRe",
        "outputId": "fd59dd2c-c287-4228-8e55-f149b9d3acaf"
      },
      "execution_count": 14,
      "outputs": [
        {
          "output_type": "execute_result",
          "data": {
            "text/plain": [
              "True"
            ]
          },
          "metadata": {},
          "execution_count": 14
        }
      ]
    },
    {
      "cell_type": "code",
      "source": [
        "'Morning' < 'morning'"
      ],
      "metadata": {
        "colab": {
          "base_uri": "https://localhost:8080/"
        },
        "id": "F4mYW0rXUve7",
        "outputId": "bac16f54-c75a-42ee-9174-4123bb5490b3"
      },
      "execution_count": 15,
      "outputs": [
        {
          "output_type": "execute_result",
          "data": {
            "text/plain": [
              "True"
            ]
          },
          "metadata": {},
          "execution_count": 15
        }
      ]
    },
    {
      "cell_type": "code",
      "source": [
        "'A' > 'B'"
      ],
      "metadata": {
        "colab": {
          "base_uri": "https://localhost:8080/"
        },
        "id": "5ulmgWaqUvix",
        "outputId": "99053f46-d6a2-418a-f3e6-42a53f274a18"
      },
      "execution_count": 16,
      "outputs": [
        {
          "output_type": "execute_result",
          "data": {
            "text/plain": [
              "False"
            ]
          },
          "metadata": {},
          "execution_count": 16
        }
      ]
    },
    {
      "cell_type": "markdown",
      "source": [
        "# 연습문제 2"
      ],
      "metadata": {
        "id": "m_2CsogxUZW2"
      }
    },
    {
      "cell_type": "code",
      "source": [
        "n = input(\"이름을 입력하시오 : \")\n",
        "height = int(input(\"키를 입력하시오(단위 cm) : \"))\n",
        "if height >= 140 :\n",
        "    print(n, \"님은 놀이기구를 탈 수 있습니다.\")\n",
        "else :\n",
        "    print(n, \"님은 놀이기구를 탈 수 없습니다.\")"
      ],
      "metadata": {
        "colab": {
          "base_uri": "https://localhost:8080/"
        },
        "id": "8YIVKSNtUuUM",
        "outputId": "d031773b-2304-4373-b73a-5e81c50ce3a2"
      },
      "execution_count": 19,
      "outputs": [
        {
          "output_type": "stream",
          "name": "stdout",
          "text": [
            "이름을 입력하시오 : 동윤\n",
            "키를 입력하시오(단위 cm) : 170\n",
            "동윤 님은 놀이기구를 탈 수 있습니다.\n"
          ]
        }
      ]
    },
    {
      "cell_type": "code",
      "source": [
        "n = input(\"이름을 입력하시오 : \")\n",
        "height = int(input(\"키를 입력하시오(단위 cm) : \"))\n",
        "if height >= 140 :\n",
        "    print(n, \"님은 놀이기구를 탈 수 있습니다.\")\n",
        "else :\n",
        "    print(n, \"님은 놀이기구를 탈 수 없습니다.\")"
      ],
      "metadata": {
        "colab": {
          "base_uri": "https://localhost:8080/"
        },
        "id": "4WARHuJ3UuYZ",
        "outputId": "66f140ff-e7e9-4357-e7dc-ba30563eb6c8"
      },
      "execution_count": 20,
      "outputs": [
        {
          "output_type": "stream",
          "name": "stdout",
          "text": [
            "이름을 입력하시오 : 승주\n",
            "키를 입력하시오(단위 cm) : 132\n",
            "승주 님은 놀이기구를 탈 수 없습니다.\n"
          ]
        }
      ]
    },
    {
      "cell_type": "markdown",
      "source": [
        "# 연습문제 3"
      ],
      "metadata": {
        "id": "vcfKqVx5UZbe"
      }
    },
    {
      "cell_type": "code",
      "source": [
        "age = int(input(\"나이을 입력하시오 : \"))\n",
        "height = int(input(\"키를 입력하시오(단위 cm) : \"))\n",
        "if age >= 19 and height >= 150 :\n",
        "    print(\"입장할 수 있습니다.\")\n",
        "else :\n",
        "    print(\"입장할 수 없습니다.\")"
      ],
      "metadata": {
        "colab": {
          "base_uri": "https://localhost:8080/"
        },
        "id": "yOQcAAzdXNDB",
        "outputId": "cb7f1af1-2a61-4d26-e51e-20f8c25d1beb"
      },
      "execution_count": 21,
      "outputs": [
        {
          "output_type": "stream",
          "name": "stdout",
          "text": [
            "나이을 입력하시오 : 23\n",
            "키를 입력하시오(단위 cm) : 160\n",
            "입장할 수 있습니다.\n"
          ]
        }
      ]
    },
    {
      "cell_type": "code",
      "source": [
        "age = int(input(\"나이을 입력하시오 : \"))\n",
        "height = int(input(\"키를 입력하시오(단위 cm) : \"))\n",
        "if age >= 19 and height >= 150 :\n",
        "    print(\"입장할 수 있습니다.\")\n",
        "else :\n",
        "    print(\"입장할 수 없습니다.\")"
      ],
      "metadata": {
        "colab": {
          "base_uri": "https://localhost:8080/"
        },
        "id": "HLd5Sd6bXXTL",
        "outputId": "996b65d1-3eb1-4fb8-b57b-f2508dacb074"
      },
      "execution_count": 22,
      "outputs": [
        {
          "output_type": "stream",
          "name": "stdout",
          "text": [
            "나이을 입력하시오 : 16\n",
            "키를 입력하시오(단위 cm) : 163\n",
            "입장할 수 없습니다.\n"
          ]
        }
      ]
    },
    {
      "cell_type": "markdown",
      "source": [
        "# 연습문제 4"
      ],
      "metadata": {
        "id": "nBwkzn1NUZdf"
      }
    },
    {
      "cell_type": "code",
      "source": [
        "age = int(input(\"나이을 입력하시오 : \"))\n",
        "if age >= 20:\n",
        "  print(\"Adult\")\n",
        "elif age >= 10:\n",
        "  print(\"Youth\")\n",
        "else:\n",
        "  print(\"Kid\")"
      ],
      "metadata": {
        "colab": {
          "base_uri": "https://localhost:8080/"
        },
        "id": "6GDqiuiqXgVV",
        "outputId": "be4853db-8173-49b6-de59-7de6a2b3d0f4"
      },
      "execution_count": 23,
      "outputs": [
        {
          "output_type": "stream",
          "name": "stdout",
          "text": [
            "나이을 입력하시오 : 23\n",
            "Adult\n"
          ]
        }
      ]
    },
    {
      "cell_type": "code",
      "source": [
        "age = int(input(\"나이을 입력하시오 : \"))\n",
        "if age >= 20:\n",
        "  print(\"Adult\")\n",
        "elif age >= 10:\n",
        "  print(\"Youth\")\n",
        "else:\n",
        "  print(\"Kid\")"
      ],
      "metadata": {
        "colab": {
          "base_uri": "https://localhost:8080/"
        },
        "id": "sNbM3-IrXpSp",
        "outputId": "1c7fe70d-d3ef-42cf-8fa0-4e22f884667b"
      },
      "execution_count": 24,
      "outputs": [
        {
          "output_type": "stream",
          "name": "stdout",
          "text": [
            "나이을 입력하시오 : 18\n",
            "Youth\n"
          ]
        }
      ]
    },
    {
      "cell_type": "code",
      "source": [
        "age = int(input(\"나이을 입력하시오 : \"))\n",
        "if age >= 20:\n",
        "  print(\"Adult\")\n",
        "elif age >= 10:\n",
        "  print(\"Youth\")\n",
        "else:\n",
        "  print(\"Kid\")"
      ],
      "metadata": {
        "colab": {
          "base_uri": "https://localhost:8080/"
        },
        "id": "C7eudCH7XpX3",
        "outputId": "531e205b-8886-49f4-cbed-3e50c858c9d8"
      },
      "execution_count": 25,
      "outputs": [
        {
          "output_type": "stream",
          "name": "stdout",
          "text": [
            "나이을 입력하시오 : 9\n",
            "Kid\n"
          ]
        }
      ]
    },
    {
      "cell_type": "markdown",
      "source": [
        "# 연습문제 5"
      ],
      "metadata": {
        "id": "LW-A6pk_UZfY"
      }
    },
    {
      "cell_type": "code",
      "source": [
        "n1, n2 = map(int, input(\"두 정수를 입력하시오 : \").split())\n",
        "if n1 > n2 :\n",
        "    print(n2, n1)\n",
        "else :\n",
        "    print(n1, n2)"
      ],
      "metadata": {
        "colab": {
          "base_uri": "https://localhost:8080/"
        },
        "id": "Nkd5C4rKXvzb",
        "outputId": "6eed1ce2-4d88-4576-a08f-6116bbeda71c"
      },
      "execution_count": 27,
      "outputs": [
        {
          "output_type": "stream",
          "name": "stdout",
          "text": [
            "두 정수를 입력하시오 : 99 12\n",
            "12 99\n"
          ]
        }
      ]
    },
    {
      "cell_type": "markdown",
      "source": [
        "# 연습문제 6"
      ],
      "metadata": {
        "id": "r1Hp4csuUZhv"
      }
    },
    {
      "cell_type": "code",
      "source": [
        "n1, n2, n3 = map(int, input(\"세 정수를 입력하시오: \").split())\n",
        "\n",
        "if n1 <= n2:  # n1이 n2보다 작거나 같을 때\n",
        "    if n1 <= n3:  # n1이 n3보다 작거나 같을 때\n",
        "        smallest = n1\n",
        "        if n2 <= n3:\n",
        "            middle, largest = n2, n3\n",
        "        else:\n",
        "            middle, largest = n3, n2\n",
        "    else:  # n3가 n1보다 작음\n",
        "        smallest, middle, largest = n3, n1, n2\n",
        "else:  # n2가 n1보다 작음\n",
        "    if n2 <= n3:  # n2가 n3보다 작거나 같을 때\n",
        "        smallest = n2\n",
        "        if n1 <= n3:\n",
        "            middle, largest = n1, n3\n",
        "        else:\n",
        "            middle, largest = n3, n1\n",
        "    else:  # n3가 n2보다 작음\n",
        "        smallest, middle, largest = n3, n2, n1\n",
        "\n",
        "print(smallest, middle, largest)"
      ],
      "metadata": {
        "colab": {
          "base_uri": "https://localhost:8080/"
        },
        "id": "63N7CorCYBf7",
        "outputId": "ff97f7c5-d8f7-4d92-8e66-a401caf444de"
      },
      "execution_count": 36,
      "outputs": [
        {
          "output_type": "stream",
          "name": "stdout",
          "text": [
            "세 정수를 입력하시오: 9 12 4\n",
            "4 9 12\n"
          ]
        }
      ]
    },
    {
      "cell_type": "code",
      "source": [
        "n1, n2, n3 = map(int, input(\"세 정수를 입력하시오: \").split())\n",
        "\n",
        "if n1 <= n2:  # n1이 n2보다 작거나 같을 때\n",
        "    if n1 <= n3:  # n1이 n3보다 작거나 같을 때\n",
        "        smallest = n1\n",
        "        if n2 <= n3:\n",
        "            middle, largest = n2, n3\n",
        "        else:\n",
        "            middle, largest = n3, n2\n",
        "    else:  # n3가 n1보다 작음\n",
        "        smallest, middle, largest = n3, n1, n2\n",
        "else:  # n2가 n1보다 작음\n",
        "    if n2 <= n3:  # n2가 n3보다 작거나 같을 때\n",
        "        smallest = n2\n",
        "        if n1 <= n3:\n",
        "            middle, largest = n1, n3\n",
        "        else:\n",
        "            middle, largest = n3, n1\n",
        "    else:  # n3가 n2보다 작음\n",
        "        smallest, middle, largest = n3, n2, n1\n",
        "\n",
        "print(smallest, middle, largest)"
      ],
      "metadata": {
        "colab": {
          "base_uri": "https://localhost:8080/"
        },
        "id": "8rgPiR0uZBJy",
        "outputId": "ceaaa8b4-a5e7-4a9d-cafc-71c989d9418e"
      },
      "execution_count": 37,
      "outputs": [
        {
          "output_type": "stream",
          "name": "stdout",
          "text": [
            "세 정수를 입력하시오: 99 12 4\n",
            "4 12 99\n"
          ]
        }
      ]
    },
    {
      "cell_type": "markdown",
      "source": [
        "# 연습문제 7"
      ],
      "metadata": {
        "id": "SA8t3sD3UbBP"
      }
    },
    {
      "cell_type": "code",
      "source": [
        "game_score = int(input(\"게임점수를 입력하시오 : \"))\n",
        "if game_score >= 1000:\n",
        "    print(\"고수입니다.\")\n",
        "else:\n",
        "    print(\"입문자입니다.\")"
      ],
      "metadata": {
        "colab": {
          "base_uri": "https://localhost:8080/"
        },
        "id": "XEf3RvDOan4X",
        "outputId": "f31caf50-c6f6-4174-d36d-ca0f15bfcbfa"
      },
      "execution_count": 38,
      "outputs": [
        {
          "output_type": "stream",
          "name": "stdout",
          "text": [
            "게임점수를 입력하시오 : 990\n",
            "입문자입니다.\n"
          ]
        }
      ]
    },
    {
      "cell_type": "markdown",
      "source": [
        "# 연습문제 8"
      ],
      "metadata": {
        "id": "3zpd06r3UbEr"
      }
    },
    {
      "cell_type": "code",
      "source": [
        "x, y =map(int, input(\"점의 좌표 x, y를 입력하시오 : \").split())\n",
        "if x > 0 and y > 0:\n",
        "  print(\"1사분면에 있음\")\n",
        "elif x < 0 and y > 0:\n",
        "  print(\"2사분면에 있음\")\n",
        "elif x < 0 and y < 0:\n",
        "  print(\"3사분면에 있음\")\n",
        "elif x > 0 and y < 0:\n",
        "  print(\"4사분면에 있음\")\n",
        "else:\n",
        "  print(\"x축이나 y축에 있음\")"
      ],
      "metadata": {
        "colab": {
          "base_uri": "https://localhost:8080/"
        },
        "id": "93DMKgLnaxvD",
        "outputId": "0c5a55bf-f084-4708-e8c3-22be76260eac"
      },
      "execution_count": 39,
      "outputs": [
        {
          "output_type": "stream",
          "name": "stdout",
          "text": [
            "점의 좌표 x, y를 입력하시오 : 2 4\n",
            "1사분면에 있음\n"
          ]
        }
      ]
    },
    {
      "cell_type": "code",
      "source": [
        "x, y =map(int, input(\"점의 좌표 x, y를 입력하시오 : \").split())\n",
        "if x > 0 and y > 0:\n",
        "  print(\"1사분면에 있음\")\n",
        "elif x < 0 and y > 0:\n",
        "  print(\"2사분면에 있음\")\n",
        "elif x < 0 and y < 0:\n",
        "  print(\"3사분면에 있음\")\n",
        "elif x > 0 and y < 0:\n",
        "  print(\"4사분면에 있음\")\n",
        "else:\n",
        "  print(\"x축이나 y축에 있음\")"
      ],
      "metadata": {
        "colab": {
          "base_uri": "https://localhost:8080/"
        },
        "id": "uzXfKxjWbTgj",
        "outputId": "cff5df96-2308-4ec4-b015-21fd118a3130"
      },
      "execution_count": 40,
      "outputs": [
        {
          "output_type": "stream",
          "name": "stdout",
          "text": [
            "점의 좌표 x, y를 입력하시오 : -2 -4\n",
            "3사분면에 있음\n"
          ]
        }
      ]
    },
    {
      "cell_type": "markdown",
      "source": [
        "# 연습문제 9"
      ],
      "metadata": {
        "id": "JovScc-HUbHc"
      }
    },
    {
      "cell_type": "code",
      "source": [
        "n = int(input(\"정수를 입력하시오 : \"))\n",
        "if n % 2 == 0:\n",
        "  print(n, \"는(은) 2(으)로 나누어집니다.\")\n",
        "  if n % 3 == 0:\n",
        "    print(n, \"는(은) 3(으)로 나누어집니다.\")\n",
        "    print(n,\"는(은) 2와(과) 3 모두에 대해 동시에 나누어집니다.\")\n",
        "  else:\n",
        "    print(n, \"는(은) 3(으)로 나누어지지 않습니다.\")\n",
        "    print(n, \"는(은) 2와(과) 3 모두에 대해 동시에 나누어지지는 않습니다.\")\n",
        "else:\n",
        "  print(n, \"는(은) 2(으)로 나누어지지 않습니다.\")\n",
        "  if n % 3 == 0:\n",
        "    print(n, \"는(은) 3(으)로 나누어집니다.\")\n",
        "    print(n, \"는(은) 2와(과) 3 모두에 대해 동시에 나누어지지는 않습니다.\")\n",
        "  else:\n",
        "    print(n, \"는(은) 3(으)로 나누어지지 않습니다.\")\n",
        "    print(n, \"는(은) 2와(과) 3 모두에 대해 동시에 나누어지지는 않습니다.\")"
      ],
      "metadata": {
        "colab": {
          "base_uri": "https://localhost:8080/"
        },
        "id": "vG0Fy2xNbmSx",
        "outputId": "a5663253-03ff-4ad4-a981-4988518b8c57"
      },
      "execution_count": 70,
      "outputs": [
        {
          "output_type": "stream",
          "name": "stdout",
          "text": [
            "정수를 입력하시오 : 15\n",
            "15 는(은) 2(으)로 나누어지지 않습니다.\n",
            "15 는(은) 3(으)로 나누어집니다.\n",
            "15 는(은) 2와(과) 3 모두에 대해 동시에 나누어지지는 않습니다.\n"
          ]
        }
      ]
    },
    {
      "cell_type": "code",
      "source": [
        "n = int(input(\"정수를 입력하시오 : \"))\n",
        "if n % 2 == 0:\n",
        "  print(n, \"는(은) 2(으)로 나누어집니다.\")\n",
        "  if n % 3 == 0:\n",
        "    print(n, \"는(은) 3(으)로 나누어집니다.\")\n",
        "    print(n,\"는(은) 2와(과) 3 모두에 대해 동시에 나누어집니다.\")\n",
        "  else:\n",
        "    print(n, \"는(은) 3(으)로 나누어지지 않습니다.\")\n",
        "    print(n, \"는(은) 2와(과) 3 모두에 대해 동시에 나누어지지는 않습니다.\")\n",
        "else:\n",
        "  print(n, \"는(은) 2(으)로 나누어지지 않습니다.\")\n",
        "  if n % 3 == 0:\n",
        "    print(n, \"는(은) 3(으)로 나누어집니다.\")\n",
        "    print(n, \"는(은) 2와(과) 3 모두에 대해 동시에 나누어지지는 않습니다.\")\n",
        "  else:\n",
        "    print(n, \"는(은) 3(으)로 나누어지지 않습니다.\")\n",
        "    print(n, \"는(은) 2와(과) 3 모두에 대해 동시에 나누어지지는 않습니다.\")"
      ],
      "metadata": {
        "colab": {
          "base_uri": "https://localhost:8080/"
        },
        "id": "yp6sNbixeAud",
        "outputId": "2b366f59-7bd3-4905-8ff9-a07509a7e949"
      },
      "execution_count": 69,
      "outputs": [
        {
          "output_type": "stream",
          "name": "stdout",
          "text": [
            "정수를 입력하시오 : 12\n",
            "12 는(은) 2(으)로 나누어집니다.\n",
            "12 는(은) 3(으)로 나누어집니다.\n",
            "12 는(은) 2와(과) 3 모두에 대해 동시에 나누어집니다.\n"
          ]
        }
      ]
    },
    {
      "cell_type": "markdown",
      "source": [
        "# 연습문제 10"
      ],
      "metadata": {
        "id": "Op3F0WtRUbM2"
      }
    },
    {
      "cell_type": "code",
      "source": [
        "n1, n2 = map(int, input(\"두 정수를 입력하시오 : \").split())\n",
        "if n1 % n2 == 0:\n",
        "  print(n1, \"는(은)\", n2, \"의 배수입니다.\")\n",
        "else:\n",
        "  print(n1, \"는(은)\", n2, \"의 배수가 아닙니다.\")"
      ],
      "metadata": {
        "colab": {
          "base_uri": "https://localhost:8080/"
        },
        "id": "JhIkulDUeduj",
        "outputId": "c1f1e685-2312-4306-d95e-838e44118a7d"
      },
      "execution_count": 67,
      "outputs": [
        {
          "output_type": "stream",
          "name": "stdout",
          "text": [
            "두 정수를 입력하시오 : 15 5\n",
            "15 는(은) 5 의 배수입니다.\n"
          ]
        }
      ]
    },
    {
      "cell_type": "code",
      "source": [
        "n1, n2 = map(int, input(\"두 정수를 입력하시오 : \").split())\n",
        "if n1 % n2 == 0:\n",
        "  print(n1, \"는(은)\", n2, \"의 배수입니다.\")\n",
        "else:\n",
        "  print(n1, \"는(은)\", n2, \"의 배수가 아닙니다.\")"
      ],
      "metadata": {
        "colab": {
          "base_uri": "https://localhost:8080/"
        },
        "id": "Zvpf_yT9eolE",
        "outputId": "eb33756d-bacd-40a8-8d6d-059a53ebaf3d"
      },
      "execution_count": 68,
      "outputs": [
        {
          "output_type": "stream",
          "name": "stdout",
          "text": [
            "두 정수를 입력하시오 : 125 52\n",
            "125 는(은) 52 의 배수가 아닙니다.\n"
          ]
        }
      ]
    },
    {
      "cell_type": "markdown",
      "source": [
        "# 연습문제 11"
      ],
      "metadata": {
        "id": "oPbCLXU9UbQg"
      }
    },
    {
      "cell_type": "code",
      "source": [
        "n1, n2, n3 = map(int, input(\"세 복권번호를 입력하시오 : \").split())\n",
        "\n",
        "matched_count = 0\n",
        "\n",
        "# 복권 번호가 일치하는지 확인\n",
        "if n1 == 2 or n1 == 3 or n1 == 9:\n",
        "    matched_count += 1\n",
        "if n2 == 2 or n2 == 3 or n2 == 9:\n",
        "    matched_count += 1\n",
        "if n3 == 2 or n3 == 3 or n3 == 9:\n",
        "    matched_count += 1\n",
        "\n",
        "# 갯수에 따른 결과 반환\n",
        "if matched_count == 3:\n",
        "  print(\"상금 1억원\")\n",
        "elif matched_count == 2:\n",
        "  print(\"상금 1천만 원\")\n",
        "elif matched_count == 1:\n",
        "  print(\"상금 1만 원\")\n",
        "else:\n",
        "  print(\"다음 기회에...\")"
      ],
      "metadata": {
        "colab": {
          "base_uri": "https://localhost:8080/"
        },
        "id": "8_zhHYdLezsO",
        "outputId": "8cc55b93-60f2-43fb-c7ed-42c312be9b5c"
      },
      "execution_count": 53,
      "outputs": [
        {
          "output_type": "stream",
          "name": "stdout",
          "text": [
            "세 복권번호를 입력하시오 : 1 5 7\n",
            "다음 기회에...\n"
          ]
        }
      ]
    },
    {
      "cell_type": "code",
      "source": [
        "n1, n2, n3 = map(int, input(\"세 복권번호를 입력하시오 : \").split())\n",
        "\n",
        "matched_count = 0\n",
        "\n",
        "# 복권 번호가 일치하는지 확인\n",
        "if n1 == 2 or n1 == 3 or n1 == 9:\n",
        "    matched_count += 1\n",
        "if n2 == 2 or n2 == 3 or n2 == 9:\n",
        "    matched_count += 1\n",
        "if n3 == 2 or n3 == 3 or n3 == 9:\n",
        "    matched_count += 1\n",
        "\n",
        "# 갯수에 따른 결과 반환\n",
        "if matched_count == 3:\n",
        "  print(\"상금 1억원\")\n",
        "elif matched_count == 2:\n",
        "  print(\"상금 1천만 원\")\n",
        "elif matched_count == 1:\n",
        "  print(\"상금 1만 원\")\n",
        "else:\n",
        "  print(\"다음 기회에...\")"
      ],
      "metadata": {
        "colab": {
          "base_uri": "https://localhost:8080/"
        },
        "id": "r0kJFs4NgSkJ",
        "outputId": "0634c840-0190-4181-dea2-e1e47c2460d4"
      },
      "execution_count": 54,
      "outputs": [
        {
          "output_type": "stream",
          "name": "stdout",
          "text": [
            "세 복권번호를 입력하시오 : 1 2 7\n",
            "상금 1만 원\n"
          ]
        }
      ]
    },
    {
      "cell_type": "code",
      "source": [
        "n1, n2, n3 = map(int, input(\"세 복권번호를 입력하시오 : \").split())\n",
        "\n",
        "matched_count = 0\n",
        "\n",
        "# 복권 번호가 일치하는지 확인\n",
        "if n1 == 2 or n1 == 3 or n1 == 9:\n",
        "    matched_count += 1\n",
        "if n2 == 2 or n2 == 3 or n2 == 9:\n",
        "    matched_count += 1\n",
        "if n3 == 2 or n3 == 3 or n3 == 9:\n",
        "    matched_count += 1\n",
        "\n",
        "# 갯수에 따른 결과 반환\n",
        "if matched_count == 3:\n",
        "  print(\"상금 1억원\")\n",
        "elif matched_count == 2:\n",
        "  print(\"상금 1천만 원\")\n",
        "elif matched_count == 1:\n",
        "  print(\"상금 1만 원\")\n",
        "else:\n",
        "  print(\"다음 기회에...\")"
      ],
      "metadata": {
        "colab": {
          "base_uri": "https://localhost:8080/"
        },
        "id": "veYyroVNgWcY",
        "outputId": "ec71afc3-8827-4ce9-9463-0839b2b9d69e"
      },
      "execution_count": 55,
      "outputs": [
        {
          "output_type": "stream",
          "name": "stdout",
          "text": [
            "세 복권번호를 입력하시오 : 1 2 9\n",
            "상금 1천만 원\n"
          ]
        }
      ]
    },
    {
      "cell_type": "markdown",
      "source": [
        "# 연습문제 12"
      ],
      "metadata": {
        "id": "pDdJVB5kUbTt"
      }
    },
    {
      "cell_type": "code",
      "source": [
        "x, y = map(int, input(\"점의 좌표 x, y를 입력하시오 : \").split())\n",
        "dist = (x ** 2 + y ** 2) ** (1/2)\n",
        "if dist < 5:\n",
        "  print(\"원의 내부에 있음\")\n",
        "else:\n",
        "  print(\"원의 외부에 있음\")"
      ],
      "metadata": {
        "colab": {
          "base_uri": "https://localhost:8080/"
        },
        "id": "zWjShcDogbpF",
        "outputId": "ae257c7f-ee41-43c9-8313-c6598a30e796"
      },
      "execution_count": 60,
      "outputs": [
        {
          "output_type": "stream",
          "name": "stdout",
          "text": [
            "점의 좌표 x, y를 입력하시오 : 2 4\n",
            "원의 내부에 있음\n"
          ]
        }
      ]
    },
    {
      "cell_type": "code",
      "source": [
        "x, y = map(int, input(\"점의 좌표 x, y를 입력하시오 : \").split())\n",
        "dist = (x ** 2 + y ** 2) ** (1/2)\n",
        "if dist < 5:\n",
        "  print(\"원의 내부에 있음\")\n",
        "else:\n",
        "  print(\"원의 외부에 있음\")"
      ],
      "metadata": {
        "colab": {
          "base_uri": "https://localhost:8080/"
        },
        "id": "5nqjyXhUUX8t",
        "outputId": "1eb45820-2ea5-42fa-9af1-e71456aaf12f"
      },
      "execution_count": 59,
      "outputs": [
        {
          "output_type": "stream",
          "name": "stdout",
          "text": [
            "점의 좌표 x, y를 입력하시오 : 7 9\n",
            "원의 외부에 있음\n"
          ]
        }
      ]
    },
    {
      "cell_type": "markdown",
      "source": [
        "# 연습문제 13"
      ],
      "metadata": {
        "id": "y0B7N0UhhcAw"
      }
    },
    {
      "cell_type": "code",
      "source": [
        "x, y = map(int, input(\"점의 좌표 x, y를 입력하시오 : \").split())\n",
        "dist = ((x - 3) ** 2 + (y - 4) ** 2) ** (1/2)\n",
        "if dist < 10:\n",
        "  print(\"원의 내부에 있음\")\n",
        "else:\n",
        "  print(\"원의 외부에 있음\")"
      ],
      "metadata": {
        "colab": {
          "base_uri": "https://localhost:8080/"
        },
        "id": "TAnBDVpIhLGT",
        "outputId": "2c5cf05a-a62b-41b5-fe3f-884bca5206fe"
      },
      "execution_count": 63,
      "outputs": [
        {
          "output_type": "stream",
          "name": "stdout",
          "text": [
            "점의 좌표 x, y를 입력하시오 : -9 -5\n",
            "원의 외부에 있음\n"
          ]
        }
      ]
    },
    {
      "cell_type": "code",
      "source": [
        "x, y = map(int, input(\"점의 좌표 x, y를 입력하시오 : \").split())\n",
        "dist = ((x - 3) ** 2 + (y - 4) ** 2) ** (1/2)\n",
        "if dist < 10:\n",
        "  print(\"원의 내부에 있음\")\n",
        "else:\n",
        "  print(\"원의 외부에 있음\")"
      ],
      "metadata": {
        "colab": {
          "base_uri": "https://localhost:8080/"
        },
        "id": "RrRB0U9uh9Xb",
        "outputId": "2096e475-8918-4167-b803-1c6422fe5436"
      },
      "execution_count": 64,
      "outputs": [
        {
          "output_type": "stream",
          "name": "stdout",
          "text": [
            "점의 좌표 x, y를 입력하시오 : 7 9\n",
            "원의 내부에 있음\n"
          ]
        }
      ]
    },
    {
      "cell_type": "markdown",
      "source": [
        "# 연습문제 14"
      ],
      "metadata": {
        "id": "dyH-OvrkiUee"
      }
    },
    {
      "cell_type": "code",
      "source": [
        "alpa = input(\"알파벳을 입력하시오 : \")\n",
        "if alpa == \"a\" or alpa == \"e\" or alpa == \"i\" or alpa == \"o\" or alpa == \"u\":\n",
        "  print(alpa, \"은(는) 모음입니다.\")\n",
        "else:\n",
        "  print(alpa, \"은(는) 자음입니다.\")"
      ],
      "metadata": {
        "colab": {
          "base_uri": "https://localhost:8080/"
        },
        "id": "2SJYmzrbiAAR",
        "outputId": "0d4fde25-b63d-4883-f0f7-ff77165dcf08"
      },
      "execution_count": 65,
      "outputs": [
        {
          "output_type": "stream",
          "name": "stdout",
          "text": [
            "알파벳을 입력하시오 : i\n",
            "i 은(는) 모음입니다.\n"
          ]
        }
      ]
    },
    {
      "cell_type": "code",
      "source": [
        "alpa = input(\"알파벳을 입력하시오 : \")\n",
        "if alpa == \"a\" or alpa == \"e\" or alpa == \"i\" or alpa == \"o\" or alpa == \"u\":\n",
        "  print(alpa, \"은(는) 모음입니다.\")\n",
        "else:\n",
        "  print(alpa, \"은(는) 자음입니다.\")"
      ],
      "metadata": {
        "colab": {
          "base_uri": "https://localhost:8080/"
        },
        "id": "QAzb-ioDijzz",
        "outputId": "c1cda3a0-c9b5-4f4d-ec77-2ac09b657fbf"
      },
      "execution_count": 66,
      "outputs": [
        {
          "output_type": "stream",
          "name": "stdout",
          "text": [
            "알파벳을 입력하시오 : t\n",
            "t 은(는) 자음입니다.\n"
          ]
        }
      ]
    }
  ]
}