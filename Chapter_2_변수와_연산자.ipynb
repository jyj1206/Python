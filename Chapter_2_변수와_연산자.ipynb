{
  "nbformat": 4,
  "nbformat_minor": 0,
  "metadata": {
    "colab": {
      "provenance": [],
      "authorship_tag": "ABX9TyMBLyh4VsazRLKGx9aVd7Qv",
      "include_colab_link": true
    },
    "kernelspec": {
      "name": "python3",
      "display_name": "Python 3"
    },
    "language_info": {
      "name": "python"
    }
  },
  "cells": [
    {
      "cell_type": "markdown",
      "metadata": {
        "id": "view-in-github",
        "colab_type": "text"
      },
      "source": [
        "<a href=\"https://colab.research.google.com/github/jyj1206/Python/blob/main/Chapter_2_%EB%B3%80%EC%88%98%EC%99%80_%EC%97%B0%EC%82%B0%EC%9E%90.ipynb\" target=\"_parent\"><img src=\"https://colab.research.google.com/assets/colab-badge.svg\" alt=\"Open In Colab\"/></a>"
      ]
    },
    {
      "cell_type": "markdown",
      "source": [
        "# 연습문제 1"
      ],
      "metadata": {
        "id": "NC7GOY0tHoob"
      }
    },
    {
      "cell_type": "code",
      "execution_count": 1,
      "metadata": {
        "id": "goKUb5vl5hZa",
        "colab": {
          "base_uri": "https://localhost:8080/"
        },
        "outputId": "0ae02d3b-6518-41f9-c7e1-b4e53c9eefb0"
      },
      "outputs": [
        {
          "output_type": "stream",
          "name": "stdout",
          "text": [
            "100 + 200 = 300\n"
          ]
        }
      ],
      "source": [
        "print(100, '+', 200, '=', 100 + 200)"
      ]
    },
    {
      "cell_type": "code",
      "source": [
        "print(200, '+', 300, '+', 400, '=', 200 + 300 + 400)"
      ],
      "metadata": {
        "colab": {
          "base_uri": "https://localhost:8080/"
        },
        "id": "AVjdY-JNHq1W",
        "outputId": "52ceb6fa-b593-4512-8d7b-30f20b15174d"
      },
      "execution_count": 2,
      "outputs": [
        {
          "output_type": "stream",
          "name": "stdout",
          "text": [
            "200 + 300 + 400 = 900\n"
          ]
        }
      ]
    },
    {
      "cell_type": "markdown",
      "source": [
        "순서대로 200, 300, 400, 200 + 300 + 400"
      ],
      "metadata": {
        "id": "Wzl9bJDVH_Fl"
      }
    },
    {
      "cell_type": "markdown",
      "source": [
        "# 연습문제 2"
      ],
      "metadata": {
        "id": "wZkxtGTuITQu"
      }
    },
    {
      "cell_type": "code",
      "source": [
        "width = 30"
      ],
      "metadata": {
        "id": "QG1sIi99H9zq"
      },
      "execution_count": 68,
      "outputs": []
    },
    {
      "cell_type": "code",
      "source": [
        "height = 60"
      ],
      "metadata": {
        "id": "QlTqem2STDgq"
      },
      "execution_count": 69,
      "outputs": []
    },
    {
      "cell_type": "code",
      "source": [
        "print(width)"
      ],
      "metadata": {
        "colab": {
          "base_uri": "https://localhost:8080/"
        },
        "id": "UIsq5TBcIJVv",
        "outputId": "abf51b6b-4638-4161-9175-d16291524f59"
      },
      "execution_count": 7,
      "outputs": [
        {
          "output_type": "stream",
          "name": "stdout",
          "text": [
            "30\n"
          ]
        }
      ]
    },
    {
      "cell_type": "code",
      "source": [
        "print(height)"
      ],
      "metadata": {
        "colab": {
          "base_uri": "https://localhost:8080/"
        },
        "id": "44vHPxh4IJlr",
        "outputId": "74785fe3-3e16-423d-b88d-057137955726"
      },
      "execution_count": 8,
      "outputs": [
        {
          "output_type": "stream",
          "name": "stdout",
          "text": [
            "60\n"
          ]
        }
      ]
    },
    {
      "cell_type": "markdown",
      "source": [
        "# 연습문제 3"
      ],
      "metadata": {
        "id": "VCCGt-MIIR7a"
      }
    },
    {
      "cell_type": "code",
      "source": [
        "width = 30\n",
        "height = 60\n",
        "area = width * height # 사각형의 면적\n",
        "print(\"사각형의 면적 :\", area)"
      ],
      "metadata": {
        "colab": {
          "base_uri": "https://localhost:8080/"
        },
        "id": "hdD4UjM8IQu6",
        "outputId": "3d987b7f-1ca8-45f0-97da-8f36a0dccdd0"
      },
      "execution_count": 9,
      "outputs": [
        {
          "output_type": "stream",
          "name": "stdout",
          "text": [
            "사각형의 면적 : 1800\n"
          ]
        }
      ]
    },
    {
      "cell_type": "markdown",
      "source": [
        "# 연습문제 4"
      ],
      "metadata": {
        "id": "GZw4eb7DIf5K"
      }
    },
    {
      "cell_type": "code",
      "source": [
        "width = 40\n",
        "height = 20\n",
        "area = width * height / 2 # 삼각형의 면적\n",
        "print(\"삼각형의 면적 :\", area)"
      ],
      "metadata": {
        "colab": {
          "base_uri": "https://localhost:8080/"
        },
        "id": "DUmJ0V8yIdYN",
        "outputId": "b1e7ad7a-0043-4092-8b67-f9aa9f588d8e"
      },
      "execution_count": 14,
      "outputs": [
        {
          "output_type": "stream",
          "name": "stdout",
          "text": [
            "삼각형의 면적 : 400.0\n"
          ]
        }
      ]
    },
    {
      "cell_type": "markdown",
      "source": [
        "# 연습문제 5"
      ],
      "metadata": {
        "id": "uDITS7phJAcZ"
      }
    },
    {
      "cell_type": "code",
      "source": [
        "base = int(input('정사각형의 밑변을 입력하세요 : '))\n",
        "area = base * base\n",
        "print(\"정사각형의 면적 :\", area)"
      ],
      "metadata": {
        "colab": {
          "base_uri": "https://localhost:8080/"
        },
        "id": "uX5Vmt5aItZx",
        "outputId": "b0c8b91b-b178-4e83-e6bb-2389a5fb508e"
      },
      "execution_count": 17,
      "outputs": [
        {
          "output_type": "stream",
          "name": "stdout",
          "text": [
            "정사각형의 밑변을 입력하세요 : 40\n",
            "정사각형의 면적 : 1600\n"
          ]
        }
      ]
    },
    {
      "cell_type": "markdown",
      "source": [
        "# 연습문제 6"
      ],
      "metadata": {
        "id": "gJVTz0frJiZO"
      }
    },
    {
      "cell_type": "code",
      "source": [
        "print(\"1에서 10까지의 합 :\", 1 + 2 + 3 + 4 + 5 + 6 + 7 + 8 + 9)"
      ],
      "metadata": {
        "colab": {
          "base_uri": "https://localhost:8080/"
        },
        "id": "8TKQTK2oJcd_",
        "outputId": "5d13ae56-217d-40f4-999f-309695e4768b"
      },
      "execution_count": 67,
      "outputs": [
        {
          "output_type": "stream",
          "name": "stdout",
          "text": [
            "1에서 10까지의 합 : 45\n"
          ]
        }
      ]
    },
    {
      "cell_type": "markdown",
      "source": [
        "# 연습문제 7"
      ],
      "metadata": {
        "id": "PI793a7sJpCT"
      }
    },
    {
      "cell_type": "code",
      "source": [
        "print(\"10! =\",1 * 2 * 3 * 4 * 5 * 6 * 7 * 8 * 9)"
      ],
      "metadata": {
        "colab": {
          "base_uri": "https://localhost:8080/"
        },
        "id": "jKS9C-LfJn2X",
        "outputId": "cdf41c17-7982-4b06-eb8f-6811f39602b4"
      },
      "execution_count": 20,
      "outputs": [
        {
          "output_type": "stream",
          "name": "stdout",
          "text": [
            "10! = 362880\n"
          ]
        }
      ]
    },
    {
      "cell_type": "markdown",
      "source": [
        "# 연습문제 8"
      ],
      "metadata": {
        "id": "ORqGxYQrKEPx"
      }
    },
    {
      "cell_type": "code",
      "source": [
        "n = 2\n",
        "print(\"a \\t n\\t a**n\")\n",
        "print(2, \"\\t\", n, \"\\t\", 2 ** n)\n",
        "print(3, \"\\t\", n, \"\\t\", 3 ** n)\n",
        "print(4, \"\\t\", n, \"\\t\", 4 ** n)\n",
        "print(5, \"\\t\", n, \"\\t\", 5 ** n)\n",
        "print(6, \"\\t\", n, \"\\t\", 6 ** n)"
      ],
      "metadata": {
        "colab": {
          "base_uri": "https://localhost:8080/"
        },
        "id": "rssUbMmUJxWf",
        "outputId": "6abf196e-bd1c-4dc1-8953-6dcb470b08a0"
      },
      "execution_count": 66,
      "outputs": [
        {
          "output_type": "stream",
          "name": "stdout",
          "text": [
            "a \t n\t a**n\n",
            "2 \t 2 \t 4\n",
            "3 \t 2 \t 9\n",
            "4 \t 2 \t 16\n",
            "5 \t 2 \t 25\n",
            "6 \t 2 \t 36\n"
          ]
        }
      ]
    },
    {
      "cell_type": "markdown",
      "source": [
        "## 연습문제 9"
      ],
      "metadata": {
        "id": "A7be_ge0Kl5B"
      }
    },
    {
      "cell_type": "code",
      "source": [
        "print(\"섭씨 \\t 화씨\")\n",
        "celsius = 0\n",
        "print(celsius, \"\\t\", (9/5) * celsius + 32)\n",
        "celsius = 10\n",
        "print(celsius, \"\\t\", (9/5) * celsius + 32)\n",
        "celsius = 20\n",
        "print(celsius, \"\\t\", (9/5) * celsius + 32)\n",
        "celsius = 30\n",
        "print(celsius, \"\\t\", (9/5) * celsius + 32)\n",
        "celsius = 40\n",
        "print(celsius, \"\\t\", (9/5) * celsius + 32)\n",
        "celsius = 50\n",
        "print(celsius, \"\\t\", (9/5) * celsius + 32)"
      ],
      "metadata": {
        "colab": {
          "base_uri": "https://localhost:8080/"
        },
        "id": "42vcEKA4Kiwz",
        "outputId": "4a35145c-e547-4170-f89d-b996fc3f156b"
      },
      "execution_count": 28,
      "outputs": [
        {
          "output_type": "stream",
          "name": "stdout",
          "text": [
            "섭씨 \t 화씨\n",
            "0 \t 32.0\n",
            "10 \t 50.0\n",
            "20 \t 68.0\n",
            "30 \t 86.0\n",
            "40 \t 104.0\n",
            "50 \t 122.0\n"
          ]
        }
      ]
    },
    {
      "cell_type": "markdown",
      "source": [
        "# 연습문제 10"
      ],
      "metadata": {
        "id": "KpX3ou66Ll2j"
      }
    },
    {
      "cell_type": "code",
      "source": [
        "celsius = int(input(\"섭씨 온도를 입력하세요 : \"))\n",
        "print(\"섭씨\", celsius, \"도는 화씨\", (9/5) * celsius + 32, \"도 입니다.\")"
      ],
      "metadata": {
        "colab": {
          "base_uri": "https://localhost:8080/"
        },
        "id": "rNZqnGKbLnSc",
        "outputId": "482a9fb1-7060-41b6-9d9a-bf7d039c28cb"
      },
      "execution_count": 31,
      "outputs": [
        {
          "output_type": "stream",
          "name": "stdout",
          "text": [
            "섭씨 온도를 입력하세요 : 30\n",
            "섭씨 30 도는 화씨 86.0 도 입니다.\n"
          ]
        }
      ]
    },
    {
      "cell_type": "markdown",
      "source": [
        "# 연습문제 11"
      ],
      "metadata": {
        "id": "OJ77UPVaLh2b"
      }
    },
    {
      "cell_type": "code",
      "source": [
        "fahrenheit = int(input(\"화씨 온도를 입력하세요 : \"))\n",
        "print(\"화씨\", fahrenheit, \"도는 화씨\", (fahrenheit - 32) * (5/9), \"도 입니다.\")"
      ],
      "metadata": {
        "colab": {
          "base_uri": "https://localhost:8080/"
        },
        "id": "rdp1JXoxLZBs",
        "outputId": "f586924b-493e-49be-ef75-3556df073b9e"
      },
      "execution_count": 32,
      "outputs": [
        {
          "output_type": "stream",
          "name": "stdout",
          "text": [
            "화씨 온도를 입력하세요 : 86\n",
            "화씨 86 도는 화씨 30.0 도 입니다.\n"
          ]
        }
      ]
    },
    {
      "cell_type": "markdown",
      "source": [
        "# 연습문제 12"
      ],
      "metadata": {
        "id": "7iHMXGpbMMb6"
      }
    },
    {
      "cell_type": "code",
      "source": [
        "radius = 11\n",
        "PI = 3.141592\n",
        "print(\"원의 반지름 =\", radius, \"원의 둘레 =\", 2 * radius  * PI, \"원의 면적 =\", PI * radius ** 2)"
      ],
      "metadata": {
        "colab": {
          "base_uri": "https://localhost:8080/"
        },
        "id": "Vgnkd8IMMJkr",
        "outputId": "4df51fc7-7ff9-41dd-e9ed-c8ee2cb43729"
      },
      "execution_count": 36,
      "outputs": [
        {
          "output_type": "stream",
          "name": "stdout",
          "text": [
            "원의 반지름 = 11 원의 둘레 = 69.115024 원의 면적 = 380.132632\n"
          ]
        }
      ]
    },
    {
      "cell_type": "markdown",
      "source": [
        "# 연습문제 13"
      ],
      "metadata": {
        "id": "oOTIpVH2MQC_"
      }
    },
    {
      "cell_type": "code",
      "source": [
        "radius = int(input(\"원의 반지름을 입력하세요 : \"))\n",
        "PI = 3.141592\n",
        "print(\"원의 둘레 =\", 2 * radius  * PI, \"원의 면적 =\", PI * radius ** 2)"
      ],
      "metadata": {
        "colab": {
          "base_uri": "https://localhost:8080/"
        },
        "id": "cNxNYBNIMmyG",
        "outputId": "685d1769-95f6-4f55-fde2-83a737896ce0"
      },
      "execution_count": 39,
      "outputs": [
        {
          "output_type": "stream",
          "name": "stdout",
          "text": [
            "원의 반지름을 입력하세요 : 11\n",
            "원의 둘레 = 69.115024 원의 면적 = 380.132632\n"
          ]
        }
      ]
    },
    {
      "cell_type": "markdown",
      "source": [
        "# 연습문제 14"
      ],
      "metadata": {
        "id": "QS4wxsr-MRHO"
      }
    },
    {
      "cell_type": "code",
      "source": [
        "print(\"2의 제곱근 =\", 2 ** (1/2))\n",
        "print(\"3의 제곱근 =\", 3 ** (1/2))\n",
        "print(\"4의 제곱근 =\", 4 ** (1/2))\n",
        "print(\"5의 제곱근 =\", 5 ** (1/2))\n",
        "print(\"6의 제곱근 =\", 6 ** (1/2))\n",
        "print(\"7의 제곱근 =\", 7 ** (1/2))\n",
        "print(\"8의 제곱근 =\", 8 ** (1/2))\n",
        "print(\"9의 제곱근 =\", 9 ** (1/2))\n",
        "print(\"10의 제곱근 =\", 10 ** (1/2))"
      ],
      "metadata": {
        "colab": {
          "base_uri": "https://localhost:8080/"
        },
        "id": "atZS_KM0M-Cu",
        "outputId": "0324418d-2c1c-486c-c6f9-83a4f877a348"
      },
      "execution_count": 40,
      "outputs": [
        {
          "output_type": "stream",
          "name": "stdout",
          "text": [
            "2의 제곱근 = 1.4142135623730951\n",
            "3의 제곱근 = 1.7320508075688772\n",
            "4의 제곱근 = 2.0\n",
            "5의 제곱근 = 2.23606797749979\n",
            "6의 제곱근 = 2.449489742783178\n",
            "7의 제곱근 = 2.6457513110645907\n",
            "8의 제곱근 = 2.8284271247461903\n",
            "9의 제곱근 = 3.0\n",
            "10의 제곱근 = 3.1622776601683795\n"
          ]
        }
      ]
    },
    {
      "cell_type": "markdown",
      "source": [
        "# 연습문제 15"
      ],
      "metadata": {
        "id": "Lh9y-ErpMRWS"
      }
    },
    {
      "cell_type": "code",
      "source": [
        "base = int(input(\"밑변을 입력하세요 : \"))\n",
        "height = int(input(\"높이를 입력하세요 : \"))\n",
        "print(\"빗변 :\", (base**2 + height**2) ** (1/2))"
      ],
      "metadata": {
        "colab": {
          "base_uri": "https://localhost:8080/"
        },
        "id": "PzciiJWoNKJp",
        "outputId": "fd736ebe-ad93-4f32-bcaa-35a67a76f888"
      },
      "execution_count": 41,
      "outputs": [
        {
          "output_type": "stream",
          "name": "stdout",
          "text": [
            "밑변을 입력하세요 : 5\n",
            "높이를 입력하세요 : 12\n",
            "빗변 : 13.0\n"
          ]
        }
      ]
    },
    {
      "cell_type": "markdown",
      "source": [
        "# 연습문제 16"
      ],
      "metadata": {
        "id": "y_pdwsvGMRY9"
      }
    },
    {
      "cell_type": "code",
      "source": [
        "print(\"회전하기 전 :\", 1 + 2j)\n",
        "cos = 0\n",
        "sin = 1\n",
        "print(\"90도 회전한 후 :\", (1 + 2j) * (cos + sin*1j))"
      ],
      "metadata": {
        "colab": {
          "base_uri": "https://localhost:8080/"
        },
        "id": "3xhsrTbENoC6",
        "outputId": "fa34e99d-743b-4112-a0a2-2d3a087a04f6"
      },
      "execution_count": 46,
      "outputs": [
        {
          "output_type": "stream",
          "name": "stdout",
          "text": [
            "회전하기 전 : (1+2j)\n",
            "90도 회전한 후 : (-2+1j)\n"
          ]
        }
      ]
    },
    {
      "cell_type": "code",
      "source": [
        "print(\"회전하기 전 :\", 1 + 2j)\n",
        "cos = (3 ** (1/2))/2\n",
        "sin = 1/2\n",
        "print(\"30도 회전한 후 :\", (1 + 2j) * (cos + sin*1j))"
      ],
      "metadata": {
        "colab": {
          "base_uri": "https://localhost:8080/"
        },
        "id": "x6JPSzgpOWdG",
        "outputId": "5cf2964d-40cd-4a5e-b445-8cc7409b2214"
      },
      "execution_count": 47,
      "outputs": [
        {
          "output_type": "stream",
          "name": "stdout",
          "text": [
            "회전하기 전 : (1+2j)\n",
            "30도 회전한 후 : (-0.1339745962155614+2.232050807568877j)\n"
          ]
        }
      ]
    },
    {
      "cell_type": "markdown",
      "source": [
        "# 연습문제 17"
      ],
      "metadata": {
        "id": "4lh4LPxBMRcb"
      }
    },
    {
      "cell_type": "code",
      "source": [
        "print(2 << 0, 2 << 1, 2 << 2, 2 << 3, 2 << 4, 2 << 5, 2 << 6, 2 << 7, 2 << 8, 2 << 9)"
      ],
      "metadata": {
        "colab": {
          "base_uri": "https://localhost:8080/"
        },
        "id": "cctUgAoDPHJs",
        "outputId": "930fbf93-e114-434d-8cad-75bfafe6e3b3"
      },
      "execution_count": 49,
      "outputs": [
        {
          "output_type": "stream",
          "name": "stdout",
          "text": [
            "2 4 8 16 32 64 128 256 512 1024\n"
          ]
        }
      ]
    },
    {
      "cell_type": "markdown",
      "source": [
        "# 연습문제 18"
      ],
      "metadata": {
        "id": "f4yOZPMyMReI"
      }
    },
    {
      "cell_type": "code",
      "source": [
        "n = int(input(\"정수를 입력하세요: \"))\n",
        "if n % 2 == 0:\n",
        "  print(\"이 수가 짝수인가요?\", True)\n",
        "else:\n",
        "  print(\"이 수가 짝수인가요?\", False)"
      ],
      "metadata": {
        "colab": {
          "base_uri": "https://localhost:8080/"
        },
        "id": "oS338D5LPb7L",
        "outputId": "751ae693-eb0a-4ef2-9c54-a5f287ec0bd8"
      },
      "execution_count": 53,
      "outputs": [
        {
          "output_type": "stream",
          "name": "stdout",
          "text": [
            "정수를 입력하세요: 20\n",
            "이 수가 짝수인가요? True\n"
          ]
        }
      ]
    },
    {
      "cell_type": "code",
      "source": [
        "n = int(input(\"정수를 입력하세요: \"))\n",
        "if n % 2 == 0:\n",
        "  print(\"이 수가 짝수인가요?\", True)\n",
        "else:\n",
        "  print(\"이 수가 짝수인가요?\", False)"
      ],
      "metadata": {
        "colab": {
          "base_uri": "https://localhost:8080/"
        },
        "id": "uDI0vaqnP1Ks",
        "outputId": "78456ab5-2b1a-4e29-94c7-62e01b384f52"
      },
      "execution_count": 54,
      "outputs": [
        {
          "output_type": "stream",
          "name": "stdout",
          "text": [
            "정수를 입력하세요: 21\n",
            "이 수가 짝수인가요? False\n"
          ]
        }
      ]
    },
    {
      "cell_type": "markdown",
      "source": [
        "# 연습문제 19"
      ],
      "metadata": {
        "id": "LCHzxlqaMRgf"
      }
    },
    {
      "cell_type": "code",
      "source": [
        "n = int(input(\"정수를 입력하세요: \"))\n",
        "if n >= 0 and n < 100 and n % 2 == 0:\n",
        "    print(\"입력된 정수는 0에서 100의 범위 안에 있는 짝수인가요?\", True)\n",
        "else:\n",
        "    print(\"입력된 정수는 0에서 100의 범위 안에 있는 짝수인가요?\", False)\n",
        "\n",
        "n = int(input(\"정수를 입력하세요: \"))\n",
        "if n >= 0 and n < 100 and n % 2 == 0:\n",
        "    print(\"입력된 정수는 0에서 100의 범위 안에 있는 짝수인가요?\", True)\n",
        "else:\n",
        "    print(\"입력된 정수는 0에서 100의 범위 안에 있는 짝수인가요?\", False)"
      ],
      "metadata": {
        "colab": {
          "base_uri": "https://localhost:8080/"
        },
        "id": "3v-moIyrP4EZ",
        "outputId": "f04c070a-113c-4943-ff61-35318a649411"
      },
      "execution_count": 59,
      "outputs": [
        {
          "output_type": "stream",
          "name": "stdout",
          "text": [
            "정수를 입력하세요: 120\n",
            "입력된 정수는 0에서 100의 범위 안에 있는 짝수인가요? False\n",
            "정수를 입력하세요: 88\n",
            "입력된 정수는 0에서 100의 범위 안에 있는 짝수인가요? True\n"
          ]
        }
      ]
    },
    {
      "cell_type": "markdown",
      "source": [
        "# 연습문제 20"
      ],
      "metadata": {
        "id": "cfFfW4TkMRi4"
      }
    },
    {
      "cell_type": "code",
      "source": [
        "print(bin(5), \"&\", bin(6), \"=\", bin(5 & 6))\n",
        "print(bin(5), \"|\", bin(6), \"=\", bin(5 | 6))\n",
        "print(bin(5), \"^\", bin(6), \"=\", bin(5 ^ 6))"
      ],
      "metadata": {
        "colab": {
          "base_uri": "https://localhost:8080/"
        },
        "id": "G47Yt30fQhWD",
        "outputId": "673d51d4-c5e2-4aca-8ba7-17ff515a5581"
      },
      "execution_count": 61,
      "outputs": [
        {
          "output_type": "stream",
          "name": "stdout",
          "text": [
            "0b101 & 0b110 = 0b100\n",
            "0b101 | 0b110 = 0b111\n",
            "0b101 ^ 0b110 = 0b11\n"
          ]
        }
      ]
    },
    {
      "cell_type": "markdown",
      "source": [
        "# 연습문제 21"
      ],
      "metadata": {
        "id": "CNCvYYslMRoa"
      }
    },
    {
      "cell_type": "code",
      "source": [
        "n = int(input(\"정수를 입력하시오: \"))\n",
        "print(n, \"의 2진수 값 :\", bin(n))\n",
        "print(n, \"의 2진수 값에 대한 비트위 부정값\", bin(~n))"
      ],
      "metadata": {
        "colab": {
          "base_uri": "https://localhost:8080/"
        },
        "id": "Sqp8n6tFRDBQ",
        "outputId": "b8b96721-b5ea-4652-9403-cf587236d803"
      },
      "execution_count": 62,
      "outputs": [
        {
          "output_type": "stream",
          "name": "stdout",
          "text": [
            "정수를 입력하시오: 9\n",
            "9 의 2진수 값 : 0b1001\n",
            "9 의 2진수 값에 대한 비트위 부정값 -0b1010\n"
          ]
        }
      ]
    },
    {
      "cell_type": "markdown",
      "source": [
        "# 연습문제 22"
      ],
      "metadata": {
        "id": "cRG_PLteMRq7"
      }
    },
    {
      "cell_type": "code",
      "source": [
        "a = int(input(\"정수 a를 입력하시오: \"))\n",
        "b = int(input(\"정수 b를 입력하시오: \"))\n",
        "print(\"a / b의 몫 :\", a//b)\n",
        "print(\"a / b의 나머지 :\", a%b)"
      ],
      "metadata": {
        "colab": {
          "base_uri": "https://localhost:8080/"
        },
        "id": "aqe1vXDIRYgJ",
        "outputId": "64455590-25bb-4787-a6f7-42e91da533d0"
      },
      "execution_count": 63,
      "outputs": [
        {
          "output_type": "stream",
          "name": "stdout",
          "text": [
            "정수 a를 입력하시오: 202\n",
            "정수 b를 입력하시오: 50\n",
            "a / b의 몫 : 4\n",
            "a / b의 나머지 : 2\n"
          ]
        }
      ]
    },
    {
      "cell_type": "markdown",
      "source": [
        "# 연습문제 23"
      ],
      "metadata": {
        "id": "W9AqWmSIMR8e"
      }
    },
    {
      "cell_type": "code",
      "source": [
        "n = int(input(\"세 자리 정수를 입력하시오: \"))\n",
        "print(\"백의 자리 :\", n // 100)\n",
        "print(\"십의 자리 :\", (n % 100) // 10)\n",
        "print(\"일의 자리 :\", n % 10)"
      ],
      "metadata": {
        "colab": {
          "base_uri": "https://localhost:8080/"
        },
        "id": "f8D4EK6vRZ6O",
        "outputId": "1179e36a-dbbf-4b77-8815-ce0618146250"
      },
      "execution_count": 64,
      "outputs": [
        {
          "output_type": "stream",
          "name": "stdout",
          "text": [
            "세 자리 정수를 입력하시오: 349\n",
            "백의 자리 : 3\n",
            "십의 자리 : 4\n",
            "일의 자리 : 9\n"
          ]
        }
      ]
    },
    {
      "cell_type": "markdown",
      "source": [
        "# 연습문제 24"
      ],
      "metadata": {
        "id": "NppREr0rMR-n"
      }
    },
    {
      "cell_type": "code",
      "source": [
        "n = int(input(\"세 자리 정수를 입력하시오: \"))\n",
        "print(n % 10)\n",
        "print((n % 100) // 10)\n",
        "print(n // 100)"
      ],
      "metadata": {
        "colab": {
          "base_uri": "https://localhost:8080/"
        },
        "id": "R5znyN28RZe6",
        "outputId": "c08b1506-7aa2-4371-9319-a0e6d15d4203"
      },
      "execution_count": 65,
      "outputs": [
        {
          "output_type": "stream",
          "name": "stdout",
          "text": [
            "세 자리 정수를 입력하시오: 349\n",
            "9\n",
            "4\n",
            "3\n"
          ]
        }
      ]
    }
  ]
}