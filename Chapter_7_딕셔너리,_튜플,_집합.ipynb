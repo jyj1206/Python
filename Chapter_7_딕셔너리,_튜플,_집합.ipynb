{
  "nbformat": 4,
  "nbformat_minor": 0,
  "metadata": {
    "colab": {
      "provenance": [],
      "authorship_tag": "ABX9TyOzCY4kKTJDqntNowclg+Jy",
      "include_colab_link": true
    },
    "kernelspec": {
      "name": "python3",
      "display_name": "Python 3"
    },
    "language_info": {
      "name": "python"
    }
  },
  "cells": [
    {
      "cell_type": "markdown",
      "metadata": {
        "id": "view-in-github",
        "colab_type": "text"
      },
      "source": [
        "<a href=\"https://colab.research.google.com/github/jyj1206/Python/blob/main/Chapter_7_%EB%94%95%EC%85%94%EB%84%88%EB%A6%AC%2C_%ED%8A%9C%ED%94%8C%2C_%EC%A7%91%ED%95%A9.ipynb\" target=\"_parent\"><img src=\"https://colab.research.google.com/assets/colab-badge.svg\" alt=\"Open In Colab\"/></a>"
      ]
    },
    {
      "cell_type": "markdown",
      "source": [
        "# 연습문제 7.1"
      ],
      "metadata": {
        "id": "7E6yb30lcQBb"
      }
    },
    {
      "cell_type": "code",
      "execution_count": 3,
      "metadata": {
        "id": "a-yDoQ1CcQBc"
      },
      "outputs": [],
      "source": [
        "price = {'김밥': 5000, '어묵': 3000, '떡볶이':2000}"
      ]
    },
    {
      "cell_type": "code",
      "source": [
        "price['김밥']"
      ],
      "metadata": {
        "colab": {
          "base_uri": "https://localhost:8080/"
        },
        "id": "_-sWGkK11_Ju",
        "outputId": "3af869dc-617a-46ac-e2fd-dbc38c1f66ab"
      },
      "execution_count": 4,
      "outputs": [
        {
          "output_type": "execute_result",
          "data": {
            "text/plain": [
              "5000"
            ]
          },
          "metadata": {},
          "execution_count": 4
        }
      ]
    },
    {
      "cell_type": "code",
      "source": [
        "price['김밥'] = 6000"
      ],
      "metadata": {
        "id": "yced8-rh2B2C"
      },
      "execution_count": 5,
      "outputs": []
    },
    {
      "cell_type": "code",
      "source": [
        "price"
      ],
      "metadata": {
        "colab": {
          "base_uri": "https://localhost:8080/"
        },
        "id": "7PjHEvYR2CAP",
        "outputId": "cc4119be-42ac-4309-d00d-73cdfe81cfac"
      },
      "execution_count": 6,
      "outputs": [
        {
          "output_type": "execute_result",
          "data": {
            "text/plain": [
              "{'김밥': 6000, '어묵': 3000, '떡볶이': 2000}"
            ]
          },
          "metadata": {},
          "execution_count": 6
        }
      ]
    },
    {
      "cell_type": "code",
      "source": [
        "price.values()"
      ],
      "metadata": {
        "colab": {
          "base_uri": "https://localhost:8080/"
        },
        "id": "JbN5F6cj2IPD",
        "outputId": "14bd06e7-7838-49e8-91b5-886fb4aef2ed"
      },
      "execution_count": 7,
      "outputs": [
        {
          "output_type": "execute_result",
          "data": {
            "text/plain": [
              "dict_values([6000, 3000, 2000])"
            ]
          },
          "metadata": {},
          "execution_count": 7
        }
      ]
    },
    {
      "cell_type": "code",
      "source": [
        "price.keys()"
      ],
      "metadata": {
        "colab": {
          "base_uri": "https://localhost:8080/"
        },
        "id": "Z8OR_n9K2IRU",
        "outputId": "beb0f32c-1330-44cf-cf0f-6d223f7fddb8"
      },
      "execution_count": 8,
      "outputs": [
        {
          "output_type": "execute_result",
          "data": {
            "text/plain": [
              "dict_keys(['김밥', '어묵', '떡볶이'])"
            ]
          },
          "metadata": {},
          "execution_count": 8
        }
      ]
    },
    {
      "cell_type": "code",
      "source": [
        "print(f'이 식당의 메뉴 개수는 {len(price)}개 입니다.')"
      ],
      "metadata": {
        "colab": {
          "base_uri": "https://localhost:8080/"
        },
        "id": "rvH8Zk5t2ITd",
        "outputId": "d943f5e6-944a-4f30-8785-4de5cc78eb04"
      },
      "execution_count": 9,
      "outputs": [
        {
          "output_type": "stream",
          "name": "stdout",
          "text": [
            "이 식당의 메뉴 개수는 3개 입니다.\n"
          ]
        }
      ]
    },
    {
      "cell_type": "markdown",
      "source": [
        "# 연습문제 7.2"
      ],
      "metadata": {
        "id": "RIJtt07ZcQJ-"
      }
    },
    {
      "cell_type": "code",
      "execution_count": 10,
      "metadata": {
        "id": "ICKSI034cQJ_"
      },
      "outputs": [],
      "source": [
        "price['순대'] = 4500"
      ]
    },
    {
      "cell_type": "code",
      "source": [
        "price"
      ],
      "metadata": {
        "colab": {
          "base_uri": "https://localhost:8080/"
        },
        "id": "-OZJ-5S82Yfj",
        "outputId": "8b19a15a-2501-449e-adeb-8ee11bf3b670"
      },
      "execution_count": 12,
      "outputs": [
        {
          "output_type": "execute_result",
          "data": {
            "text/plain": [
              "{'김밥': 6000, '어묵': 3000, '떡볶이': 2000, '순대': 4500}"
            ]
          },
          "metadata": {},
          "execution_count": 12
        }
      ]
    },
    {
      "cell_type": "code",
      "source": [
        "print(f'순대의 가격은 {price[\"순대\"]} 원 입니다.')"
      ],
      "metadata": {
        "colab": {
          "base_uri": "https://localhost:8080/"
        },
        "id": "l_BmEgdO2aVJ",
        "outputId": "71ed6043-625b-4d37-f4e0-e72c56994f89"
      },
      "execution_count": 15,
      "outputs": [
        {
          "output_type": "stream",
          "name": "stdout",
          "text": [
            "순대의 가격은 4500 원 입니다.\n"
          ]
        }
      ]
    },
    {
      "cell_type": "code",
      "source": [
        "print(f'이 식당의 메뉴 개수는 {len(price)}개 입니다.')"
      ],
      "metadata": {
        "colab": {
          "base_uri": "https://localhost:8080/"
        },
        "id": "VMqhhUp52aXO",
        "outputId": "5c78dc7a-d9c1-4680-b051-c746c4384eb7"
      },
      "execution_count": 16,
      "outputs": [
        {
          "output_type": "stream",
          "name": "stdout",
          "text": [
            "이 식당의 메뉴 개수는 4개 입니다.\n"
          ]
        }
      ]
    },
    {
      "cell_type": "markdown",
      "source": [
        "# 연습문제 7.3"
      ],
      "metadata": {
        "id": "gjJijl4ccQM_"
      }
    },
    {
      "cell_type": "code",
      "execution_count": 20,
      "metadata": {
        "id": "j6JMQCuvcQM_"
      },
      "outputs": [],
      "source": [
        "menu = {'Americano':3000, 'Ice Americcano':3500, 'Cappuccino':4000, 'Caffe Latte':4500, 'Espresso':3600}"
      ]
    },
    {
      "cell_type": "code",
      "source": [
        "for key in menu:\n",
        "  print(f'{key:15s} 가격 : {menu[key]}원')"
      ],
      "metadata": {
        "colab": {
          "base_uri": "https://localhost:8080/"
        },
        "id": "CTTy9nQS3BCu",
        "outputId": "71edf12c-665a-475c-a02c-ccac49255e40"
      },
      "execution_count": 21,
      "outputs": [
        {
          "output_type": "stream",
          "name": "stdout",
          "text": [
            "Americano       가격 : 3000원\n",
            "Ice Americcano  가격 : 3500원\n",
            "Cappuccino      가격 : 4000원\n",
            "Caffe Latte     가격 : 4500원\n",
            "Espresso        가격 : 3600원\n"
          ]
        }
      ]
    },
    {
      "cell_type": "code",
      "source": [
        "choice = input('위의 메뉴중 하나를 선택하세요: ')\n",
        "\n",
        "if choice in menu:\n",
        "  print(f'{choice}는  {menu[choice]}원 입니다. 결제를 부탁드립니다.')\n",
        "else:\n",
        "  print(f'미안합니다. {choice}는 메뉴에 없습니다.')"
      ],
      "metadata": {
        "colab": {
          "base_uri": "https://localhost:8080/"
        },
        "id": "Ww7eBkRk3L1D",
        "outputId": "43f5b83a-0f8c-4d21-ea7e-50da7b4d7da1"
      },
      "execution_count": 23,
      "outputs": [
        {
          "output_type": "stream",
          "name": "stdout",
          "text": [
            "위의 메뉴중 하나를 선택하세요: Espresso\n",
            "Espresso는  3600원 입니다. 결제를 부탁드립니다.\n"
          ]
        }
      ]
    },
    {
      "cell_type": "code",
      "source": [
        "choice = input('위의 메뉴중 하나를 선택하세요: ')\n",
        "\n",
        "if choice in menu:\n",
        "  print(f'{choice}는  {menu[choice]}원 입니다. 결제를 부탁드립니다.')\n",
        "else:\n",
        "  print(f'미안합니다. {choice}는 메뉴에 없습니다.')"
      ],
      "metadata": {
        "colab": {
          "base_uri": "https://localhost:8080/"
        },
        "id": "8rpM3-nv3nAg",
        "outputId": "3cac4835-8ca4-450c-9eed-7af29f039e6a"
      },
      "execution_count": 24,
      "outputs": [
        {
          "output_type": "stream",
          "name": "stdout",
          "text": [
            "위의 메뉴중 하나를 선택하세요: Pen Cake\n",
            "미안합니다. Pen Cake는 메뉴에 없습니다.\n"
          ]
        }
      ]
    },
    {
      "cell_type": "markdown",
      "source": [
        "# 연습문제 7.4"
      ],
      "metadata": {
        "id": "pBAyL-KjcQPo"
      }
    },
    {
      "cell_type": "code",
      "execution_count": 25,
      "metadata": {
        "id": "IPMpl44lcQPo",
        "colab": {
          "base_uri": "https://localhost:8080/",
          "height": 166
        },
        "outputId": "2a93bfb7-8a92-4cf0-d4ef-fc8cb2ddc778"
      },
      "outputs": [
        {
          "output_type": "error",
          "ename": "AttributeError",
          "evalue": "'tuple' object has no attribute 'append'",
          "traceback": [
            "\u001b[0;31m---------------------------------------------------------------------------\u001b[0m",
            "\u001b[0;31mAttributeError\u001b[0m                            Traceback (most recent call last)",
            "\u001b[0;32m<ipython-input-25-d093effde712>\u001b[0m in \u001b[0;36m<cell line: 2>\u001b[0;34m()\u001b[0m\n\u001b[1;32m      1\u001b[0m \u001b[0mt\u001b[0m \u001b[0;34m=\u001b[0m \u001b[0;34m(\u001b[0m\u001b[0;36m10\u001b[0m\u001b[0;34m,\u001b[0m \u001b[0;36m20\u001b[0m\u001b[0;34m,\u001b[0m \u001b[0;36m30\u001b[0m\u001b[0;34m,\u001b[0m \u001b[0;36m40\u001b[0m\u001b[0;34m)\u001b[0m\u001b[0;34m\u001b[0m\u001b[0;34m\u001b[0m\u001b[0m\n\u001b[0;32m----> 2\u001b[0;31m \u001b[0mt\u001b[0m\u001b[0;34m.\u001b[0m\u001b[0mappend\u001b[0m\u001b[0;34m(\u001b[0m\u001b[0;36m50\u001b[0m\u001b[0;34m)\u001b[0m\u001b[0;34m\u001b[0m\u001b[0;34m\u001b[0m\u001b[0m\n\u001b[0m",
            "\u001b[0;31mAttributeError\u001b[0m: 'tuple' object has no attribute 'append'"
          ]
        }
      ],
      "source": [
        "t = (10, 20, 30, 40)\n",
        "t.append(50)"
      ]
    },
    {
      "cell_type": "code",
      "source": [
        "t = (10, 20, 30, 40)\n",
        "t.remove(40)"
      ],
      "metadata": {
        "colab": {
          "base_uri": "https://localhost:8080/",
          "height": 166
        },
        "id": "KPUa2IOm30Oz",
        "outputId": "8d0f0570-d7ff-405f-ded6-94ab1b1401ab"
      },
      "execution_count": 26,
      "outputs": [
        {
          "output_type": "error",
          "ename": "AttributeError",
          "evalue": "'tuple' object has no attribute 'remove'",
          "traceback": [
            "\u001b[0;31m---------------------------------------------------------------------------\u001b[0m",
            "\u001b[0;31mAttributeError\u001b[0m                            Traceback (most recent call last)",
            "\u001b[0;32m<ipython-input-26-8aa0677608f6>\u001b[0m in \u001b[0;36m<cell line: 2>\u001b[0;34m()\u001b[0m\n\u001b[1;32m      1\u001b[0m \u001b[0mt\u001b[0m \u001b[0;34m=\u001b[0m \u001b[0;34m(\u001b[0m\u001b[0;36m10\u001b[0m\u001b[0;34m,\u001b[0m \u001b[0;36m20\u001b[0m\u001b[0;34m,\u001b[0m \u001b[0;36m30\u001b[0m\u001b[0;34m,\u001b[0m \u001b[0;36m40\u001b[0m\u001b[0;34m)\u001b[0m\u001b[0;34m\u001b[0m\u001b[0;34m\u001b[0m\u001b[0m\n\u001b[0;32m----> 2\u001b[0;31m \u001b[0mt\u001b[0m\u001b[0;34m.\u001b[0m\u001b[0mremove\u001b[0m\u001b[0;34m(\u001b[0m\u001b[0;36m40\u001b[0m\u001b[0;34m)\u001b[0m\u001b[0;34m\u001b[0m\u001b[0;34m\u001b[0m\u001b[0m\n\u001b[0m",
            "\u001b[0;31mAttributeError\u001b[0m: 'tuple' object has no attribute 'remove'"
          ]
        }
      ]
    },
    {
      "cell_type": "code",
      "source": [
        "t = (10, 20, 30, 40)\n",
        "t[0] = 0"
      ],
      "metadata": {
        "colab": {
          "base_uri": "https://localhost:8080/",
          "height": 166
        },
        "id": "rwuVbG9730Si",
        "outputId": "f6bb5527-b8f3-4fa1-fe82-25546cee9c8f"
      },
      "execution_count": 27,
      "outputs": [
        {
          "output_type": "error",
          "ename": "TypeError",
          "evalue": "'tuple' object does not support item assignment",
          "traceback": [
            "\u001b[0;31m---------------------------------------------------------------------------\u001b[0m",
            "\u001b[0;31mTypeError\u001b[0m                                 Traceback (most recent call last)",
            "\u001b[0;32m<ipython-input-27-8e6554f5185e>\u001b[0m in \u001b[0;36m<cell line: 2>\u001b[0;34m()\u001b[0m\n\u001b[1;32m      1\u001b[0m \u001b[0mt\u001b[0m \u001b[0;34m=\u001b[0m \u001b[0;34m(\u001b[0m\u001b[0;36m10\u001b[0m\u001b[0;34m,\u001b[0m \u001b[0;36m20\u001b[0m\u001b[0;34m,\u001b[0m \u001b[0;36m30\u001b[0m\u001b[0;34m,\u001b[0m \u001b[0;36m40\u001b[0m\u001b[0;34m)\u001b[0m\u001b[0;34m\u001b[0m\u001b[0;34m\u001b[0m\u001b[0m\n\u001b[0;32m----> 2\u001b[0;31m \u001b[0mt\u001b[0m\u001b[0;34m[\u001b[0m\u001b[0;36m0\u001b[0m\u001b[0;34m]\u001b[0m \u001b[0;34m=\u001b[0m \u001b[0;36m0\u001b[0m\u001b[0;34m\u001b[0m\u001b[0;34m\u001b[0m\u001b[0m\n\u001b[0m",
            "\u001b[0;31mTypeError\u001b[0m: 'tuple' object does not support item assignment"
          ]
        }
      ]
    },
    {
      "cell_type": "markdown",
      "source": [
        "# 연습문제 7.5"
      ],
      "metadata": {
        "id": "koS7tws_cQRj"
      }
    },
    {
      "cell_type": "code",
      "execution_count": 28,
      "metadata": {
        "id": "6HzKxjGlcQRj"
      },
      "outputs": [],
      "source": [
        "t = (10, 20, 30, 40)"
      ]
    },
    {
      "cell_type": "code",
      "source": [
        "t[0]"
      ],
      "metadata": {
        "colab": {
          "base_uri": "https://localhost:8080/"
        },
        "id": "UqQurZS53-HG",
        "outputId": "3fad7fb8-bdcc-4f77-c222-52eb826531fd"
      },
      "execution_count": 29,
      "outputs": [
        {
          "output_type": "execute_result",
          "data": {
            "text/plain": [
              "10"
            ]
          },
          "metadata": {},
          "execution_count": 29
        }
      ]
    },
    {
      "cell_type": "code",
      "source": [
        "t[0:2]"
      ],
      "metadata": {
        "colab": {
          "base_uri": "https://localhost:8080/"
        },
        "id": "lRRcVfDq3_m7",
        "outputId": "bcfa96ce-37b6-4a63-e7e0-8d37eca10f77"
      },
      "execution_count": 30,
      "outputs": [
        {
          "output_type": "execute_result",
          "data": {
            "text/plain": [
              "(10, 20)"
            ]
          },
          "metadata": {},
          "execution_count": 30
        }
      ]
    },
    {
      "cell_type": "code",
      "source": [
        "t[1:]"
      ],
      "metadata": {
        "colab": {
          "base_uri": "https://localhost:8080/"
        },
        "id": "vG-1Ghla3_r5",
        "outputId": "cf12602b-a593-469a-c01c-00ce00303d29"
      },
      "execution_count": 31,
      "outputs": [
        {
          "output_type": "execute_result",
          "data": {
            "text/plain": [
              "(20, 30, 40)"
            ]
          },
          "metadata": {},
          "execution_count": 31
        }
      ]
    },
    {
      "cell_type": "code",
      "source": [
        "t[:3]"
      ],
      "metadata": {
        "colab": {
          "base_uri": "https://localhost:8080/"
        },
        "id": "sT8bnem03_uC",
        "outputId": "9da2de12-6c99-4859-ffc9-59b94e4512eb"
      },
      "execution_count": 32,
      "outputs": [
        {
          "output_type": "execute_result",
          "data": {
            "text/plain": [
              "(10, 20, 30)"
            ]
          },
          "metadata": {},
          "execution_count": 32
        }
      ]
    },
    {
      "cell_type": "code",
      "source": [
        "t[1::2]"
      ],
      "metadata": {
        "colab": {
          "base_uri": "https://localhost:8080/"
        },
        "id": "1kwSjAkp3_vn",
        "outputId": "1f143992-ace8-4fa3-c661-ccc64e87f635"
      },
      "execution_count": 33,
      "outputs": [
        {
          "output_type": "execute_result",
          "data": {
            "text/plain": [
              "(20, 40)"
            ]
          },
          "metadata": {},
          "execution_count": 33
        }
      ]
    },
    {
      "cell_type": "code",
      "source": [
        "t[::-1]"
      ],
      "metadata": {
        "colab": {
          "base_uri": "https://localhost:8080/"
        },
        "id": "1zQ08c-74DEI",
        "outputId": "01393c24-5d64-4577-cd3e-c1706bbaf70e"
      },
      "execution_count": 34,
      "outputs": [
        {
          "output_type": "execute_result",
          "data": {
            "text/plain": [
              "(40, 30, 20, 10)"
            ]
          },
          "metadata": {},
          "execution_count": 34
        }
      ]
    },
    {
      "cell_type": "markdown",
      "source": [
        "# 연습문제 7.6"
      ],
      "metadata": {
        "id": "hCOuG46AcQT5"
      }
    },
    {
      "cell_type": "code",
      "execution_count": 35,
      "metadata": {
        "id": "PET7AHDycQT6"
      },
      "outputs": [],
      "source": [
        "t1 = 'a', 'b', 'c'\n",
        "t2 = ('a', 'b', 'c')\n",
        "t3 = ('d', 'e')"
      ]
    },
    {
      "cell_type": "code",
      "source": [
        "t1 == t2"
      ],
      "metadata": {
        "colab": {
          "base_uri": "https://localhost:8080/"
        },
        "id": "CCBS6HSu4QLC",
        "outputId": "ccba6f04-ba5a-414e-9255-b90fa65f3d38"
      },
      "execution_count": 36,
      "outputs": [
        {
          "output_type": "execute_result",
          "data": {
            "text/plain": [
              "True"
            ]
          },
          "metadata": {},
          "execution_count": 36
        }
      ]
    },
    {
      "cell_type": "code",
      "source": [
        "t2 + t3"
      ],
      "metadata": {
        "colab": {
          "base_uri": "https://localhost:8080/"
        },
        "id": "n8HyMVGp4RhA",
        "outputId": "ec977c3c-1a47-48a2-e5ba-77bbb21ab978"
      },
      "execution_count": 37,
      "outputs": [
        {
          "output_type": "execute_result",
          "data": {
            "text/plain": [
              "('a', 'b', 'c', 'd', 'e')"
            ]
          },
          "metadata": {},
          "execution_count": 37
        }
      ]
    },
    {
      "cell_type": "code",
      "source": [
        "my_list = []\n",
        "for x in t1:\n",
        "  my_list.append(x)\n",
        "my_list"
      ],
      "metadata": {
        "colab": {
          "base_uri": "https://localhost:8080/"
        },
        "id": "EgzG1UNf4k4H",
        "outputId": "b8baf7dd-2382-405a-95fe-4ed29e0e6958"
      },
      "execution_count": 38,
      "outputs": [
        {
          "output_type": "execute_result",
          "data": {
            "text/plain": [
              "['a', 'b', 'c']"
            ]
          },
          "metadata": {},
          "execution_count": 38
        }
      ]
    },
    {
      "cell_type": "code",
      "source": [
        "[x for x in t1]"
      ],
      "metadata": {
        "colab": {
          "base_uri": "https://localhost:8080/"
        },
        "id": "GWktAaFs4k6s",
        "outputId": "21aede1d-156f-488b-b99a-c50f7514a29d"
      },
      "execution_count": 39,
      "outputs": [
        {
          "output_type": "execute_result",
          "data": {
            "text/plain": [
              "['a', 'b', 'c']"
            ]
          },
          "metadata": {},
          "execution_count": 39
        }
      ]
    },
    {
      "cell_type": "code",
      "source": [
        "my_list = []\n",
        "for x in t1:\n",
        "  for y in t3:\n",
        "    my_list.append(x + y)\n",
        "my_list"
      ],
      "metadata": {
        "colab": {
          "base_uri": "https://localhost:8080/"
        },
        "id": "lTsNxAs54k9D",
        "outputId": "49d8c6d9-fd81-4f1d-ab0c-a0486a00cd27"
      },
      "execution_count": 40,
      "outputs": [
        {
          "output_type": "execute_result",
          "data": {
            "text/plain": [
              "['ad', 'ae', 'bd', 'be', 'cd', 'ce']"
            ]
          },
          "metadata": {},
          "execution_count": 40
        }
      ]
    },
    {
      "cell_type": "code",
      "source": [
        "[x + y for x in t1 for y in t3]"
      ],
      "metadata": {
        "colab": {
          "base_uri": "https://localhost:8080/"
        },
        "id": "LuPcCB1F4liG",
        "outputId": "c58b9d32-88ab-4ec5-9e90-4f21f0484ad8"
      },
      "execution_count": 41,
      "outputs": [
        {
          "output_type": "execute_result",
          "data": {
            "text/plain": [
              "['ad', 'ae', 'bd', 'be', 'cd', 'ce']"
            ]
          },
          "metadata": {},
          "execution_count": 41
        }
      ]
    },
    {
      "cell_type": "markdown",
      "source": [
        "# 연습문제 7.7"
      ],
      "metadata": {
        "id": "sNMuJPoScQWK"
      }
    },
    {
      "cell_type": "code",
      "execution_count": 44,
      "metadata": {
        "id": "vj6m4cLAcQWK",
        "colab": {
          "base_uri": "https://localhost:8080/"
        },
        "outputId": "337387da-95a2-47fe-cbf3-afb699847657"
      },
      "outputs": [
        {
          "output_type": "stream",
          "name": "stdout",
          "text": [
            "일일 매출 기록: (100, 121, 120, 130, 140, 120, 122, 123, 190, 125)\n",
            "지난 10일 동안 전일대비 매출이 감소한 날은 3일 입니다.\n"
          ]
        }
      ],
      "source": [
        "cnt = 0\n",
        "sales = (100, 121, 120, 130, 140, 120, 122, 123, 190, 125)\n",
        "\n",
        "for i in range(1, len(sales)):\n",
        "  if sales[i] < sales[i - 1]:\n",
        "    cnt += 1\n",
        "\n",
        "print(f'일일 매출 기록: {sales}')\n",
        "print(f'지난 {len(sales)}일 동안 전일대비 매출이 감소한 날은 {cnt}일 입니다.')"
      ]
    },
    {
      "cell_type": "markdown",
      "source": [
        "# 연습문제 7.8"
      ],
      "metadata": {
        "id": "xnonaAd2cQYk"
      }
    },
    {
      "cell_type": "code",
      "execution_count": 52,
      "metadata": {
        "id": "dr_dJ5XxcQYk",
        "colab": {
          "base_uri": "https://localhost:8080/"
        },
        "outputId": "2ff74364-b54e-40f8-960a-524b0c063377"
      },
      "outputs": [
        {
          "output_type": "stream",
          "name": "stdout",
          "text": [
            "주어진 튜플 : (1, 2, 5, 4, 3, 2, 9, 1, 4, 7, 8, 9, 9)\n",
            "중복 원소는: {1, 2, 4, 9}\n"
          ]
        }
      ],
      "source": [
        "tup = (1, 2, 5, 4, 3, 2, 9, 1, 4, 7, 8, 9, 9)\n",
        "\n",
        "dup = set()  # 중복 원소를 저장\n",
        "unique = set()  # 중복 여부를 확인하기 위한 집합\n",
        "\n",
        "for x in tup:\n",
        "    if x in unique:  # 이미 unique에 있다면 중복 원소\n",
        "        dup = dup | {x}  # 중복 원소를 합집합으로 추가\n",
        "    else:\n",
        "        unique = unique | {x}  # unique에 원소 추가\n",
        "\n",
        "print(f'주어진 튜플 : {tup}')\n",
        "print(f'중복 원소는: {dup}')"
      ]
    },
    {
      "cell_type": "markdown",
      "source": [
        "# 연습문제 7.9"
      ],
      "metadata": {
        "id": "gZdHpWITcQbF"
      }
    },
    {
      "cell_type": "code",
      "execution_count": 49,
      "metadata": {
        "id": "8kjI5E0ucQbF",
        "colab": {
          "base_uri": "https://localhost:8080/"
        },
        "outputId": "06fb0f3c-e9f1-40dc-840c-926d72cf5e60"
      },
      "outputs": [
        {
          "output_type": "stream",
          "name": "stdout",
          "text": [
            "주어진 튜플 : (1, 2, 5, 4, 3, 2, 9, 1, 4, 7, 8, 9, 9)\n",
            "중복 원소가 제거된 튜플 : (1, 2, 3, 4, 5, 7, 8, 9)\n"
          ]
        }
      ],
      "source": [
        "tup = (1, 2, 5, 4, 3, 2, 9, 1, 4, 7, 8, 9, 9)\n",
        "\n",
        "new_tup = tuple(set(tup))\n",
        "print(f'주어진 튜플 : {tup}')\n",
        "print(f'중복 원소가 제거된 튜플 : {new_tup}')"
      ]
    },
    {
      "cell_type": "markdown",
      "source": [
        "# 연습문제 7.10"
      ],
      "metadata": {
        "id": "Lzgzco-HcQfH"
      }
    },
    {
      "cell_type": "code",
      "execution_count": 68,
      "metadata": {
        "id": "9n575WcycQfH",
        "colab": {
          "base_uri": "https://localhost:8080/"
        },
        "outputId": "43b166fa-efb1-4788-f12b-91c18869f9e2"
      },
      "outputs": [
        {
          "output_type": "stream",
          "name": "stdout",
          "text": [
            "주어진 튜플 : (1, 2, 5, 4, 3, 2, 1, 4, 7, 8, 9, 9, 3, 7, 3)\n",
            "가장 많이 나타나는 요소 : 3\n"
          ]
        }
      ],
      "source": [
        "from collections import Counter\n",
        "\n",
        "tup = (1, 2, 5, 4, 3, 2, 1, 4, 7, 8, 9, 9, 3, 7, 3)\n",
        "\n",
        "max_count = Counter(tup).most_common()\n",
        "\n",
        "max_count.sort(key = lambda x : (-x[1], -x[0]))\n",
        "\n",
        "print(f'주어진 튜플 : {tup}')\n",
        "print(f'가장 많이 나타나는 요소 : {max_count[0][0]}')"
      ]
    },
    {
      "cell_type": "code",
      "execution_count": 70,
      "metadata": {
        "id": "s-tXaX9rcQhO",
        "colab": {
          "base_uri": "https://localhost:8080/"
        },
        "outputId": "8a9b100f-f1b6-44d7-f3e0-2eba8d4bed15"
      },
      "outputs": [
        {
          "output_type": "stream",
          "name": "stdout",
          "text": [
            "주어진 튜플 : (1, 2, 5, 4, 3, 2, 9, 4, 7, 8, 9, 9, 3, 7, 3)\n",
            "가장 많이 나타나는 요소 : 9\n"
          ]
        }
      ],
      "source": [
        "from collections import Counter\n",
        "\n",
        "tup = (1, 2, 5, 4, 3, 2, 9, 4, 7, 8, 9, 9, 3, 7, 3)\n",
        "\n",
        "max_count = Counter(tup).most_common()\n",
        "\n",
        "max_count.sort(key = lambda x : (-x[1], -x[0]))\n",
        "print(f'주어진 튜플 : {tup}')\n",
        "print(f'가장 많이 나타나는 요소 : {max_count[0][0]}')"
      ]
    },
    {
      "cell_type": "markdown",
      "source": [
        "# 연습문제 7.11"
      ],
      "metadata": {
        "id": "Fxm8LpNacQhO"
      }
    },
    {
      "cell_type": "code",
      "source": [
        "given_list = [(), 1, (), (), (1,), ('a',), ('a', 'b'), ((),), ('a', 'b'), '']\n",
        "\n",
        "removed_list = []\n",
        "\n",
        "for x in given_list:\n",
        "  if x:\n",
        "    removed_list.append(x)\n",
        "\n",
        "print(f'주어진 리스트 : {given_list}')\n",
        "print(f'빈 튜플 요소를 제거한 결과  : {removed_list}')"
      ],
      "metadata": {
        "colab": {
          "base_uri": "https://localhost:8080/"
        },
        "id": "8sgaWlmq8sm-",
        "outputId": "470930df-7f3c-401f-e940-a7aefb05663a"
      },
      "execution_count": 72,
      "outputs": [
        {
          "output_type": "stream",
          "name": "stdout",
          "text": [
            "주어진 리스트 : [(), 1, (), (), (1,), ('a',), ('a', 'b'), ((),), ('a', 'b'), '']\n",
            "빈 튜플 요소를 제거한 결과  : [1, (1,), ('a',), ('a', 'b'), ((),), ('a', 'b')]\n"
          ]
        }
      ]
    },
    {
      "cell_type": "markdown",
      "source": [
        "# 연습문제 7.12"
      ],
      "metadata": {
        "id": "68jWVNhLcQjd"
      }
    },
    {
      "cell_type": "code",
      "execution_count": 79,
      "metadata": {
        "id": "O0KUKPCEcQjd",
        "colab": {
          "base_uri": "https://localhost:8080/"
        },
        "outputId": "583ae55f-6704-4b18-aaf0-abad6cda486c"
      },
      "outputs": [
        {
          "output_type": "stream",
          "name": "stdout",
          "text": [
            "주어진 리스트는 : [5, 3, 6, 2, 9, 3, 8, 7, 12]\n",
            "가장 큰 수를 마지막으로 옮긴 결과 : [5, 3, 6, 2, 9, 3, 8, 7, 12]\n"
          ]
        }
      ],
      "source": [
        "given_list = [5, 6, 3, 9, 2, 12, 3, 8, 7]\n",
        "\n",
        "for i in range(len(given_list) - 1):\n",
        "  if given_list[i] > given_list[i+1]:\n",
        "    given_list[i], given_list[i+1] = given_list[i+1], given_list[i]\n",
        "\n",
        "print(f'주어진 리스트는 : {given_list}')\n",
        "print(f'가장 큰 수를 마지막으로 옮긴 결과 : {given_list}')"
      ]
    },
    {
      "cell_type": "markdown",
      "source": [
        "# 연습문제 7.13"
      ],
      "metadata": {
        "id": "RQuTGxb0cQlu"
      }
    },
    {
      "cell_type": "code",
      "execution_count": 80,
      "metadata": {
        "id": "XDc-Ly9mcQlv",
        "colab": {
          "base_uri": "https://localhost:8080/"
        },
        "outputId": "2018bfe2-40c8-432d-e310-2cfa73bc1914"
      },
      "outputs": [
        {
          "output_type": "stream",
          "name": "stdout",
          "text": [
            "주어진 리스트는 : [2, 3, 3, 5, 6, 7, 8, 9, 12]\n",
            "정렬된 결과는 : [2, 3, 3, 5, 6, 7, 8, 9, 12]\n"
          ]
        }
      ],
      "source": [
        "given_list = [5, 6, 3, 9, 2, 12, 3, 8, 7]\n",
        "\n",
        "for i in range(len(given_list) - 1):\n",
        "    for j in range(len(given_list) - 1 - i):\n",
        "        if given_list[j] > given_list[j + 1]:\n",
        "            given_list[j], given_list[j + 1] = given_list[j + 1], given_list[j]\n",
        "\n",
        "print(f'주어진 리스트는 : {given_list}')\n",
        "print(f'정렬된 결과는 : {given_list}')"
      ]
    },
    {
      "cell_type": "markdown",
      "source": [
        "# 연습문제 7.14"
      ],
      "metadata": {
        "id": "p8yb9xZicQoJ"
      }
    },
    {
      "cell_type": "code",
      "execution_count": 86,
      "metadata": {
        "id": "D8NMXkDGcQoK",
        "colab": {
          "base_uri": "https://localhost:8080/"
        },
        "outputId": "b1105c21-f481-4f57-ab16-367636a62f51"
      },
      "outputs": [
        {
          "output_type": "stream",
          "name": "stdout",
          "text": [
            "주어진 리스트는 : [5, 6, 3, 9, 2, 12, 3, 8, 7]\n",
            "1 단계 : [5, 3, 6, 2, 9, 3, 8, 7], [12]\n",
            "2 단계 : [3, 5, 2, 6, 3, 8, 7], [9, 12]\n",
            "3 단계 : [3, 2, 5, 3, 6, 7], [8, 9, 12]\n",
            "4 단계 : [2, 3, 3, 5, 6], [7, 8, 9, 12]\n",
            "5 단계 : [2, 3, 3, 5], [6, 7, 8, 9, 12]\n",
            "6 단계 : [2, 3, 3], [5, 6, 7, 8, 9, 12]\n",
            "7 단계 : [2, 3], [3, 5, 6, 7, 8, 9, 12]\n",
            "8 단계 : [2], [3, 3, 5, 6, 7, 8, 9, 12]\n",
            "정렬된 리스트는 : [2, 3, 3, 5, 6, 7, 8, 9, 12]\n"
          ]
        }
      ],
      "source": [
        "given_list = [5, 6, 3, 9, 2, 12, 3, 8, 7]\n",
        "\n",
        "print(f'주어진 리스트는 : {given_list}')\n",
        "\n",
        "for i in range(len(given_list) - 1):\n",
        "    for j in range(len(given_list) - 1 - i):\n",
        "        if given_list[j] > given_list[j + 1]:\n",
        "            given_list[j], given_list[j + 1] = given_list[j + 1], given_list[j]\n",
        "\n",
        "    print(f'{i+1} 단계 : {given_list[:len(given_list) - i - 1]}, {given_list[len(given_list) - i - 1:]}')\n",
        "\n",
        "print(f'정렬된 리스트는 : {given_list}')"
      ]
    },
    {
      "cell_type": "markdown",
      "source": [
        "# 연습문제 7.15"
      ],
      "metadata": {
        "id": "C98bGsWbcJmg"
      }
    },
    {
      "cell_type": "code",
      "execution_count": 88,
      "metadata": {
        "id": "FPM2rdbYcCCG",
        "colab": {
          "base_uri": "https://localhost:8080/"
        },
        "outputId": "2c4b9463-d76c-4cf7-b2bc-54cd80f0386e"
      },
      "outputs": [
        {
          "output_type": "stream",
          "name": "stdout",
          "text": [
            "(4, 5, 2, 3, 8, 1, 9, 0)\n",
            "(4, 5, 2, 3, 8, 1, 9)\n",
            "(4, 5, 2, 3, 8, 1)\n",
            "(4, 5, 2, 3, 8)\n",
            "(4, 5, 2, 3)\n",
            "(4, 5, 2)\n",
            "(4, 5)\n",
            "(4,)\n"
          ]
        }
      ],
      "source": [
        "tup = (4, 5, 2, 3, 8, 1, 9, 0)\n",
        "\n",
        "for i in range(len(tup)):\n",
        "  print(tup[:len(tup) - i])"
      ]
    },
    {
      "cell_type": "markdown",
      "source": [
        "# 연습문제 7.16"
      ],
      "metadata": {
        "id": "iA5bXVxLAKlU"
      }
    },
    {
      "cell_type": "code",
      "execution_count": 98,
      "metadata": {
        "colab": {
          "base_uri": "https://localhost:8080/"
        },
        "id": "FwHF86nCAKlU",
        "outputId": "2b22bfc1-a1e7-45af-bc87-67f692938c71"
      },
      "outputs": [
        {
          "output_type": "stream",
          "name": "stdout",
          "text": [
            "{'191101': '홍길동', '191102': '임꺽정', '191103': '장길산'}\n"
          ]
        }
      ],
      "source": [
        "student_tuple = (('191101', '홍길동', '010-123-45xx'), ('191102', '임꺽정', '010-223-45xx'), ('191103', '장길산', '010-323-45xx'))\n",
        "\n",
        "tup = tuple()\n",
        "for id, name, _ in student_tuple:\n",
        "  tup += ((id, name),)\n",
        "\n",
        "student_info = dict(tup)\n",
        "print(student_info)"
      ]
    },
    {
      "cell_type": "code",
      "source": [
        "print(f'학생 정보: {student_info}')\n",
        "while True:\n",
        "  id = input('학번을 입력하세요: ')\n",
        "\n",
        "  if id in student_info:\n",
        "    print(f'{id}번 학생은 {student_info[id]}입니다.')\n",
        "  elif id  == '-1':\n",
        "    break\n",
        "  else:\n",
        "    print('해당 학번이 없습니다.')\n",
        "\n",
        "print('프로그램을 종료합니다.')"
      ],
      "metadata": {
        "colab": {
          "base_uri": "https://localhost:8080/"
        },
        "id": "olDhYzsoD8dn",
        "outputId": "47da4de6-d58c-45d7-a734-b67aaf19d025"
      },
      "execution_count": 103,
      "outputs": [
        {
          "output_type": "stream",
          "name": "stdout",
          "text": [
            "학생 정보: {'191101': '홍길동', '191102': '임꺽정', '191103': '장길산'}\n",
            "학번을 입력하세요: 191102\n",
            "191102번 학생은 임꺽정입니다.\n",
            "학번을 입력하세요: 191106\n",
            "해당 학번이 없습니다.\n",
            "학번을 입력하세요: -1\n",
            "프로그램을 종료합니다.\n"
          ]
        }
      ]
    },
    {
      "cell_type": "markdown",
      "source": [
        "# 연습문제 7.17"
      ],
      "metadata": {
        "id": "wjLGl3f2AKlU"
      }
    },
    {
      "cell_type": "code",
      "execution_count": 104,
      "metadata": {
        "id": "z6qohv8NAKlV"
      },
      "outputs": [],
      "source": [
        "population_A = (100, 150, 230, 120, 180, 100, 140, 95, 81, 21, 4)\n",
        "population_B = (300, 420, 530, 420, 400, 300, 40, 5, 1, 1, 1)"
      ]
    },
    {
      "cell_type": "code",
      "source": [
        "print(f'마을 A와 B에 보낼 투표용지의 개수는 각각 {sum(population_A[2:])} 장과 {sum(population_B[2:])} 장입니다.')"
      ],
      "metadata": {
        "colab": {
          "base_uri": "https://localhost:8080/"
        },
        "id": "8poyCNz0E1vU",
        "outputId": "d1de34a9-500a-4bed-ad33-105f0c676560"
      },
      "execution_count": 107,
      "outputs": [
        {
          "output_type": "stream",
          "name": "stdout",
          "text": [
            "마을 A와 B에 보낼 투표용지의 개수는 각각 971 장과 1698 장입니다.\n"
          ]
        }
      ]
    },
    {
      "cell_type": "code",
      "source": [
        "print(f'마을 A와 B의 고령화 정도는 각각 {sum(population_A[7:])/sum(population_A) :.3f}와 {sum(population_B[7:]) / sum(population_B) : .3f}입니다.')"
      ],
      "metadata": {
        "colab": {
          "base_uri": "https://localhost:8080/"
        },
        "id": "COM0timeFHk6",
        "outputId": "b277a80b-1e1c-4a47-f9e6-8479de5049a8"
      },
      "execution_count": 114,
      "outputs": [
        {
          "output_type": "stream",
          "name": "stdout",
          "text": [
            "마을 A와 B의 고령화 정도는 각각 0.165와  0.003입니다.\n"
          ]
        }
      ]
    },
    {
      "cell_type": "markdown",
      "source": [
        "# 연습문제 7.18"
      ],
      "metadata": {
        "id": "bEsBjxVXAKqW"
      }
    },
    {
      "cell_type": "code",
      "execution_count": 122,
      "metadata": {
        "id": "WHRxWdcSAKqX"
      },
      "outputs": [],
      "source": [
        "s1 = set('abcd')"
      ]
    },
    {
      "cell_type": "code",
      "source": [
        "s1"
      ],
      "metadata": {
        "colab": {
          "base_uri": "https://localhost:8080/"
        },
        "id": "rjMH2JtOGbys",
        "outputId": "56a3be10-559c-4990-ad18-f41ff05acf8a"
      },
      "execution_count": 121,
      "outputs": [
        {
          "output_type": "execute_result",
          "data": {
            "text/plain": [
              "{0, 1, 2, 3, 4, 5}"
            ]
          },
          "metadata": {},
          "execution_count": 121
        }
      ]
    },
    {
      "cell_type": "code",
      "source": [
        "s2 = set('defg')\n",
        "s2"
      ],
      "metadata": {
        "colab": {
          "base_uri": "https://localhost:8080/"
        },
        "id": "hCzNP0KvGNwr",
        "outputId": "3717108a-bc8d-405a-dd26-64d5ba43a37b"
      },
      "execution_count": 116,
      "outputs": [
        {
          "output_type": "execute_result",
          "data": {
            "text/plain": [
              "{'d', 'e', 'f', 'g'}"
            ]
          },
          "metadata": {},
          "execution_count": 116
        }
      ]
    },
    {
      "cell_type": "code",
      "source": [
        "s1 == s2"
      ],
      "metadata": {
        "colab": {
          "base_uri": "https://localhost:8080/"
        },
        "id": "4kYxtjaxGNy3",
        "outputId": "5bb2550b-16ab-477e-a3c2-735505cffa8e"
      },
      "execution_count": 117,
      "outputs": [
        {
          "output_type": "execute_result",
          "data": {
            "text/plain": [
              "False"
            ]
          },
          "metadata": {},
          "execution_count": 117
        }
      ]
    },
    {
      "cell_type": "code",
      "source": [
        "s1 + s2"
      ],
      "metadata": {
        "colab": {
          "base_uri": "https://localhost:8080/",
          "height": 147
        },
        "id": "RM4_5woEGN0u",
        "outputId": "12198220-7881-457b-c93b-792bc0cccafa"
      },
      "execution_count": 118,
      "outputs": [
        {
          "output_type": "error",
          "ename": "TypeError",
          "evalue": "unsupported operand type(s) for +: 'set' and 'set'",
          "traceback": [
            "\u001b[0;31m---------------------------------------------------------------------------\u001b[0m",
            "\u001b[0;31mTypeError\u001b[0m                                 Traceback (most recent call last)",
            "\u001b[0;32m<ipython-input-118-07ecabcb1b41>\u001b[0m in \u001b[0;36m<cell line: 1>\u001b[0;34m()\u001b[0m\n\u001b[0;32m----> 1\u001b[0;31m \u001b[0ms1\u001b[0m \u001b[0;34m+\u001b[0m \u001b[0ms2\u001b[0m\u001b[0;34m\u001b[0m\u001b[0;34m\u001b[0m\u001b[0m\n\u001b[0m",
            "\u001b[0;31mTypeError\u001b[0m: unsupported operand type(s) for +: 'set' and 'set'"
          ]
        }
      ]
    },
    {
      "cell_type": "code",
      "source": [
        "s1 & s2"
      ],
      "metadata": {
        "colab": {
          "base_uri": "https://localhost:8080/"
        },
        "id": "3Z9HIjobGSA4",
        "outputId": "92375a9a-5b12-49c4-bf2a-d374a6a4f944"
      },
      "execution_count": 119,
      "outputs": [
        {
          "output_type": "execute_result",
          "data": {
            "text/plain": [
              "{'d'}"
            ]
          },
          "metadata": {},
          "execution_count": 119
        }
      ]
    },
    {
      "cell_type": "markdown",
      "source": [
        "# 연습문제 7.19"
      ],
      "metadata": {
        "id": "CEnO5SkYAKqX"
      }
    },
    {
      "cell_type": "code",
      "execution_count": 126,
      "metadata": {
        "id": "XtHC0TfUAKqX"
      },
      "outputs": [],
      "source": [
        "s1 = {0, 1, 2, 3, 4, 5}\n",
        "s2 = {3, 4, 5, 6, 7}"
      ]
    },
    {
      "cell_type": "code",
      "source": [
        "s1 & s2"
      ],
      "metadata": {
        "colab": {
          "base_uri": "https://localhost:8080/"
        },
        "id": "YWEld-MWGdiY",
        "outputId": "5eb38603-7901-4d1c-a46d-fb7f757245a4"
      },
      "execution_count": 127,
      "outputs": [
        {
          "output_type": "execute_result",
          "data": {
            "text/plain": [
              "{3, 4, 5}"
            ]
          },
          "metadata": {},
          "execution_count": 127
        }
      ]
    },
    {
      "cell_type": "code",
      "source": [
        "s1 | s2"
      ],
      "metadata": {
        "colab": {
          "base_uri": "https://localhost:8080/"
        },
        "id": "y0ardipmGdws",
        "outputId": "04edbba7-3246-4114-d6c7-1940c97621c6"
      },
      "execution_count": 128,
      "outputs": [
        {
          "output_type": "execute_result",
          "data": {
            "text/plain": [
              "{0, 1, 2, 3, 4, 5, 6, 7}"
            ]
          },
          "metadata": {},
          "execution_count": 128
        }
      ]
    },
    {
      "cell_type": "code",
      "source": [
        "s2 - s1"
      ],
      "metadata": {
        "colab": {
          "base_uri": "https://localhost:8080/"
        },
        "id": "vNULZt0rGd1_",
        "outputId": "bc39fe00-4b57-4ae5-bc58-fd0f57b01c92"
      },
      "execution_count": 129,
      "outputs": [
        {
          "output_type": "execute_result",
          "data": {
            "text/plain": [
              "{6, 7}"
            ]
          },
          "metadata": {},
          "execution_count": 129
        }
      ]
    },
    {
      "cell_type": "code",
      "source": [
        "s1 - s2"
      ],
      "metadata": {
        "colab": {
          "base_uri": "https://localhost:8080/"
        },
        "id": "WsRceNnSGhhV",
        "outputId": "8dfc0290-a099-4fd9-9b31-cd12abadcccb"
      },
      "execution_count": 130,
      "outputs": [
        {
          "output_type": "execute_result",
          "data": {
            "text/plain": [
              "{0, 1, 2}"
            ]
          },
          "metadata": {},
          "execution_count": 130
        }
      ]
    },
    {
      "cell_type": "code",
      "source": [
        "s1 ^ s2"
      ],
      "metadata": {
        "colab": {
          "base_uri": "https://localhost:8080/"
        },
        "id": "Wf--5NBEGnDc",
        "outputId": "0a96cbfb-5615-47d6-8363-ca99d77931bf"
      },
      "execution_count": 131,
      "outputs": [
        {
          "output_type": "execute_result",
          "data": {
            "text/plain": [
              "{0, 1, 2, 6, 7}"
            ]
          },
          "metadata": {},
          "execution_count": 131
        }
      ]
    },
    {
      "cell_type": "code",
      "source": [
        "2 in s1"
      ],
      "metadata": {
        "colab": {
          "base_uri": "https://localhost:8080/"
        },
        "id": "4AcNief7GrF6",
        "outputId": "176cf98f-8191-4b36-f419-b31ed01a274b"
      },
      "execution_count": 132,
      "outputs": [
        {
          "output_type": "execute_result",
          "data": {
            "text/plain": [
              "True"
            ]
          },
          "metadata": {},
          "execution_count": 132
        }
      ]
    },
    {
      "cell_type": "markdown",
      "source": [
        "# 연습문제 7.20"
      ],
      "metadata": {
        "id": "BUTssHRCAKte"
      }
    },
    {
      "cell_type": "code",
      "execution_count": 133,
      "metadata": {
        "id": "K7dDXU0iAKte"
      },
      "outputs": [],
      "source": [
        "scores = (('박동규', 88, 95, 90), ('강영민', 85, 90, 95), ('박동민', 70, 90, 80), ('홍승주', 90, 90, 95))"
      ]
    },
    {
      "cell_type": "code",
      "source": [
        "_, _, math, _ = zip(*scores)\n",
        "print(f'학생들의 수학 성적의 평균은 {sum(math)/len(math)}입니다.')"
      ],
      "metadata": {
        "colab": {
          "base_uri": "https://localhost:8080/"
        },
        "id": "39gaujR_HSRz",
        "outputId": "f92f3681-19b1-4086-8886-1d613b02ca5f"
      },
      "execution_count": 141,
      "outputs": [
        {
          "output_type": "stream",
          "name": "stdout",
          "text": [
            "학생들의 수학 성적의 평균은 91.25입니다.\n"
          ]
        }
      ]
    },
    {
      "cell_type": "code",
      "source": [
        "_, _, math, science = zip(*scores)\n",
        "\n",
        "# 수학과 과학 점수의 평균 계산\n",
        "math_avg = sum(math) / len(math)\n",
        "science_avg = sum(science) / len(science)\n",
        "\n",
        "# 출력\n",
        "print(f'학생들의 수학과 과학 성적의 평균은 {(math_avg + science_avg) / 2}입니다.')"
      ],
      "metadata": {
        "colab": {
          "base_uri": "https://localhost:8080/"
        },
        "id": "c_zHhxYYHuVf",
        "outputId": "ff7862d7-1552-4bbf-e39a-610a8c0b48f1"
      },
      "execution_count": 143,
      "outputs": [
        {
          "output_type": "stream",
          "name": "stdout",
          "text": [
            "학생들의 수학과 과학 성적의 평균은 90.625입니다.\n"
          ]
        }
      ]
    },
    {
      "cell_type": "code",
      "source": [
        "name, korean, math, science = zip(*scores)\n",
        "\n",
        "print('이름 \\t\\t평균 성적')\n",
        "print('-' * 25)\n",
        "for i in range(len(name)):\n",
        "  print(f'{name[i]}\\t\\t{(korean[i] + math[i] + science[i]) / 3 : .2f}')"
      ],
      "metadata": {
        "colab": {
          "base_uri": "https://localhost:8080/"
        },
        "id": "m_u-QUAeIRPq",
        "outputId": "8007eb3f-6298-4868-a799-c1f7debd4ac5"
      },
      "execution_count": 150,
      "outputs": [
        {
          "output_type": "stream",
          "name": "stdout",
          "text": [
            "이름 \t\t평균 성적\n",
            "-------------------------\n",
            "박동규\t\t 91.00\n",
            "강영민\t\t 90.00\n",
            "박동민\t\t 80.00\n",
            "홍승주\t\t 91.67\n"
          ]
        }
      ]
    },
    {
      "cell_type": "markdown",
      "source": [
        "# 연습문제 7.21"
      ],
      "metadata": {
        "id": "7LNU8-JUGuEe"
      }
    },
    {
      "cell_type": "code",
      "source": [
        "s = input('문자열을 입력하시오 : ')\n",
        "\n",
        "processed_s = s.upper().replace(' ', '').replace('.', '')\n",
        "if processed_s == processed_s[::-1]:\n",
        "  print(f'{s}은(는) 회문입니다.')\n",
        "else:\n",
        "  print(f'{s}은(는) 회문이 아닙니다.')"
      ],
      "metadata": {
        "colab": {
          "base_uri": "https://localhost:8080/"
        },
        "id": "GyxxUgBaJxmK",
        "outputId": "83d8d2cb-795e-48ca-82e0-b0df0ce19b0c"
      },
      "execution_count": 152,
      "outputs": [
        {
          "output_type": "stream",
          "name": "stdout",
          "text": [
            "문자열을 입력하시오 : racecar\n",
            "racecar은(는) 회문입니다.\n"
          ]
        }
      ]
    },
    {
      "cell_type": "code",
      "source": [
        "s = input('문자열을 입력하시오 : ')\n",
        "\n",
        "processed_s = s.upper().replace(' ', '').replace('.', '')\n",
        "if processed_s == processed_s[::-1]:\n",
        "  print(f'{s}은(는) 회문입니다.')\n",
        "else:\n",
        "  print(f'{s}은(는) 회문이 아닙니다.')"
      ],
      "metadata": {
        "colab": {
          "base_uri": "https://localhost:8080/"
        },
        "id": "9prGirHZJxea",
        "outputId": "7fab01ab-ef3c-432c-97c3-f8d11e89ec20"
      },
      "execution_count": 153,
      "outputs": [
        {
          "output_type": "stream",
          "name": "stdout",
          "text": [
            "문자열을 입력하시오 : racecing\n",
            "racecing은(는) 회문이 아닙니다.\n"
          ]
        }
      ]
    },
    {
      "cell_type": "code",
      "execution_count": 154,
      "metadata": {
        "colab": {
          "base_uri": "https://localhost:8080/"
        },
        "id": "7GKIaMrcGuEf",
        "outputId": "d8abed6d-298b-4007-d304-6b181c8bbf7e"
      },
      "outputs": [
        {
          "output_type": "stream",
          "name": "stdout",
          "text": [
            "문자열을 입력하시오 : A nut for a jar of tuna\n",
            "A nut for a jar of tuna은(는) 회문입니다.\n"
          ]
        }
      ],
      "source": [
        "s = input('문자열을 입력하시오 : ')\n",
        "\n",
        "processed_s = s.upper().replace(' ', '').replace('.', '')\n",
        "if processed_s == processed_s[::-1]:\n",
        "  print(f'{s}은(는) 회문입니다.')\n",
        "else:\n",
        "  print(f'{s}은(는) 회문이 아닙니다.')"
      ]
    },
    {
      "cell_type": "markdown",
      "source": [
        "# 연습문제 7.22"
      ],
      "metadata": {
        "id": "tOjJJl0wGuJn"
      }
    },
    {
      "cell_type": "code",
      "source": [
        "name = input('이름을 입력하세요 : ')\n",
        "\n",
        "print('안녕하세요?', end=' ')\n",
        "if name[-3:] == 'vic':\n",
        "  print(f'{name}님. 발칸 반도에서 오셨나요?')\n",
        "else:\n",
        "  print(f'{name}님.')"
      ],
      "metadata": {
        "colab": {
          "base_uri": "https://localhost:8080/"
        },
        "id": "x4Uy3GpeKRmw",
        "outputId": "87f35e25-5cd9-4b77-a583-63a743145bd3"
      },
      "execution_count": 156,
      "outputs": [
        {
          "output_type": "stream",
          "name": "stdout",
          "text": [
            "이름을 입력하세요 : Sinisa Mihajlovic\n",
            "안녕하세요? Sinisa Mihajlovic님. 발칸 반도에서 오셨나요?\n"
          ]
        }
      ]
    },
    {
      "cell_type": "code",
      "execution_count": 157,
      "metadata": {
        "colab": {
          "base_uri": "https://localhost:8080/"
        },
        "id": "m8Honh8UGuJo",
        "outputId": "2f3a33cb-f9fa-43db-936a-0f03e72b8c92"
      },
      "outputs": [
        {
          "output_type": "stream",
          "name": "stdout",
          "text": [
            "이름을 입력하세요 : Tom Cruise\n",
            "안녕하세요? Tom Cruise님.\n"
          ]
        }
      ],
      "source": [
        "name = input('이름을 입력하세요 : ')\n",
        "\n",
        "print('안녕하세요?', end=' ')\n",
        "if name[-3:] == 'vic':\n",
        "  print(f'{name}님. 발칸 반도에서 오셨나요?')\n",
        "else:\n",
        "  print(f'{name}님.')"
      ]
    },
    {
      "cell_type": "markdown",
      "source": [
        "# 연습문제 7.23"
      ],
      "metadata": {
        "id": "7ZDbMXhWGuNy"
      }
    },
    {
      "cell_type": "code",
      "execution_count": 158,
      "metadata": {
        "colab": {
          "base_uri": "https://localhost:8080/",
          "height": 35
        },
        "id": "knfVCx3FGuNz",
        "outputId": "dd2fa164-900d-4e0b-b0a8-64163e4bd1dc"
      },
      "outputs": [
        {
          "output_type": "execute_result",
          "data": {
            "text/plain": [
              "'ABCDEFGHIJKLMNOPQRSTUVWXYZ'"
            ],
            "application/vnd.google.colaboratory.intrinsic+json": {
              "type": "string"
            }
          },
          "metadata": {},
          "execution_count": 158
        }
      ],
      "source": [
        "import string\n",
        "string.ascii_uppercase"
      ]
    },
    {
      "cell_type": "code",
      "source": [
        "s = string.ascii_uppercase\n",
        "\n",
        "for i in range(10):\n",
        "  print(s[i:] + s[:i])"
      ],
      "metadata": {
        "colab": {
          "base_uri": "https://localhost:8080/"
        },
        "id": "YSk-fzDJKjZi",
        "outputId": "ccd8ef4b-0716-4dc0-9625-e9c486dd76c3"
      },
      "execution_count": 159,
      "outputs": [
        {
          "output_type": "stream",
          "name": "stdout",
          "text": [
            "ABCDEFGHIJKLMNOPQRSTUVWXYZ\n",
            "BCDEFGHIJKLMNOPQRSTUVWXYZA\n",
            "CDEFGHIJKLMNOPQRSTUVWXYZAB\n",
            "DEFGHIJKLMNOPQRSTUVWXYZABC\n",
            "EFGHIJKLMNOPQRSTUVWXYZABCD\n",
            "FGHIJKLMNOPQRSTUVWXYZABCDE\n",
            "GHIJKLMNOPQRSTUVWXYZABCDEF\n",
            "HIJKLMNOPQRSTUVWXYZABCDEFG\n",
            "IJKLMNOPQRSTUVWXYZABCDEFGH\n",
            "JKLMNOPQRSTUVWXYZABCDEFGHI\n"
          ]
        }
      ]
    },
    {
      "cell_type": "markdown",
      "source": [
        "# 연습문제 7.24"
      ],
      "metadata": {
        "id": "PVpGiQndGuVO"
      }
    },
    {
      "cell_type": "code",
      "execution_count": 164,
      "metadata": {
        "colab": {
          "base_uri": "https://localhost:8080/"
        },
        "id": "NyDmcHESGuVP",
        "outputId": "78b2b0f1-e3c6-4c56-d6ce-204054d21366"
      },
      "outputs": [
        {
          "output_type": "stream",
          "name": "stdout",
          "text": [
            "src_str = ABCDEFGHIJKLMNOPQRSTUVWXYZ\n",
            "dst_str = DEFGHIJKLMNOPQRSTUVWXYZABC\n"
          ]
        }
      ],
      "source": [
        "import string\n",
        "\n",
        "src_str = string.ascii_uppercase\n",
        "\n",
        "print(f'src_str = {src_str}')\n",
        "print(f'dst_str = {src_str[3:] + src_str[:3]}')"
      ]
    },
    {
      "cell_type": "code",
      "source": [
        "import string\n",
        "\n",
        "src_str = string.ascii_uppercase\n",
        "\n",
        "def cipher(a):\n",
        "  return src_str[(a + 3) % 26]\n",
        "\n",
        "index_A = src_str.index('A')\n",
        "\n",
        "print(f'src_str의 A 인덱스 : {index_A}')\n",
        "print(f'dst_str의 {index_A}번째 알파벳 : {cipher(index_A)}')\n",
        "\n",
        "index_B = src_str.index('B')\n",
        "print(f'src_str의 B 인덱스 : {index_B}')\n",
        "print(f'dst_str의 {index_B}번째 알파벳 : {cipher(index_B)}')"
      ],
      "metadata": {
        "colab": {
          "base_uri": "https://localhost:8080/"
        },
        "id": "S3lN_kUZLTxL",
        "outputId": "a8ded0f5-cdda-45d5-dc00-653c706de7eb"
      },
      "execution_count": 167,
      "outputs": [
        {
          "output_type": "stream",
          "name": "stdout",
          "text": [
            "src_str의 A 인덱스 : 0\n",
            "dst_str의 0번째 알파벳 : D\n",
            "src_str의 B 인덱스 : 1\n",
            "dst_str의 1번째 알파벳 : E\n"
          ]
        }
      ]
    },
    {
      "cell_type": "code",
      "source": [
        "import string\n",
        "\n",
        "src_str = string.ascii_uppercase\n",
        "\n",
        "def cipher(a):\n",
        "  return src_str[(a + 3) % 26]\n",
        "\n",
        "s = input('문장을 입력하시오: ')\n",
        "\n",
        "encrypted_s = ''\n",
        "for x in s:\n",
        "  if x in src_str:\n",
        "    encrypted_s += cipher(src_str.index(x))\n",
        "  else:\n",
        "    encrypted_s += x\n",
        "\n",
        "print(f'암호화된 문장: {encrypted_s}')"
      ],
      "metadata": {
        "colab": {
          "base_uri": "https://localhost:8080/"
        },
        "id": "RW1rctZDLane",
        "outputId": "6538cc94-ec5d-4178-beb1-c9d587759d99"
      },
      "execution_count": 175,
      "outputs": [
        {
          "output_type": "stream",
          "name": "stdout",
          "text": [
            "문장을 입력하시오: Attack tonight!\n",
            "암호화된 문장: Dttack tonight!\n"
          ]
        }
      ]
    },
    {
      "cell_type": "code",
      "source": [
        "import string\n",
        "\n",
        "src_str = string.ascii_uppercase\n",
        "\n",
        "def reverse_cipher(a):\n",
        "  return src_str[(a - 3) % 26]\n",
        "\n",
        "encrypted_s = input('암호화된 문장을 입력하시오: ')\n",
        "\n",
        "deencrypted_s = ''\n",
        "for x in encrypted_s:\n",
        "  if x in src_str:\n",
        "    deencrypted_s += reverse_cipher(src_str.index(x))\n",
        "  else:\n",
        "    deencrypted_s += x\n",
        "\n",
        "print(f'해독된 문장: {deencrypted_s}')"
      ],
      "metadata": {
        "colab": {
          "base_uri": "https://localhost:8080/"
        },
        "id": "MWWE2npRMkHF",
        "outputId": "7be64884-d77d-4d24-bf4f-2379b073af6a"
      },
      "execution_count": 176,
      "outputs": [
        {
          "output_type": "stream",
          "name": "stdout",
          "text": [
            "암호화된 문장을 입력하시오: DWWDFN WRQLJKW!\n",
            "해독된 문장: ATTACK TONIGHT!\n"
          ]
        }
      ]
    },
    {
      "cell_type": "code",
      "source": [
        "import string\n",
        "src_str = string.ascii_uppercase + string.ascii_lowercase\n",
        "\n",
        "def cipher(a):\n",
        "  return src_str[(a + 3) % 52]\n",
        "\n",
        "s = input('문장을 입력하시오: ')\n",
        "\n",
        "encrypted_s = ''\n",
        "for x in s:\n",
        "  if x in src_str:\n",
        "    encrypted_s += cipher(src_str.index(x))\n",
        "  else:\n",
        "    encrypted_s += x\n",
        "print(f'암호화된 문장: {encrypted_s}')"
      ],
      "metadata": {
        "colab": {
          "base_uri": "https://localhost:8080/"
        },
        "id": "UJyTLpmKNNSD",
        "outputId": "e3b0588a-824b-4c32-c91e-60f5afbe71df"
      },
      "execution_count": 177,
      "outputs": [
        {
          "output_type": "stream",
          "name": "stdout",
          "text": [
            "문장을 입력하시오: Attak tonight!\n",
            "암호화된 문장: Dwwdn wrqljkw!\n"
          ]
        }
      ]
    },
    {
      "cell_type": "code",
      "source": [
        "import string\n",
        "src_str = string.ascii_uppercase + string.ascii_lowercase\n",
        "\n",
        "def cipher(a):\n",
        "  return src_str[(a + 3) % 52]\n",
        "\n",
        "s = input('문장을 입력하시오: ')\n",
        "\n",
        "encrypted_s = ''\n",
        "for x in s:\n",
        "  if x in src_str:\n",
        "    encrypted_s += cipher(src_str.index(x))\n",
        "  else:\n",
        "    encrypted_s += x\n",
        "print(f'암호화된 문장: {encrypted_s}')"
      ],
      "metadata": {
        "colab": {
          "base_uri": "https://localhost:8080/"
        },
        "id": "mBuXagGINlTm",
        "outputId": "1b5f062e-3307-4042-b476-191a7d55bff9"
      },
      "execution_count": 178,
      "outputs": [
        {
          "output_type": "stream",
          "name": "stdout",
          "text": [
            "문장을 입력하시오: Veni, vidi, vici.\n",
            "암호화된 문장: Yhql, ylgl, ylfl.\n"
          ]
        }
      ]
    },
    {
      "cell_type": "markdown",
      "source": [
        "# 연습문제 7.25"
      ],
      "metadata": {
        "id": "xBGYk_JRGuxt"
      }
    },
    {
      "cell_type": "code",
      "execution_count": 183,
      "metadata": {
        "colab": {
          "base_uri": "https://localhost:8080/"
        },
        "id": "jMWpwjiqGuxt",
        "outputId": "b1fc6a87-702e-4c8f-a98f-190e94780de7"
      },
      "outputs": [
        {
          "output_type": "stream",
          "name": "stdout",
          "text": [
            "사전 프로그램 시작... 종료는 q를 입력\n",
            "$ < boy:소년\n",
            "$ < girl:소녀\n",
            "$ < man:남자, 사람\n",
            "$ < woman:여자\n",
            "$ < house:집\n",
            "$ < Korea:한국\n",
            "$ > boy\n",
            "소년\n",
            "$ > body\n",
            " body가 사전에 없습니다.\n",
            "$ man\n",
            "입력 오류가 발생하였습니다.\n",
            "$ > man\n",
            "남자, 사람\n",
            "$ q\n",
            "사전 프로그램을 종료합니다.\n"
          ]
        }
      ],
      "source": [
        "dict_ = {}\n",
        "print('사전 프로그램 시작... 종료는 q를 입력')\n",
        "while True:\n",
        "  prompt = input('$ ')\n",
        "\n",
        "  if prompt[0] == '<': # 입력 명령\n",
        "    key, value = prompt[1:].split(':')\n",
        "    dict_[key] = value\n",
        "  elif prompt[0] == '>': #검색 명령\n",
        "    key = prompt[1:]\n",
        "    if key in dict_:\n",
        "      print(dict_[key])\n",
        "    else:\n",
        "      print(f'{key}가 사전에 없습니다.')\n",
        "  elif prompt == 'q':\n",
        "    break\n",
        "  else:\n",
        "    print('입력 오류가 발생하였습니다.')\n",
        "\n",
        "print('사전 프로그램을 종료합니다.')"
      ]
    },
    {
      "cell_type": "markdown",
      "source": [
        "# 연습문제 7.26\n"
      ],
      "metadata": {
        "id": "oUYktBIHAKte"
      }
    },
    {
      "cell_type": "code",
      "execution_count": 186,
      "metadata": {
        "colab": {
          "base_uri": "https://localhost:8080/"
        },
        "id": "d8rAmqvxAKtf",
        "outputId": "002035c4-563f-4ea6-ea77-1aa632fd8b0c"
      },
      "outputs": [
        {
          "output_type": "stream",
          "name": "stdout",
          "text": [
            "두 정수를 입력하시오: 1 2\n",
            "1번째에 (1, 2) 요소가 있습니다.\n"
          ]
        }
      ],
      "source": [
        "my_list = [(1, 2), (4, 5), (4, 2), (3, 1), (9, 4)]\n",
        "\n",
        "a, b = map(int, input(\"두 정수를 입력하시오: \").split())\n",
        "\n",
        "if (a, b) in my_list:\n",
        "  print(f'{my_list.index((a, b)) + 1}번째에 {(a, b)} 요소가 있습니다.')\n",
        "elif (b, a) in my_list:\n",
        "  print(f'{(a, b)} 요소는 없으나 {my_list.index((b, a)) + 1}번째에 {(b, a)} 요소가 있습니다.')\n",
        "else:\n",
        "  print('이 요소는 없습니다.')"
      ]
    },
    {
      "cell_type": "code",
      "source": [
        "my_list = [(1, 2), (4, 5), (4, 2), (3, 1), (9, 4)]\n",
        "\n",
        "a, b = map(int, input(\"두 정수를 입력하시오: \").split())\n",
        "\n",
        "if (a, b) in my_list:\n",
        "  print(f'{my_list.index((a, b)) + 1}번째에 {(a, b)} 요소가 있습니다.')\n",
        "elif (b, a) in my_list:\n",
        "  print(f'{(a, b)} 요소는 없으나 {my_list.index((b, a)) + 1}번째에 {(b, a)} 요소가 있습니다.')\n",
        "else:\n",
        "  print('이 요소는 없습니다.')"
      ],
      "metadata": {
        "colab": {
          "base_uri": "https://localhost:8080/"
        },
        "id": "miYt-l-5QB0f",
        "outputId": "3c19601f-9d20-4232-8f30-72c443ac63b5"
      },
      "execution_count": 187,
      "outputs": [
        {
          "output_type": "stream",
          "name": "stdout",
          "text": [
            "두 정수를 입력하시오: 4 9\n",
            "(4, 9) 요소는 없으나 5번째에 (9, 4) 요소가 있습니다.\n"
          ]
        }
      ]
    }
  ]
}