{
  "nbformat": 4,
  "nbformat_minor": 0,
  "metadata": {
    "colab": {
      "provenance": [],
      "authorship_tag": "ABX9TyPkKd6Ppal2orxeyMJBk39w",
      "include_colab_link": true
    },
    "kernelspec": {
      "name": "python3",
      "display_name": "Python 3"
    },
    "language_info": {
      "name": "python"
    }
  },
  "cells": [
    {
      "cell_type": "markdown",
      "metadata": {
        "id": "view-in-github",
        "colab_type": "text"
      },
      "source": [
        "<a href=\"https://colab.research.google.com/github/jyj1206/Python/blob/main/Chapter5_%ED%95%A8%EC%88%98%EC%99%80_%EC%9E%85%EC%B6%9C%EB%A0%A5.ipynb\" target=\"_parent\"><img src=\"https://colab.research.google.com/assets/colab-badge.svg\" alt=\"Open In Colab\"/></a>"
      ]
    },
    {
      "cell_type": "markdown",
      "source": [
        "# 연습문제 1"
      ],
      "metadata": {
        "id": "dN5y7fQxBxtL"
      }
    },
    {
      "cell_type": "code",
      "execution_count": 1,
      "metadata": {
        "colab": {
          "base_uri": "https://localhost:8080/"
        },
        "id": "75_yLmKOBu3V",
        "outputId": "e28e7630-1a4e-428c-afae-67a552a5ff66"
      },
      "outputs": [
        {
          "output_type": "stream",
          "name": "stdout",
          "text": [
            "환영합니다.\n",
            "환영합니다.\n"
          ]
        }
      ],
      "source": [
        "def my_greet():\n",
        "  print(\"환영합니다.\")\n",
        "\n",
        "my_greet()\n",
        "my_greet()"
      ]
    },
    {
      "cell_type": "markdown",
      "source": [
        "# 연습문제 2"
      ],
      "metadata": {
        "id": "uiKszWfXB7Tb"
      }
    },
    {
      "cell_type": "code",
      "source": [
        "def square(n):\n",
        "  return n ** 2\n",
        "\n",
        "print('3의 제곱은 :', square(3))\n",
        "print('4의 제곱은 :', square(4))"
      ],
      "metadata": {
        "colab": {
          "base_uri": "https://localhost:8080/"
        },
        "id": "2Z4SrOCYB6uK",
        "outputId": "2fd31b31-488a-4be5-e4ed-0b8c8f49e47a"
      },
      "execution_count": 5,
      "outputs": [
        {
          "output_type": "stream",
          "name": "stdout",
          "text": [
            "3의 제곱은 : 9\n",
            "4의 제곱은 : 16\n"
          ]
        }
      ]
    },
    {
      "cell_type": "markdown",
      "source": [
        "# 연습문제 3"
      ],
      "metadata": {
        "id": "dvWO6ccNCLny"
      }
    },
    {
      "cell_type": "code",
      "source": [
        "def max2(m, n):\n",
        "  return m if m > n else n\n",
        "\n",
        "def min2(m, n):\n",
        "  return m if m < n else n\n",
        "\n",
        "m = 100\n",
        "n = 200\n",
        "print(f'{m}과 {n}중 큰 수는 :', max2(m, n))\n",
        "print(f'{m}과 {n}중 작은 수는 :', min2(m, n))"
      ],
      "metadata": {
        "colab": {
          "base_uri": "https://localhost:8080/"
        },
        "id": "TfhWO1XxCJzz",
        "outputId": "bc1301c0-99bc-4cf6-c733-7329433b1a4c"
      },
      "execution_count": 6,
      "outputs": [
        {
          "output_type": "stream",
          "name": "stdout",
          "text": [
            "100과 200중 큰 수는 : 200\n",
            "100과 200중 작은 수는 : 100\n"
          ]
        }
      ]
    },
    {
      "cell_type": "markdown",
      "source": [
        "# 연습문제 4"
      ],
      "metadata": {
        "id": "aEUhnnsXGKtf"
      }
    },
    {
      "cell_type": "code",
      "source": [
        "def mile2km(m):\n",
        "  return m * 1.61\n",
        "\n",
        "for m in range(1, 6):\n",
        "  print(f'{m} 마일 = {mile2km(m)} 킬로미터')"
      ],
      "metadata": {
        "colab": {
          "base_uri": "https://localhost:8080/"
        },
        "id": "Mscmb8c1GLym",
        "outputId": "86a791c3-65a8-4864-b5ff-cc0ad97ec4b9"
      },
      "execution_count": 9,
      "outputs": [
        {
          "output_type": "stream",
          "name": "stdout",
          "text": [
            "1 마일 = 1.61 킬로미터\n",
            "2 마일 = 3.22 킬로미터\n",
            "3 마일 = 4.83 킬로미터\n",
            "4 마일 = 6.44 킬로미터\n",
            "5 마일 = 8.05 킬로미터\n"
          ]
        }
      ]
    },
    {
      "cell_type": "markdown",
      "source": [
        "# 연습문제 5"
      ],
      "metadata": {
        "id": "xN4d8PlsGhWx"
      }
    },
    {
      "cell_type": "code",
      "source": [
        "def inch2cm(inch):\n",
        "  return inch * 2.54\n",
        "\n",
        "for inch in range(1, 6):\n",
        "  print(f'{inch} 인치 = {inch2cm(inch)} 센티미터')"
      ],
      "metadata": {
        "colab": {
          "base_uri": "https://localhost:8080/"
        },
        "id": "Mh-Bq4vhGd2J",
        "outputId": "825b88a9-8824-49c6-db28-ca74df655459"
      },
      "execution_count": 10,
      "outputs": [
        {
          "output_type": "stream",
          "name": "stdout",
          "text": [
            "1 인치 = 2.54 센티미터\n",
            "2 인치 = 5.08 센티미터\n",
            "3 인치 = 7.62 센티미터\n",
            "4 인치 = 10.16 센티미터\n",
            "5 인치 = 12.7 센티미터\n"
          ]
        }
      ]
    },
    {
      "cell_type": "markdown",
      "source": [
        "# 연습문제 6"
      ],
      "metadata": {
        "id": "dJDPE4KcG1I_"
      }
    },
    {
      "cell_type": "code",
      "source": [
        "def cel2fah(cel):\n",
        "  return (9/5) * cel + 32\n",
        "\n",
        "for cel in range(10, 50 + 1, 10):\n",
        "  print(f'섭씨 {cel} 도 = 화씨 {cel2fah(cel)} 도')"
      ],
      "metadata": {
        "colab": {
          "base_uri": "https://localhost:8080/"
        },
        "id": "rfABbUvgGyxZ",
        "outputId": "90b05991-d9fe-4de7-8948-2425df0e810c"
      },
      "execution_count": 13,
      "outputs": [
        {
          "output_type": "stream",
          "name": "stdout",
          "text": [
            "섭씨 10 도 = 화씨 50.0 도\n",
            "섭씨 20 도 = 화씨 68.0 도\n",
            "섭씨 30 도 = 화씨 86.0 도\n",
            "섭씨 40 도 = 화씨 104.0 도\n",
            "섭씨 50 도 = 화씨 122.0 도\n"
          ]
        }
      ]
    },
    {
      "cell_type": "markdown",
      "source": [
        "# 연습문제 7"
      ],
      "metadata": {
        "id": "yw8jiimKHOSL"
      }
    },
    {
      "cell_type": "code",
      "source": [
        "def mean3(a, b, c):\n",
        "  return (a + b + c) / 3\n",
        "\n",
        "def max3(a, b, c):\n",
        "  if a > b:\n",
        "    if a > c:\n",
        "      return a\n",
        "    else:\n",
        "      return c\n",
        "  else:\n",
        "    if b > c:\n",
        "      return b\n",
        "    else:\n",
        "      return c\n",
        "\n",
        "def min3(a, b, c):\n",
        "  if a < b:\n",
        "    if a < c:\n",
        "      return a\n",
        "    else:\n",
        "      return c\n",
        "  else:\n",
        "    if b < c:\n",
        "      return b\n",
        "    else:\n",
        "      return c\n",
        "\n",
        "a, b, c = map(int, input(\"세 수를 입력하시오 : \").split())\n",
        "print(f'{a}, {b}, {c}의 평균값은 {mean3(a, b, c)}')\n",
        "print(f'{a}, {b}, {c}의 최댓값은 {max3(a, b, c)}')\n",
        "print(f'{a}, {b}, {c}의 최솟값은 {min3(a, b, c)}')"
      ],
      "metadata": {
        "colab": {
          "base_uri": "https://localhost:8080/"
        },
        "id": "XvqouY2gHEKg",
        "outputId": "e0914528-da09-45eb-fb92-4a5654366563"
      },
      "execution_count": 15,
      "outputs": [
        {
          "output_type": "stream",
          "name": "stdout",
          "text": [
            "세 수를 입력하시오 : 10 30 20\n",
            "10, 30, 20의 평균값은 20.0\n",
            "10, 30, 20의 최댓값은 30\n",
            "10, 30, 20의 최솟값은 10\n"
          ]
        }
      ]
    },
    {
      "cell_type": "markdown",
      "source": [
        "# 연습문제 8"
      ],
      "metadata": {
        "id": "upDuUchgH3lU"
      }
    },
    {
      "cell_type": "code",
      "source": [
        "def mean6(a, b, c, d, e, f):\n",
        "  return (mean3(a, b, c) + mean3(d, e, f)) / 2\n",
        "\n",
        "def max6(a, b, c, d, e, f):\n",
        "  return max3(a, b, c) if max3(a, b, c) > max3(d, e, f) else max3(d, e, f)\n",
        "\n",
        "def min6(a, b, c, d, e, f):\n",
        "  return min3(a, b, c) if min3(a, b, c) < min3(d, e, f) else min3(d, e, f)\n",
        "\n",
        "a, b, c, d, e, f = map(int, input(\"여섯 개의 수를 입력하시오 : \").split())\n",
        "print(f'평균값은 {mean6(a, b, c, d, e, f)}')\n",
        "print(f'최댓값은 {max6(a, b, c, d, e, f)}')\n",
        "print(f'최솟값은 {min6(a, b, c, d, e, f)}')"
      ],
      "metadata": {
        "colab": {
          "base_uri": "https://localhost:8080/"
        },
        "id": "-mv1rviQHt0M",
        "outputId": "9fd4ed37-f406-4733-b83b-7f18f1d81966"
      },
      "execution_count": 18,
      "outputs": [
        {
          "output_type": "stream",
          "name": "stdout",
          "text": [
            "여섯 개의 수를 입력하시오 : 100 20 30 45 260 370\n",
            "평균값은 137.5\n",
            "최댓값은 370\n",
            "최솟값은 20\n"
          ]
        }
      ]
    },
    {
      "cell_type": "markdown",
      "source": [
        "# 연습문제 9"
      ],
      "metadata": {
        "id": "LjgipDhvIeGH"
      }
    },
    {
      "cell_type": "code",
      "source": [
        "def mean_of_n(nums):\n",
        "  s = 0\n",
        "  for num in nums:\n",
        "    s += num\n",
        "  return s / len(nums)\n",
        "\n",
        "def max_of_n(nums):\n",
        "  a = nums[0]\n",
        "  for num in nums:\n",
        "    if a < num:\n",
        "      a = num\n",
        "  return a\n",
        "\n",
        "def min_of_n(nums):\n",
        "  a = nums[0]\n",
        "  for num in nums:\n",
        "    if a > num:\n",
        "      a = num\n",
        "  return a\n",
        "\n",
        "nums = list(map(int, input(\"정수를 여러 개 입력하시오 : \").split()))\n",
        "print(f'평균값은 {mean_of_n(nums)}')\n",
        "print(f'최댓값은 {max_of_n(nums)}')\n",
        "print(f'최솟값은 {min_of_n(nums)}')"
      ],
      "metadata": {
        "colab": {
          "base_uri": "https://localhost:8080/"
        },
        "id": "n7a9qufDIT1J",
        "outputId": "a0107937-6496-4edb-a2e7-f351f7f8a0eb"
      },
      "execution_count": 19,
      "outputs": [
        {
          "output_type": "stream",
          "name": "stdout",
          "text": [
            "정수를 여러 개 입력하시오 : 3 45 32 5 7 8 4 44 5 90 17\n",
            "평균값은 23.636363636363637\n",
            "최댓값은 90\n",
            "최솟값은 3\n"
          ]
        }
      ]
    },
    {
      "cell_type": "markdown",
      "source": [
        "# 연습문제 10"
      ],
      "metadata": {
        "id": "kqQHBObWI7bx"
      }
    },
    {
      "cell_type": "code",
      "source": [
        "def distance(x1, y1, x2, y2):\n",
        "  return ((x1 - x2) ** 2 + (y1 - y2) ** 2) ** 0.5\n",
        "\n",
        "x1 = int(input(\"x1 좌표를 입력하시오 : \"))\n",
        "y1 = int(input(\"y1 좌표를 입력하시오 : \"))\n",
        "x2 = int(input(\"x2 좌표를 입력하시오 : \"))\n",
        "y2 = int(input(\"y2 좌표를 입력하시오 : \"))\n",
        "print(f'두 점의 거리: {distance(x1, y1, x2, y2)}')"
      ],
      "metadata": {
        "colab": {
          "base_uri": "https://localhost:8080/"
        },
        "id": "shiesQ2HI4G8",
        "outputId": "d2e400c9-00f7-4634-fe70-18bd8220900b"
      },
      "execution_count": 22,
      "outputs": [
        {
          "output_type": "stream",
          "name": "stdout",
          "text": [
            "x1 좌표를 입력하시오 : 0\n",
            "y1 좌표를 입력하시오 : 0\n",
            "x2 좌표를 입력하시오 : 3\n",
            "y2 좌표를 입력하시오 : 4\n",
            "두 점의 거리: 5.0\n"
          ]
        }
      ]
    },
    {
      "cell_type": "markdown",
      "source": [
        "# 연습문제 11"
      ],
      "metadata": {
        "id": "EA7C5BUVJYuM"
      }
    },
    {
      "cell_type": "code",
      "source": [
        "def area(x1, y1, x2, y2):\n",
        "  return ((x2 - x1) * (y2 - y1)) / 2\n",
        "\n",
        "x1 = int(input(\"x1 좌표를 입력하시오 : \"))\n",
        "y1 = int(input(\"y1 좌표를 입력하시오 : \"))\n",
        "x2 = int(input(\"x2 좌표를 입력하시오 : \"))\n",
        "y2 = int(input(\"y2 좌표를 입력하시오 : \"))\n",
        "print(f'직각삼각형의 면적은 : {area(x1, y1, x2, y2)}')"
      ],
      "metadata": {
        "colab": {
          "base_uri": "https://localhost:8080/"
        },
        "id": "ymttMV8HJCxl",
        "outputId": "f0e52f51-9df4-4ea4-d2ae-e4851cd99912"
      },
      "execution_count": 23,
      "outputs": [
        {
          "output_type": "stream",
          "name": "stdout",
          "text": [
            "x1 좌표를 입력하시오 : 0\n",
            "y1 좌표를 입력하시오 : 0\n",
            "x2 좌표를 입력하시오 : 3\n",
            "y2 좌표를 입력하시오 : 4\n",
            "직각삼각형의 면적은 : 6.0\n"
          ]
        }
      ]
    },
    {
      "cell_type": "markdown",
      "source": [
        "# 연습문제 12"
      ],
      "metadata": {
        "id": "ryt2eY3WJ23V"
      }
    },
    {
      "cell_type": "code",
      "source": [
        "def cal_area(width, height):\n",
        "  return (width * height) / 2\n",
        "\n",
        "width = int(input('밑변을 입력하시오: '))\n",
        "height = int(input('높이를 입력하시오: '))\n",
        "print(f'삼각형의 면적은: {cal_area(width,height)}')"
      ],
      "metadata": {
        "colab": {
          "base_uri": "https://localhost:8080/"
        },
        "id": "I1DmBpLaJ0u3",
        "outputId": "8dbb64d5-945c-4218-c2a7-368f1a218882"
      },
      "execution_count": 24,
      "outputs": [
        {
          "output_type": "stream",
          "name": "stdout",
          "text": [
            "밑변을 입력하시오: 20\n",
            "높이를 입력하시오: 15\n",
            "삼각형의 면적은: 150.0\n"
          ]
        }
      ]
    },
    {
      "cell_type": "markdown",
      "source": [
        "# 연습문제 13"
      ],
      "metadata": {
        "id": "M11rXDhTKK0k"
      }
    },
    {
      "cell_type": "code",
      "source": [
        "# 모서리의 길이가 12인 정육면체\n",
        "def cal_volume(n):\n",
        "  return n ** 3\n",
        "\n",
        "print(f'정육면체의 부피: {cal_volume(12)}')"
      ],
      "metadata": {
        "colab": {
          "base_uri": "https://localhost:8080/"
        },
        "id": "LstrOf7TKIIA",
        "outputId": "43bf8630-66c4-429a-d369-0175debfa700"
      },
      "execution_count": 29,
      "outputs": [
        {
          "output_type": "stream",
          "name": "stdout",
          "text": [
            "정육면체의 부피: 1728\n"
          ]
        }
      ]
    },
    {
      "cell_type": "code",
      "source": [
        "# 모서리 길이가 20인 정육 면체\n",
        "print(f'정육면체의 부피: {cal_volume(20)}')"
      ],
      "metadata": {
        "colab": {
          "base_uri": "https://localhost:8080/"
        },
        "id": "6-PhX80sKUvu",
        "outputId": "c4877d07-6fb3-4be5-9055-83f8e1572478"
      },
      "execution_count": 30,
      "outputs": [
        {
          "output_type": "stream",
          "name": "stdout",
          "text": [
            "정육면체의 부피: 8000\n"
          ]
        }
      ]
    },
    {
      "cell_type": "code",
      "source": [
        "# 가로, 세로, 깊이가 각각 3, 5, 6인 직육면체\n",
        "def cal_volume2(a, b, c):\n",
        "  return a * b * c\n",
        "\n",
        "print(f'직육면체의 부피: {cal_volume2(3, 5, 6)}')"
      ],
      "metadata": {
        "colab": {
          "base_uri": "https://localhost:8080/"
        },
        "id": "X8Sh_c6gKb0r",
        "outputId": "adc89fc2-557d-4df2-f43c-4fe10440acb5"
      },
      "execution_count": 31,
      "outputs": [
        {
          "output_type": "stream",
          "name": "stdout",
          "text": [
            "직육면체의 부피: 90\n"
          ]
        }
      ]
    },
    {
      "cell_type": "code",
      "source": [
        "# 반지름과 높이가 각각 20, 10인 원뿔\n",
        "def cal_volume3(r, h):\n",
        "  return (1/3) * 3.14 * (r ** 2) * h\n",
        "\n",
        "print(f'원뿔의 부피: {cal_volume3(20, 10)}')"
      ],
      "metadata": {
        "colab": {
          "base_uri": "https://localhost:8080/"
        },
        "id": "ceHUiJSqKhsd",
        "outputId": "f82f39c9-075f-4eb4-9810-437035ef5b10"
      },
      "execution_count": 32,
      "outputs": [
        {
          "output_type": "stream",
          "name": "stdout",
          "text": [
            "원뿔의 부피: 4186.666666666666\n"
          ]
        }
      ]
    },
    {
      "cell_type": "code",
      "source": [
        "# 반지름이 15인 구\n",
        "def cal_volume4(r):\n",
        "  return (4/3) * 3.14 * (r ** 3)\n",
        "\n",
        "print(f'구의 부피: {cal_volume4(15)}')"
      ],
      "metadata": {
        "colab": {
          "base_uri": "https://localhost:8080/"
        },
        "id": "i5L8OV4PKpvC",
        "outputId": "de9ec319-c792-498a-9d94-bc3ccd962505"
      },
      "execution_count": 33,
      "outputs": [
        {
          "output_type": "stream",
          "name": "stdout",
          "text": [
            "구의 부피: 14130.0\n"
          ]
        }
      ]
    },
    {
      "cell_type": "code",
      "source": [
        "# 반지름과 높이가 각각 20, 10인 원기둥\n",
        "def cal_volume5(r, h):\n",
        "  return 3.14 * (r ** 2) * h\n",
        "\n",
        "print(f'원기둥의 부피: {cal_volume5(20, 10)}')"
      ],
      "metadata": {
        "colab": {
          "base_uri": "https://localhost:8080/"
        },
        "id": "L0KtKGp_KusX",
        "outputId": "0f39196e-c226-4fff-80d7-3cfb8b29f773"
      },
      "execution_count": 34,
      "outputs": [
        {
          "output_type": "stream",
          "name": "stdout",
          "text": [
            "원기둥의 부피: 12560.0\n"
          ]
        }
      ]
    },
    {
      "cell_type": "markdown",
      "source": [
        "# 연습문제 14"
      ],
      "metadata": {
        "id": "aN7HlP1dK5fV"
      }
    },
    {
      "cell_type": "code",
      "source": [
        "def sort3(num1, num2, num3):\n",
        "  a = []\n",
        "  a.append(num1)\n",
        "  a.append(num2)\n",
        "  a.append(num3)\n",
        "  a.sort()\n",
        "  return a\n",
        "\n",
        "print(\"세 수를 입력하세요 : \")\n",
        "num1 = int(input())\n",
        "num2 = int(input())\n",
        "num3 = int(input())\n",
        "a = sort3(num1, num2, num3)\n",
        "print(f\"정렬된 리스트는 다음과 같습니다: {a[0]} {a[1]} {a[2]}\")"
      ],
      "metadata": {
        "colab": {
          "base_uri": "https://localhost:8080/"
        },
        "id": "Efxu46oHK1KZ",
        "outputId": "b52d9fd7-3d29-41b7-818c-4ddac5aad9c3"
      },
      "execution_count": 37,
      "outputs": [
        {
          "output_type": "stream",
          "name": "stdout",
          "text": [
            "세 수를 입력하세요 : \n",
            "3\n",
            "2\n",
            "5\n",
            "정렬된 리스트는 다음과 같습니다: 2 3 5\n"
          ]
        }
      ]
    },
    {
      "cell_type": "markdown",
      "source": [
        "# 연습문제 15"
      ],
      "metadata": {
        "id": "dh-1lO78Lkzp"
      }
    },
    {
      "cell_type": "code",
      "source": [
        "def my_sort(*nums):\n",
        "  a = list(nums)\n",
        "  a.sort()\n",
        "  return a\n",
        "\n",
        "print(\"my_sort(45, 3, 4, 56, 5) 호출 시\")\n",
        "print(f'결과 : {my_sort(45, 3, 4, 56, 5)}')"
      ],
      "metadata": {
        "colab": {
          "base_uri": "https://localhost:8080/"
        },
        "id": "RYTU5vMDLf_4",
        "outputId": "9bbd75dd-cfab-483f-b0c5-467ab545e43a"
      },
      "execution_count": 39,
      "outputs": [
        {
          "output_type": "stream",
          "name": "stdout",
          "text": [
            "my_sort(45, 3, 4, 56, 5) 호출 시\n",
            "결과 : [3, 4, 5, 45, 56]\n"
          ]
        }
      ]
    },
    {
      "cell_type": "code",
      "source": [
        "print(\"my_sort(9, 8, 7, 6, 5, 4, 3) 호출 시\")\n",
        "print(f'결과 : {my_sort(9, 8, 7, 6, 5, 4, 3)}')"
      ],
      "metadata": {
        "colab": {
          "base_uri": "https://localhost:8080/"
        },
        "id": "jT3ADKrxL1WG",
        "outputId": "e753e1d9-0b1b-47d6-e57b-82f292aab42b"
      },
      "execution_count": 40,
      "outputs": [
        {
          "output_type": "stream",
          "name": "stdout",
          "text": [
            "my_sort(9, 8, 7, 6, 5, 4, 3) 호출 시\n",
            "결과 : [3, 4, 5, 6, 7, 8, 9]\n"
          ]
        }
      ]
    },
    {
      "cell_type": "markdown",
      "source": [
        "# 연습문제 16"
      ],
      "metadata": {
        "id": "CGYdgBl2MHV3"
      }
    },
    {
      "cell_type": "code",
      "source": [
        "input_list = input('쉼표로 구분된 정수를 여러 개 입력하시오: ').split(',')\n",
        "nums = []\n",
        "for n in input_list:\n",
        "  nums.append(int(n))\n",
        "print(f'입력된 정수의 리스트: {nums}')\n",
        "\n",
        "nums.sort()\n",
        "\n",
        "print('정렬된 정수의 리스트:',end =' ')\n",
        "for n in nums:\n",
        "   print(n, end = ' ')"
      ],
      "metadata": {
        "colab": {
          "base_uri": "https://localhost:8080/"
        },
        "id": "IiMJJ0bOMGFT",
        "outputId": "482e961e-727b-41fb-ff56-cf80c2aaa275"
      },
      "execution_count": 48,
      "outputs": [
        {
          "output_type": "stream",
          "name": "stdout",
          "text": [
            "쉼표로 구분된 정수를 여러 개 입력하시오: 56,67,89,34,24,300,99\n",
            "입력된 정수의 리스트: [56, 67, 89, 34, 24, 300, 99]\n",
            "정렬된 정수의 리스트: 24 34 56 67 89 99 300 "
          ]
        }
      ]
    },
    {
      "cell_type": "markdown",
      "source": [
        "# 연습문제 17"
      ],
      "metadata": {
        "id": "r1lPcoxKN73q"
      }
    },
    {
      "cell_type": "code",
      "source": [
        "def sum_range(n1, n2):\n",
        "  return sum(range(n1, n2 + 1))\n",
        "\n",
        "print(f'10에서 20까지의 정수의 합: {sum_range(10, 20)}')\n",
        "print(f'40에서 100까지의 정수의 합: {sum_range(40, 100)}')"
      ],
      "metadata": {
        "colab": {
          "base_uri": "https://localhost:8080/"
        },
        "id": "iV3ScjNKMxby",
        "outputId": "6b0149cd-3409-40d2-a33b-ce74a5e575ae"
      },
      "execution_count": 49,
      "outputs": [
        {
          "output_type": "stream",
          "name": "stdout",
          "text": [
            "10에서 20까지의 정수의 합: 165\n",
            "40에서 100까지의 정수의 합: 4270\n"
          ]
        }
      ]
    },
    {
      "cell_type": "markdown",
      "source": [
        "# 연습문제 18"
      ],
      "metadata": {
        "id": "WFnsD7q4OQZs"
      }
    },
    {
      "cell_type": "code",
      "source": [
        "from math import gcd\n",
        "\n",
        "def cal_lcm(n1, n2):\n",
        "  return n1 * n2 // gcd(n1, n2)\n",
        "\n",
        "def lcm_range(a, b):\n",
        "  lcm = 1\n",
        "  for n in range(a, b + 1):\n",
        "    lcm = cal_lcm(lcm, n)\n",
        "  return lcm\n",
        "\n",
        "a = int(input('범위의 시작 정수 : '))\n",
        "b = int(input('범위의 마지막 정수 : '))\n",
        "print(f'{a}에서 {b}까지의 정수들의 최소 공배수: {lcm_range(a, b)}')"
      ],
      "metadata": {
        "colab": {
          "base_uri": "https://localhost:8080/"
        },
        "id": "zOOVpNItOPbw",
        "outputId": "8f2a4086-0c6c-4795-b587-473ff562b1ce"
      },
      "execution_count": 51,
      "outputs": [
        {
          "output_type": "stream",
          "name": "stdout",
          "text": [
            "범위의 시작 정수 : 2\n",
            "범위의 마지막 정수 : 4\n",
            "2에서 4까지의 정수들의 최소 공배수: 12\n"
          ]
        }
      ]
    },
    {
      "cell_type": "code",
      "source": [
        "a = int(input('범위의 시작 정수 : '))\n",
        "b = int(input('범위의 마지막 정수 : '))\n",
        "print(f'{a}에서 {b}까지의 정수들의 최소 공배수: {lcm_range(a, b)}')"
      ],
      "metadata": {
        "colab": {
          "base_uri": "https://localhost:8080/"
        },
        "id": "U98y4uGOP75d",
        "outputId": "bf922834-9b6c-4ff5-83cf-d5112dcdee8f"
      },
      "execution_count": 52,
      "outputs": [
        {
          "output_type": "stream",
          "name": "stdout",
          "text": [
            "범위의 시작 정수 : 3\n",
            "범위의 마지막 정수 : 5\n",
            "3에서 5까지의 정수들의 최소 공배수: 60\n"
          ]
        }
      ]
    },
    {
      "cell_type": "markdown",
      "source": [
        "# 연습문제 19"
      ],
      "metadata": {
        "id": "qHuYWn5VQBgv"
      }
    },
    {
      "cell_type": "code",
      "source": [
        "def fibo(n):\n",
        "  if n <= 1:\n",
        "    return 1\n",
        "  else:\n",
        "    return fibo(n-1) + fibo(n-2)\n",
        "\n",
        "n = int(input('fibo(n)의 n을 입력하세요: '))\n",
        "print(f'fibo({n}) = {fibo(n)}')"
      ],
      "metadata": {
        "colab": {
          "base_uri": "https://localhost:8080/"
        },
        "id": "0lEbwJtMP_A0",
        "outputId": "944a8a61-9d8a-4283-8e1f-a1c3b2ac0729"
      },
      "execution_count": 56,
      "outputs": [
        {
          "output_type": "stream",
          "name": "stdout",
          "text": [
            "fibo(n)의 n을 입력하세요: 3\n",
            "fibo(3) = 3\n"
          ]
        }
      ]
    },
    {
      "cell_type": "code",
      "source": [
        "n = int(input('fibo(n)의 n을 입력하세요: '))\n",
        "print(f'fibo({n}) = {fibo(n)}')"
      ],
      "metadata": {
        "colab": {
          "base_uri": "https://localhost:8080/"
        },
        "id": "6PSIGC0vQOq3",
        "outputId": "6c39afe5-97d4-48fd-8b27-45a012c56a2a"
      },
      "execution_count": 57,
      "outputs": [
        {
          "output_type": "stream",
          "name": "stdout",
          "text": [
            "fibo(n)의 n을 입력하세요: 4\n",
            "fibo(4) = 5\n"
          ]
        }
      ]
    },
    {
      "cell_type": "markdown",
      "source": [
        "# 연습문제 20"
      ],
      "metadata": {
        "id": "nC6mTf-HQqkQ"
      }
    },
    {
      "cell_type": "code",
      "source": [
        "for n in range(16):\n",
        "  print(f'fibo({n:3d}) = {fibo(n):5}')"
      ],
      "metadata": {
        "colab": {
          "base_uri": "https://localhost:8080/"
        },
        "id": "t21AC_Z4Qec3",
        "outputId": "1f06ba59-5717-4c56-9515-80e9ef448a2f"
      },
      "execution_count": 112,
      "outputs": [
        {
          "output_type": "stream",
          "name": "stdout",
          "text": [
            "fibo(  0) =     1\n",
            "fibo(  1) =     1\n",
            "fibo(  2) =     2\n",
            "fibo(  3) =     3\n",
            "fibo(  4) =     5\n",
            "fibo(  5) =     8\n",
            "fibo(  6) =    13\n",
            "fibo(  7) =    21\n",
            "fibo(  8) =    34\n",
            "fibo(  9) =    55\n",
            "fibo( 10) =    89\n",
            "fibo( 11) =   144\n",
            "fibo( 12) =   233\n",
            "fibo( 13) =   377\n",
            "fibo( 14) =   610\n",
            "fibo( 15) =   987\n"
          ]
        }
      ]
    },
    {
      "cell_type": "markdown",
      "source": [
        "# 연습문제 21"
      ],
      "metadata": {
        "id": "mrsNHMONQ6P2"
      }
    },
    {
      "cell_type": "code",
      "source": [
        "def split_year_month_day(birth_date):\n",
        "  year = birth_date // 10000\n",
        "  month = birth_date // 100 % 100\n",
        "  day = birth_date % 100\n",
        "  return year, month, day\n",
        "\n",
        "birth_date = int(input(\"주민등록번호 첫 6 숫자 형식 입력: \"))\n",
        "year, month, day = split_year_month_day(birth_date)\n",
        "\n",
        "if year >= 50:\n",
        "  print(f\"19{year}년 {month}월 {day}일\")\n",
        "else:\n",
        "  print(f\"20{year:02d}년 {month}월 {day}일\")"
      ],
      "metadata": {
        "colab": {
          "base_uri": "https://localhost:8080/"
        },
        "id": "1DYxUoZNQ4CL",
        "outputId": "16718414-d3e0-4a4d-d9bd-6bb77ce63970"
      },
      "execution_count": 109,
      "outputs": [
        {
          "output_type": "stream",
          "name": "stdout",
          "text": [
            "주민등록번호 첫 6 숫자 형식 입력: 570312\n",
            "1957년 3월 12일\n"
          ]
        }
      ]
    },
    {
      "cell_type": "code",
      "source": [
        "birth_date = int(input(\"주민등록번호 첫 6 숫자 형식 입력: \"))\n",
        "year, month, day = split_year_month_day(birth_date)\n",
        "\n",
        "if year >= 50:\n",
        "  print(f\"19{year}년 {month}월 {day}일\")\n",
        "else:\n",
        "  print(f\"20{year:02d}년 {month}월 {day}일\")"
      ],
      "metadata": {
        "colab": {
          "base_uri": "https://localhost:8080/"
        },
        "id": "Gy7u4QlPRkk1",
        "outputId": "59300d4c-858b-4d0d-b440-11541a0b1a13"
      },
      "execution_count": 110,
      "outputs": [
        {
          "output_type": "stream",
          "name": "stdout",
          "text": [
            "주민등록번호 첫 6 숫자 형식 입력: 011123\n",
            "2001년 11월 23일\n"
          ]
        }
      ]
    },
    {
      "cell_type": "markdown",
      "source": [
        "# 연습문제 22"
      ],
      "metadata": {
        "id": "NKZNb2LLTER5"
      }
    },
    {
      "cell_type": "code",
      "source": [
        "import datetime\n",
        "date = datetime.datetime.now()\n",
        "y, m, d = date.year, date.month, date.day\n",
        "print(f'현재시간은 {y:02d}년 {m:02d}월 {d:02d}일입니다.')\n",
        "print(f'지금 태어난 아이의 주민등록번호 앞자리는 : {str(y)[2:]:02}{m:02}{d:02}')"
      ],
      "metadata": {
        "colab": {
          "base_uri": "https://localhost:8080/"
        },
        "id": "hDTXOgpFSeN3",
        "outputId": "e28ee4b4-d3bb-4322-ff7d-a7df80ac65fd"
      },
      "execution_count": 86,
      "outputs": [
        {
          "output_type": "stream",
          "name": "stdout",
          "text": [
            "현재시간은 2024년 10월 13일입니다.\n",
            "지금 태어난 아이의 주민등록번호 앞자리는 : 241013\n"
          ]
        }
      ]
    },
    {
      "cell_type": "markdown",
      "source": [
        "# 연습문제 23"
      ],
      "metadata": {
        "id": "zSkt_jjhUQdg"
      }
    },
    {
      "cell_type": "code",
      "source": [
        "def area_and_circumference(r):\n",
        "  area = 3.14 * r ** 2\n",
        "  circumference = 2 * 3.14 * r\n",
        "  return area, circumference\n",
        "\n",
        "while True:\n",
        "  r = int(input('반지름을 입력하시오: '))\n",
        "  if r < 0:\n",
        "    print(\"프로그램을 종료합니다.\")\n",
        "    break\n",
        "\n",
        "  area, circumference = area_and_circumference(r)\n",
        "  print(f'넓이: {area:7.3f}, 둘레: {circumference:7.3f}')"
      ],
      "metadata": {
        "colab": {
          "base_uri": "https://localhost:8080/"
        },
        "id": "GIe_HzsZTPRD",
        "outputId": "dfc3d1d4-f989-4d5a-e999-b729ce00c679"
      },
      "execution_count": 91,
      "outputs": [
        {
          "output_type": "stream",
          "name": "stdout",
          "text": [
            "반지름을 입력하시오: 6\n",
            "넓이: 113.040, 둘레:  37.680\n",
            "반지름을 입력하시오: 22\n",
            "넓이: 1519.760, 둘레: 138.160\n",
            "반지름을 입력하시오: 4\n",
            "넓이:  50.240, 둘레:  25.120\n",
            "반지름을 입력하시오: -1\n",
            "프로그램을 종료합니다.\n"
          ]
        }
      ]
    },
    {
      "cell_type": "markdown",
      "source": [
        "# 연습문제 24"
      ],
      "metadata": {
        "id": "uCa0k1U9V_k-"
      }
    },
    {
      "cell_type": "code",
      "source": [
        "def clean_and_split_and_sort(sentence):\n",
        "  cleaned_sentence = sentence.replace(':', ' ').replace('.', ' ').replace(',', ' ').replace('!', ' ').replace('?', ' ')\n",
        "  words = cleaned_sentence.split()\n",
        "  return sorted(words)\n",
        "\n",
        "sentence = input(\"여러 단어로 이루어진 글을 입력하세요: \")\n",
        "\n",
        "print(f'정렬 결과 : {clean_and_split_and_sort(sentence)}')"
      ],
      "metadata": {
        "colab": {
          "base_uri": "https://localhost:8080/"
        },
        "id": "8UFkyfj_VdF2",
        "outputId": "7efdb49b-5445-4111-d0e3-2c27dc6c4706"
      },
      "execution_count": 94,
      "outputs": [
        {
          "output_type": "stream",
          "name": "stdout",
          "text": [
            "여러 단어로 이루어진 글을 입력하세요: 여러 달어로 이루어진 글을 입력하세요: 임의의 문장을 입력:출력, 이것은 테스트 문장. 가:가나:나:나나:다람쥐 : 마린보이.\n",
            "정렬 결과 : ['가', '가나', '글을', '나', '나나', '다람쥐', '달어로', '마린보이', '문장', '문장을', '여러', '이것은', '이루어진', '임의의', '입력', '입력하세요', '출력', '테스트']\n"
          ]
        }
      ]
    },
    {
      "cell_type": "markdown",
      "source": [
        "# 연습문제 25"
      ],
      "metadata": {
        "id": "_DqiBvrZXEwi"
      }
    },
    {
      "cell_type": "code",
      "source": [
        "def processed_sentence(sentence):\n",
        "  removed_sentence = sentence.replace(' ','').replace('-', '')\n",
        "  return removed_sentence.upper()\n",
        "\n",
        "s1 = 'Kang Young Min'\n",
        "s2 = ' Kang Young-Min'\n",
        "s3 = 'Park Dong min'\n",
        "s4 = ' Park Dong-Yun'\n",
        "\n",
        "print(f'{s1}(은)는 {processed_sentence(s1)}(으)로 수정됨')\n",
        "print(f'{s2}(은)는 {processed_sentence(s2)}(으)로 수정됨')\n",
        "print(f'{s3}(은)는 {processed_sentence(s3)}(으)로 수정됨')\n",
        "print(f'{s4}(은)는 {processed_sentence(s4)}(으)로 수정됨')\n",
        "\n",
        "print(f\"{s1} : {processed_sentence(s1).count('N')} 개의 N이 나타남\")\n",
        "print(f\"{s2} : {processed_sentence(s2).count('N')} 개의 N이 나타남\")\n",
        "print(f\"{s3} : {processed_sentence(s3).count('N')} 개의 N이 나타남\")\n",
        "print(f\"{s4} : {processed_sentence(s4).count('N')} 개의 N이 나타남\")"
      ],
      "metadata": {
        "colab": {
          "base_uri": "https://localhost:8080/"
        },
        "id": "VNwSkwNPW9Ny",
        "outputId": "450412c7-1500-4574-c151-2db7ce659658"
      },
      "execution_count": 97,
      "outputs": [
        {
          "output_type": "stream",
          "name": "stdout",
          "text": [
            "Kang Young Min(은)는 KANGYOUNGMIN(으)로 수정됨\n",
            " Kang Young-Min(은)는 KANGYOUNGMIN(으)로 수정됨\n",
            "Park Dong min(은)는 PARKDONGMIN(으)로 수정됨\n",
            " Park Dong-Yun(은)는 PARKDONGYUN(으)로 수정됨\n",
            "Kang Young Min : 3 개의 N이 나타남\n",
            " Kang Young-Min : 3 개의 N이 나타남\n",
            "Park Dong min : 2 개의 N이 나타남\n",
            " Park Dong-Yun : 2 개의 N이 나타남\n"
          ]
        }
      ]
    },
    {
      "cell_type": "markdown",
      "source": [
        "# 연습문제 26"
      ],
      "metadata": {
        "id": "TuovarF1ZAgK"
      }
    },
    {
      "cell_type": "code",
      "source": [
        "def replace_bython_with_python(text):\n",
        "  new_sentence = text.replace('Bython', 'Python')\n",
        "  change_count = text.count('Bython')\n",
        "  return new_sentence, change_count\n",
        "\n",
        "text = input('주어진 문자열 : \\n')\n",
        "\n",
        "print()\n",
        "\n",
        "print(\"수정된 문자열 : \")\n",
        "new_sentence, change_count = replace_bython_with_python(text)\n",
        "print(new_sentence)\n",
        "print(f'Bython 문자열은 모두 {change_count}번 수정했습니다.')"
      ],
      "metadata": {
        "colab": {
          "base_uri": "https://localhost:8080/"
        },
        "id": "SOnFKpASYuRE",
        "outputId": "727320c5-3faf-48c8-8f46-f6a21af401b1"
      },
      "execution_count": 101,
      "outputs": [
        {
          "output_type": "stream",
          "name": "stdout",
          "text": [
            "주어진 문자열 : \n",
            "Park(Java city), Kim(C city), Kang(Bython city), Lee(Bython city), Hong(Ruby city), Cho(Bython city), Koo(C city), Ryu(C++ city)\n",
            "\n",
            "수정된 문자열 : \n",
            "Park(Java city), Kim(C city), Kang(Python city), Lee(Python city), Hong(Ruby city), Cho(Python city), Koo(C city), Ryu(C++ city)\n",
            "Bython 문자열은 모두 3번 수정했습니다.\n"
          ]
        }
      ]
    },
    {
      "cell_type": "markdown",
      "source": [
        "# 연습문제 27"
      ],
      "metadata": {
        "id": "eoOG5rH6ahAR"
      }
    },
    {
      "cell_type": "code",
      "source": [
        "def unit_fraction(frac):\n",
        "  print(f'가장 가까운 단위 분수는 1/{round(1/frac)}이며, 이 값은 {1/round(1/frac)}입니다.')\n",
        "\n",
        "frac = float(input('1보다 작고 0보다 큰 소수를 입력하세요: '))\n",
        "unit_fraction(frac)"
      ],
      "metadata": {
        "colab": {
          "base_uri": "https://localhost:8080/"
        },
        "id": "5zxc4bAuaTA5",
        "outputId": "2df4a575-7071-422a-a8f6-1019a57af95d"
      },
      "execution_count": 106,
      "outputs": [
        {
          "output_type": "stream",
          "name": "stdout",
          "text": [
            "1보다 작고 0보다 큰 소수를 입력하세요: 0.0732\n",
            "가장 가까운 단위 분수는 1/14이며, 이 값은 0.07142857142857142입니다.\n"
          ]
        }
      ]
    },
    {
      "cell_type": "code",
      "source": [
        "frac = float(input('1보다 작고 0보다 큰 소수를 입력하세요: '))\n",
        "unit_fraction(frac)"
      ],
      "metadata": {
        "colab": {
          "base_uri": "https://localhost:8080/"
        },
        "id": "JvclwKBreLD2",
        "outputId": "738c322f-b95c-44e4-b064-7ff99bc042f8"
      },
      "execution_count": 107,
      "outputs": [
        {
          "output_type": "stream",
          "name": "stdout",
          "text": [
            "1보다 작고 0보다 큰 소수를 입력하세요:  0.00000000000000000000000000000000000000000003423423\n",
            "가장 가까운 단위 분수는 1/29210529928670802965804389820847695375368192이며, 이 값은 3.4234230000000007e-44입니다.\n"
          ]
        }
      ]
    },
    {
      "cell_type": "markdown",
      "source": [
        "# 연습문제 28"
      ],
      "metadata": {
        "id": "rBS22EL0eynN"
      }
    },
    {
      "cell_type": "code",
      "source": [
        "def factorial(k):\n",
        "  if k <= 1:\n",
        "    return 1\n",
        "  else:\n",
        "    return k * factorial(k-1)\n",
        "\n",
        "def euler(n):\n",
        "  e = 0\n",
        "  for k in range(n + 1):\n",
        "    e += 1 / factorial(k)\n",
        "  return e\n",
        "\n",
        "print(f'euler({5:2d}) = {round(euler(5), 5)}')\n",
        "print(f'euler({20:2d}) = {round(euler(20), 5)}')"
      ],
      "metadata": {
        "colab": {
          "base_uri": "https://localhost:8080/"
        },
        "id": "FG-2fREOeV7l",
        "outputId": "bc4e142e-a9c2-4122-c125-81412239b29a"
      },
      "execution_count": 114,
      "outputs": [
        {
          "output_type": "stream",
          "name": "stdout",
          "text": [
            "euler( 5) = 2.71667\n",
            "euler(20) = 2.71828\n"
          ]
        }
      ]
    }
  ]
}